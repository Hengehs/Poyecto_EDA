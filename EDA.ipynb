{
 "cells": [
  {
   "cell_type": "code",
   "execution_count": 2,
   "metadata": {},
   "outputs": [],
   "source": [
    "#Importamos todas las librerías que serán utilizadas en el proyecto\n",
    "import numpy as np\n",
    "import pandas as pd\n",
    "import matplotlib.pyplot as plt\n",
    "import plotly.express as px\n",
    "import plotly.graph_objects as go\n"
   ]
  },
  {
   "cell_type": "code",
   "execution_count": 3,
   "metadata": {},
   "outputs": [
    {
     "data": {
      "text/html": [
       "<div>\n",
       "<style scoped>\n",
       "    .dataframe tbody tr th:only-of-type {\n",
       "        vertical-align: middle;\n",
       "    }\n",
       "\n",
       "    .dataframe tbody tr th {\n",
       "        vertical-align: top;\n",
       "    }\n",
       "\n",
       "    .dataframe thead th {\n",
       "        text-align: right;\n",
       "    }\n",
       "</style>\n",
       "<table border=\"1\" class=\"dataframe\">\n",
       "  <thead>\n",
       "    <tr style=\"text-align: right;\">\n",
       "      <th></th>\n",
       "      <th>Name</th>\n",
       "      <th>Platform</th>\n",
       "      <th>Year_of_Release</th>\n",
       "      <th>Genre</th>\n",
       "      <th>Publisher</th>\n",
       "      <th>NA_Sales</th>\n",
       "      <th>EU_Sales</th>\n",
       "      <th>JP_Sales</th>\n",
       "      <th>Other_Sales</th>\n",
       "      <th>Global_Sales</th>\n",
       "    </tr>\n",
       "  </thead>\n",
       "  <tbody>\n",
       "    <tr>\n",
       "      <th>0</th>\n",
       "      <td>Wii Sports</td>\n",
       "      <td>Wii</td>\n",
       "      <td>2006.0</td>\n",
       "      <td>Sports</td>\n",
       "      <td>Nintendo</td>\n",
       "      <td>41.36</td>\n",
       "      <td>28.96</td>\n",
       "      <td>3.77</td>\n",
       "      <td>8.45</td>\n",
       "      <td>82.53</td>\n",
       "    </tr>\n",
       "    <tr>\n",
       "      <th>1</th>\n",
       "      <td>Super Mario Bros.</td>\n",
       "      <td>NES</td>\n",
       "      <td>1985.0</td>\n",
       "      <td>Platform</td>\n",
       "      <td>Nintendo</td>\n",
       "      <td>29.08</td>\n",
       "      <td>3.58</td>\n",
       "      <td>6.81</td>\n",
       "      <td>0.77</td>\n",
       "      <td>40.24</td>\n",
       "    </tr>\n",
       "    <tr>\n",
       "      <th>2</th>\n",
       "      <td>Mario Kart Wii</td>\n",
       "      <td>Wii</td>\n",
       "      <td>2008.0</td>\n",
       "      <td>Racing</td>\n",
       "      <td>Nintendo</td>\n",
       "      <td>15.68</td>\n",
       "      <td>12.76</td>\n",
       "      <td>3.79</td>\n",
       "      <td>3.29</td>\n",
       "      <td>35.52</td>\n",
       "    </tr>\n",
       "    <tr>\n",
       "      <th>3</th>\n",
       "      <td>Wii Sports Resort</td>\n",
       "      <td>Wii</td>\n",
       "      <td>2009.0</td>\n",
       "      <td>Sports</td>\n",
       "      <td>Nintendo</td>\n",
       "      <td>15.61</td>\n",
       "      <td>10.93</td>\n",
       "      <td>3.28</td>\n",
       "      <td>2.95</td>\n",
       "      <td>32.77</td>\n",
       "    </tr>\n",
       "    <tr>\n",
       "      <th>4</th>\n",
       "      <td>Pokemon Red/Pokemon Blue</td>\n",
       "      <td>GB</td>\n",
       "      <td>1996.0</td>\n",
       "      <td>Role-Playing</td>\n",
       "      <td>Nintendo</td>\n",
       "      <td>11.27</td>\n",
       "      <td>8.89</td>\n",
       "      <td>10.22</td>\n",
       "      <td>1.00</td>\n",
       "      <td>31.37</td>\n",
       "    </tr>\n",
       "    <tr>\n",
       "      <th>...</th>\n",
       "      <td>...</td>\n",
       "      <td>...</td>\n",
       "      <td>...</td>\n",
       "      <td>...</td>\n",
       "      <td>...</td>\n",
       "      <td>...</td>\n",
       "      <td>...</td>\n",
       "      <td>...</td>\n",
       "      <td>...</td>\n",
       "      <td>...</td>\n",
       "    </tr>\n",
       "    <tr>\n",
       "      <th>16714</th>\n",
       "      <td>Samurai Warriors: Sanada Maru</td>\n",
       "      <td>PS3</td>\n",
       "      <td>2016.0</td>\n",
       "      <td>Action</td>\n",
       "      <td>Tecmo Koei</td>\n",
       "      <td>0.00</td>\n",
       "      <td>0.00</td>\n",
       "      <td>0.01</td>\n",
       "      <td>0.00</td>\n",
       "      <td>0.01</td>\n",
       "    </tr>\n",
       "    <tr>\n",
       "      <th>16715</th>\n",
       "      <td>LMA Manager 2007</td>\n",
       "      <td>X360</td>\n",
       "      <td>2006.0</td>\n",
       "      <td>Sports</td>\n",
       "      <td>Codemasters</td>\n",
       "      <td>0.00</td>\n",
       "      <td>0.01</td>\n",
       "      <td>0.00</td>\n",
       "      <td>0.00</td>\n",
       "      <td>0.01</td>\n",
       "    </tr>\n",
       "    <tr>\n",
       "      <th>16716</th>\n",
       "      <td>Haitaka no Psychedelica</td>\n",
       "      <td>PSV</td>\n",
       "      <td>2016.0</td>\n",
       "      <td>Adventure</td>\n",
       "      <td>Idea Factory</td>\n",
       "      <td>0.00</td>\n",
       "      <td>0.00</td>\n",
       "      <td>0.01</td>\n",
       "      <td>0.00</td>\n",
       "      <td>0.01</td>\n",
       "    </tr>\n",
       "    <tr>\n",
       "      <th>16717</th>\n",
       "      <td>Spirits &amp; Spells</td>\n",
       "      <td>GBA</td>\n",
       "      <td>2003.0</td>\n",
       "      <td>Platform</td>\n",
       "      <td>Wanadoo</td>\n",
       "      <td>0.01</td>\n",
       "      <td>0.00</td>\n",
       "      <td>0.00</td>\n",
       "      <td>0.00</td>\n",
       "      <td>0.01</td>\n",
       "    </tr>\n",
       "    <tr>\n",
       "      <th>16718</th>\n",
       "      <td>Winning Post 8 2016</td>\n",
       "      <td>PSV</td>\n",
       "      <td>2016.0</td>\n",
       "      <td>Simulation</td>\n",
       "      <td>Tecmo Koei</td>\n",
       "      <td>0.00</td>\n",
       "      <td>0.00</td>\n",
       "      <td>0.01</td>\n",
       "      <td>0.00</td>\n",
       "      <td>0.01</td>\n",
       "    </tr>\n",
       "  </tbody>\n",
       "</table>\n",
       "<p>16719 rows × 10 columns</p>\n",
       "</div>"
      ],
      "text/plain": [
       "                                Name Platform  Year_of_Release         Genre  \\\n",
       "0                         Wii Sports      Wii           2006.0        Sports   \n",
       "1                  Super Mario Bros.      NES           1985.0      Platform   \n",
       "2                     Mario Kart Wii      Wii           2008.0        Racing   \n",
       "3                  Wii Sports Resort      Wii           2009.0        Sports   \n",
       "4           Pokemon Red/Pokemon Blue       GB           1996.0  Role-Playing   \n",
       "...                              ...      ...              ...           ...   \n",
       "16714  Samurai Warriors: Sanada Maru      PS3           2016.0        Action   \n",
       "16715               LMA Manager 2007     X360           2006.0        Sports   \n",
       "16716        Haitaka no Psychedelica      PSV           2016.0     Adventure   \n",
       "16717               Spirits & Spells      GBA           2003.0      Platform   \n",
       "16718            Winning Post 8 2016      PSV           2016.0    Simulation   \n",
       "\n",
       "          Publisher  NA_Sales  EU_Sales  JP_Sales  Other_Sales  Global_Sales  \n",
       "0          Nintendo     41.36     28.96      3.77         8.45         82.53  \n",
       "1          Nintendo     29.08      3.58      6.81         0.77         40.24  \n",
       "2          Nintendo     15.68     12.76      3.79         3.29         35.52  \n",
       "3          Nintendo     15.61     10.93      3.28         2.95         32.77  \n",
       "4          Nintendo     11.27      8.89     10.22         1.00         31.37  \n",
       "...             ...       ...       ...       ...          ...           ...  \n",
       "16714    Tecmo Koei      0.00      0.00      0.01         0.00          0.01  \n",
       "16715   Codemasters      0.00      0.01      0.00         0.00          0.01  \n",
       "16716  Idea Factory      0.00      0.00      0.01         0.00          0.01  \n",
       "16717       Wanadoo      0.01      0.00      0.00         0.00          0.01  \n",
       "16718    Tecmo Koei      0.00      0.00      0.01         0.00          0.01  \n",
       "\n",
       "[16719 rows x 10 columns]"
      ]
     },
     "execution_count": 3,
     "metadata": {},
     "output_type": "execute_result"
    }
   ],
   "source": [
    "#Empezamos primero cargando y construyendo el dataframe con el cual haremos las gráficas\n",
    "#cargamos primero el dataframe que usaremos como base y nos quedamos con las columnas que nos interesan\n",
    "df = pd.read_csv(\"datasets/Video_Games_Sales_as_at_22_Dec_2016.csv\")\n",
    "df_base = df.iloc[:,0:10]\n",
    "df_base"
   ]
  },
  {
   "cell_type": "code",
   "execution_count": 4,
   "metadata": {},
   "outputs": [
    {
     "data": {
      "text/html": [
       "<div>\n",
       "<style scoped>\n",
       "    .dataframe tbody tr th:only-of-type {\n",
       "        vertical-align: middle;\n",
       "    }\n",
       "\n",
       "    .dataframe tbody tr th {\n",
       "        vertical-align: top;\n",
       "    }\n",
       "\n",
       "    .dataframe thead th {\n",
       "        text-align: right;\n",
       "    }\n",
       "</style>\n",
       "<table border=\"1\" class=\"dataframe\">\n",
       "  <thead>\n",
       "    <tr style=\"text-align: right;\">\n",
       "      <th></th>\n",
       "      <th>Name</th>\n",
       "      <th>Platform</th>\n",
       "      <th>Year_of_Release</th>\n",
       "      <th>Genre</th>\n",
       "      <th>Publisher</th>\n",
       "      <th>NA_Sales</th>\n",
       "      <th>EU_Sales</th>\n",
       "      <th>JP_Sales</th>\n",
       "      <th>Other_Sales</th>\n",
       "      <th>Global_Sales</th>\n",
       "    </tr>\n",
       "  </thead>\n",
       "  <tbody>\n",
       "    <tr>\n",
       "      <th>0</th>\n",
       "      <td>Grand Theft Auto V</td>\n",
       "      <td>PS4</td>\n",
       "      <td>2014.0</td>\n",
       "      <td>Action</td>\n",
       "      <td>Rockstar Games</td>\n",
       "      <td>6.06</td>\n",
       "      <td>9.71</td>\n",
       "      <td>0.60</td>\n",
       "      <td>3.02</td>\n",
       "      <td>19.39</td>\n",
       "    </tr>\n",
       "    <tr>\n",
       "      <th>1</th>\n",
       "      <td>Call of Duty: Black Ops 3</td>\n",
       "      <td>PS4</td>\n",
       "      <td>2015.0</td>\n",
       "      <td>Shooter</td>\n",
       "      <td>Activision</td>\n",
       "      <td>6.18</td>\n",
       "      <td>6.05</td>\n",
       "      <td>0.41</td>\n",
       "      <td>2.44</td>\n",
       "      <td>15.09</td>\n",
       "    </tr>\n",
       "    <tr>\n",
       "      <th>2</th>\n",
       "      <td>Red Dead Redemption 2</td>\n",
       "      <td>PS4</td>\n",
       "      <td>2018.0</td>\n",
       "      <td>Action-Adventure</td>\n",
       "      <td>Rockstar Games</td>\n",
       "      <td>5.26</td>\n",
       "      <td>6.21</td>\n",
       "      <td>0.21</td>\n",
       "      <td>2.26</td>\n",
       "      <td>13.94</td>\n",
       "    </tr>\n",
       "    <tr>\n",
       "      <th>3</th>\n",
       "      <td>Call of Duty: WWII</td>\n",
       "      <td>PS4</td>\n",
       "      <td>2017.0</td>\n",
       "      <td>Shooter</td>\n",
       "      <td>Activision</td>\n",
       "      <td>4.67</td>\n",
       "      <td>6.21</td>\n",
       "      <td>0.40</td>\n",
       "      <td>2.12</td>\n",
       "      <td>13.40</td>\n",
       "    </tr>\n",
       "    <tr>\n",
       "      <th>4</th>\n",
       "      <td>FIFA 18</td>\n",
       "      <td>PS4</td>\n",
       "      <td>2017.0</td>\n",
       "      <td>Sports</td>\n",
       "      <td>EA Sports</td>\n",
       "      <td>1.27</td>\n",
       "      <td>8.64</td>\n",
       "      <td>0.15</td>\n",
       "      <td>1.73</td>\n",
       "      <td>11.80</td>\n",
       "    </tr>\n",
       "    <tr>\n",
       "      <th>...</th>\n",
       "      <td>...</td>\n",
       "      <td>...</td>\n",
       "      <td>...</td>\n",
       "      <td>...</td>\n",
       "      <td>...</td>\n",
       "      <td>...</td>\n",
       "      <td>...</td>\n",
       "      <td>...</td>\n",
       "      <td>...</td>\n",
       "      <td>...</td>\n",
       "    </tr>\n",
       "    <tr>\n",
       "      <th>1029</th>\n",
       "      <td>Fallen Legion: Flames of Rebellion</td>\n",
       "      <td>PS4</td>\n",
       "      <td>NaN</td>\n",
       "      <td>Role-Playing</td>\n",
       "      <td>NaN</td>\n",
       "      <td>0.00</td>\n",
       "      <td>0.00</td>\n",
       "      <td>0.00</td>\n",
       "      <td>0.00</td>\n",
       "      <td>0.00</td>\n",
       "    </tr>\n",
       "    <tr>\n",
       "      <th>1030</th>\n",
       "      <td>Radial G Racing Revolved</td>\n",
       "      <td>PS4</td>\n",
       "      <td>2017.0</td>\n",
       "      <td>Racing</td>\n",
       "      <td>Tammeka Games</td>\n",
       "      <td>0.00</td>\n",
       "      <td>0.00</td>\n",
       "      <td>0.00</td>\n",
       "      <td>0.00</td>\n",
       "      <td>0.00</td>\n",
       "    </tr>\n",
       "    <tr>\n",
       "      <th>1031</th>\n",
       "      <td>The Mummy Demastered</td>\n",
       "      <td>PS4</td>\n",
       "      <td>NaN</td>\n",
       "      <td>Action</td>\n",
       "      <td>NaN</td>\n",
       "      <td>0.00</td>\n",
       "      <td>0.00</td>\n",
       "      <td>0.00</td>\n",
       "      <td>0.00</td>\n",
       "      <td>0.00</td>\n",
       "    </tr>\n",
       "    <tr>\n",
       "      <th>1032</th>\n",
       "      <td>Project Nimbus: Code Mirai</td>\n",
       "      <td>PS4</td>\n",
       "      <td>NaN</td>\n",
       "      <td>Action</td>\n",
       "      <td>NaN</td>\n",
       "      <td>0.00</td>\n",
       "      <td>0.00</td>\n",
       "      <td>0.00</td>\n",
       "      <td>0.00</td>\n",
       "      <td>0.00</td>\n",
       "    </tr>\n",
       "    <tr>\n",
       "      <th>1033</th>\n",
       "      <td>Battle Chef Brigade</td>\n",
       "      <td>PS4</td>\n",
       "      <td>NaN</td>\n",
       "      <td>Action</td>\n",
       "      <td>NaN</td>\n",
       "      <td>0.00</td>\n",
       "      <td>0.00</td>\n",
       "      <td>0.00</td>\n",
       "      <td>0.00</td>\n",
       "      <td>0.00</td>\n",
       "    </tr>\n",
       "  </tbody>\n",
       "</table>\n",
       "<p>1034 rows × 10 columns</p>\n",
       "</div>"
      ],
      "text/plain": [
       "                                    Name Platform  Year_of_Release  \\\n",
       "0                     Grand Theft Auto V      PS4           2014.0   \n",
       "1              Call of Duty: Black Ops 3      PS4           2015.0   \n",
       "2                  Red Dead Redemption 2      PS4           2018.0   \n",
       "3                     Call of Duty: WWII      PS4           2017.0   \n",
       "4                                FIFA 18      PS4           2017.0   \n",
       "...                                  ...      ...              ...   \n",
       "1029  Fallen Legion: Flames of Rebellion      PS4              NaN   \n",
       "1030            Radial G Racing Revolved      PS4           2017.0   \n",
       "1031                The Mummy Demastered      PS4              NaN   \n",
       "1032          Project Nimbus: Code Mirai      PS4              NaN   \n",
       "1033                 Battle Chef Brigade      PS4              NaN   \n",
       "\n",
       "                 Genre       Publisher  NA_Sales  EU_Sales  JP_Sales  \\\n",
       "0               Action  Rockstar Games      6.06      9.71      0.60   \n",
       "1              Shooter      Activision      6.18      6.05      0.41   \n",
       "2     Action-Adventure  Rockstar Games      5.26      6.21      0.21   \n",
       "3              Shooter      Activision      4.67      6.21      0.40   \n",
       "4               Sports       EA Sports      1.27      8.64      0.15   \n",
       "...                ...             ...       ...       ...       ...   \n",
       "1029      Role-Playing             NaN      0.00      0.00      0.00   \n",
       "1030            Racing   Tammeka Games      0.00      0.00      0.00   \n",
       "1031            Action             NaN      0.00      0.00      0.00   \n",
       "1032            Action             NaN      0.00      0.00      0.00   \n",
       "1033            Action             NaN      0.00      0.00      0.00   \n",
       "\n",
       "      Other_Sales  Global_Sales  \n",
       "0            3.02         19.39  \n",
       "1            2.44         15.09  \n",
       "2            2.26         13.94  \n",
       "3            2.12         13.40  \n",
       "4            1.73         11.80  \n",
       "...           ...           ...  \n",
       "1029         0.00          0.00  \n",
       "1030         0.00          0.00  \n",
       "1031         0.00          0.00  \n",
       "1032         0.00          0.00  \n",
       "1033         0.00          0.00  \n",
       "\n",
       "[1034 rows x 10 columns]"
      ]
     },
     "execution_count": 4,
     "metadata": {},
     "output_type": "execute_result"
    }
   ],
   "source": [
    "#A continuación cargamos el dataframe de juegos de PlayStation 4 con datos más actualizados que el base\n",
    "#Renombramos también las columnas para que coincidan con el dataframe base\n",
    "df_ps4 = pd.read_csv(\"datasets/PS4_GamesSales.csv\", encoding=\"latin-1\")\n",
    "df_ps4.insert(1, \"Platform\", \"PS4\", True)\n",
    "df_ps4 = df_ps4.rename({\"Game\":\"Name\", \"Year\":\"Year_of_Release\", \"North America\": \"NA_Sales\", \"Europe\":\"EU_Sales\", \"Japan\":\"JP_Sales\", \"Rest of World\":\"Other_Sales\", \"Global\":\"Global_Sales\"}, axis=1)\n",
    "df_ps4"
   ]
  },
  {
   "cell_type": "code",
   "execution_count": 5,
   "metadata": {},
   "outputs": [
    {
     "data": {
      "text/html": [
       "<div>\n",
       "<style scoped>\n",
       "    .dataframe tbody tr th:only-of-type {\n",
       "        vertical-align: middle;\n",
       "    }\n",
       "\n",
       "    .dataframe tbody tr th {\n",
       "        vertical-align: top;\n",
       "    }\n",
       "\n",
       "    .dataframe thead th {\n",
       "        text-align: right;\n",
       "    }\n",
       "</style>\n",
       "<table border=\"1\" class=\"dataframe\">\n",
       "  <thead>\n",
       "    <tr style=\"text-align: right;\">\n",
       "      <th></th>\n",
       "      <th>Name</th>\n",
       "      <th>Platform</th>\n",
       "      <th>Year_of_Release</th>\n",
       "      <th>Genre</th>\n",
       "      <th>Publisher</th>\n",
       "      <th>NA_Sales</th>\n",
       "      <th>EU_Sales</th>\n",
       "      <th>JP_Sales</th>\n",
       "      <th>Other_Sales</th>\n",
       "      <th>Global_Sales</th>\n",
       "    </tr>\n",
       "  </thead>\n",
       "  <tbody>\n",
       "  </tbody>\n",
       "</table>\n",
       "</div>"
      ],
      "text/plain": [
       "Empty DataFrame\n",
       "Columns: [Name, Platform, Year_of_Release, Genre, Publisher, NA_Sales, EU_Sales, JP_Sales, Other_Sales, Global_Sales]\n",
       "Index: []"
      ]
     },
     "execution_count": 5,
     "metadata": {},
     "output_type": "execute_result"
    }
   ],
   "source": [
    "#Juntamos ambos dataframes para añadir al base los juegos del segundo dataframe y eliminamos las filas duplicadas en ambos\n",
    "df_2 = pd.concat((df_base, df_ps4))\n",
    "df_2.drop_duplicates(inplace=True)\n",
    "df_2[df_2.duplicated()]"
   ]
  },
  {
   "cell_type": "code",
   "execution_count": 6,
   "metadata": {},
   "outputs": [
    {
     "data": {
      "text/html": [
       "<div>\n",
       "<style scoped>\n",
       "    .dataframe tbody tr th:only-of-type {\n",
       "        vertical-align: middle;\n",
       "    }\n",
       "\n",
       "    .dataframe tbody tr th {\n",
       "        vertical-align: top;\n",
       "    }\n",
       "\n",
       "    .dataframe thead th {\n",
       "        text-align: right;\n",
       "    }\n",
       "</style>\n",
       "<table border=\"1\" class=\"dataframe\">\n",
       "  <thead>\n",
       "    <tr style=\"text-align: right;\">\n",
       "      <th></th>\n",
       "      <th>Name</th>\n",
       "      <th>Platform</th>\n",
       "      <th>Year_of_Release</th>\n",
       "      <th>Genre</th>\n",
       "      <th>Publisher</th>\n",
       "      <th>NA_Sales</th>\n",
       "      <th>EU_Sales</th>\n",
       "      <th>JP_Sales</th>\n",
       "      <th>Other_Sales</th>\n",
       "      <th>Global_Sales</th>\n",
       "    </tr>\n",
       "  </thead>\n",
       "  <tbody>\n",
       "    <tr>\n",
       "      <th>0</th>\n",
       "      <td>Grand Theft Auto V</td>\n",
       "      <td>XOne</td>\n",
       "      <td>2014.0</td>\n",
       "      <td>Action</td>\n",
       "      <td>Rockstar Games</td>\n",
       "      <td>4.70</td>\n",
       "      <td>3.25</td>\n",
       "      <td>0.01</td>\n",
       "      <td>0.76</td>\n",
       "      <td>8.72</td>\n",
       "    </tr>\n",
       "    <tr>\n",
       "      <th>1</th>\n",
       "      <td>Call of Duty: Black Ops 3</td>\n",
       "      <td>XOne</td>\n",
       "      <td>2015.0</td>\n",
       "      <td>Shooter</td>\n",
       "      <td>Activision</td>\n",
       "      <td>4.63</td>\n",
       "      <td>2.04</td>\n",
       "      <td>0.02</td>\n",
       "      <td>0.68</td>\n",
       "      <td>7.37</td>\n",
       "    </tr>\n",
       "    <tr>\n",
       "      <th>2</th>\n",
       "      <td>Call of Duty: WWII</td>\n",
       "      <td>XOne</td>\n",
       "      <td>2017.0</td>\n",
       "      <td>Shooter</td>\n",
       "      <td>Activision</td>\n",
       "      <td>3.75</td>\n",
       "      <td>1.91</td>\n",
       "      <td>0.00</td>\n",
       "      <td>0.57</td>\n",
       "      <td>6.23</td>\n",
       "    </tr>\n",
       "    <tr>\n",
       "      <th>3</th>\n",
       "      <td>Red Dead Redemption 2</td>\n",
       "      <td>XOne</td>\n",
       "      <td>2018.0</td>\n",
       "      <td>Action-Adventure</td>\n",
       "      <td>Rockstar Games</td>\n",
       "      <td>3.76</td>\n",
       "      <td>1.47</td>\n",
       "      <td>0.00</td>\n",
       "      <td>0.54</td>\n",
       "      <td>5.77</td>\n",
       "    </tr>\n",
       "    <tr>\n",
       "      <th>4</th>\n",
       "      <td>MineCraft</td>\n",
       "      <td>XOne</td>\n",
       "      <td>2014.0</td>\n",
       "      <td>Misc</td>\n",
       "      <td>Microsoft Studios</td>\n",
       "      <td>3.23</td>\n",
       "      <td>1.71</td>\n",
       "      <td>0.00</td>\n",
       "      <td>0.49</td>\n",
       "      <td>5.43</td>\n",
       "    </tr>\n",
       "    <tr>\n",
       "      <th>...</th>\n",
       "      <td>...</td>\n",
       "      <td>...</td>\n",
       "      <td>...</td>\n",
       "      <td>...</td>\n",
       "      <td>...</td>\n",
       "      <td>...</td>\n",
       "      <td>...</td>\n",
       "      <td>...</td>\n",
       "      <td>...</td>\n",
       "      <td>...</td>\n",
       "    </tr>\n",
       "    <tr>\n",
       "      <th>608</th>\n",
       "      <td>Biomutant</td>\n",
       "      <td>XOne</td>\n",
       "      <td>2018.0</td>\n",
       "      <td>Action</td>\n",
       "      <td>THQ Nordic</td>\n",
       "      <td>0.00</td>\n",
       "      <td>0.00</td>\n",
       "      <td>0.00</td>\n",
       "      <td>0.00</td>\n",
       "      <td>0.00</td>\n",
       "    </tr>\n",
       "    <tr>\n",
       "      <th>609</th>\n",
       "      <td>Biomutant</td>\n",
       "      <td>XOne</td>\n",
       "      <td>2019.0</td>\n",
       "      <td>Action</td>\n",
       "      <td>THQ Nordic</td>\n",
       "      <td>0.00</td>\n",
       "      <td>0.00</td>\n",
       "      <td>0.00</td>\n",
       "      <td>0.00</td>\n",
       "      <td>0.00</td>\n",
       "    </tr>\n",
       "    <tr>\n",
       "      <th>610</th>\n",
       "      <td>de Blob</td>\n",
       "      <td>XOne</td>\n",
       "      <td>2017.0</td>\n",
       "      <td>Platform</td>\n",
       "      <td>THQ Nordic</td>\n",
       "      <td>0.00</td>\n",
       "      <td>0.00</td>\n",
       "      <td>0.00</td>\n",
       "      <td>0.00</td>\n",
       "      <td>0.00</td>\n",
       "    </tr>\n",
       "    <tr>\n",
       "      <th>611</th>\n",
       "      <td>Outcast: Second Contact</td>\n",
       "      <td>XOne</td>\n",
       "      <td>2017.0</td>\n",
       "      <td>Adventure</td>\n",
       "      <td>Bigben Interactive</td>\n",
       "      <td>0.00</td>\n",
       "      <td>0.00</td>\n",
       "      <td>0.00</td>\n",
       "      <td>0.00</td>\n",
       "      <td>0.00</td>\n",
       "    </tr>\n",
       "    <tr>\n",
       "      <th>612</th>\n",
       "      <td>Code Vein</td>\n",
       "      <td>XOne</td>\n",
       "      <td>2019.0</td>\n",
       "      <td>Action</td>\n",
       "      <td>Bandai Namco Entertainment</td>\n",
       "      <td>0.00</td>\n",
       "      <td>0.00</td>\n",
       "      <td>0.00</td>\n",
       "      <td>0.00</td>\n",
       "      <td>0.00</td>\n",
       "    </tr>\n",
       "  </tbody>\n",
       "</table>\n",
       "<p>613 rows × 10 columns</p>\n",
       "</div>"
      ],
      "text/plain": [
       "                          Name Platform  Year_of_Release             Genre  \\\n",
       "0           Grand Theft Auto V     XOne           2014.0            Action   \n",
       "1    Call of Duty: Black Ops 3     XOne           2015.0           Shooter   \n",
       "2           Call of Duty: WWII     XOne           2017.0           Shooter   \n",
       "3        Red Dead Redemption 2     XOne           2018.0  Action-Adventure   \n",
       "4                    MineCraft     XOne           2014.0              Misc   \n",
       "..                         ...      ...              ...               ...   \n",
       "608                  Biomutant     XOne           2018.0            Action   \n",
       "609                  Biomutant     XOne           2019.0            Action   \n",
       "610                    de Blob     XOne           2017.0          Platform   \n",
       "611    Outcast: Second Contact     XOne           2017.0         Adventure   \n",
       "612                  Code Vein     XOne           2019.0            Action   \n",
       "\n",
       "                      Publisher  NA_Sales  EU_Sales  JP_Sales  Other_Sales  \\\n",
       "0                Rockstar Games      4.70      3.25      0.01         0.76   \n",
       "1                    Activision      4.63      2.04      0.02         0.68   \n",
       "2                    Activision      3.75      1.91      0.00         0.57   \n",
       "3                Rockstar Games      3.76      1.47      0.00         0.54   \n",
       "4             Microsoft Studios      3.23      1.71      0.00         0.49   \n",
       "..                          ...       ...       ...       ...          ...   \n",
       "608                  THQ Nordic      0.00      0.00      0.00         0.00   \n",
       "609                  THQ Nordic      0.00      0.00      0.00         0.00   \n",
       "610                  THQ Nordic      0.00      0.00      0.00         0.00   \n",
       "611          Bigben Interactive      0.00      0.00      0.00         0.00   \n",
       "612  Bandai Namco Entertainment      0.00      0.00      0.00         0.00   \n",
       "\n",
       "     Global_Sales  \n",
       "0            8.72  \n",
       "1            7.37  \n",
       "2            6.23  \n",
       "3            5.77  \n",
       "4            5.43  \n",
       "..            ...  \n",
       "608          0.00  \n",
       "609          0.00  \n",
       "610          0.00  \n",
       "611          0.00  \n",
       "612          0.00  \n",
       "\n",
       "[613 rows x 10 columns]"
      ]
     },
     "execution_count": 6,
     "metadata": {},
     "output_type": "execute_result"
    }
   ],
   "source": [
    "#Al igual que hicimos con el de PS4, cargamos ahora el dataframe de Xbox One y renombramos las columnas\n",
    "df_xbox = pd.read_csv(\"datasets/XboxOne_GameSales.csv\", encoding=\"latin-1\")\n",
    "df_xbox = df_xbox.iloc[:, 1:]\n",
    "df_xbox.insert(1, \"Platform\", \"XOne\", True)\n",
    "df_xbox = df_xbox.rename({\"Game\":\"Name\", \"Year\":\"Year_of_Release\", \"North America\": \"NA_Sales\", \"Europe\":\"EU_Sales\", \"Japan\":\"JP_Sales\", \"Rest of World\":\"Other_Sales\", \"Global\":\"Global_Sales\"}, axis=1)\n",
    "df_xbox"
   ]
  },
  {
   "cell_type": "code",
   "execution_count": 7,
   "metadata": {},
   "outputs": [
    {
     "data": {
      "text/html": [
       "<div>\n",
       "<style scoped>\n",
       "    .dataframe tbody tr th:only-of-type {\n",
       "        vertical-align: middle;\n",
       "    }\n",
       "\n",
       "    .dataframe tbody tr th {\n",
       "        vertical-align: top;\n",
       "    }\n",
       "\n",
       "    .dataframe thead th {\n",
       "        text-align: right;\n",
       "    }\n",
       "</style>\n",
       "<table border=\"1\" class=\"dataframe\">\n",
       "  <thead>\n",
       "    <tr style=\"text-align: right;\">\n",
       "      <th></th>\n",
       "      <th>Name</th>\n",
       "      <th>Platform</th>\n",
       "      <th>Year_of_Release</th>\n",
       "      <th>Genre</th>\n",
       "      <th>Publisher</th>\n",
       "      <th>NA_Sales</th>\n",
       "      <th>EU_Sales</th>\n",
       "      <th>JP_Sales</th>\n",
       "      <th>Other_Sales</th>\n",
       "      <th>Global_Sales</th>\n",
       "    </tr>\n",
       "  </thead>\n",
       "  <tbody>\n",
       "  </tbody>\n",
       "</table>\n",
       "</div>"
      ],
      "text/plain": [
       "Empty DataFrame\n",
       "Columns: [Name, Platform, Year_of_Release, Genre, Publisher, NA_Sales, EU_Sales, JP_Sales, Other_Sales, Global_Sales]\n",
       "Index: []"
      ]
     },
     "execution_count": 7,
     "metadata": {},
     "output_type": "execute_result"
    }
   ],
   "source": [
    "#Igual que antes, añadimos el dataframe de Xbox al anterior y eliminamos duplicados\n",
    "df_Games = pd.concat((df_2, df_xbox))\n",
    "df_Games.drop_duplicates(inplace=True)\n",
    "df_Games[df_Games.duplicated()]"
   ]
  },
  {
   "cell_type": "code",
   "execution_count": 8,
   "metadata": {},
   "outputs": [
    {
     "name": "stdout",
     "output_type": "stream",
     "text": [
      "<class 'pandas.core.frame.DataFrame'>\n",
      "Int64Index: 17703 entries, 0 to 18322\n",
      "Data columns (total 10 columns):\n",
      " #   Column           Non-Null Count  Dtype  \n",
      "---  ------           --------------  -----  \n",
      " 0   Name             17703 non-null  object \n",
      " 1   Platform         17703 non-null  object \n",
      " 2   Year_of_Release  17703 non-null  int32  \n",
      " 3   Genre            17703 non-null  object \n",
      " 4   Publisher        17703 non-null  object \n",
      " 5   NA_Sales         17703 non-null  float64\n",
      " 6   EU_Sales         17703 non-null  float64\n",
      " 7   JP_Sales         17703 non-null  float64\n",
      " 8   Other_Sales      17703 non-null  float64\n",
      " 9   Global_Sales     17703 non-null  float64\n",
      "dtypes: float64(5), int32(1), object(4)\n",
      "memory usage: 1.4+ MB\n"
     ]
    }
   ],
   "source": [
    "#Para terminar de preparar el dataframe, eliminamos las filas con valores nulos en los que falta información y convertimos la columna de año\n",
    "#de lanzamiento a Int32 para quitar los decimales en los años\n",
    "df_Games.reset_index(drop=True, inplace=True)\n",
    "df_Games.dropna(inplace=True)\n",
    "df_Games[\"Year_of_Release\"] = df_Games[\"Year_of_Release\"].astype(int)\n",
    "df_Games.info()"
   ]
  },
  {
   "cell_type": "code",
   "execution_count": 47,
   "metadata": {},
   "outputs": [
    {
     "data": {
      "application/vnd.plotly.v1+json": {
       "config": {
        "plotlyServerURL": "https://plot.ly"
       },
       "data": [
        {
         "alignmentgroup": "True",
         "bingroup": "x",
         "hovertemplate": "Year_of_Release=1980<br>Platform=%{x}<br>count=%{y}<extra></extra>",
         "legendgroup": "",
         "marker": {
          "color": "#636efa",
          "pattern": {
           "shape": ""
          }
         },
         "name": "",
         "offsetgroup": "",
         "orientation": "v",
         "showlegend": false,
         "type": "histogram",
         "x": [
          "2600",
          "2600",
          "2600",
          "2600",
          "2600",
          "2600",
          "2600",
          "2600",
          "2600"
         ],
         "xaxis": "x",
         "yaxis": "y"
        }
       ],
       "frames": [
        {
         "data": [
          {
           "alignmentgroup": "True",
           "bingroup": "x",
           "hovertemplate": "Year_of_Release=1980<br>Platform=%{x}<br>count=%{y}<extra></extra>",
           "legendgroup": "",
           "marker": {
            "color": "#636efa",
            "pattern": {
             "shape": ""
            }
           },
           "name": "",
           "offsetgroup": "",
           "orientation": "v",
           "showlegend": false,
           "type": "histogram",
           "x": [
            "2600",
            "2600",
            "2600",
            "2600",
            "2600",
            "2600",
            "2600",
            "2600",
            "2600"
           ],
           "xaxis": "x",
           "yaxis": "y"
          }
         ],
         "name": "1980"
        },
        {
         "data": [
          {
           "alignmentgroup": "True",
           "bingroup": "x",
           "hovertemplate": "Year_of_Release=1981<br>Platform=%{x}<br>count=%{y}<extra></extra>",
           "legendgroup": "",
           "marker": {
            "color": "#636efa",
            "pattern": {
             "shape": ""
            }
           },
           "name": "",
           "offsetgroup": "",
           "orientation": "v",
           "showlegend": false,
           "type": "histogram",
           "x": [
            "2600",
            "2600",
            "2600",
            "2600",
            "2600",
            "2600",
            "2600",
            "2600",
            "2600",
            "2600",
            "2600",
            "2600",
            "2600",
            "2600",
            "2600",
            "2600",
            "2600",
            "2600",
            "2600",
            "2600",
            "2600",
            "2600",
            "2600",
            "2600",
            "2600",
            "2600",
            "2600",
            "2600",
            "2600",
            "2600",
            "2600",
            "2600",
            "2600",
            "2600",
            "2600",
            "2600",
            "2600",
            "2600",
            "2600",
            "2600",
            "2600",
            "2600",
            "2600",
            "2600",
            "2600",
            "2600"
           ],
           "xaxis": "x",
           "yaxis": "y"
          }
         ],
         "name": "1981"
        },
        {
         "data": [
          {
           "alignmentgroup": "True",
           "bingroup": "x",
           "hovertemplate": "Year_of_Release=1982<br>Platform=%{x}<br>count=%{y}<extra></extra>",
           "legendgroup": "",
           "marker": {
            "color": "#636efa",
            "pattern": {
             "shape": ""
            }
           },
           "name": "",
           "offsetgroup": "",
           "orientation": "v",
           "showlegend": false,
           "type": "histogram",
           "x": [
            "2600",
            "2600",
            "2600",
            "2600",
            "2600",
            "2600",
            "2600",
            "2600",
            "2600",
            "2600",
            "2600",
            "2600",
            "2600",
            "2600",
            "2600",
            "2600",
            "2600",
            "2600",
            "2600",
            "2600",
            "2600",
            "2600",
            "2600",
            "2600",
            "2600",
            "2600",
            "2600",
            "2600",
            "2600",
            "2600",
            "2600",
            "2600",
            "2600",
            "2600",
            "2600",
            "2600"
           ],
           "xaxis": "x",
           "yaxis": "y"
          }
         ],
         "name": "1982"
        },
        {
         "data": [
          {
           "alignmentgroup": "True",
           "bingroup": "x",
           "hovertemplate": "Year_of_Release=1983<br>Platform=%{x}<br>count=%{y}<extra></extra>",
           "legendgroup": "",
           "marker": {
            "color": "#636efa",
            "pattern": {
             "shape": ""
            }
           },
           "name": "",
           "offsetgroup": "",
           "orientation": "v",
           "showlegend": false,
           "type": "histogram",
           "x": [
            "2600",
            "NES",
            "2600",
            "2600",
            "2600",
            "2600",
            "2600",
            "NES",
            "2600",
            "2600",
            "NES",
            "NES",
            "NES",
            "2600",
            "2600",
            "2600",
            "NES"
           ],
           "xaxis": "x",
           "yaxis": "y"
          }
         ],
         "name": "1983"
        },
        {
         "data": [
          {
           "alignmentgroup": "True",
           "bingroup": "x",
           "hovertemplate": "Year_of_Release=1984<br>Platform=%{x}<br>count=%{y}<extra></extra>",
           "legendgroup": "",
           "marker": {
            "color": "#636efa",
            "pattern": {
             "shape": ""
            }
           },
           "name": "",
           "offsetgroup": "",
           "orientation": "v",
           "showlegend": false,
           "type": "histogram",
           "x": [
            "NES",
            "2600",
            "NES",
            "NES",
            "NES",
            "NES",
            "NES",
            "NES",
            "NES",
            "NES",
            "NES",
            "NES",
            "NES",
            "NES"
           ],
           "xaxis": "x",
           "yaxis": "y"
          }
         ],
         "name": "1984"
        },
        {
         "data": [
          {
           "alignmentgroup": "True",
           "bingroup": "x",
           "hovertemplate": "Year_of_Release=1985<br>Platform=%{x}<br>count=%{y}<extra></extra>",
           "legendgroup": "",
           "marker": {
            "color": "#636efa",
            "pattern": {
             "shape": ""
            }
           },
           "name": "",
           "offsetgroup": "",
           "orientation": "v",
           "showlegend": false,
           "type": "histogram",
           "x": [
            "NES",
            "NES",
            "2600",
            "NES",
            "NES",
            "NES",
            "NES",
            "NES",
            "DS",
            "NES",
            "NES",
            "PC",
            "NES",
            "NES"
           ],
           "xaxis": "x",
           "yaxis": "y"
          }
         ],
         "name": "1985"
        },
        {
         "data": [
          {
           "alignmentgroup": "True",
           "bingroup": "x",
           "hovertemplate": "Year_of_Release=1986<br>Platform=%{x}<br>count=%{y}<extra></extra>",
           "legendgroup": "",
           "marker": {
            "color": "#636efa",
            "pattern": {
             "shape": ""
            }
           },
           "name": "",
           "offsetgroup": "",
           "orientation": "v",
           "showlegend": false,
           "type": "histogram",
           "x": [
            "NES",
            "2600",
            "NES",
            "NES",
            "NES",
            "NES",
            "NES",
            "NES",
            "NES",
            "2600",
            "NES",
            "NES",
            "NES",
            "NES",
            "NES",
            "NES",
            "NES",
            "NES",
            "NES",
            "NES",
            "NES"
           ],
           "xaxis": "x",
           "yaxis": "y"
          }
         ],
         "name": "1986"
        },
        {
         "data": [
          {
           "alignmentgroup": "True",
           "bingroup": "x",
           "hovertemplate": "Year_of_Release=1987<br>Platform=%{x}<br>count=%{y}<extra></extra>",
           "legendgroup": "",
           "marker": {
            "color": "#636efa",
            "pattern": {
             "shape": ""
            }
           },
           "name": "",
           "offsetgroup": "",
           "orientation": "v",
           "showlegend": false,
           "type": "histogram",
           "x": [
            "2600",
            "2600",
            "NES",
            "NES",
            "NES",
            "NES",
            "NES",
            "2600",
            "NES",
            "2600",
            "NES",
            "2600",
            "NES",
            "2600",
            "NES",
            "NES"
           ],
           "xaxis": "x",
           "yaxis": "y"
          }
         ],
         "name": "1987"
        },
        {
         "data": [
          {
           "alignmentgroup": "True",
           "bingroup": "x",
           "hovertemplate": "Year_of_Release=1988<br>Platform=%{x}<br>count=%{y}<extra></extra>",
           "legendgroup": "",
           "marker": {
            "color": "#636efa",
            "pattern": {
             "shape": ""
            }
           },
           "name": "",
           "offsetgroup": "",
           "orientation": "v",
           "showlegend": false,
           "type": "histogram",
           "x": [
            "2600",
            "NES",
            "NES",
            "NES",
            "NES",
            "NES",
            "NES",
            "NES",
            "GB",
            "2600",
            "NES",
            "NES",
            "PC",
            "NES",
            "NES"
           ],
           "xaxis": "x",
           "yaxis": "y"
          }
         ],
         "name": "1988"
        },
        {
         "data": [
          {
           "alignmentgroup": "True",
           "bingroup": "x",
           "hovertemplate": "Year_of_Release=1989<br>Platform=%{x}<br>count=%{y}<extra></extra>",
           "legendgroup": "",
           "marker": {
            "color": "#636efa",
            "pattern": {
             "shape": ""
            }
           },
           "name": "",
           "offsetgroup": "",
           "orientation": "v",
           "showlegend": false,
           "type": "histogram",
           "x": [
            "GB",
            "GB",
            "NES",
            "NES",
            "GB",
            "GB",
            "GB",
            "NES",
            "NES",
            "NES",
            "2600",
            "GB",
            "GB",
            "GB",
            "GB",
            "2600",
            "GB"
           ],
           "xaxis": "x",
           "yaxis": "y"
          }
         ],
         "name": "1989"
        },
        {
         "data": [
          {
           "alignmentgroup": "True",
           "bingroup": "x",
           "hovertemplate": "Year_of_Release=1990<br>Platform=%{x}<br>count=%{y}<extra></extra>",
           "legendgroup": "",
           "marker": {
            "color": "#636efa",
            "pattern": {
             "shape": ""
            }
           },
           "name": "",
           "offsetgroup": "",
           "orientation": "v",
           "showlegend": false,
           "type": "histogram",
           "x": [
            "SNES",
            "GB",
            "SNES",
            "NES",
            "GEN",
            "NES",
            "GB",
            "GB",
            "NES",
            "NES",
            "NES",
            "NES",
            "SNES",
            "SNES",
            "NES",
            "NES"
           ],
           "xaxis": "x",
           "yaxis": "y"
          }
         ],
         "name": "1990"
        },
        {
         "data": [
          {
           "alignmentgroup": "True",
           "bingroup": "x",
           "hovertemplate": "Year_of_Release=1991<br>Platform=%{x}<br>count=%{y}<extra></extra>",
           "legendgroup": "",
           "marker": {
            "color": "#636efa",
            "pattern": {
             "shape": ""
            }
           },
           "name": "",
           "offsetgroup": "",
           "orientation": "v",
           "showlegend": false,
           "type": "histogram",
           "x": [
            "SNES",
            "SNES",
            "GB",
            "SNES",
            "GB",
            "GB",
            "SNES",
            "SNES",
            "SNES",
            "SNES",
            "SNES",
            "GEN",
            "GB",
            "GB",
            "SNES",
            "NES",
            "NES",
            "NES",
            "NES",
            "SNES",
            "SNES",
            "SNES",
            "SNES",
            "SNES",
            "SNES",
            "NES",
            "SNES",
            "GB",
            "SNES",
            "SNES",
            "SNES",
            "SNES",
            "NES",
            "SNES",
            "SNES",
            "NES",
            "SNES",
            "GB",
            "GB",
            "GB",
            "SNES"
           ],
           "xaxis": "x",
           "yaxis": "y"
          }
         ],
         "name": "1991"
        },
        {
         "data": [
          {
           "alignmentgroup": "True",
           "bingroup": "x",
           "hovertemplate": "Year_of_Release=1992<br>Platform=%{x}<br>count=%{y}<extra></extra>",
           "legendgroup": "",
           "marker": {
            "color": "#636efa",
            "pattern": {
             "shape": ""
            }
           },
           "name": "",
           "offsetgroup": "",
           "orientation": "v",
           "showlegend": false,
           "type": "histogram",
           "x": [
            "SNES",
            "PC",
            "GB",
            "SNES",
            "GB",
            "SNES",
            "NES",
            "SNES",
            "SNES",
            "SNES",
            "SNES",
            "GB",
            "SNES",
            "GEN",
            "GB",
            "SNES",
            "GG",
            "SNES",
            "SNES",
            "SNES",
            "GB",
            "PC",
            "SNES",
            "PC",
            "SNES",
            "GEN",
            "NES",
            "GEN",
            "GEN",
            "GEN",
            "PC",
            "SNES",
            "SNES",
            "SNES",
            "GB",
            "SNES",
            "SNES",
            "SNES",
            "GB",
            "NES",
            "SNES",
            "PC",
            "GEN"
           ],
           "xaxis": "x",
           "yaxis": "y"
          }
         ],
         "name": "1992"
        },
        {
         "data": [
          {
           "alignmentgroup": "True",
           "bingroup": "x",
           "hovertemplate": "Year_of_Release=1993<br>Platform=%{x}<br>count=%{y}<extra></extra>",
           "legendgroup": "",
           "marker": {
            "color": "#636efa",
            "pattern": {
             "shape": ""
            }
           },
           "name": "",
           "offsetgroup": "",
           "orientation": "v",
           "showlegend": false,
           "type": "histogram",
           "x": [
            "SNES",
            "SNES",
            "SNES",
            "GEN",
            "SNES",
            "GEN",
            "SNES",
            "SNES",
            "SNES",
            "SNES",
            "SNES",
            "SNES",
            "NES",
            "SNES",
            "NES",
            "SNES",
            "NG",
            "SNES",
            "SNES",
            "SNES",
            "NG",
            "GEN",
            "SNES",
            "SNES",
            "SNES",
            "SNES",
            "SNES",
            "SNES",
            "SNES",
            "SNES",
            "SNES",
            "SNES",
            "SNES",
            "NES",
            "SNES",
            "SNES",
            "SNES",
            "SNES",
            "SNES",
            "SNES",
            "SNES",
            "SNES",
            "SCD",
            "SNES",
            "SNES",
            "SNES",
            "GEN",
            "GEN",
            "SNES",
            "GEN",
            "SNES",
            "SNES",
            "SNES",
            "SNES",
            "NES",
            "SNES",
            "SNES",
            "GEN",
            "SNES",
            "SNES"
           ],
           "xaxis": "x",
           "yaxis": "y"
          }
         ],
         "name": "1993"
        },
        {
         "data": [
          {
           "alignmentgroup": "True",
           "bingroup": "x",
           "hovertemplate": "Year_of_Release=1994<br>Platform=%{x}<br>count=%{y}<extra></extra>",
           "legendgroup": "",
           "marker": {
            "color": "#636efa",
            "pattern": {
             "shape": ""
            }
           },
           "name": "",
           "offsetgroup": "",
           "orientation": "v",
           "showlegend": false,
           "type": "histogram",
           "x": [
            "GB",
            "SNES",
            "PS",
            "PC",
            "SNES",
            "SAT",
            "GEN",
            "PS",
            "NG",
            "SAT",
            "PS",
            "SAT",
            "SNES",
            "SNES",
            "SNES",
            "SNES",
            "SNES",
            "SNES",
            "SNES",
            "SNES",
            "GEN",
            "SNES",
            "SAT",
            "SNES",
            "SNES",
            "PS",
            "PC",
            "SNES",
            "SNES",
            "SNES",
            "PS",
            "SNES",
            "GEN",
            "PS",
            "PC",
            "SAT",
            "SNES",
            "SNES",
            "SNES",
            "SNES",
            "SNES",
            "PS",
            "SNES",
            "SCD",
            "NG",
            "SAT",
            "SNES",
            "PS",
            "SNES",
            "SNES",
            "SNES",
            "PS",
            "GEN",
            "SNES",
            "SNES",
            "SAT",
            "NG",
            "SAT",
            "GEN",
            "GEN",
            "SAT",
            "PC",
            "SNES",
            "GEN",
            "SNES",
            "PS",
            "SAT",
            "GEN",
            "SCD",
            "SAT",
            "SNES",
            "SAT",
            "SNES",
            "PS",
            "PS",
            "SNES",
            "SNES",
            "GEN",
            "SAT",
            "SCD",
            "SCD",
            "SAT",
            "SNES",
            "SNES",
            "NG",
            "SNES",
            "SNES",
            "SNES",
            "SNES",
            "NES",
            "GEN",
            "SNES",
            "SNES",
            "GEN",
            "SAT",
            "SNES",
            "SAT",
            "SAT",
            "SNES",
            "3DO",
            "PC",
            "PS",
            "SNES",
            "SNES",
            "GB",
            "SNES",
            "SNES",
            "SNES",
            "PC",
            "SCD",
            "GEN",
            "PS",
            "SNES",
            "SNES",
            "SAT",
            "PS",
            "SAT",
            "GB",
            "SNES",
            "PS",
            "PS"
           ],
           "xaxis": "x",
           "yaxis": "y"
          }
         ],
         "name": "1994"
        },
        {
         "data": [
          {
           "alignmentgroup": "True",
           "bingroup": "x",
           "hovertemplate": "Year_of_Release=1995<br>Platform=%{x}<br>count=%{y}<extra></extra>",
           "legendgroup": "",
           "marker": {
            "color": "#636efa",
            "pattern": {
             "shape": ""
            }
           },
           "name": "",
           "offsetgroup": "",
           "orientation": "v",
           "showlegend": false,
           "type": "histogram",
           "x": [
            "PS",
            "PS",
            "GB",
            "SNES",
            "SAT",
            "SAT",
            "SNES",
            "SNES",
            "PS",
            "PS",
            "PS",
            "PS",
            "PS",
            "PS",
            "TG16",
            "PS",
            "SNES",
            "SNES",
            "SAT",
            "PS",
            "PS",
            "SNES",
            "PS",
            "SNES",
            "PS",
            "SNES",
            "NG",
            "SNES",
            "SAT",
            "SNES",
            "PS",
            "SNES",
            "SNES",
            "PS",
            "PS",
            "PS",
            "SAT",
            "SAT",
            "PS",
            "SAT",
            "SNES",
            "SNES",
            "PS",
            "PS",
            "PS",
            "PS",
            "SNES",
            "PS",
            "NG",
            "PS",
            "PS",
            "SAT",
            "SAT",
            "SNES",
            "PS",
            "PS",
            "PS",
            "SNES",
            "SNES",
            "SAT",
            "SAT",
            "PS",
            "PS",
            "PS",
            "PS",
            "PS",
            "PS",
            "PS",
            "SAT",
            "SAT",
            "SNES",
            "SAT",
            "SAT",
            "SNES",
            "SAT",
            "SAT",
            "PS",
            "PS",
            "PS",
            "PS",
            "PS",
            "SNES",
            "PS",
            "SAT",
            "SAT",
            "SAT",
            "SAT",
            "SAT",
            "PS",
            "PS",
            "SNES",
            "PS",
            "PS",
            "PS",
            "SNES",
            "PS",
            "PS",
            "PS",
            "SNES",
            "PS",
            "SNES",
            "PS",
            "PC",
            "PS",
            "SNES",
            "SNES",
            "PS",
            "SNES",
            "SAT",
            "NG",
            "PS",
            "PS",
            "PS",
            "3DO",
            "SNES",
            "PS",
            "SNES",
            "SNES",
            "SAT",
            "PS",
            "SAT",
            "SNES",
            "PS",
            "SAT",
            "PS",
            "PS",
            "SNES",
            "PC",
            "PS",
            "SAT",
            "PS",
            "PS",
            "SAT",
            "SNES",
            "PS",
            "SAT",
            "SNES",
            "PS",
            "PS",
            "PS",
            "PS",
            "PS",
            "GB",
            "PS",
            "PS",
            "SNES",
            "SNES",
            "PS",
            "SNES",
            "PS",
            "GB",
            "PS",
            "SAT",
            "SAT",
            "SAT",
            "SNES",
            "SAT",
            "TG16",
            "SNES",
            "PS",
            "SNES",
            "SAT",
            "SAT",
            "PS",
            "SAT",
            "PS",
            "PS",
            "PS",
            "SAT",
            "3DO",
            "SAT",
            "SNES",
            "GB",
            "SAT",
            "PS",
            "PS",
            "PS",
            "PS",
            "PS",
            "PS",
            "SAT",
            "SNES",
            "SAT",
            "SNES",
            "SAT",
            "SNES",
            "SNES",
            "SNES",
            "PS",
            "SAT",
            "SNES",
            "SNES",
            "PS",
            "SNES",
            "PS",
            "PS",
            "SNES",
            "SNES",
            "SNES",
            "SAT",
            "PS",
            "SAT",
            "PS",
            "SAT",
            "SAT",
            "SAT",
            "PS",
            "PS",
            "PS",
            "SAT",
            "NG",
            "PS",
            "SAT",
            "SAT",
            "PS",
            "PS",
            "PS",
            "SNES",
            "SAT"
           ],
           "xaxis": "x",
           "yaxis": "y"
          }
         ],
         "name": "1995"
        },
        {
         "data": [
          {
           "alignmentgroup": "True",
           "bingroup": "x",
           "hovertemplate": "Year_of_Release=1996<br>Platform=%{x}<br>count=%{y}<extra></extra>",
           "legendgroup": "",
           "marker": {
            "color": "#636efa",
            "pattern": {
             "shape": ""
            }
           },
           "name": "",
           "offsetgroup": "",
           "orientation": "v",
           "showlegend": false,
           "type": "histogram",
           "x": [
            "SAT",
            "PS",
            "SAT",
            "SAT",
            "PS",
            "PS",
            "PS",
            "PS",
            "SAT",
            "PS",
            "N64",
            "PS",
            "SNES",
            "PS",
            "SAT",
            "PS",
            "PS",
            "PS",
            "SAT",
            "PS",
            "PS",
            "PS",
            "PS",
            "PS",
            "SAT",
            "NG",
            "PS",
            "PS",
            "PS",
            "PS",
            "PS",
            "PS",
            "PS",
            "SNES",
            "SNES",
            "PS",
            "PS",
            "SAT",
            "PS",
            "SNES",
            "GB",
            "PS",
            "PS",
            "SNES",
            "PS",
            "GB",
            "PS",
            "PS",
            "PS",
            "PS",
            "PS",
            "SAT",
            "PS",
            "PS",
            "SNES",
            "PS",
            "SNES",
            "PS",
            "N64",
            "SAT",
            "SAT",
            "PS",
            "PS",
            "N64",
            "PS",
            "PS",
            "PS",
            "SAT",
            "PS",
            "PS",
            "N64",
            "PS",
            "PS",
            "PS",
            "N64",
            "PS",
            "PS",
            "N64",
            "SAT",
            "PS",
            "PS",
            "PS",
            "N64",
            "SNES",
            "PS",
            "PS",
            "SAT",
            "PC",
            "PS",
            "PS",
            "N64",
            "PS",
            "PS",
            "SNES",
            "PS",
            "PS",
            "PS",
            "PS",
            "PS",
            "SNES",
            "SNES",
            "PS",
            "PS",
            "PS",
            "N64",
            "PS",
            "PS",
            "SNES",
            "PS",
            "PS",
            "PS",
            "GB",
            "N64",
            "NG",
            "SAT",
            "SAT",
            "SNES",
            "PS",
            "PS",
            "PS",
            "PS",
            "PS",
            "N64",
            "SNES",
            "SNES",
            "PS",
            "SAT",
            "SAT",
            "PS",
            "PS",
            "PS",
            "SAT",
            "PS",
            "PS",
            "PS",
            "SAT",
            "SNES",
            "SNES",
            "SNES",
            "PS",
            "PS",
            "PS",
            "SAT",
            "GB",
            "PS",
            "PS",
            "PS",
            "PS",
            "PS",
            "PS",
            "PS",
            "SAT",
            "SAT",
            "PS",
            "PS",
            "SAT",
            "PS",
            "SAT",
            "SNES",
            "PS",
            "SNES",
            "PS",
            "PS",
            "N64",
            "PS",
            "PS",
            "PS",
            "PS",
            "SNES",
            "PS",
            "N64",
            "SAT",
            "PS",
            "PS",
            "GB",
            "SAT",
            "PS",
            "PS",
            "SNES",
            "PS",
            "SAT",
            "PS",
            "PS",
            "GB",
            "PS",
            "PS",
            "PS",
            "SNES",
            "PS",
            "PS",
            "SAT",
            "PS",
            "SAT",
            "PS",
            "PS",
            "PS",
            "PS",
            "PS",
            "PS",
            "PS",
            "SAT",
            "PS",
            "SAT",
            "PS",
            "N64",
            "PS",
            "PS",
            "PS",
            "SAT",
            "PS",
            "PS",
            "PS",
            "PS",
            "PS",
            "PC",
            "PS",
            "PS",
            "SAT",
            "PS",
            "PS",
            "PS",
            "PS",
            "SNES",
            "PS",
            "PS",
            "SNES",
            "PS",
            "PS",
            "SNES",
            "N64",
            "PC",
            "PS",
            "PS",
            "PS",
            "PS",
            "N64",
            "N64",
            "PS",
            "SAT",
            "PCFX",
            "PC",
            "SNES",
            "PS",
            "PS",
            "SAT",
            "PS",
            "PS",
            "SNES",
            "SNES",
            "SAT",
            "PS",
            "PS",
            "SAT",
            "PS",
            "PS",
            "PS",
            "PS",
            "PS",
            "PS",
            "PS",
            "N64",
            "PS",
            "SNES"
           ],
           "xaxis": "x",
           "yaxis": "y"
          }
         ],
         "name": "1996"
        },
        {
         "data": [
          {
           "alignmentgroup": "True",
           "bingroup": "x",
           "hovertemplate": "Year_of_Release=1997<br>Platform=%{x}<br>count=%{y}<extra></extra>",
           "legendgroup": "",
           "marker": {
            "color": "#636efa",
            "pattern": {
             "shape": ""
            }
           },
           "name": "",
           "offsetgroup": "",
           "orientation": "v",
           "showlegend": false,
           "type": "histogram",
           "x": [
            "PS",
            "PS",
            "PS",
            "N64",
            "PS",
            "PS",
            "PS",
            "PS",
            "PS",
            "PS",
            "SNES",
            "N64",
            "PS",
            "PS",
            "PS",
            "PS",
            "PS",
            "SAT",
            "PS",
            "SAT",
            "SAT",
            "PS",
            "PS",
            "PS",
            "PS",
            "PS",
            "PS",
            "PS",
            "PS",
            "PS",
            "SAT",
            "PS",
            "PS",
            "PS",
            "PS",
            "SNES",
            "PS",
            "PS",
            "N64",
            "PS",
            "PS",
            "PS",
            "PS",
            "PS",
            "PS",
            "PS",
            "PS",
            "PS",
            "PS",
            "PS",
            "PS",
            "N64",
            "PS",
            "PS",
            "SAT",
            "N64",
            "N64",
            "SAT",
            "N64",
            "SAT",
            "PS",
            "PS",
            "PS",
            "PS",
            "PS",
            "SAT",
            "PS",
            "SAT",
            "PS",
            "PS",
            "SAT",
            "PS",
            "SAT",
            "PS",
            "PS",
            "PS",
            "SAT",
            "PS",
            "PS",
            "PS",
            "N64",
            "PS",
            "PS",
            "PS",
            "PS",
            "GB",
            "PS",
            "PS",
            "PS",
            "PS",
            "SAT",
            "PS",
            "N64",
            "GB",
            "PS",
            "PS",
            "N64",
            "PS",
            "PS",
            "N64",
            "PS",
            "PS",
            "PS",
            "PS",
            "SAT",
            "N64",
            "PS",
            "PS",
            "PS",
            "PS",
            "PS",
            "PS",
            "GB",
            "PS",
            "PS",
            "N64",
            "N64",
            "PS",
            "PS",
            "PS",
            "SAT",
            "PS",
            "SAT",
            "N64",
            "PS",
            "PS",
            "PS",
            "PS",
            "N64",
            "N64",
            "PS",
            "N64",
            "PS",
            "SAT",
            "PS",
            "PS",
            "N64",
            "N64",
            "N64",
            "GB",
            "PS",
            "PS",
            "PS",
            "PS",
            "N64",
            "PC",
            "PS",
            "SAT",
            "SAT",
            "SAT",
            "PS",
            "PS",
            "SAT",
            "GB",
            "PS",
            "PS",
            "PS",
            "PS",
            "PS",
            "SNES",
            "PS",
            "N64",
            "SAT",
            "PS",
            "N64",
            "PS",
            "PC",
            "PS",
            "PS",
            "PS",
            "PS",
            "PS",
            "PS",
            "PS",
            "GB",
            "N64",
            "PS",
            "PS",
            "N64",
            "N64",
            "N64",
            "N64",
            "N64",
            "PS",
            "N64",
            "N64",
            "PS",
            "PS",
            "PS",
            "PS",
            "PS",
            "PS",
            "PS",
            "PS",
            "PS",
            "N64",
            "SAT",
            "PS",
            "PS",
            "PS",
            "PS",
            "PS",
            "PS",
            "PS",
            "PS",
            "N64",
            "PS",
            "N64",
            "PS",
            "N64",
            "PS",
            "PS",
            "PS",
            "PS",
            "GB",
            "N64",
            "PS",
            "PS",
            "PS",
            "PS",
            "SAT",
            "N64",
            "SAT",
            "PS",
            "N64",
            "N64",
            "PS",
            "GB",
            "SNES",
            "PS",
            "SAT",
            "PS",
            "N64",
            "PS",
            "N64",
            "PS",
            "PS",
            "PS",
            "PC",
            "PS",
            "SAT",
            "SAT",
            "PS",
            "PC",
            "PS",
            "N64",
            "PC",
            "PS",
            "N64",
            "PS",
            "PS",
            "N64",
            "PS",
            "PS",
            "PS",
            "PS",
            "PS",
            "PS",
            "PS",
            "PS",
            "PS",
            "PS",
            "PS",
            "PS",
            "PS",
            "PS",
            "SAT",
            "PS",
            "PC",
            "SAT",
            "SAT",
            "PS",
            "SAT",
            "PS",
            "SAT",
            "PS",
            "N64",
            "N64",
            "PS",
            "PS",
            "N64",
            "PS",
            "N64",
            "PS",
            "PS",
            "PS",
            "SAT",
            "PS",
            "PS"
           ],
           "xaxis": "x",
           "yaxis": "y"
          }
         ],
         "name": "1997"
        },
        {
         "data": [
          {
           "alignmentgroup": "True",
           "bingroup": "x",
           "hovertemplate": "Year_of_Release=1998<br>Platform=%{x}<br>count=%{y}<extra></extra>",
           "legendgroup": "",
           "marker": {
            "color": "#636efa",
            "pattern": {
             "shape": ""
            }
           },
           "name": "",
           "offsetgroup": "",
           "orientation": "v",
           "showlegend": false,
           "type": "histogram",
           "x": [
            "N64",
            "PS",
            "GB",
            "PS",
            "PS",
            "PS",
            "PS",
            "PS",
            "PS",
            "PS",
            "PS",
            "N64",
            "N64",
            "PS",
            "GB",
            "N64",
            "PS",
            "PS",
            "PS",
            "PS",
            "SAT",
            "PS",
            "PS",
            "PS",
            "PS",
            "PS",
            "N64",
            "PS",
            "PS",
            "PS",
            "SAT",
            "PS",
            "DC",
            "PS",
            "PS",
            "PS",
            "N64",
            "PS",
            "PS",
            "PS",
            "PS",
            "PS",
            "PS",
            "PS",
            "PS",
            "SNES",
            "PS",
            "N64",
            "PS",
            "PS",
            "N64",
            "PS",
            "GB",
            "PS",
            "PS",
            "PS",
            "SAT",
            "SAT",
            "PS",
            "PS",
            "PS",
            "N64",
            "SAT",
            "N64",
            "PS",
            "N64",
            "PS",
            "PS",
            "SAT",
            "N64",
            "N64",
            "PS",
            "GB",
            "PS",
            "PS",
            "PS",
            "PS",
            "SAT",
            "PS",
            "N64",
            "PS",
            "SAT",
            "PS",
            "PS",
            "PS",
            "PS",
            "PS",
            "PS",
            "N64",
            "PS",
            "PS",
            "N64",
            "PS",
            "PS",
            "PS",
            "SAT",
            "PS",
            "PS",
            "PS",
            "N64",
            "PS",
            "PS",
            "N64",
            "PS",
            "N64",
            "PS",
            "PS",
            "N64",
            "N64",
            "GB",
            "PS",
            "PS",
            "N64",
            "PS",
            "N64",
            "N64",
            "N64",
            "PS",
            "PS",
            "PS",
            "PS",
            "N64",
            "PS",
            "PS",
            "N64",
            "PS",
            "PS",
            "N64",
            "PS",
            "PS",
            "PS",
            "PS",
            "PS",
            "PS",
            "PS",
            "DC",
            "PS",
            "N64",
            "PS",
            "PS",
            "PS",
            "N64",
            "PS",
            "PS",
            "PS",
            "PS",
            "PS",
            "SAT",
            "PS",
            "PS",
            "PS",
            "N64",
            "N64",
            "N64",
            "PS",
            "N64",
            "PS",
            "N64",
            "PS",
            "N64",
            "PS",
            "PS",
            "DC",
            "N64",
            "PS",
            "PS",
            "PS",
            "PS",
            "SAT",
            "PS",
            "PS",
            "PC",
            "N64",
            "PS",
            "PS",
            "PS",
            "PS",
            "PS",
            "SAT",
            "PS",
            "PS",
            "N64",
            "PS",
            "N64",
            "PS",
            "SAT",
            "PS",
            "PS",
            "N64",
            "N64",
            "PS",
            "PS",
            "N64",
            "PS",
            "SAT",
            "PC",
            "N64",
            "N64",
            "PS",
            "PS",
            "PS",
            "N64",
            "PS",
            "PS",
            "PS",
            "N64",
            "PS",
            "PS",
            "PS",
            "PS",
            "GB",
            "PS",
            "PS",
            "PS",
            "PS",
            "GB",
            "PS",
            "PS",
            "PS",
            "PS",
            "N64",
            "SAT",
            "PS",
            "PS",
            "PS",
            "PS",
            "PS",
            "PS",
            "DC",
            "PS",
            "N64",
            "N64",
            "PS",
            "PS",
            "PS",
            "PS",
            "PS",
            "PS",
            "PS",
            "PS",
            "PS",
            "GB",
            "PS",
            "SAT",
            "PS",
            "PS",
            "N64",
            "SAT",
            "PS",
            "PS",
            "PS",
            "PS",
            "PS",
            "PS",
            "SAT",
            "N64",
            "DC",
            "SAT",
            "PC",
            "SAT",
            "PS",
            "PS",
            "PS",
            "PS",
            "PC",
            "PS",
            "PS",
            "PS",
            "N64",
            "PS",
            "SAT",
            "PS",
            "PS",
            "PS",
            "PC",
            "PS",
            "PS",
            "PS",
            "N64",
            "PS",
            "N64",
            "N64",
            "PS",
            "PS",
            "SNES",
            "PS",
            "N64",
            "PS",
            "SAT",
            "PS",
            "N64",
            "PS",
            "PS",
            "PS",
            "N64",
            "PS",
            "N64",
            "PS",
            "PS",
            "N64",
            "PS",
            "PS",
            "N64",
            "PS",
            "PS",
            "N64",
            "PS",
            "N64",
            "SAT",
            "PS",
            "PS",
            "PS",
            "SAT",
            "PS",
            "N64",
            "PS",
            "PS",
            "PS",
            "N64",
            "PS",
            "PS",
            "PC",
            "PS",
            "DC",
            "PS",
            "PS",
            "PS",
            "N64",
            "PS",
            "SAT",
            "PS",
            "PS",
            "PS",
            "PS",
            "PS",
            "PS",
            "PS",
            "PS",
            "N64",
            "N64",
            "PS",
            "DC",
            "PS",
            "PS",
            "PS",
            "PC",
            "PS",
            "PC",
            "PS",
            "PS",
            "SAT",
            "PS",
            "PS",
            "PS",
            "N64",
            "PS",
            "PS",
            "N64",
            "SAT",
            "PS",
            "PS",
            "N64",
            "PS",
            "PS",
            "N64",
            "SAT",
            "N64",
            "PS",
            "PS",
            "PS",
            "N64",
            "PS",
            "N64",
            "PS",
            "SAT",
            "N64",
            "PS",
            "PS",
            "PS"
           ],
           "xaxis": "x",
           "yaxis": "y"
          }
         ],
         "name": "1998"
        },
        {
         "data": [
          {
           "alignmentgroup": "True",
           "bingroup": "x",
           "hovertemplate": "Year_of_Release=1999<br>Platform=%{x}<br>count=%{y}<extra></extra>",
           "legendgroup": "",
           "marker": {
            "color": "#636efa",
            "pattern": {
             "shape": ""
            }
           },
           "name": "",
           "offsetgroup": "",
           "orientation": "v",
           "showlegend": false,
           "type": "histogram",
           "x": [
            "PS",
            "PS",
            "PS",
            "PS",
            "PS",
            "GB",
            "PS",
            "PS",
            "PS",
            "PS",
            "PS",
            "PS",
            "PS",
            "N64",
            "DC",
            "PS",
            "PS",
            "PC",
            "PS",
            "N64",
            "PS",
            "N64",
            "PS",
            "PS",
            "PS",
            "PS",
            "PS",
            "PS",
            "N64",
            "PS",
            "PS",
            "N64",
            "WS",
            "DC",
            "PS",
            "N64",
            "PS",
            "PS",
            "PS",
            "N64",
            "PS",
            "PS",
            "PS",
            "PS",
            "N64",
            "N64",
            "PS",
            "N64",
            "N64",
            "PS",
            "N64",
            "PS",
            "N64",
            "PS",
            "PS",
            "PS",
            "PS",
            "N64",
            "N64",
            "PS",
            "GB",
            "PS",
            "PS",
            "PS",
            "N64",
            "PS",
            "PS",
            "N64",
            "PS",
            "PS",
            "N64",
            "PS",
            "N64",
            "PS",
            "N64",
            "N64",
            "PS",
            "GB",
            "PS",
            "PS",
            "PC",
            "N64",
            "PS",
            "PS",
            "PS",
            "PS",
            "PS",
            "PS",
            "GB",
            "PS",
            "PS",
            "N64",
            "N64",
            "PS",
            "N64",
            "PS",
            "N64",
            "PS",
            "N64",
            "N64",
            "N64",
            "PS",
            "N64",
            "PS",
            "N64",
            "N64",
            "PS",
            "PS",
            "SNES",
            "N64",
            "PS",
            "PS",
            "N64",
            "N64",
            "PS",
            "PS",
            "PS",
            "GB",
            "N64",
            "N64",
            "PS",
            "N64",
            "PS",
            "N64",
            "PS",
            "N64",
            "DC",
            "PS",
            "N64",
            "PS",
            "PS",
            "PS",
            "PS",
            "PS",
            "PS",
            "N64",
            "SAT",
            "N64",
            "PS",
            "PS",
            "GB",
            "PS",
            "N64",
            "PS",
            "DC",
            "PS",
            "PS",
            "PS",
            "PS",
            "PS",
            "PS",
            "N64",
            "N64",
            "N64",
            "N64",
            "WS",
            "PC",
            "N64",
            "N64",
            "PS",
            "PS",
            "PS",
            "PC",
            "PS",
            "PS",
            "N64",
            "N64",
            "PS",
            "PS",
            "PS",
            "PS",
            "PS",
            "PS",
            "PS",
            "N64",
            "PS",
            "PS",
            "N64",
            "DC",
            "GB",
            "PS",
            "N64",
            "N64",
            "PS",
            "PS",
            "N64",
            "PS",
            "N64",
            "N64",
            "PS",
            "PS",
            "PS",
            "PS",
            "DC",
            "PS",
            "PS",
            "PS",
            "GB",
            "PS",
            "N64",
            "PS",
            "PS",
            "PS",
            "PS",
            "N64",
            "PS",
            "N64",
            "N64",
            "PS",
            "PS",
            "PS",
            "N64",
            "PS",
            "PS",
            "PS",
            "PS",
            "PS",
            "PC",
            "DC",
            "PS",
            "N64",
            "N64",
            "PS",
            "PS",
            "PS",
            "N64",
            "PS",
            "PS",
            "PS",
            "PS",
            "PS",
            "PS",
            "N64",
            "PS",
            "PS",
            "PS",
            "PS",
            "PS",
            "PS",
            "PS",
            "PS",
            "PS",
            "N64",
            "GB",
            "N64",
            "PS",
            "PS",
            "PS",
            "PS",
            "PS",
            "PS",
            "PS",
            "N64",
            "N64",
            "N64",
            "PS",
            "N64",
            "N64",
            "PS",
            "PS",
            "PC",
            "N64",
            "PS",
            "N64",
            "PS",
            "PS",
            "PC",
            "N64",
            "PS",
            "N64",
            "N64",
            "N64",
            "PS",
            "N64",
            "N64",
            "PS",
            "N64",
            "PS",
            "PS",
            "N64",
            "PS",
            "DC",
            "PS",
            "DC",
            "DC",
            "PS",
            "N64",
            "GB",
            "N64",
            "PS",
            "PS",
            "PS",
            "PS",
            "PS",
            "PS",
            "DC",
            "PS",
            "PS",
            "N64",
            "N64",
            "PS",
            "PS",
            "N64",
            "PS",
            "GB",
            "PS",
            "PS",
            "PS",
            "N64",
            "N64",
            "N64",
            "N64",
            "PS",
            "DC",
            "PS",
            "N64",
            "PS",
            "N64",
            "N64",
            "N64",
            "N64",
            "PS",
            "PS",
            "PS",
            "PS",
            "PS",
            "PS",
            "N64",
            "PS",
            "PS",
            "N64",
            "PS",
            "PS",
            "DC",
            "DC",
            "PS",
            "PS",
            "N64"
           ],
           "xaxis": "x",
           "yaxis": "y"
          }
         ],
         "name": "1999"
        },
        {
         "data": [
          {
           "alignmentgroup": "True",
           "bingroup": "x",
           "hovertemplate": "Year_of_Release=2000<br>Platform=%{x}<br>count=%{y}<extra></extra>",
           "legendgroup": "",
           "marker": {
            "color": "#636efa",
            "pattern": {
             "shape": ""
            }
           },
           "name": "",
           "offsetgroup": "",
           "orientation": "v",
           "showlegend": false,
           "type": "histogram",
           "x": [
            "GB",
            "PS2",
            "PS",
            "PS",
            "PS",
            "N64",
            "PS2",
            "N64",
            "N64",
            "PS2",
            "PS2",
            "PS",
            "PS",
            "N64",
            "GB",
            "N64",
            "PS",
            "PS",
            "PS2",
            "PS2",
            "PS2",
            "PS2",
            "PS2",
            "N64",
            "GB",
            "N64",
            "PS",
            "PS2",
            "N64",
            "PS2",
            "PS",
            "PS",
            "DC",
            "PS",
            "N64",
            "PS2",
            "PS2",
            "PS",
            "N64",
            "N64",
            "N64",
            "PS",
            "GB",
            "PS",
            "N64",
            "PS",
            "N64",
            "PS",
            "PS",
            "PS2",
            "PS",
            "PS2",
            "PS",
            "PS",
            "DC",
            "PS2",
            "PS",
            "PS",
            "PS",
            "PS2",
            "PS2",
            "PS",
            "PS",
            "PS2",
            "PS",
            "PS",
            "PS",
            "N64",
            "N64",
            "PS2",
            "N64",
            "PS",
            "PS",
            "PS2",
            "N64",
            "PS2",
            "PS2",
            "PS",
            "PS",
            "PS",
            "PS2",
            "N64",
            "PS",
            "PS",
            "PS",
            "DC",
            "PS",
            "PS2",
            "GB",
            "DC",
            "PS",
            "PS",
            "PS2",
            "PS2",
            "PS",
            "N64",
            "PS",
            "N64",
            "PS",
            "PS",
            "PS2",
            "PS",
            "PS2",
            "PS2",
            "PS",
            "PS",
            "PS",
            "PS2",
            "N64",
            "PS2",
            "PS",
            "PS",
            "PS",
            "PS2",
            "PS",
            "PS",
            "PS",
            "GB",
            "PS",
            "PS",
            "PS",
            "PS",
            "PS",
            "N64",
            "N64",
            "PS2",
            "PS",
            "PS2",
            "DC",
            "PS2",
            "PS2",
            "N64",
            "PS",
            "PS",
            "N64",
            "N64",
            "PS2",
            "PS2",
            "PS",
            "DC",
            "PS",
            "PS2",
            "DC",
            "PS",
            "PS",
            "PS",
            "PS2",
            "N64",
            "PS",
            "PS",
            "PS2",
            "N64",
            "N64",
            "N64",
            "N64",
            "PS",
            "PS",
            "PS2",
            "PS",
            "N64",
            "PS",
            "DC",
            "PS",
            "PS",
            "PS",
            "PS",
            "WS",
            "PS",
            "PC",
            "PS2",
            "N64",
            "PS",
            "PS",
            "PS",
            "PS2",
            "N64",
            "PS",
            "PS",
            "PS2",
            "PS",
            "PS2",
            "PS",
            "N64",
            "PS",
            "PS",
            "PS",
            "N64",
            "PS2",
            "PS2",
            "PS",
            "PS",
            "PS",
            "GB",
            "PS",
            "PS",
            "GB",
            "PS",
            "PS2",
            "PS",
            "PS2",
            "N64",
            "PS2",
            "PS",
            "PS2",
            "PS",
            "PS",
            "PS",
            "PS",
            "PS",
            "PS2",
            "PS2",
            "PS",
            "PS2",
            "PS",
            "PS",
            "PS",
            "PS2",
            "PS",
            "PS",
            "PS2",
            "PS",
            "N64",
            "PS",
            "DC",
            "WS",
            "PS",
            "PS",
            "GBA",
            "PS2",
            "PS",
            "PS",
            "DC",
            "GB",
            "PS2",
            "PS",
            "N64",
            "PS2",
            "GB",
            "N64",
            "XB",
            "DC",
            "PS",
            "PS",
            "DC",
            "PS",
            "PS2",
            "PS",
            "N64",
            "PS2",
            "N64",
            "PS",
            "PS",
            "PS2",
            "PS",
            "PS2",
            "DC",
            "PS",
            "PS",
            "GB",
            "PS2",
            "N64",
            "PS2",
            "PC",
            "PS2",
            "N64",
            "PS",
            "PS",
            "PS2",
            "GB",
            "PS",
            "GB",
            "PS",
            "PS2",
            "PS",
            "PS",
            "N64",
            "GB",
            "PS",
            "PS",
            "N64",
            "N64",
            "PS2",
            "N64",
            "N64",
            "PS2",
            "PS2",
            "PS2",
            "PS",
            "PS",
            "N64",
            "N64",
            "PS",
            "PS",
            "N64",
            "PS",
            "PS",
            "PS",
            "PS2",
            "PS",
            "PS",
            "PS2",
            "PS",
            "GB",
            "PS",
            "DC",
            "DC",
            "PC",
            "PS2",
            "DC",
            "PS",
            "DC",
            "N64",
            "DC",
            "PS",
            "PS2",
            "PC",
            "PC",
            "PC",
            "PS",
            "N64",
            "PS2",
            "N64",
            "PS",
            "PS",
            "PS",
            "N64",
            "PS",
            "N64",
            "PS",
            "PS",
            "DC",
            "PS",
            "PS",
            "PC",
            "N64",
            "PS",
            "PS",
            "GB",
            "PS",
            "PS2",
            "PS2",
            "PS",
            "PS",
            "GB",
            "PS",
            "DC",
            "PS",
            "PS2",
            "PS",
            "N64"
           ],
           "xaxis": "x",
           "yaxis": "y"
          }
         ],
         "name": "2000"
        },
        {
         "data": [
          {
           "alignmentgroup": "True",
           "bingroup": "x",
           "hovertemplate": "Year_of_Release=2001<br>Platform=%{x}<br>count=%{y}<extra></extra>",
           "legendgroup": "",
           "marker": {
            "color": "#636efa",
            "pattern": {
             "shape": ""
            }
           },
           "name": "",
           "offsetgroup": "",
           "orientation": "v",
           "showlegend": false,
           "type": "histogram",
           "x": [
            "GB",
            "GBA",
            "PS2",
            "GBA",
            "PS2",
            "GBA",
            "DC",
            "PS2",
            "PS2",
            "GBA",
            "PS",
            "PS2",
            "PS2",
            "GBA",
            "PS2",
            "PS2",
            "PC",
            "GBA",
            "GBA",
            "PS",
            "GBA",
            "XB",
            "GBA",
            "PS2",
            "DC",
            "PS2",
            "PS2",
            "PS2",
            "GB",
            "GBA",
            "PS2",
            "PS",
            "PS2",
            "GBA",
            "GBA",
            "PS",
            "GBA",
            "N64",
            "GBA",
            "GBA",
            "PS2",
            "PS",
            "PS2",
            "GBA",
            "PS2",
            "PS2",
            "GBA",
            "PS2",
            "XB",
            "XB",
            "GBA",
            "GBA",
            "GBA",
            "PS2",
            "XB",
            "GBA",
            "N64",
            "PS2",
            "GBA",
            "PS",
            "PC",
            "GBA",
            "PS",
            "GBA",
            "DC",
            "N64",
            "PS",
            "PS2",
            "GC",
            "GBA",
            "XB",
            "PC",
            "GC",
            "PS2",
            "PS2",
            "PS",
            "PS2",
            "XB",
            "PS2",
            "GBA",
            "GBA",
            "PS2",
            "PS2",
            "PS2",
            "PS2",
            "PS",
            "PS2",
            "PS",
            "PS2",
            "PS2",
            "PS",
            "PS",
            "PS",
            "GBA",
            "PS2",
            "GC",
            "PS2",
            "PS",
            "PS",
            "PS",
            "N64",
            "PS2",
            "PS2",
            "GBA",
            "GC",
            "PS2",
            "GBA",
            "PS2",
            "WS",
            "PS2",
            "PS",
            "GBA",
            "PS2",
            "XB",
            "PS",
            "PS2",
            "XB",
            "GBA",
            "PS",
            "PS2",
            "GBA",
            "PS",
            "PS2",
            "PS2",
            "PS2",
            "GC",
            "PS2",
            "N64",
            "XB",
            "PS",
            "GBA",
            "PS2",
            "PS",
            "GBA",
            "PS",
            "GBA",
            "PS",
            "PS2",
            "GBA",
            "PS2",
            "PS2",
            "PS",
            "PS2",
            "PS",
            "GBA",
            "PS2",
            "PS2",
            "PS2",
            "GBA",
            "PS2",
            "PS",
            "PS2",
            "XB",
            "GBA",
            "GC",
            "PS2",
            "PS2",
            "PC",
            "PS2",
            "PS2",
            "GB",
            "PS2",
            "PS2",
            "PS2",
            "GC",
            "PS",
            "XB",
            "GC",
            "GC",
            "PC",
            "PS2",
            "PS2",
            "PS2",
            "GBA",
            "PS2",
            "PS2",
            "PS",
            "PS2",
            "GBA",
            "PS2",
            "PS",
            "PS",
            "PS2",
            "PS2",
            "XB",
            "PS2",
            "PS2",
            "XB",
            "PS2",
            "PS2",
            "XB",
            "PS2",
            "GBA",
            "GC",
            "GB",
            "GBA",
            "GBA",
            "GBA",
            "PS2",
            "PS2",
            "PS",
            "PS2",
            "GBA",
            "PS2",
            "GBA",
            "PS2",
            "GC",
            "GBA",
            "GBA",
            "PS",
            "PS",
            "XB",
            "PS2",
            "PS2",
            "XB",
            "PS2",
            "PS2",
            "PS2",
            "PS",
            "PC",
            "GBA",
            "PS2",
            "PS2",
            "GC",
            "PS2",
            "XB",
            "PS",
            "PS",
            "PS",
            "GBA",
            "PS",
            "GBA",
            "GBA",
            "PS2",
            "GBA",
            "PS",
            "GBA",
            "GBA",
            "XB",
            "XB",
            "PS2",
            "PS",
            "PS2",
            "GBA",
            "N64",
            "PS2",
            "GBA",
            "PS2",
            "PS2",
            "PS",
            "GBA",
            "GBA",
            "PS",
            "GC",
            "GC",
            "N64",
            "GBA",
            "PS",
            "GBA",
            "GBA",
            "XB",
            "PS",
            "PS",
            "PS2",
            "PS2",
            "GBA",
            "PS",
            "GC",
            "GBA",
            "PS2",
            "PS",
            "XB",
            "PS2",
            "PS",
            "PS2",
            "PS",
            "PS",
            "PS2",
            "PS2",
            "XB",
            "WS",
            "PS2",
            "GBA",
            "DC",
            "PS",
            "GBA",
            "GBA",
            "GBA",
            "PS2",
            "PS",
            "PS2",
            "PS2",
            "PS",
            "PS",
            "PS2",
            "GBA",
            "GBA",
            "GBA",
            "GBA",
            "PS2",
            "PS2",
            "PS",
            "PS2",
            "GBA",
            "GBA",
            "PC",
            "GBA",
            "PS2",
            "PS2",
            "PS",
            "PS2",
            "N64",
            "PS2",
            "PS",
            "PS",
            "PS2",
            "GC",
            "PS2",
            "GBA",
            "PS",
            "PS",
            "GBA",
            "GC",
            "PS2",
            "PS",
            "GBA",
            "PS2",
            "PS2",
            "PS2",
            "GBA",
            "XB",
            "PS",
            "PS2",
            "GB",
            "PS2",
            "PC",
            "PS2",
            "GBA",
            "PS2",
            "PS2",
            "PS2",
            "PS",
            "PS2",
            "PS2",
            "GBA",
            "DC",
            "PS2",
            "PS2",
            "DC",
            "PS",
            "PS2",
            "PS2",
            "GBA",
            "GBA",
            "GBA",
            "GBA",
            "GBA",
            "GC",
            "XB",
            "PS2",
            "PS2",
            "PS2",
            "XB",
            "GBA",
            "PS2",
            "GBA",
            "PS",
            "PS2",
            "XB",
            "GBA",
            "GBA",
            "PS",
            "GC",
            "GC",
            "GBA",
            "PS2",
            "PS2",
            "DC",
            "DC",
            "PS2",
            "PS2",
            "PS",
            "PS2",
            "XB",
            "XB",
            "PS2",
            "GBA",
            "PS2",
            "GB",
            "PS2",
            "GBA",
            "PS2",
            "PS",
            "GC",
            "PS",
            "GBA",
            "PS",
            "PS2",
            "PS",
            "GB",
            "GBA",
            "PS2",
            "GBA",
            "PS2",
            "PS2",
            "GB",
            "GC",
            "GB",
            "PS2",
            "PC",
            "PS",
            "PC",
            "GBA",
            "PC",
            "PS2",
            "PS",
            "GB",
            "GBA",
            "PS2",
            "PC",
            "PS2",
            "PS",
            "PS2",
            "PS2",
            "PS",
            "PC",
            "PS2",
            "PS",
            "XB",
            "PS2",
            "PS2",
            "PS2",
            "PS",
            "XB",
            "PS2",
            "PS2",
            "PS",
            "PS",
            "PS2",
            "PS2",
            "PS",
            "PS",
            "PS2",
            "N64",
            "GBA",
            "PS2",
            "PS2",
            "PS",
            "PS",
            "PS2",
            "GBA",
            "XB",
            "PS2",
            "PS",
            "GBA",
            "PS2",
            "PC",
            "PS",
            "PS2",
            "PS2",
            "PS2",
            "PS2",
            "PS2",
            "PS2",
            "PS2",
            "PS2",
            "GBA",
            "PS",
            "GBA",
            "PS",
            "PS2",
            "PS",
            "XB",
            "PS2",
            "PS2",
            "PS2",
            "PS2",
            "GBA",
            "XB",
            "PS",
            "GBA",
            "PC"
           ],
           "xaxis": "x",
           "yaxis": "y"
          }
         ],
         "name": "2001"
        },
        {
         "data": [
          {
           "alignmentgroup": "True",
           "bingroup": "x",
           "hovertemplate": "Year_of_Release=2002<br>Platform=%{x}<br>count=%{y}<extra></extra>",
           "legendgroup": "",
           "marker": {
            "color": "#636efa",
            "pattern": {
             "shape": ""
            }
           },
           "name": "",
           "offsetgroup": "",
           "orientation": "v",
           "showlegend": false,
           "type": "histogram",
           "x": [
            "GC",
            "PS2",
            "PS2",
            "GC",
            "GC",
            "XB",
            "GC",
            "XB",
            "GBA",
            "PS2",
            "XB",
            "XB",
            "PS2",
            "PS2",
            "XB",
            "PC",
            "PS2",
            "XB",
            "XB",
            "GBA",
            "GBA",
            "XB",
            "PS2",
            "PS2",
            "PS2",
            "GBA",
            "GBA",
            "PS2",
            "PC",
            "GC",
            "XB",
            "PS2",
            "PS2",
            "GC",
            "GC",
            "GBA",
            "PS2",
            "XB",
            "PS2",
            "PS2",
            "PS2",
            "GBA",
            "GC",
            "GBA",
            "GBA",
            "GBA",
            "XB",
            "XB",
            "PS2",
            "PS2",
            "PS2",
            "PS2",
            "GC",
            "XB",
            "PS2",
            "GC",
            "GBA",
            "GBA",
            "GC",
            "PC",
            "XB",
            "PS2",
            "XB",
            "GBA",
            "GBA",
            "PS2",
            "PS2",
            "PS2",
            "GBA",
            "XB",
            "PS2",
            "PS2",
            "XB",
            "PC",
            "PS2",
            "PS2",
            "PS2",
            "PS2",
            "GBA",
            "PS2",
            "GBA",
            "XB",
            "PS2",
            "XB",
            "XB",
            "GC",
            "PS2",
            "PS2",
            "GC",
            "GC",
            "GC",
            "PS2",
            "GC",
            "GBA",
            "XB",
            "PS2",
            "XB",
            "GBA",
            "PS2",
            "XB",
            "PS2",
            "GC",
            "GBA",
            "GC",
            "GBA",
            "XB",
            "XB",
            "XB",
            "XB",
            "PS2",
            "PS",
            "XB",
            "PS2",
            "PS2",
            "PS2",
            "GC",
            "GBA",
            "XB",
            "GBA",
            "PS2",
            "GBA",
            "PS2",
            "GC",
            "GC",
            "PS2",
            "GC",
            "PS",
            "PS2",
            "XB",
            "XB",
            "PS2",
            "PC",
            "XB",
            "PS2",
            "PS2",
            "GC",
            "GC",
            "PS2",
            "PC",
            "XB",
            "XB",
            "PS2",
            "PS2",
            "PS2",
            "GBA",
            "XB",
            "PC",
            "GC",
            "XB",
            "PS2",
            "PS2",
            "GC",
            "PS",
            "XB",
            "GC",
            "GBA",
            "GC",
            "PS2",
            "GBA",
            "PS2",
            "PS2",
            "PS2",
            "PS2",
            "GC",
            "GBA",
            "XB",
            "GC",
            "GBA",
            "PS2",
            "PS2",
            "GBA",
            "XB",
            "GC",
            "PS2",
            "PS2",
            "GBA",
            "XB",
            "PS2",
            "PS2",
            "XB",
            "PS2",
            "GBA",
            "PC",
            "PC",
            "GBA",
            "GBA",
            "GBA",
            "GC",
            "XB",
            "PS2",
            "GBA",
            "XB",
            "XB",
            "PS2",
            "GC",
            "PS2",
            "PS2",
            "PS2",
            "GC",
            "PS2",
            "GBA",
            "XB",
            "PS2",
            "GBA",
            "XB",
            "XB",
            "XB",
            "PS2",
            "PS2",
            "XB",
            "GBA",
            "GBA",
            "DC",
            "GC",
            "PS2",
            "PS2",
            "GBA",
            "PS2",
            "PS2",
            "XB",
            "GBA",
            "PS2",
            "XB",
            "GC",
            "PS2",
            "PS2",
            "GBA",
            "PS2",
            "GBA",
            "GC",
            "GC",
            "XB",
            "PS2",
            "GBA",
            "GBA",
            "PS2",
            "GC",
            "GC",
            "GBA",
            "PS2",
            "GBA",
            "XB",
            "PS2",
            "PS2",
            "GBA",
            "GC",
            "GBA",
            "PC",
            "GBA",
            "PS2",
            "PS",
            "PC",
            "GBA",
            "GBA",
            "PS",
            "XB",
            "XB",
            "GC",
            "XB",
            "PS2",
            "XB",
            "GBA",
            "GBA",
            "GBA",
            "PS2",
            "GBA",
            "PS2",
            "PS2",
            "GBA",
            "GBA",
            "GBA",
            "PS2",
            "GBA",
            "GBA",
            "XB",
            "PS2",
            "GC",
            "PS2",
            "PS2",
            "PS2",
            "XB",
            "PS2",
            "GBA",
            "PS2",
            "XB",
            "XB",
            "XB",
            "GBA",
            "GC",
            "PS2",
            "XB",
            "PS2",
            "GC",
            "GBA",
            "PS2",
            "PS",
            "PS2",
            "GBA",
            "XB",
            "PS2",
            "XB",
            "PC",
            "XB",
            "GBA",
            "PS2",
            "XB",
            "PS2",
            "GC",
            "GC",
            "GBA",
            "XB",
            "PS2",
            "PS2",
            "XB",
            "GBA",
            "XB",
            "XB",
            "XB",
            "GC",
            "PS2",
            "PS2",
            "XB",
            "GBA",
            "GC",
            "GBA",
            "GC",
            "GBA",
            "PS2",
            "PS2",
            "GC",
            "GC",
            "PS2",
            "GBA",
            "GC",
            "PS2",
            "GBA",
            "PS2",
            "GBA",
            "GC",
            "PS2",
            "XB",
            "GBA",
            "GC",
            "GC",
            "GBA",
            "GC",
            "PS2",
            "PS2",
            "GBA",
            "GBA",
            "GC",
            "GC",
            "GC",
            "GBA",
            "PS2",
            "XB",
            "XB",
            "PS2",
            "GBA",
            "PS2",
            "XB",
            "GBA",
            "PS2",
            "XB",
            "GBA",
            "PS2",
            "XB",
            "GC",
            "GBA",
            "GBA",
            "GC",
            "PS2",
            "PS2",
            "GC",
            "PS2",
            "PS2",
            "PS2",
            "XB",
            "PS",
            "XB",
            "XB",
            "XB",
            "GC",
            "GBA",
            "PS2",
            "PS2",
            "PS2",
            "GC",
            "PS2",
            "GC",
            "PS2",
            "GBA",
            "XB",
            "PS2",
            "GBA",
            "XB",
            "GC",
            "XB",
            "XB",
            "PS",
            "PS",
            "GBA",
            "PS2",
            "GC",
            "PS2",
            "PS2",
            "PS2",
            "XB",
            "GC",
            "PS2",
            "GC",
            "GC",
            "GBA",
            "GBA",
            "GC",
            "XB",
            "GC",
            "GC",
            "PS2",
            "XB",
            "PS2",
            "PS2",
            "GBA",
            "GBA",
            "PS2",
            "XB",
            "GC",
            "PC",
            "PS2",
            "GC",
            "GBA",
            "GC",
            "GBA",
            "GC",
            "PS2",
            "XB",
            "XB",
            "PS",
            "GBA",
            "GC",
            "GBA",
            "XB",
            "GBA",
            "GBA",
            "PS2",
            "GBA",
            "GBA",
            "PS2",
            "PS2",
            "PS2",
            "GC",
            "GBA",
            "GBA",
            "PS2",
            "PC",
            "PS2",
            "XB",
            "PS2",
            "GBA",
            "XB",
            "XB",
            "PS2",
            "XB",
            "PS2",
            "GC",
            "GBA",
            "PS",
            "XB",
            "XB",
            "PS2",
            "PS2",
            "GBA",
            "GBA",
            "PS2",
            "GBA",
            "PS2",
            "XB",
            "GC",
            "GC",
            "PS2",
            "GC",
            "GC",
            "PS2",
            "PS2",
            "GBA",
            "GC",
            "PS2",
            "XB",
            "GC",
            "PS2",
            "PS2",
            "PS2",
            "GBA",
            "GBA",
            "XB",
            "PS2",
            "GBA",
            "PS2",
            "GC",
            "XB",
            "PS",
            "XB",
            "PS2",
            "GC",
            "GC",
            "PS2",
            "PS2",
            "GBA",
            "PS",
            "GBA",
            "GBA",
            "GBA",
            "PS2",
            "GBA",
            "GBA",
            "XB",
            "GBA",
            "PS2",
            "PS2",
            "PS2",
            "PS",
            "PS2",
            "PS2",
            "GC",
            "PS2",
            "XB",
            "PS2",
            "XB",
            "GC",
            "GC",
            "GC",
            "GBA",
            "PS2",
            "GC",
            "GC",
            "GBA",
            "PS",
            "PS2",
            "GBA",
            "PS2",
            "GC",
            "GBA",
            "GC",
            "PS2",
            "XB",
            "GBA",
            "GC",
            "GC",
            "PS2",
            "PS2",
            "PS2",
            "GC",
            "GBA",
            "GC",
            "PS2",
            "GC",
            "PS2",
            "PS2",
            "GC",
            "PS2",
            "GBA",
            "PS2",
            "PS2",
            "GC",
            "GBA",
            "GC",
            "PS2",
            "XB",
            "GBA",
            "PS2",
            "XB",
            "PS2",
            "PS2",
            "GC",
            "GC",
            "PC",
            "XB",
            "GBA",
            "XB",
            "GC",
            "GC",
            "PS2",
            "PS2",
            "GC",
            "XB",
            "GBA",
            "XB",
            "PS2",
            "PS2",
            "PS2",
            "GBA",
            "GC",
            "GC",
            "XB",
            "PS2",
            "PS2",
            "PS2",
            "GC",
            "GBA",
            "XB",
            "GBA",
            "PS2",
            "GC",
            "GBA",
            "PS2",
            "XB",
            "XB",
            "PS2",
            "PS2",
            "XB",
            "GBA",
            "GBA",
            "XB",
            "XB",
            "GC",
            "GC",
            "PS2",
            "PS2",
            "PS2",
            "GBA",
            "PS2",
            "XB",
            "PS2",
            "XB",
            "PS2",
            "PS2",
            "XB",
            "GC",
            "PS2",
            "PS",
            "XB",
            "PS2",
            "PS2",
            "PS2",
            "PS2",
            "XB",
            "PS2",
            "XB",
            "GC",
            "PS2",
            "XB",
            "XB",
            "GBA",
            "GBA",
            "GC",
            "GBA",
            "XB",
            "GBA",
            "GC",
            "GBA",
            "GC",
            "PS2",
            "PS2",
            "GBA",
            "GC",
            "XB",
            "PS2",
            "PS2",
            "GBA",
            "PS2",
            "XB",
            "PC",
            "GBA",
            "XB",
            "GC",
            "PS2",
            "GBA",
            "GC",
            "GBA",
            "XB",
            "XB",
            "GC",
            "PS2",
            "GBA",
            "PS2",
            "XB",
            "PS2",
            "PC",
            "PS2",
            "GBA",
            "PS2",
            "GBA",
            "GC",
            "GC",
            "XB",
            "PS2",
            "PS2",
            "GBA",
            "PS2",
            "GBA",
            "GBA",
            "PS2",
            "GBA",
            "GBA",
            "GC",
            "PS2",
            "GBA",
            "GBA",
            "GBA",
            "GC",
            "GC",
            "PS2",
            "GBA",
            "XB",
            "GBA",
            "PS2",
            "GBA",
            "GC",
            "GBA",
            "GBA",
            "GC",
            "PS2",
            "PS2",
            "PS",
            "GBA",
            "GBA",
            "PS2",
            "GBA",
            "GC",
            "GBA",
            "PS2",
            "PS2",
            "XB",
            "PC",
            "GBA",
            "PS2",
            "PS2",
            "GC",
            "XB",
            "PS2",
            "GC",
            "GC",
            "XB",
            "PS2",
            "XB",
            "GBA",
            "XB",
            "PS2",
            "GC",
            "GC",
            "GBA",
            "GBA",
            "PS2",
            "GBA",
            "XB",
            "GC",
            "GC",
            "GBA",
            "GBA",
            "PS2",
            "PS2",
            "PS2",
            "XB",
            "XB",
            "XB",
            "GBA",
            "GBA",
            "GC",
            "GC",
            "XB",
            "GBA",
            "GBA",
            "GBA",
            "PS",
            "GC",
            "PS2",
            "XB",
            "GC",
            "PS2",
            "GC",
            "GC",
            "GBA",
            "GBA",
            "PS2",
            "PS2",
            "XB",
            "GBA",
            "PS2",
            "PS",
            "GBA",
            "GBA",
            "GBA",
            "GC",
            "PS2",
            "PS2",
            "PC",
            "PS2",
            "PS2",
            "GBA",
            "GC",
            "PS2",
            "PS2",
            "GBA",
            "PS2",
            "GBA",
            "PS2",
            "GBA",
            "PS2",
            "XB",
            "GC",
            "XB",
            "PS2",
            "GBA",
            "PS2",
            "N64",
            "GBA",
            "PS2",
            "GBA",
            "GC",
            "PS2",
            "PS2",
            "GBA",
            "GBA",
            "PS2",
            "PS2",
            "XB",
            "GBA",
            "GBA",
            "GBA",
            "XB",
            "XB",
            "GBA",
            "GC",
            "PS",
            "PS2",
            "XB",
            "PS2",
            "PS2",
            "XB"
           ],
           "xaxis": "x",
           "yaxis": "y"
          }
         ],
         "name": "2002"
        },
        {
         "data": [
          {
           "alignmentgroup": "True",
           "bingroup": "x",
           "hovertemplate": "Year_of_Release=2003<br>Platform=%{x}<br>count=%{y}<extra></extra>",
           "legendgroup": "",
           "marker": {
            "color": "#636efa",
            "pattern": {
             "shape": ""
            }
           },
           "name": "",
           "offsetgroup": "",
           "orientation": "v",
           "showlegend": false,
           "type": "histogram",
           "x": [
            "GBA",
            "PS2",
            "XB",
            "PS2",
            "GC",
            "XB",
            "GBA",
            "PS2",
            "PS2",
            "GC",
            "XB",
            "GBA",
            "PS2",
            "PS2",
            "PS2",
            "GC",
            "PS2",
            "GC",
            "PS2",
            "XB",
            "XB",
            "PS2",
            "GC",
            "GBA",
            "XB",
            "PS2",
            "XB",
            "GC",
            "PS2",
            "XB",
            "GC",
            "GBA",
            "PC",
            "GBA",
            "GC",
            "GC",
            "PS2",
            "GC",
            "GC",
            "XB",
            "PS2",
            "GBA",
            "GBA",
            "PS2",
            "PS2",
            "XB",
            "GC",
            "GC",
            "GC",
            "PS2",
            "GBA",
            "PS2",
            "GC",
            "PS2",
            "GC",
            "XB",
            "XB",
            "PS2",
            "PS2",
            "PS2",
            "XB",
            "GC",
            "GBA",
            "GC",
            "GBA",
            "PS2",
            "XB",
            "PS2",
            "XB",
            "GBA",
            "XB",
            "XB",
            "PS2",
            "GC",
            "XB",
            "GC",
            "GC",
            "GBA",
            "XB",
            "GC",
            "PS2",
            "GC",
            "GC",
            "XB",
            "PS2",
            "GBA",
            "XB",
            "XB",
            "PS2",
            "GC",
            "PC",
            "XB",
            "GC",
            "XB",
            "XB",
            "PS2",
            "GBA",
            "GBA",
            "XB",
            "XB",
            "XB",
            "GC",
            "GBA",
            "XB",
            "GC",
            "PS2",
            "GC",
            "GC",
            "PS2",
            "XB",
            "XB",
            "GBA",
            "PC",
            "PS2",
            "GC",
            "PC",
            "XB",
            "PS2",
            "GBA",
            "PS2",
            "GC",
            "GBA",
            "PS2",
            "PS2",
            "GBA",
            "GC",
            "XB",
            "GC",
            "PC",
            "PS2",
            "PC",
            "GC",
            "PS2",
            "PS2",
            "PS2",
            "GC",
            "GBA",
            "XB",
            "XB",
            "PC",
            "GBA",
            "GC",
            "GC",
            "PS2",
            "PS2",
            "GC",
            "XB",
            "PC",
            "PS2",
            "XB",
            "XB",
            "PC",
            "PS2",
            "GBA",
            "PS2",
            "XB",
            "PS2",
            "PS2",
            "XB",
            "PC",
            "XB",
            "GC",
            "PC",
            "XB",
            "PS2",
            "PS2",
            "PS2",
            "PS2",
            "XB",
            "XB",
            "GC",
            "XB",
            "PS2",
            "XB",
            "XB",
            "GC",
            "GC",
            "GC",
            "XB",
            "GC",
            "PS2",
            "PS2",
            "GC",
            "PS2",
            "PS2",
            "GC",
            "PC",
            "GBA",
            "PS2",
            "XB",
            "PS2",
            "PS2",
            "PS",
            "PS2",
            "PS2",
            "XB",
            "PS2",
            "XB",
            "GC",
            "XB",
            "GBA",
            "XB",
            "GBA",
            "PS2",
            "PC",
            "XB",
            "PS2",
            "GBA",
            "XB",
            "PS2",
            "GBA",
            "PS2",
            "GC",
            "GBA",
            "PS2",
            "PS",
            "GBA",
            "GC",
            "GBA",
            "PC",
            "GC",
            "XB",
            "GC",
            "GBA",
            "XB",
            "GC",
            "XB",
            "GBA",
            "PS2",
            "XB",
            "PS2",
            "PS2",
            "PS2",
            "PS2",
            "PS2",
            "XB",
            "GC",
            "GBA",
            "XB",
            "XB",
            "GBA",
            "PS2",
            "PS2",
            "PS2",
            "PS2",
            "GBA",
            "PS2",
            "GBA",
            "GC",
            "XB",
            "XB",
            "GC",
            "PS2",
            "GBA",
            "PS2",
            "PS2",
            "PS2",
            "GBA",
            "XB",
            "XB",
            "PS2",
            "XB",
            "GBA",
            "PS2",
            "PS2",
            "PS2",
            "GC",
            "GC",
            "PS2",
            "PC",
            "PS2",
            "GC",
            "GBA",
            "GBA",
            "PS2",
            "PS2",
            "PS2",
            "GBA",
            "GBA",
            "PS2",
            "PS2",
            "XB",
            "GBA",
            "PS2",
            "GC",
            "GC",
            "GC",
            "GBA",
            "XB",
            "GC",
            "GBA",
            "XB",
            "GBA",
            "PS2",
            "PS2",
            "XB",
            "PS2",
            "PS2",
            "GBA",
            "PS2",
            "GC",
            "PS2",
            "XB",
            "GC",
            "XB",
            "PS2",
            "GC",
            "PS2",
            "PS2",
            "PS2",
            "PS2",
            "XB",
            "GC",
            "PS2",
            "GBA",
            "PS2",
            "PS2",
            "PC",
            "GBA",
            "GC",
            "PS2",
            "XB",
            "XB",
            "PS2",
            "GBA",
            "PS2",
            "GBA",
            "GBA",
            "XB",
            "GBA",
            "GBA",
            "GC",
            "GBA",
            "PS2",
            "XB",
            "PS2",
            "PS2",
            "XB",
            "PS2",
            "PS2",
            "PS2",
            "GBA",
            "XB",
            "XB",
            "PS2",
            "GC",
            "GC",
            "GC",
            "GBA",
            "GBA",
            "PC",
            "PS2",
            "PC",
            "PS2",
            "XB",
            "PC",
            "PS2",
            "GC",
            "GBA",
            "GBA",
            "PS2",
            "PC",
            "PS2",
            "XB",
            "GBA",
            "GBA",
            "XB",
            "XB",
            "XB",
            "GC",
            "GBA",
            "GC",
            "GBA",
            "PS2",
            "XB",
            "PS2",
            "GBA",
            "PS2",
            "XB",
            "XB",
            "GBA",
            "PS2",
            "PS2",
            "XB",
            "GC",
            "GC",
            "PS2",
            "PS2",
            "GC",
            "GBA",
            "XB",
            "GBA",
            "PS2",
            "XB",
            "GC",
            "XB",
            "XB",
            "PS2",
            "GBA",
            "GBA",
            "XB",
            "GC",
            "GBA",
            "PS2",
            "PS2",
            "GBA",
            "GBA",
            "XB",
            "PS2",
            "XB",
            "PS2",
            "GBA",
            "GC",
            "PS2",
            "GBA",
            "GBA",
            "PS2",
            "XB",
            "XB",
            "XB",
            "PS2",
            "PC",
            "GBA",
            "GC",
            "PS2",
            "PS2",
            "GC",
            "PS2",
            "PC",
            "GBA",
            "PC",
            "XB",
            "XB",
            "GC",
            "PS2",
            "XB",
            "PS2",
            "PS2",
            "GBA",
            "GC",
            "PS2",
            "XB",
            "GBA",
            "PS2",
            "XB",
            "PS2",
            "XB",
            "PS2",
            "GBA",
            "PS2",
            "XB",
            "PS2",
            "XB",
            "XB",
            "GC",
            "PS2",
            "GBA",
            "XB",
            "GC",
            "XB",
            "XB",
            "XB",
            "GC",
            "GBA",
            "PS2",
            "PS2",
            "PS2",
            "GBA",
            "GBA",
            "PS2",
            "GC",
            "GC",
            "GBA",
            "XB",
            "GBA",
            "XB",
            "XB",
            "PS2",
            "PS2",
            "PS2",
            "XB",
            "GC",
            "GBA",
            "GBA",
            "XB",
            "PS2",
            "PS2",
            "GC",
            "GBA",
            "XB",
            "XB",
            "PS2",
            "PS2",
            "GBA",
            "PS2",
            "PS2",
            "PS2",
            "PS2",
            "PS2",
            "GC",
            "XB",
            "PS2",
            "PC",
            "GC",
            "GC",
            "GC",
            "PS2",
            "XB",
            "PS2",
            "GBA",
            "PS2",
            "GC",
            "PS2",
            "XB",
            "GC",
            "GC",
            "GC",
            "XB",
            "PS2",
            "PS2",
            "PS2",
            "GC",
            "GBA",
            "PS2",
            "PC",
            "PS2",
            "PC",
            "GC",
            "GBA",
            "PS2",
            "GBA",
            "XB",
            "PS2",
            "PC",
            "XB",
            "GC",
            "PC",
            "XB",
            "GBA",
            "XB",
            "GC",
            "XB",
            "GBA",
            "PS2",
            "PS2",
            "XB",
            "GC",
            "PS",
            "XB",
            "PS2",
            "GBA",
            "PS2",
            "PS2",
            "XB",
            "GC",
            "XB",
            "PS2",
            "XB",
            "XB",
            "GC",
            "GBA",
            "GBA",
            "GBA",
            "GC",
            "GBA",
            "PS2",
            "XB",
            "GC",
            "GBA",
            "XB",
            "XB",
            "GC",
            "GBA",
            "GC",
            "PS2",
            "XB",
            "XB",
            "GBA",
            "PS2",
            "XB",
            "PS2",
            "GC",
            "PS2",
            "PS2",
            "GBA",
            "XB",
            "PS2",
            "PS2",
            "XB",
            "PS2",
            "XB",
            "GBA",
            "GBA",
            "GC",
            "PS2",
            "GBA",
            "PS2",
            "XB",
            "XB",
            "PS2",
            "PS2",
            "PS2",
            "GBA",
            "XB",
            "PS2",
            "GBA",
            "GBA",
            "GBA",
            "XB",
            "XB",
            "PS2",
            "GC",
            "XB",
            "XB",
            "PS2",
            "PS2",
            "XB",
            "GC",
            "PS2",
            "GC",
            "PS2",
            "PS2",
            "XB",
            "GBA",
            "XB",
            "GBA",
            "PS2",
            "PS2",
            "PS2",
            "GBA",
            "XB",
            "PS2",
            "XB",
            "PC",
            "GBA",
            "PS2",
            "XB",
            "XB",
            "PS2",
            "PS2",
            "PS2",
            "PS2",
            "GC",
            "GBA",
            "XB",
            "XB",
            "GC",
            "XB",
            "GC",
            "XB",
            "GBA",
            "XB",
            "GC",
            "GC",
            "GBA",
            "XB",
            "GC",
            "XB",
            "PS2",
            "PS2",
            "PS2",
            "GBA",
            "GBA",
            "PS2",
            "PS2",
            "PS2",
            "XB",
            "GBA",
            "GC",
            "XB",
            "GBA",
            "GC",
            "PS2",
            "GC",
            "PS2",
            "XB",
            "GBA",
            "XB",
            "GBA",
            "PS2",
            "GC",
            "GBA",
            "XB",
            "XB",
            "GBA",
            "GBA",
            "GC",
            "XB",
            "GBA",
            "GBA",
            "PS2",
            "GC",
            "XB",
            "PS2",
            "XB",
            "XB",
            "GBA",
            "XB",
            "PS2",
            "GC",
            "GC",
            "PS2",
            "PS2",
            "XB",
            "GBA",
            "PS2",
            "GBA",
            "GBA",
            "PS2",
            "GBA",
            "XB",
            "GC",
            "PC",
            "XB",
            "GBA",
            "GC",
            "PS2",
            "GBA",
            "PS2",
            "GBA",
            "GC",
            "XB",
            "XB",
            "GBA",
            "PS2",
            "PS2",
            "GBA",
            "PC",
            "PS2",
            "GC",
            "GBA",
            "PS2",
            "GC",
            "PS2",
            "GBA",
            "GC",
            "XB",
            "PS2",
            "XB",
            "GC",
            "GC",
            "GC",
            "XB",
            "GC",
            "PS2",
            "PS2",
            "GBA",
            "XB",
            "PS2",
            "GBA",
            "GBA",
            "XB",
            "PS2",
            "PC",
            "XB",
            "GC",
            "PS2",
            "PS2",
            "PS2",
            "PS2",
            "GC",
            "GC",
            "PS2",
            "GBA",
            "PS2",
            "XB",
            "XB",
            "PS2",
            "PS2",
            "PS2",
            "PC",
            "PS2",
            "PS2",
            "PS2",
            "GC"
           ],
           "xaxis": "x",
           "yaxis": "y"
          }
         ],
         "name": "2003"
        },
        {
         "data": [
          {
           "alignmentgroup": "True",
           "bingroup": "x",
           "hovertemplate": "Year_of_Release=2004<br>Platform=%{x}<br>count=%{y}<extra></extra>",
           "legendgroup": "",
           "marker": {
            "color": "#636efa",
            "pattern": {
             "shape": ""
            }
           },
           "name": "",
           "offsetgroup": "",
           "orientation": "v",
           "showlegend": false,
           "type": "histogram",
           "x": [
            "GC",
            "GBA",
            "GBA",
            "XB",
            "GBA",
            "PC",
            "GBA",
            "PC",
            "GBA",
            "XB",
            "GBA",
            "PS2",
            "PS2",
            "PS2",
            "PS2",
            "GC",
            "PC",
            "XB",
            "GBA",
            "XB",
            "DS",
            "PS2",
            "PS2",
            "GBA",
            "XB",
            "PS2",
            "PS2",
            "XB",
            "XB",
            "GC",
            "GC",
            "XB",
            "PS2",
            "GBA",
            "PS2",
            "PS2",
            "XB",
            "PS2",
            "PS2",
            "XB",
            "PS2",
            "GC",
            "PC",
            "XB",
            "XB",
            "GC",
            "XB",
            "GC",
            "GC",
            "PS2",
            "GBA",
            "PS2",
            "XB",
            "PS2",
            "GC",
            "PS2",
            "GC",
            "PSP",
            "GC",
            "PS2",
            "XB",
            "XB",
            "XB",
            "PS2",
            "PS2",
            "PS2",
            "PS2",
            "GBA",
            "GC",
            "XB",
            "XB",
            "GC",
            "GBA",
            "GC",
            "GBA",
            "XB",
            "GBA",
            "GBA",
            "PC",
            "XB",
            "GBA",
            "PS2",
            "PS2",
            "PS2",
            "XB",
            "GBA",
            "PS2",
            "XB",
            "XB",
            "GBA",
            "PS2",
            "GC",
            "PS2",
            "PC",
            "PS2",
            "PS2",
            "GBA",
            "XB",
            "GBA",
            "GBA",
            "PS2",
            "PS2",
            "GBA",
            "PC",
            "GC",
            "GBA",
            "DS",
            "DS",
            "XB",
            "PS2",
            "PS2",
            "XB",
            "DS",
            "GC",
            "PSP",
            "PS2",
            "PS2",
            "GBA",
            "GBA",
            "GBA",
            "PS2",
            "XB",
            "XB",
            "GBA",
            "GBA",
            "PC",
            "GC",
            "PS2",
            "PC",
            "XB",
            "GBA",
            "XB",
            "GBA",
            "DS",
            "PS2",
            "GBA",
            "PSP",
            "PS2",
            "PS2",
            "XB",
            "PS2",
            "PS2",
            "PS2",
            "GBA",
            "PS2",
            "PS2",
            "PS2",
            "GC",
            "XB",
            "GBA",
            "DS",
            "GBA",
            "PS2",
            "GBA",
            "XB",
            "PSP",
            "GC",
            "GBA",
            "PS2",
            "XB",
            "XB",
            "PS2",
            "GC",
            "XB",
            "GC",
            "PS2",
            "PS2",
            "GC",
            "XB",
            "PS2",
            "PSP",
            "XB",
            "PS2",
            "GC",
            "XB",
            "GC",
            "PS2",
            "PS2",
            "XB",
            "XB",
            "PS2",
            "GBA",
            "GBA",
            "PS2",
            "GBA",
            "GBA",
            "PS2",
            "DS",
            "GC",
            "PS2",
            "GC",
            "XB",
            "XB",
            "GC",
            "PS2",
            "PS2",
            "PS2",
            "PS2",
            "PC",
            "PS2",
            "GBA",
            "GBA",
            "DS",
            "PS2",
            "PS2",
            "PS2",
            "PS2",
            "GC",
            "XB",
            "XB",
            "XB",
            "PS2",
            "PS2",
            "GC",
            "GBA",
            "GBA",
            "GBA",
            "PSP",
            "PS2",
            "PS2",
            "PS2",
            "GC",
            "DS",
            "GC",
            "PS2",
            "XB",
            "XB",
            "XB",
            "XB",
            "PS2",
            "PS2",
            "XB",
            "XB",
            "GC",
            "GBA",
            "XB",
            "XB",
            "GBA",
            "XB",
            "GC",
            "GC",
            "GC",
            "GBA",
            "GC",
            "GBA",
            "GBA",
            "PS2",
            "GBA",
            "XB",
            "GBA",
            "GC",
            "PS2",
            "PS2",
            "GBA",
            "PS2",
            "XB",
            "GBA",
            "XB",
            "DS",
            "XB",
            "GBA",
            "PS2",
            "XB",
            "XB",
            "PS2",
            "GBA",
            "PS2",
            "PS2",
            "XB",
            "PSP",
            "GC",
            "XB",
            "GBA",
            "XB",
            "PS2",
            "GBA",
            "PS2",
            "PSP",
            "GBA",
            "PC",
            "PS2",
            "GBA",
            "PS2",
            "XB",
            "GC",
            "XB",
            "GC",
            "PS2",
            "PS2",
            "PS2",
            "PS2",
            "PS2",
            "XB",
            "XB",
            "PS2",
            "PS2",
            "GC",
            "PS2",
            "GBA",
            "GBA",
            "PS2",
            "GBA",
            "XB",
            "PS2",
            "PS2",
            "GBA",
            "XB",
            "XB",
            "XB",
            "PS2",
            "PS2",
            "DS",
            "PS2",
            "XB",
            "PS2",
            "PS2",
            "PS2",
            "XB",
            "PC",
            "XB",
            "PS2",
            "GBA",
            "GBA",
            "GC",
            "PS2",
            "PS2",
            "XB",
            "PS2",
            "PS2",
            "PS2",
            "PS2",
            "GBA",
            "XB",
            "XB",
            "XB",
            "PS2",
            "DS",
            "GBA",
            "XB",
            "PSP",
            "XB",
            "XB",
            "XB",
            "XB",
            "GBA",
            "PS2",
            "XB",
            "PS2",
            "PS2",
            "PS2",
            "PC",
            "XB",
            "PS2",
            "XB",
            "DS",
            "GBA",
            "PS2",
            "GBA",
            "PS2",
            "PS2",
            "PS2",
            "GBA",
            "XB",
            "PS2",
            "XB",
            "PC",
            "GC",
            "XB",
            "XB",
            "PS2",
            "XB",
            "GC",
            "XB",
            "PC",
            "PS2",
            "GBA",
            "PS2",
            "XB",
            "XB",
            "XB",
            "PS2",
            "GC",
            "PS2",
            "GBA",
            "PS2",
            "GBA",
            "GBA",
            "GC",
            "PS2",
            "GBA",
            "DS",
            "XB",
            "XB",
            "XB",
            "PS2",
            "PS2",
            "PS2",
            "DS",
            "GBA",
            "PS2",
            "PS2",
            "GBA",
            "PS2",
            "GBA",
            "XB",
            "GBA",
            "XB",
            "PS2",
            "PS2",
            "DS",
            "GBA",
            "PS2",
            "GBA",
            "PC",
            "XB",
            "PS2",
            "XB",
            "GBA",
            "PS2",
            "XB",
            "PS2",
            "GBA",
            "PSP",
            "GBA",
            "XB",
            "XB",
            "PS2",
            "PS2",
            "GBA",
            "XB",
            "GC",
            "GBA",
            "PS2",
            "GBA",
            "GBA",
            "PS2",
            "GC",
            "PS2",
            "GBA",
            "XB",
            "PS2",
            "PS2",
            "GC",
            "GBA",
            "PS2",
            "GBA",
            "PS2",
            "DS",
            "GBA",
            "PS2",
            "PC",
            "PS2",
            "PS2",
            "GBA",
            "GBA",
            "PS2",
            "XB",
            "GC",
            "PS2",
            "GBA",
            "PC",
            "PS2",
            "XB",
            "GBA",
            "PS2",
            "GBA",
            "PS2",
            "XB",
            "PS2",
            "PS2",
            "XB",
            "XB",
            "PS2",
            "GBA",
            "PS2",
            "PS2",
            "PSP",
            "XB",
            "GC",
            "GBA",
            "GBA",
            "PS2",
            "GC",
            "PS2",
            "GBA",
            "PS2",
            "XB",
            "XB",
            "GBA",
            "XB",
            "GC",
            "GC",
            "PS2",
            "GBA",
            "PS2",
            "XB",
            "XB",
            "XB",
            "PS2",
            "PC",
            "PSP",
            "GBA",
            "PS2",
            "PS2",
            "GBA",
            "PS2",
            "PS2",
            "GC",
            "XB",
            "XB",
            "PS2",
            "XB",
            "PS2",
            "XB",
            "PS2",
            "GBA",
            "PS2",
            "GBA",
            "XB",
            "PS2",
            "GBA",
            "PS2",
            "DS",
            "PS2",
            "XB",
            "GBA",
            "DS",
            "PS2",
            "GBA",
            "PS2",
            "GBA",
            "PS2",
            "XB",
            "GBA",
            "XB",
            "XB",
            "GBA",
            "PS2",
            "PS2",
            "XB",
            "XB",
            "PSP",
            "GBA",
            "GBA",
            "PS2",
            "XB",
            "PC",
            "XB",
            "PS2",
            "PS2",
            "GC",
            "XB",
            "GBA",
            "PSP",
            "PS2",
            "GC",
            "XB",
            "XB",
            "GC",
            "GC",
            "XB",
            "DS",
            "XB",
            "GC",
            "PC",
            "PS2",
            "PS2",
            "PS2",
            "XB",
            "GC",
            "GC",
            "GBA",
            "PS2",
            "PC",
            "GBA",
            "PS2",
            "XB",
            "PS2",
            "XB",
            "XB",
            "GBA",
            "XB",
            "GBA",
            "PS2",
            "PS2",
            "PS2",
            "PS2",
            "XB",
            "PS2",
            "PS2",
            "PS2",
            "PS2",
            "XB",
            "XB",
            "PS2",
            "XB",
            "XB",
            "XB",
            "PS2",
            "XB",
            "PS2",
            "GBA",
            "GBA",
            "GBA",
            "XB",
            "PS2",
            "XB",
            "GBA",
            "GBA",
            "XB",
            "PS2",
            "PS2",
            "PS2",
            "PS2",
            "PS2",
            "PS2",
            "XB",
            "GBA",
            "PS2",
            "PS2",
            "PS2",
            "PS2",
            "PC",
            "PC",
            "XB",
            "XB",
            "DS",
            "PS2",
            "PS2",
            "GC",
            "GC",
            "GC",
            "PS2",
            "PC",
            "PS2",
            "XB",
            "GC",
            "GBA",
            "GBA",
            "DS",
            "GBA",
            "GBA",
            "GBA",
            "PS2",
            "GBA",
            "PS2",
            "PS2",
            "GBA",
            "GBA",
            "GBA",
            "GC",
            "PC",
            "XB",
            "GBA",
            "GBA",
            "XB",
            "PS2",
            "PS2",
            "XB",
            "XB",
            "GBA",
            "GC",
            "GBA",
            "PS2",
            "GC",
            "PS2",
            "GC",
            "PS2",
            "PC",
            "PS2",
            "GC",
            "GBA",
            "XB",
            "GC",
            "PS2",
            "XB",
            "PS2",
            "PS2",
            "PS2",
            "PS2",
            "XB",
            "DS",
            "PS2",
            "XB",
            "PC",
            "XB",
            "PS2",
            "PSP",
            "XB",
            "GBA",
            "XB",
            "GC",
            "GC",
            "PS2",
            "GC",
            "PS2",
            "PC",
            "PS2",
            "PC",
            "PS2",
            "GBA",
            "PS2",
            "XB",
            "GBA",
            "PS2",
            "GBA",
            "PS2",
            "XB",
            "PS2",
            "GBA",
            "PS2",
            "GBA",
            "GBA",
            "GBA",
            "GBA",
            "PS2",
            "XB",
            "PS2",
            "GC",
            "PS2",
            "GBA",
            "GC",
            "GC",
            "GC",
            "PS2",
            "PS2",
            "GC",
            "XB",
            "PS2",
            "PS2",
            "PS2",
            "GBA",
            "GBA",
            "XB",
            "GC",
            "XB",
            "GC",
            "PS2",
            "PS2",
            "XB",
            "GBA",
            "GBA",
            "XB"
           ],
           "xaxis": "x",
           "yaxis": "y"
          }
         ],
         "name": "2004"
        },
        {
         "data": [
          {
           "alignmentgroup": "True",
           "bingroup": "x",
           "hovertemplate": "Year_of_Release=2005<br>Platform=%{x}<br>count=%{y}<extra></extra>",
           "legendgroup": "",
           "marker": {
            "color": "#636efa",
            "pattern": {
             "shape": ""
            }
           },
           "name": "",
           "offsetgroup": "",
           "orientation": "v",
           "showlegend": false,
           "type": "histogram",
           "x": [
            "GC",
            "PS2",
            "PS2",
            "PSP",
            "DS",
            "PS2",
            "GBA",
            "XB",
            "DS",
            "PS2",
            "XB",
            "GC",
            "PS2",
            "XB",
            "PS2",
            "GBA",
            "GC",
            "DS",
            "PS2",
            "XB",
            "PSP",
            "PS2",
            "PS2",
            "GBA",
            "GC",
            "DS",
            "GC",
            "PS2",
            "XB",
            "XB",
            "GBA",
            "PS2",
            "GBA",
            "PS2",
            "GC",
            "PSP",
            "DS",
            "GC",
            "PS2",
            "DS",
            "GBA",
            "GBA",
            "GBA",
            "XB",
            "XB",
            "PS2",
            "PS2",
            "GC",
            "DS",
            "XB",
            "DS",
            "XB",
            "PS2",
            "DS",
            "PS2",
            "XB",
            "PSP",
            "XB",
            "X360",
            "XB",
            "PS2",
            "XB",
            "GC",
            "XB",
            "PS2",
            "DS",
            "PS2",
            "PSP",
            "GBA",
            "PSP",
            "GBA",
            "PS2",
            "GBA",
            "DS",
            "XB",
            "GC",
            "DS",
            "XB",
            "PSP",
            "DS",
            "XB",
            "XB",
            "GBA",
            "XB",
            "GC",
            "PC",
            "PS2",
            "GBA",
            "PS2",
            "PSP",
            "PS2",
            "GBA",
            "GC",
            "XB",
            "PS2",
            "XB",
            "XB",
            "DS",
            "DS",
            "DS",
            "PSP",
            "GBA",
            "GBA",
            "DS",
            "PC",
            "XB",
            "XB",
            "PSP",
            "DS",
            "XB",
            "XB",
            "X360",
            "PSP",
            "XB",
            "PS2",
            "PSP",
            "PS2",
            "XB",
            "DS",
            "XB",
            "GBA",
            "XB",
            "X360",
            "XB",
            "GBA",
            "GBA",
            "DS",
            "PSP",
            "X360",
            "PS2",
            "GC",
            "GBA",
            "DS",
            "GBA",
            "XB",
            "DS",
            "PS2",
            "PS2",
            "GBA",
            "PS2",
            "PS2",
            "XB",
            "PS2",
            "GC",
            "XB",
            "GBA",
            "PS2",
            "PS2",
            "GBA",
            "PS2",
            "DS",
            "PS2",
            "GBA",
            "XB",
            "GBA",
            "XB",
            "XB",
            "PSP",
            "PS2",
            "XB",
            "PSP",
            "DS",
            "GC",
            "GC",
            "PS2",
            "GC",
            "PS2",
            "GC",
            "GC",
            "PS2",
            "PS2",
            "GBA",
            "GBA",
            "XB",
            "PS2",
            "DS",
            "PS2",
            "PSP",
            "DS",
            "PS2",
            "PSP",
            "DS",
            "PS2",
            "PSP",
            "PS2",
            "PS2",
            "DS",
            "PS2",
            "PS2",
            "X360",
            "GBA",
            "DS",
            "PS2",
            "PS2",
            "PSP",
            "DS",
            "PSP",
            "GBA",
            "GBA",
            "PS2",
            "GC",
            "DS",
            "PC",
            "GC",
            "XB",
            "XB",
            "PS2",
            "X360",
            "GC",
            "DS",
            "XB",
            "XB",
            "X360",
            "DS",
            "GBA",
            "XB",
            "PSP",
            "PSP",
            "DS",
            "XB",
            "XB",
            "GC",
            "PS2",
            "GBA",
            "PC",
            "PSP",
            "DS",
            "GC",
            "PS2",
            "GBA",
            "PS2",
            "PSP",
            "XB",
            "XB",
            "DS",
            "DS",
            "PS2",
            "XB",
            "GC",
            "DS",
            "GC",
            "XB",
            "PC",
            "GBA",
            "XB",
            "PS2",
            "PSP",
            "GBA",
            "XB",
            "PS2",
            "X360",
            "GBA",
            "XB",
            "PS2",
            "GBA",
            "DS",
            "PS2",
            "PS2",
            "PS2",
            "PS2",
            "PSP",
            "XB",
            "DS",
            "PS2",
            "PS2",
            "GC",
            "PS2",
            "XB",
            "XB",
            "PS2",
            "GBA",
            "GC",
            "PS2",
            "PC",
            "GC",
            "DS",
            "PSP",
            "GBA",
            "PSP",
            "PC",
            "DS",
            "PC",
            "PS2",
            "GBA",
            "PS2",
            "PC",
            "XB",
            "GBA",
            "DS",
            "XB",
            "XB",
            "DS",
            "PS2",
            "DS",
            "DS",
            "XB",
            "PS2",
            "PSP",
            "PC",
            "GBA",
            "PS2",
            "PSP",
            "PS2",
            "DS",
            "GBA",
            "GBA",
            "DS",
            "PS2",
            "DS",
            "DS",
            "PC",
            "PSP",
            "PS2",
            "X360",
            "PS2",
            "PSP",
            "GC",
            "GBA",
            "PSP",
            "XB",
            "PS2",
            "GBA",
            "PC",
            "XB",
            "GBA",
            "GBA",
            "PS2",
            "DS",
            "XB",
            "XB",
            "PS2",
            "GBA",
            "PSP",
            "GC",
            "XB",
            "GBA",
            "DS",
            "PS2",
            "XB",
            "PC",
            "XB",
            "XB",
            "PS2",
            "XB",
            "PS2",
            "PSP",
            "XB",
            "GC",
            "GC",
            "GBA",
            "XB",
            "PSP",
            "DS",
            "PS2",
            "GC",
            "GBA",
            "XB",
            "GC",
            "PSP",
            "PSP",
            "PS2",
            "PS2",
            "GBA",
            "GBA",
            "PS2",
            "XB",
            "GBA",
            "PS2",
            "PS2",
            "DS",
            "PS2",
            "PS2",
            "DS",
            "DS",
            "PS2",
            "XB",
            "PS2",
            "GBA",
            "GC",
            "PS2",
            "PS2",
            "GC",
            "PS2",
            "PS2",
            "GBA",
            "DS",
            "GBA",
            "XB",
            "XB",
            "GC",
            "PS2",
            "GC",
            "PS2",
            "DS",
            "GBA",
            "PS2",
            "PSP",
            "GBA",
            "XB",
            "GBA",
            "PSP",
            "PSP",
            "PS2",
            "GBA",
            "PS2",
            "XB",
            "PSP",
            "XB",
            "PSP",
            "PS2",
            "PS2",
            "PS2",
            "DS",
            "PSP",
            "PS2",
            "DS",
            "PS2",
            "GBA",
            "GBA",
            "GBA",
            "PS2",
            "PS2",
            "DS",
            "XB",
            "PS2",
            "DS",
            "GC",
            "PS2",
            "XB",
            "XB",
            "XB",
            "XB",
            "PSP",
            "GC",
            "GBA",
            "XB",
            "XB",
            "PS2",
            "PS2",
            "X360",
            "PC",
            "PS2",
            "PS2",
            "PC",
            "GBA",
            "PS2",
            "PS2",
            "GC",
            "PSP",
            "PS2",
            "GBA",
            "GC",
            "PS2",
            "PC",
            "XB",
            "PSP",
            "DS",
            "PC",
            "PSP",
            "PS2",
            "PS2",
            "DS",
            "GBA",
            "GC",
            "DS",
            "PSP",
            "PS2",
            "DS",
            "PS2",
            "GC",
            "PSP",
            "GBA",
            "PSP",
            "XB",
            "XB",
            "PS2",
            "X360",
            "XB",
            "DS",
            "GBA",
            "GBA",
            "XB",
            "PS2",
            "PSP",
            "PC",
            "XB",
            "XB",
            "PSP",
            "GC",
            "GBA",
            "DS",
            "DS",
            "PSP",
            "PS2",
            "XB",
            "PS2",
            "PS2",
            "PC",
            "DS",
            "XB",
            "PS2",
            "PS2",
            "GBA",
            "GBA",
            "XB",
            "PSP",
            "PS2",
            "PS2",
            "XB",
            "GBA",
            "PSP",
            "DS",
            "XB",
            "GBA",
            "DS",
            "PS2",
            "PSP",
            "PC",
            "PSP",
            "PS2",
            "PC",
            "DS",
            "XB",
            "GC",
            "GC",
            "XB",
            "PS2",
            "GC",
            "PS2",
            "PS2",
            "XB",
            "GBA",
            "DS",
            "PC",
            "XB",
            "PS2",
            "GC",
            "GC",
            "PC",
            "PSP",
            "GBA",
            "DS",
            "GC",
            "PS2",
            "XB",
            "PS2",
            "GC",
            "GC",
            "PS2",
            "GC",
            "PS2",
            "GBA",
            "GC",
            "PSP",
            "PSP",
            "DS",
            "XB",
            "XB",
            "XB",
            "GC",
            "XB",
            "XB",
            "XB",
            "PS2",
            "DS",
            "XB",
            "PS2",
            "XB",
            "GC",
            "PS2",
            "DS",
            "GC",
            "PS2",
            "XB",
            "PC",
            "PSP",
            "PS2",
            "GBA",
            "PS2",
            "PS2",
            "PS2",
            "GBA",
            "PS2",
            "GBA",
            "PS2",
            "GBA",
            "PS2",
            "DS",
            "XB",
            "GC",
            "XB",
            "DS",
            "XB",
            "PS2",
            "PS2",
            "PS2",
            "XB",
            "PSP",
            "PS2",
            "XB",
            "XB",
            "XB",
            "GC",
            "DS",
            "PC",
            "XB",
            "GC",
            "GC",
            "GC",
            "PSP",
            "PSP",
            "XB",
            "PC",
            "DS",
            "XB",
            "GBA",
            "PS2",
            "XB",
            "PSP",
            "GC",
            "PS2",
            "PS2",
            "PSP",
            "GBA",
            "PSP",
            "PSP",
            "XB",
            "PSP",
            "XB",
            "PSP",
            "XB",
            "GBA",
            "GC",
            "XB",
            "XB",
            "PS2",
            "XB",
            "DS",
            "GBA",
            "GBA",
            "X360",
            "DS",
            "XB",
            "GBA",
            "PS2",
            "PS2",
            "PS2",
            "GBA",
            "XB",
            "PSP",
            "DS",
            "GBA",
            "XB",
            "GC",
            "PS2",
            "XB",
            "PS2",
            "PSP",
            "GBA",
            "PS2",
            "PS2",
            "XB",
            "PS2",
            "XB",
            "PS2",
            "PS2",
            "GBA",
            "GBA",
            "PS2",
            "GC",
            "XB",
            "XB",
            "PSP",
            "XB",
            "GBA",
            "XB",
            "XB",
            "GC",
            "PSP",
            "PC",
            "XB",
            "XB",
            "PS2",
            "GC",
            "XB",
            "DS",
            "GBA",
            "XB",
            "PS2",
            "GC",
            "GC",
            "PS2",
            "DS",
            "PS2",
            "PSP",
            "XB",
            "GBA",
            "PS2",
            "GBA",
            "GC",
            "PS2",
            "PS2",
            "GC",
            "XB",
            "GC",
            "PSP",
            "PC",
            "PS2",
            "GC",
            "GBA",
            "GBA",
            "XB",
            "XB",
            "GC",
            "DS",
            "XB",
            "PS2",
            "XB",
            "X360",
            "PS2",
            "PS2",
            "PS2",
            "GBA",
            "DS",
            "PSP",
            "PSP",
            "PS2",
            "PS2",
            "PS2",
            "XB",
            "PS2",
            "PSP",
            "PS2",
            "XB",
            "GBA",
            "PC",
            "PS2",
            "PS2",
            "PS2",
            "GBA",
            "GBA",
            "XB",
            "DS",
            "DS",
            "X360",
            "GBA",
            "XB",
            "DS",
            "DS",
            "XB",
            "PSP",
            "PS2",
            "XB",
            "DS",
            "PC",
            "GC",
            "DS",
            "XB",
            "DS",
            "PS2",
            "GC",
            "DS",
            "PS2",
            "GBA",
            "GC",
            "DS",
            "GBA",
            "PSP",
            "PSP",
            "PS2",
            "XB",
            "GBA",
            "PS2",
            "GBA",
            "PS2",
            "PC",
            "PS2",
            "PS2",
            "XB",
            "GC",
            "X360",
            "GBA",
            "XB",
            "PS2",
            "PSP",
            "GBA",
            "XB",
            "PS2",
            "PS2",
            "DS",
            "GBA",
            "GC",
            "PS2",
            "PS2",
            "GC",
            "GC",
            "XB",
            "GBA",
            "DS",
            "DS",
            "GBA",
            "DS",
            "PS2",
            "GBA",
            "XB",
            "PC",
            "PS2",
            "XB",
            "PS2",
            "PS2",
            "X360",
            "DS",
            "XB",
            "GBA",
            "PS2",
            "PS2",
            "GC",
            "PS2",
            "GBA",
            "DS",
            "PSP",
            "PSP",
            "GC",
            "XB",
            "PS2",
            "XB",
            "PS2",
            "PS2",
            "DS",
            "GBA",
            "GC",
            "XB",
            "GC",
            "PSP",
            "DS",
            "PS2",
            "PSP",
            "PS2",
            "XB",
            "GBA",
            "PC",
            "PSP",
            "GBA",
            "X360",
            "PS2",
            "PS2",
            "DS",
            "XB",
            "PC",
            "GBA",
            "GBA",
            "GC",
            "PS2",
            "PS2",
            "PSP",
            "GBA",
            "GC",
            "PS2",
            "PS2",
            "PS2",
            "PS2",
            "DS",
            "PS2",
            "PSP",
            "PS2",
            "PS2",
            "PS2",
            "DS",
            "PS2",
            "PS2",
            "PS2",
            "XB",
            "X360",
            "GC",
            "DS",
            "PS2",
            "PS2",
            "PS2",
            "PS2",
            "PS2",
            "PS2",
            "XB",
            "PS2",
            "GC",
            "PS2",
            "PS2",
            "PS2",
            "PSP",
            "XB",
            "PS2",
            "GC",
            "DS",
            "PS2",
            "GBA",
            "DS",
            "PS2",
            "DS",
            "PS2",
            "XB",
            "XB",
            "XB",
            "GBA",
            "XB",
            "PC",
            "DS",
            "PS2",
            "PS2",
            "PS2",
            "PS2",
            "PSP",
            "PC",
            "PS2",
            "PS2",
            "DS",
            "PC",
            "GC",
            "PS2",
            "PS2",
            "XB",
            "GC",
            "DS",
            "PS2",
            "PS2",
            "GC",
            "PSP",
            "GC",
            "GBA",
            "DS",
            "GBA",
            "PS2",
            "GBA",
            "PS2",
            "DS",
            "PSP"
           ],
           "xaxis": "x",
           "yaxis": "y"
          }
         ],
         "name": "2005"
        },
        {
         "data": [
          {
           "alignmentgroup": "True",
           "bingroup": "x",
           "hovertemplate": "Year_of_Release=2006<br>Platform=%{x}<br>count=%{y}<extra></extra>",
           "legendgroup": "",
           "marker": {
            "color": "#636efa",
            "pattern": {
             "shape": ""
            }
           },
           "name": "",
           "offsetgroup": "",
           "orientation": "v",
           "showlegend": false,
           "type": "histogram",
           "x": [
            "DS",
            "DS",
            "PS2",
            "DS",
            "PS2",
            "X360",
            "GC",
            "DS",
            "DS",
            "DS",
            "DS",
            "X360",
            "X360",
            "PS2",
            "DS",
            "PSP",
            "GC",
            "GBA",
            "DS",
            "X360",
            "DS",
            "PSP",
            "PSP",
            "PSP",
            "PS2",
            "Wii",
            "Wii",
            "DS",
            "PSP",
            "X360",
            "GBA",
            "GC",
            "Wii",
            "X360",
            "GBA",
            "Wii",
            "DS",
            "PS2",
            "DS",
            "DS",
            "PSP",
            "PSP",
            "PSP",
            "PS2",
            "X360",
            "PS2",
            "GC",
            "X360",
            "PSP",
            "PSP",
            "PSP",
            "GC",
            "X360",
            "X360",
            "Wii",
            "DS",
            "PSP",
            "DS",
            "X360",
            "X360",
            "PSP",
            "X360",
            "XB",
            "PSP",
            "X360",
            "PS2",
            "DS",
            "PS2",
            "PSP",
            "XB",
            "PS2",
            "PS2",
            "DS",
            "PS3",
            "PS2",
            "PSP",
            "GC",
            "XB",
            "Wii",
            "DS",
            "X360",
            "XB",
            "PS2",
            "DS",
            "PS2",
            "X360",
            "PC",
            "X360",
            "GC",
            "GC",
            "XB",
            "PSP",
            "DS",
            "PSP",
            "PS2",
            "DS",
            "PSP",
            "PS2",
            "Wii",
            "PSP",
            "PSP",
            "PSP",
            "GC",
            "PSP",
            "PS2",
            "DS",
            "PS2",
            "XB",
            "PS2",
            "DS",
            "DS",
            "XB",
            "DS",
            "PSP",
            "PS2",
            "Wii",
            "XB",
            "DS",
            "DS",
            "PS3",
            "PS2",
            "GC",
            "PS2",
            "PS2",
            "PS2",
            "PSP",
            "DS",
            "GBA",
            "DS",
            "PSP",
            "GC",
            "PS2",
            "DS",
            "PC",
            "PS2",
            "PSP",
            "PSP",
            "DS",
            "PSP",
            "DS",
            "XB",
            "GC",
            "DS",
            "PSP",
            "DS",
            "PS2",
            "PS2",
            "Wii",
            "DS",
            "GC",
            "PS2",
            "GC",
            "PSP",
            "PSP",
            "DS",
            "X360",
            "GBA",
            "PS2",
            "PSP",
            "PS2",
            "DS",
            "PS2",
            "XB",
            "DS",
            "XB",
            "DS",
            "DS",
            "PSP",
            "GBA",
            "GC",
            "DS",
            "DS",
            "PSP",
            "Wii",
            "DS",
            "PSP",
            "X360",
            "XB",
            "PSP",
            "PSP",
            "DS",
            "PS2",
            "PS2",
            "DS",
            "GBA",
            "GBA",
            "DS",
            "PS2",
            "PSP",
            "PSP",
            "XB",
            "PS2",
            "PS2",
            "PSP",
            "PSP",
            "PS2",
            "DS",
            "GC",
            "PS3",
            "PSP",
            "DS",
            "PS2",
            "PS2",
            "DS",
            "DS",
            "GC",
            "X360",
            "PS2",
            "PS2",
            "DS",
            "DS",
            "PSP",
            "X360",
            "GBA",
            "GC",
            "DS",
            "X360",
            "X360",
            "X360",
            "X360",
            "DS",
            "PSP",
            "PSP",
            "DS",
            "DS",
            "X360",
            "PSP",
            "XB",
            "PS2",
            "GC",
            "DS",
            "DS",
            "PS3",
            "PS2",
            "DS",
            "GC",
            "PS2",
            "PS2",
            "GC",
            "X360",
            "DS",
            "PS2",
            "XB",
            "PSP",
            "PSP",
            "DS",
            "PS2",
            "X360",
            "PS2",
            "PSP",
            "Wii",
            "PSP",
            "PSP",
            "PSP",
            "X360",
            "PS2",
            "PSP",
            "PSP",
            "DS",
            "PS2",
            "PSP",
            "GC",
            "PSP",
            "DS",
            "GC",
            "PS2",
            "PSP",
            "GBA",
            "X360",
            "PS2",
            "X360",
            "PSP",
            "DS",
            "Wii",
            "DS",
            "X360",
            "Wii",
            "X360",
            "PSP",
            "DS",
            "PS2",
            "PSP",
            "PC",
            "PSP",
            "PS2",
            "PSP",
            "GC",
            "PSP",
            "PS2",
            "X360",
            "DS",
            "XB",
            "PSP",
            "PSP",
            "DS",
            "DS",
            "PS2",
            "PS2",
            "PS2",
            "DS",
            "PS2",
            "PS2",
            "DS",
            "PS2",
            "DS",
            "PSP",
            "PS2",
            "PSP",
            "PS2",
            "X360",
            "DS",
            "PS2",
            "DS",
            "PSP",
            "GC",
            "PS3",
            "Wii",
            "PS3",
            "XB",
            "PS2",
            "DS",
            "XB",
            "PSP",
            "X360",
            "PS2",
            "PSP",
            "PSP",
            "PS2",
            "DS",
            "PSP",
            "DS",
            "Wii",
            "X360",
            "PS2",
            "PSP",
            "PS2",
            "X360",
            "PS2",
            "DS",
            "XB",
            "PSP",
            "DS",
            "PS2",
            "DS",
            "GC",
            "PSP",
            "DS",
            "DS",
            "XB",
            "DS",
            "X360",
            "Wii",
            "PS2",
            "DS",
            "PSP",
            "X360",
            "DS",
            "PSP",
            "PSP",
            "PS2",
            "PS3",
            "PSP",
            "PS2",
            "PC",
            "PS2",
            "PS3",
            "X360",
            "PS2",
            "DS",
            "XB",
            "DS",
            "PSP",
            "PS2",
            "PSP",
            "PSP",
            "PS2",
            "PSP",
            "DS",
            "PS2",
            "XB",
            "PS2",
            "PS2",
            "PSP",
            "DS",
            "DS",
            "PSP",
            "GBA",
            "XB",
            "GC",
            "DS",
            "PS3",
            "DS",
            "PSP",
            "DS",
            "PS2",
            "PSP",
            "PSP",
            "DS",
            "PS2",
            "GBA",
            "PS2",
            "PSP",
            "PS2",
            "PSP",
            "PS2",
            "PS2",
            "DS",
            "Wii",
            "Wii",
            "DS",
            "DS",
            "DS",
            "PS2",
            "PS2",
            "PS2",
            "PS2",
            "PSP",
            "PS2",
            "XB",
            "XB",
            "X360",
            "PC",
            "PSP",
            "DS",
            "PC",
            "PSP",
            "X360",
            "PS2",
            "PSP",
            "PSP",
            "X360",
            "Wii",
            "PS2",
            "PS2",
            "PS2",
            "PS2",
            "DS",
            "PS2",
            "X360",
            "PS2",
            "PS2",
            "PSP",
            "GBA",
            "DS",
            "PC",
            "PS2",
            "PS2",
            "PS2",
            "PS2",
            "PS3",
            "XB",
            "X360",
            "PS2",
            "XB",
            "XB",
            "PS2",
            "DS",
            "PS2",
            "PSP",
            "Wii",
            "Wii",
            "DS",
            "PS2",
            "PSP",
            "PS2",
            "PS2",
            "DS",
            "PS2",
            "XB",
            "PS2",
            "PC",
            "PS2",
            "GBA",
            "PS2",
            "GC",
            "PSP",
            "GBA",
            "PSP",
            "PS2",
            "PSP",
            "X360",
            "GC",
            "PSP",
            "X360",
            "PS2",
            "PSP",
            "PS2",
            "GBA",
            "PS3",
            "DS",
            "PSP",
            "DS",
            "PS2",
            "X360",
            "Wii",
            "PS2",
            "GBA",
            "PS2",
            "DS",
            "Wii",
            "PC",
            "DS",
            "GBA",
            "PSP",
            "PC",
            "DS",
            "PS2",
            "DS",
            "PC",
            "PS2",
            "PS2",
            "PS2",
            "Wii",
            "PS2",
            "GBA",
            "X360",
            "PSP",
            "PS3",
            "XB",
            "X360",
            "PS2",
            "DS",
            "PC",
            "PSP",
            "DS",
            "X360",
            "Wii",
            "GBA",
            "PS2",
            "DS",
            "DS",
            "PS2",
            "PS3",
            "PS2",
            "PC",
            "PS2",
            "XB",
            "GC",
            "PS3",
            "XB",
            "PS2",
            "PS2",
            "XB",
            "PS2",
            "PS2",
            "PSP",
            "PSP",
            "PSP",
            "DS",
            "DS",
            "PSP",
            "PSP",
            "PS3",
            "PC",
            "PS3",
            "PC",
            "GC",
            "XB",
            "XB",
            "PSP",
            "GBA",
            "Wii",
            "PSP",
            "Wii",
            "PS2",
            "PS2",
            "DS",
            "PS2",
            "PS2",
            "PS2",
            "PS2",
            "PS3",
            "GC",
            "PS2",
            "PSP",
            "DS",
            "PSP",
            "PSP",
            "X360",
            "DS",
            "PS2",
            "PSP",
            "PS2",
            "PSP",
            "PSP",
            "GBA",
            "DS",
            "X360",
            "DS",
            "XB",
            "PS2",
            "XB",
            "PC",
            "GBA",
            "DS",
            "DS",
            "Wii",
            "X360",
            "PS2",
            "XB",
            "X360",
            "XB",
            "PS2",
            "XB",
            "X360",
            "X360",
            "PS2",
            "PSP",
            "PSP",
            "DS",
            "DS",
            "PC",
            "DS",
            "XB",
            "DS",
            "PSP",
            "GBA",
            "PS2",
            "DS",
            "X360",
            "PS2",
            "X360",
            "PS2",
            "PS2",
            "PSP",
            "PS2",
            "PS3",
            "PC",
            "Wii",
            "PS2",
            "GC",
            "PC",
            "PS2",
            "X360",
            "DS",
            "PC",
            "PS2",
            "X360",
            "PS2",
            "PSP",
            "PSP",
            "DS",
            "PSP",
            "PS2",
            "PS2",
            "GBA",
            "DS",
            "PS2",
            "PSP",
            "PSP",
            "XB",
            "DS",
            "XB",
            "GC",
            "DS",
            "DS",
            "PC",
            "PS2",
            "PS2",
            "DS",
            "PS2",
            "DS",
            "PS2",
            "PS2",
            "PC",
            "PS2",
            "PS2",
            "XB",
            "X360",
            "DS",
            "PC",
            "X360",
            "PS2",
            "XB",
            "DS",
            "DS",
            "PS2",
            "XB",
            "DS",
            "Wii",
            "XB",
            "PSP",
            "PS3",
            "PS2",
            "PS2",
            "DS",
            "PS2",
            "PSP",
            "PC",
            "PS3",
            "PSP",
            "PS2",
            "PSP",
            "DS",
            "DS",
            "PS2",
            "PC",
            "PS2",
            "PS2",
            "PC",
            "PS3",
            "PC",
            "PS2",
            "PSP",
            "PS2",
            "PSP",
            "DS",
            "GBA",
            "DS",
            "PC",
            "DS",
            "Wii",
            "PC",
            "X360",
            "PS2",
            "DS",
            "X360",
            "XB",
            "X360",
            "PC",
            "PSP",
            "DS",
            "DS",
            "PC",
            "PC",
            "PSP",
            "PSP",
            "DS",
            "PS2",
            "X360",
            "PSP",
            "PS3",
            "GC",
            "PS2",
            "PSP",
            "PS2",
            "PS2",
            "PSP",
            "PS2",
            "DS",
            "PC",
            "PS2",
            "DS",
            "X360",
            "XB",
            "PC",
            "X360",
            "Wii",
            "GBA",
            "XB",
            "PS2",
            "XB",
            "XB",
            "PS2",
            "DS",
            "GBA",
            "GC",
            "Wii",
            "PS2",
            "X360",
            "PSP",
            "PSP",
            "DS",
            "X360",
            "PSP",
            "PS2",
            "DS",
            "PSP",
            "X360",
            "Wii",
            "DS",
            "PC",
            "Wii",
            "PSP",
            "PS2",
            "PS2",
            "X360",
            "PSP",
            "X360",
            "X360",
            "GBA",
            "PS2",
            "PSP",
            "PS2",
            "PSP",
            "PSP",
            "DS",
            "X360",
            "DS",
            "X360",
            "X360",
            "PS3",
            "PS2",
            "DS",
            "XB",
            "PC",
            "DS",
            "PSP",
            "GBA",
            "PSP",
            "PS2",
            "XB",
            "PSP",
            "X360",
            "PS2",
            "PSP",
            "PS2",
            "PS2",
            "DS",
            "PS2",
            "PS2",
            "PS2",
            "PS2",
            "PS2",
            "PS2",
            "X360",
            "PSP",
            "GC",
            "DS",
            "X360",
            "GC",
            "PC",
            "GBA",
            "PS2",
            "DS",
            "PS2",
            "PS2",
            "PS2",
            "PSP",
            "PS2",
            "PSP",
            "PSP",
            "GBA",
            "PSP",
            "PS2",
            "PSP",
            "PSP",
            "PC",
            "PSP",
            "PS2",
            "PC",
            "PSP",
            "PS2",
            "PS2",
            "PS2",
            "PS3",
            "Wii",
            "DS",
            "XB",
            "X360",
            "PS2",
            "DS",
            "GC",
            "PC",
            "DS",
            "Wii",
            "PC",
            "PS2",
            "PS2",
            "PS2",
            "PS2",
            "GBA",
            "DS",
            "GBA",
            "Wii",
            "PS2",
            "XB",
            "GBA",
            "DS",
            "DS",
            "DS",
            "PS2",
            "PS2",
            "DS",
            "DS",
            "PS2",
            "PSP",
            "PS2",
            "PC",
            "GC",
            "DS",
            "DS",
            "PS2",
            "PS2",
            "X360",
            "PS2",
            "PSP",
            "X360",
            "DS",
            "X360",
            "PS2",
            "DS",
            "DS",
            "PC",
            "DS",
            "PSP",
            "Wii",
            "Wii",
            "PSP",
            "X360",
            "DS",
            "DS",
            "PSP",
            "GBA",
            "PS2",
            "DS",
            "PS2",
            "DS",
            "PSP",
            "PC",
            "PS2",
            "PSP",
            "DS",
            "PC",
            "PS2",
            "PS2",
            "PS2",
            "PS2",
            "PSP",
            "PS3",
            "X360",
            "DS",
            "PSP",
            "PC",
            "PS2",
            "PSP",
            "PS2",
            "DS",
            "DS",
            "DS",
            "PS2",
            "PS2",
            "PC",
            "XB",
            "XB",
            "X360",
            "PSP",
            "PC",
            "PSP",
            "PS2",
            "PS2",
            "PS2",
            "X360",
            "PS2",
            "PSP",
            "PS2",
            "XB",
            "DS",
            "Wii",
            "DS",
            "XB",
            "DS",
            "PSP",
            "PS2",
            "DS",
            "PSP",
            "PS2",
            "DS",
            "PS2",
            "DS",
            "DS",
            "X360",
            "GBA",
            "Wii",
            "X360",
            "XB",
            "PS2",
            "X360",
            "PS2",
            "PS2",
            "PS2",
            "PSP",
            "PSP",
            "PSP",
            "PSP",
            "PS2",
            "PC",
            "DS",
            "PSP",
            "Wii",
            "DS",
            "PSP",
            "PS2",
            "PSP",
            "PC",
            "PS2",
            "PSP",
            "PS3",
            "DS",
            "DS",
            "PC",
            "PS3",
            "PSP",
            "GBA",
            "PS2",
            "Wii",
            "XB",
            "PS2",
            "PC",
            "GBA",
            "DS",
            "PSP",
            "DS",
            "PS2",
            "PS2",
            "PS2"
           ],
           "xaxis": "x",
           "yaxis": "y"
          }
         ],
         "name": "2006"
        },
        {
         "data": [
          {
           "alignmentgroup": "True",
           "bingroup": "x",
           "hovertemplate": "Year_of_Release=2007<br>Platform=%{x}<br>count=%{y}<extra></extra>",
           "legendgroup": "",
           "marker": {
            "color": "#636efa",
            "pattern": {
             "shape": ""
            }
           },
           "name": "",
           "offsetgroup": "",
           "orientation": "v",
           "showlegend": false,
           "type": "histogram",
           "x": [
            "DS",
            "DS",
            "DS",
            "PS2",
            "Wii",
            "PS3",
            "PS2",
            "PSP",
            "X360",
            "Wii",
            "PS2",
            "DS",
            "PSP",
            "PS2",
            "Wii",
            "DS",
            "DS",
            "DS",
            "Wii",
            "DS",
            "Wii",
            "PSP",
            "PS3",
            "PS2",
            "Wii",
            "DS",
            "DS",
            "X360",
            "PC",
            "Wii",
            "PS3",
            "PS2",
            "DS",
            "PS2",
            "PS2",
            "PSP",
            "PS2",
            "PSP",
            "DS",
            "PS3",
            "X360",
            "PS2",
            "PS2",
            "PS2",
            "DS",
            "X360",
            "Wii",
            "DS",
            "DS",
            "PS3",
            "PS3",
            "DS",
            "Wii",
            "PC",
            "DS",
            "DS",
            "PSP",
            "PSP",
            "DS",
            "DS",
            "Wii",
            "PSP",
            "DS",
            "Wii",
            "PS2",
            "DS",
            "GBA",
            "DS",
            "Wii",
            "X360",
            "PS2",
            "PS3",
            "X360",
            "PS2",
            "PSP",
            "PSP",
            "DS",
            "Wii",
            "PS2",
            "PS3",
            "PSP",
            "DS",
            "DS",
            "PS2",
            "Wii",
            "PS2",
            "PSP",
            "PS3",
            "PC",
            "PSP",
            "PS3",
            "PS2",
            "PSP",
            "DS",
            "PS2",
            "DS",
            "Wii",
            "DS",
            "DS",
            "DS",
            "DS",
            "DS",
            "DS",
            "PC",
            "DS",
            "DS",
            "PSP",
            "DS",
            "DS",
            "PS2",
            "PS2",
            "DS",
            "PS2",
            "Wii",
            "PS3",
            "Wii",
            "Wii",
            "X360",
            "Wii",
            "PSP",
            "X360",
            "PSP",
            "PS3",
            "DS",
            "PC",
            "PS3",
            "PSP",
            "DS",
            "DS",
            "PS2",
            "PS2",
            "Wii",
            "PC",
            "PS2",
            "PS2",
            "DS",
            "PS2",
            "PS2",
            "X360",
            "X360",
            "DS",
            "DS",
            "DS",
            "PS2",
            "Wii",
            "PS3",
            "PC",
            "X360",
            "DS",
            "PS2",
            "PSP",
            "Wii",
            "DS",
            "PC",
            "DS",
            "PS2",
            "Wii",
            "Wii",
            "PS2",
            "DS",
            "PSP",
            "PS2",
            "Wii",
            "PS2",
            "X360",
            "PS3",
            "Wii",
            "PSP",
            "Wii",
            "PS2",
            "PS2",
            "DS",
            "PS2",
            "X360",
            "PS2",
            "Wii",
            "PSP",
            "PSP",
            "PS2",
            "DS",
            "DS",
            "DS",
            "DS",
            "PS2",
            "DS",
            "X360",
            "DS",
            "DS",
            "Wii",
            "PSP",
            "DS",
            "DS",
            "Wii",
            "DS",
            "PS3",
            "PC",
            "PSP",
            "PSP",
            "DS",
            "Wii",
            "X360",
            "PS2",
            "PS2",
            "GC",
            "PS3",
            "PS2",
            "PS2",
            "DS",
            "Wii",
            "DS",
            "PS2",
            "PS2",
            "PS2",
            "PS2",
            "Wii",
            "Wii",
            "PS2",
            "DS",
            "DS",
            "PS2",
            "PS2",
            "X360",
            "PS2",
            "X360",
            "PS2",
            "Wii",
            "PS2",
            "DS",
            "DS",
            "X360",
            "XB",
            "PSP",
            "PS2",
            "DS",
            "PS3",
            "DS",
            "PC",
            "DS",
            "PS3",
            "PSP",
            "DS",
            "PC",
            "DS",
            "Wii",
            "X360",
            "DS",
            "PSP",
            "DS",
            "PS2",
            "PC",
            "Wii",
            "PS3",
            "PS2",
            "PSP",
            "DS",
            "DS",
            "PC",
            "PSP",
            "X360",
            "Wii",
            "X360",
            "X360",
            "X360",
            "Wii",
            "PS3",
            "Wii",
            "PS3",
            "DS",
            "DS",
            "PS3",
            "PSP",
            "PS2",
            "Wii",
            "DS",
            "PS2",
            "PS2",
            "X360",
            "DS",
            "PS2",
            "Wii",
            "DS",
            "PS2",
            "X360",
            "PS2",
            "X360",
            "DS",
            "X360",
            "PS2",
            "PSP",
            "PSP",
            "X360",
            "DS",
            "DS",
            "DS",
            "PSP",
            "PSP",
            "Wii",
            "GC",
            "PSP",
            "DS",
            "DS",
            "PC",
            "DS",
            "DS",
            "Wii",
            "PSP",
            "Wii",
            "X360",
            "Wii",
            "PS2",
            "PC",
            "DS",
            "DS",
            "DS",
            "X360",
            "PSP",
            "DS",
            "DS",
            "X360",
            "PSP",
            "PSP",
            "Wii",
            "PS3",
            "X360",
            "PSP",
            "DS",
            "DS",
            "PS2",
            "X360",
            "PSP",
            "PSP",
            "PS2",
            "DS",
            "DS",
            "DS",
            "PS3",
            "PSP",
            "PC",
            "Wii",
            "PS2",
            "X360",
            "PS3",
            "PS2",
            "PS3",
            "Wii",
            "PS2",
            "PS3",
            "PS2",
            "PS3",
            "PS3",
            "Wii",
            "PS3",
            "DS",
            "X360",
            "PC",
            "Wii",
            "PS3",
            "X360",
            "PS3",
            "DS",
            "Wii",
            "PS2",
            "PSP",
            "Wii",
            "PS3",
            "PS2",
            "PS2",
            "X360",
            "PS2",
            "DS",
            "DS",
            "PC",
            "PS3",
            "PS2",
            "DS",
            "DS",
            "DS",
            "X360",
            "PS2",
            "PS2",
            "PSP",
            "PS3",
            "X360",
            "PS2",
            "DS",
            "DS",
            "Wii",
            "X360",
            "PS2",
            "PSP",
            "DS",
            "PSP",
            "PS3",
            "DS",
            "PSP",
            "DS",
            "PS2",
            "X360",
            "PS2",
            "PS2",
            "PS3",
            "DS",
            "PS2",
            "DS",
            "PS2",
            "Wii",
            "X360",
            "DS",
            "DS",
            "DS",
            "PC",
            "PC",
            "DS",
            "Wii",
            "DS",
            "PSP",
            "DS",
            "X360",
            "DS",
            "Wii",
            "X360",
            "DS",
            "X360",
            "PSP",
            "PS2",
            "Wii",
            "PSP",
            "X360",
            "DS",
            "PS3",
            "DS",
            "Wii",
            "DS",
            "Wii",
            "DS",
            "PS3",
            "PSP",
            "DS",
            "DS",
            "Wii",
            "PC",
            "DS",
            "DS",
            "DS",
            "DS",
            "PSP",
            "Wii",
            "PS2",
            "DS",
            "PS2",
            "Wii",
            "Wii",
            "DS",
            "Wii",
            "DS",
            "PSP",
            "Wii",
            "X360",
            "PS2",
            "PS2",
            "Wii",
            "PS3",
            "Wii",
            "PC",
            "PS2",
            "X360",
            "PS3",
            "DS",
            "PS3",
            "PS3",
            "XB",
            "DS",
            "DS",
            "DS",
            "DS",
            "DS",
            "PS3",
            "DS",
            "PSP",
            "DS",
            "DS",
            "PS2",
            "DS",
            "X360",
            "Wii",
            "DS",
            "PS2",
            "Wii",
            "PS2",
            "PS3",
            "Wii",
            "DS",
            "DS",
            "DS",
            "PS2",
            "Wii",
            "DS",
            "DS",
            "DS",
            "Wii",
            "X360",
            "X360",
            "PS2",
            "PSP",
            "PS2",
            "DS",
            "DS",
            "DS",
            "PC",
            "PS2",
            "Wii",
            "Wii",
            "DS",
            "PSP",
            "PS2",
            "PS2",
            "DS",
            "X360",
            "PSP",
            "PSP",
            "PC",
            "Wii",
            "DS",
            "Wii",
            "PS3",
            "DS",
            "PS3",
            "PS2",
            "X360",
            "DS",
            "PSP",
            "PSP",
            "PS3",
            "PS2",
            "DS",
            "DS",
            "PS2",
            "DS",
            "DS",
            "DS",
            "PS2",
            "PS2",
            "PS3",
            "PSP",
            "Wii",
            "PC",
            "Wii",
            "DS",
            "DS",
            "PS3",
            "Wii",
            "PS2",
            "DS",
            "Wii",
            "Wii",
            "DS",
            "PSP",
            "Wii",
            "DS",
            "X360",
            "PS2",
            "DS",
            "DS",
            "PC",
            "PS2",
            "PSP",
            "Wii",
            "PS2",
            "DS",
            "PS2",
            "Wii",
            "DS",
            "Wii",
            "PS2",
            "DS",
            "Wii",
            "DS",
            "PS2",
            "DS",
            "Wii",
            "GC",
            "DS",
            "PS3",
            "DS",
            "DS",
            "PS2",
            "PC",
            "PS2",
            "PSP",
            "GBA",
            "DS",
            "Wii",
            "DS",
            "DS",
            "DS",
            "DS",
            "X360",
            "Wii",
            "PS3",
            "Wii",
            "Wii",
            "X360",
            "PS2",
            "DS",
            "Wii",
            "DS",
            "DS",
            "PSP",
            "Wii",
            "PSP",
            "PS2",
            "PS2",
            "PS2",
            "DS",
            "DS",
            "X360",
            "Wii",
            "PSP",
            "DS",
            "PSP",
            "PS3",
            "X360",
            "PS2",
            "PSP",
            "PS3",
            "PS2",
            "Wii",
            "DS",
            "PS2",
            "PSP",
            "DS",
            "DS",
            "Wii",
            "PC",
            "X360",
            "PS2",
            "Wii",
            "PS2",
            "PSP",
            "PSP",
            "DS",
            "Wii",
            "DS",
            "PS2",
            "DS",
            "PC",
            "X360",
            "PS2",
            "PC",
            "DS",
            "X360",
            "DS",
            "PC",
            "PSP",
            "PS3",
            "X360",
            "X360",
            "DS",
            "DS",
            "DS",
            "Wii",
            "PS2",
            "X360",
            "DS",
            "Wii",
            "PS3",
            "DS",
            "DS",
            "DS",
            "PC",
            "X360",
            "PSP",
            "DS",
            "DS",
            "Wii",
            "PS2",
            "DS",
            "PS2",
            "X360",
            "X360",
            "PS2",
            "DS",
            "DS",
            "DS",
            "DS",
            "PS2",
            "Wii",
            "PS2",
            "DS",
            "DS",
            "Wii",
            "PS3",
            "Wii",
            "PSP",
            "Wii",
            "PSP",
            "PS2",
            "PS2",
            "PS2",
            "PS3",
            "X360",
            "Wii",
            "PC",
            "DS",
            "PSP",
            "X360",
            "Wii",
            "DS",
            "DS",
            "PSP",
            "DS",
            "Wii",
            "DS",
            "PSP",
            "DS",
            "PS2",
            "Wii",
            "X360",
            "DS",
            "PC",
            "PS2",
            "DS",
            "PSP",
            "X360",
            "PS2",
            "Wii",
            "PS3",
            "DS",
            "DS",
            "Wii",
            "X360",
            "Wii",
            "PS3",
            "DS",
            "Wii",
            "DS",
            "PC",
            "DS",
            "PS3",
            "DS",
            "PC",
            "Wii",
            "DS",
            "Wii",
            "PSP",
            "DS",
            "DS",
            "PS2",
            "Wii",
            "PSP",
            "Wii",
            "PS2",
            "PSP",
            "DS",
            "DS",
            "PSP",
            "PC",
            "PSP",
            "PS2",
            "DS",
            "PC",
            "DS",
            "PS2",
            "PS2",
            "PC",
            "Wii",
            "Wii",
            "Wii",
            "PC",
            "DS",
            "Wii",
            "X360",
            "DS",
            "DS",
            "PSP",
            "DS",
            "PS2",
            "PC",
            "DS",
            "DS",
            "X360",
            "Wii",
            "X360",
            "Wii",
            "X360",
            "PS2",
            "PSP",
            "DS",
            "PSP",
            "PC",
            "X360",
            "DS",
            "DS",
            "Wii",
            "Wii",
            "PS2",
            "PS2",
            "DS",
            "PSP",
            "DS",
            "DS",
            "PS2",
            "DS",
            "DS",
            "PSP",
            "Wii",
            "DS",
            "X360",
            "DS",
            "Wii",
            "PS2",
            "DS",
            "PS3",
            "PS3",
            "PSP",
            "PSP",
            "X360",
            "Wii",
            "X360",
            "PS2",
            "DS",
            "PS2",
            "PS2",
            "Wii",
            "PS2",
            "DS",
            "PC",
            "PSP",
            "PSP",
            "DS",
            "DS",
            "PSP",
            "DS",
            "DS",
            "DS",
            "PS2",
            "PS2",
            "PSP",
            "X360",
            "PSP",
            "X360",
            "Wii",
            "Wii",
            "DS",
            "PS2",
            "PS2",
            "DS",
            "DS",
            "DS",
            "PS3",
            "Wii",
            "X360",
            "PS2",
            "Wii",
            "DS",
            "DS",
            "Wii",
            "DS",
            "Wii",
            "PS2",
            "X360",
            "X360",
            "PS3",
            "Wii",
            "DS",
            "PS3",
            "X360",
            "DS",
            "PS2",
            "PSP",
            "DS",
            "DS",
            "DS",
            "DS",
            "X360",
            "DS",
            "DS",
            "PS3",
            "X360",
            "DS",
            "PS3",
            "PSP",
            "DS",
            "PS2",
            "PSP",
            "DS",
            "PS2",
            "PS2",
            "DS",
            "DS",
            "DS",
            "PS2",
            "DS",
            "DS",
            "DS",
            "X360",
            "PSP",
            "PS3",
            "PS2",
            "X360",
            "DS",
            "DS",
            "PS3",
            "PS2",
            "DS",
            "PSP",
            "Wii",
            "DS",
            "PSP",
            "DS",
            "DS",
            "PS2",
            "DS",
            "PS2",
            "DS",
            "PS2",
            "PC",
            "DS",
            "Wii",
            "DS",
            "GBA",
            "PS2",
            "PC",
            "Wii",
            "X360",
            "PSP",
            "PS2",
            "X360",
            "DS",
            "DS",
            "DS",
            "PSP",
            "Wii",
            "DS",
            "PSP",
            "DS",
            "Wii",
            "PS2",
            "Wii",
            "DS",
            "PS2",
            "PC",
            "DS",
            "X360",
            "X360",
            "PS2",
            "X360",
            "Wii",
            "PS3",
            "DS",
            "PS2",
            "DS",
            "DS",
            "DS",
            "DS",
            "PS3",
            "Wii",
            "XB",
            "DS",
            "X360",
            "X360",
            "DS",
            "Wii",
            "PS2",
            "PSP",
            "DS",
            "X360",
            "DS",
            "Wii",
            "PC",
            "DS",
            "PS2",
            "PS2",
            "PS3",
            "Wii",
            "DS",
            "PS3",
            "DS",
            "DS",
            "Wii",
            "DS",
            "PS2",
            "PS2",
            "Wii",
            "DS",
            "PSP",
            "PS2",
            "PS2",
            "PC",
            "PSP",
            "PS3",
            "X360",
            "PS3",
            "DS",
            "PC",
            "DS",
            "Wii",
            "Wii",
            "DS",
            "PS3",
            "PC",
            "Wii",
            "X360",
            "PS2",
            "X360",
            "X360",
            "PSP",
            "PS3",
            "PSP",
            "X360",
            "PS2",
            "PS2",
            "DS",
            "DS",
            "DS",
            "X360",
            "PS2",
            "X360",
            "Wii",
            "Wii",
            "DS",
            "PS2",
            "DS",
            "PS2",
            "X360",
            "PS2",
            "Wii",
            "DS",
            "DS",
            "PC",
            "Wii",
            "X360",
            "DS",
            "PS3",
            "Wii",
            "PSP",
            "PSP",
            "DS",
            "DS",
            "Wii",
            "DS",
            "DS",
            "Wii",
            "Wii",
            "PS2",
            "PC",
            "X360",
            "Wii",
            "X360",
            "DS",
            "DS",
            "DS",
            "DS",
            "Wii",
            "PS2",
            "PS2",
            "DS",
            "PS2",
            "PC",
            "PS2",
            "DS",
            "PS3",
            "PS3",
            "DS",
            "X360",
            "PS2",
            "PS2",
            "PS2",
            "X360",
            "X360",
            "DS",
            "PS2",
            "DS",
            "X360",
            "DS",
            "DS",
            "PS2",
            "Wii",
            "DS",
            "DS",
            "DS",
            "Wii",
            "PSP",
            "Wii",
            "Wii",
            "DC",
            "DS",
            "PS2",
            "DS",
            "PC",
            "X360",
            "PS3",
            "X360",
            "PC",
            "Wii",
            "X360",
            "DS",
            "PS2",
            "Wii",
            "Wii",
            "PS3",
            "PSP",
            "DS",
            "DS",
            "DS",
            "PSP",
            "PSP",
            "PC",
            "Wii",
            "DS",
            "Wii",
            "DS",
            "X360",
            "PS2",
            "PS3",
            "Wii",
            "PS2",
            "PC",
            "GBA",
            "Wii",
            "DS",
            "PSP",
            "PS3",
            "DS",
            "PS2",
            "PS3",
            "PS2",
            "PC",
            "DS",
            "X360",
            "PC",
            "Wii",
            "PSP",
            "DS",
            "DS",
            "PSP",
            "Wii",
            "DS",
            "Wii",
            "DS",
            "DS",
            "PSP",
            "Wii",
            "PS2",
            "DS",
            "GBA",
            "PSP",
            "X360",
            "PC",
            "DS",
            "DS",
            "DS",
            "DS",
            "X360",
            "PSP",
            "Wii",
            "DS",
            "PSP",
            "PSP",
            "DS",
            "Wii",
            "PSP",
            "PC",
            "PS2",
            "PS2",
            "PSP",
            "DS",
            "DS",
            "DS",
            "DS",
            "Wii",
            "PS3",
            "Wii",
            "X360",
            "PS3",
            "DS",
            "PS2",
            "X360",
            "PS3",
            "DS",
            "PS2",
            "PSP",
            "PSP",
            "Wii",
            "PS2",
            "X360",
            "Wii",
            "PS2",
            "PS2",
            "GC",
            "PC",
            "PSP",
            "Wii",
            "DS",
            "PS2",
            "DS"
           ],
           "xaxis": "x",
           "yaxis": "y"
          }
         ],
         "name": "2007"
        },
        {
         "data": [
          {
           "alignmentgroup": "True",
           "bingroup": "x",
           "hovertemplate": "Year_of_Release=2008<br>Platform=%{x}<br>count=%{y}<extra></extra>",
           "legendgroup": "",
           "marker": {
            "color": "#636efa",
            "pattern": {
             "shape": ""
            }
           },
           "name": "",
           "offsetgroup": "",
           "orientation": "v",
           "showlegend": false,
           "type": "histogram",
           "x": [
            "PC",
            "PS3",
            "PC",
            "DS",
            "Wii",
            "DS",
            "DS",
            "PS2",
            "X360",
            "PS2",
            "DS",
            "Wii",
            "PS2",
            "PC",
            "DS",
            "DS",
            "DS",
            "DS",
            "X360",
            "DS",
            "Wii",
            "PSP",
            "PSP",
            "Wii",
            "Wii",
            "PC",
            "Wii",
            "PC",
            "DS",
            "DS",
            "PS2",
            "PSP",
            "Wii",
            "X360",
            "DS",
            "Wii",
            "PS3",
            "DS",
            "DS",
            "PSP",
            "X360",
            "X360",
            "DS",
            "PS3",
            "PSP",
            "PS3",
            "Wii",
            "PS2",
            "DS",
            "X360",
            "PS3",
            "PSP",
            "PS3",
            "PS2",
            "PC",
            "PSP",
            "DS",
            "DS",
            "PSP",
            "X360",
            "DS",
            "X360",
            "Wii",
            "PC",
            "X360",
            "Wii",
            "DS",
            "DS",
            "PC",
            "DS",
            "PS2",
            "PS2",
            "X360",
            "DS",
            "PS3",
            "Wii",
            "PS3",
            "X360",
            "Wii",
            "X360",
            "DS",
            "Wii",
            "Wii",
            "PS3",
            "PS2",
            "DS",
            "PSP",
            "PS2",
            "DS",
            "X360",
            "DS",
            "DS",
            "DS",
            "DS",
            "PS2",
            "PS3",
            "PS2",
            "DS",
            "Wii",
            "Wii",
            "PC",
            "PS2",
            "DS",
            "PC",
            "Wii",
            "PS3",
            "PS2",
            "DS",
            "Wii",
            "DS",
            "PS2",
            "DS",
            "DS",
            "PS2",
            "PSP",
            "DS",
            "PSP",
            "DS",
            "Wii",
            "PS2",
            "Wii",
            "Wii",
            "DS",
            "PS2",
            "PS3",
            "Wii",
            "PS3",
            "DS",
            "PS2",
            "Wii",
            "PS2",
            "DS",
            "PS2",
            "X360",
            "Wii",
            "PS2",
            "Wii",
            "PS2",
            "Wii",
            "PSP",
            "Wii",
            "PC",
            "PS3",
            "Wii",
            "PS3",
            "Wii",
            "X360",
            "PS3",
            "PS3",
            "PSP",
            "PS2",
            "DS",
            "X360",
            "PSP",
            "DS",
            "Wii",
            "DS",
            "DS",
            "DS",
            "DS",
            "X360",
            "PSP",
            "PS3",
            "PS3",
            "Wii",
            "DS",
            "X360",
            "DS",
            "PSP",
            "PS3",
            "DS",
            "PS2",
            "PS2",
            "Wii",
            "DS",
            "PC",
            "Wii",
            "DS",
            "X360",
            "PC",
            "DS",
            "Wii",
            "Wii",
            "DS",
            "DS",
            "PS2",
            "PC",
            "PSP",
            "Wii",
            "PS2",
            "PS2",
            "PS3",
            "PS3",
            "DS",
            "Wii",
            "PSP",
            "PS2",
            "DS",
            "DS",
            "PS2",
            "PSP",
            "DS",
            "X360",
            "DS",
            "PS3",
            "PC",
            "DS",
            "DS",
            "X360",
            "X360",
            "Wii",
            "Wii",
            "PSP",
            "DS",
            "X360",
            "PS2",
            "PS2",
            "DS",
            "DS",
            "PSP",
            "PS3",
            "PC",
            "Wii",
            "DS",
            "DS",
            "PC",
            "DS",
            "PS3",
            "X360",
            "PS3",
            "X360",
            "PS3",
            "X360",
            "PS2",
            "Wii",
            "DS",
            "Wii",
            "DS",
            "DS",
            "DS",
            "DS",
            "Wii",
            "X360",
            "PC",
            "DS",
            "DS",
            "PC",
            "PC",
            "DS",
            "PS2",
            "DS",
            "PS2",
            "PS3",
            "DS",
            "PC",
            "DS",
            "Wii",
            "DS",
            "DS",
            "DS",
            "X360",
            "PC",
            "Wii",
            "Wii",
            "X360",
            "Wii",
            "Wii",
            "PSP",
            "PS3",
            "Wii",
            "PS2",
            "DS",
            "DS",
            "Wii",
            "DS",
            "PS3",
            "DS",
            "Wii",
            "Wii",
            "Wii",
            "PSP",
            "Wii",
            "Wii",
            "DS",
            "PS3",
            "PS2",
            "PS2",
            "Wii",
            "DS",
            "DS",
            "DS",
            "PS2",
            "DS",
            "Wii",
            "PC",
            "PS3",
            "DS",
            "DS",
            "PC",
            "PS2",
            "PS2",
            "X360",
            "X360",
            "X360",
            "X360",
            "PS3",
            "PS3",
            "PSP",
            "PC",
            "Wii",
            "DS",
            "PC",
            "Wii",
            "PS3",
            "DS",
            "Wii",
            "PS2",
            "DS",
            "PS3",
            "DS",
            "DS",
            "Wii",
            "PSP",
            "DS",
            "PS2",
            "DS",
            "PC",
            "DS",
            "X360",
            "PSP",
            "Wii",
            "DS",
            "PS3",
            "X360",
            "Wii",
            "DS",
            "DS",
            "PS3",
            "PS2",
            "PS2",
            "DS",
            "X360",
            "PS3",
            "Wii",
            "PS3",
            "Wii",
            "DS",
            "DS",
            "PC",
            "PC",
            "PS3",
            "DS",
            "PS3",
            "DS",
            "DS",
            "Wii",
            "DS",
            "PS3",
            "PS2",
            "PS2",
            "Wii",
            "X360",
            "DS",
            "DS",
            "PS3",
            "PS2",
            "DS",
            "X360",
            "X360",
            "DS",
            "X360",
            "DS",
            "PS2",
            "X360",
            "PSP",
            "X360",
            "DS",
            "Wii",
            "DS",
            "DS",
            "DS",
            "PC",
            "PS3",
            "X360",
            "PSP",
            "PC",
            "X360",
            "Wii",
            "PS2",
            "PS3",
            "PS2",
            "PS2",
            "PS2",
            "DS",
            "DS",
            "DS",
            "DS",
            "DS",
            "PC",
            "DS",
            "PS3",
            "PS2",
            "DS",
            "Wii",
            "PSP",
            "Wii",
            "PS3",
            "Wii",
            "DS",
            "PC",
            "Wii",
            "DS",
            "X360",
            "DS",
            "DS",
            "PSP",
            "DS",
            "PS3",
            "PS2",
            "DS",
            "DS",
            "DS",
            "Wii",
            "PSP",
            "Wii",
            "PSP",
            "Wii",
            "PSP",
            "PS3",
            "X360",
            "PS2",
            "PSP",
            "Wii",
            "DS",
            "X360",
            "PC",
            "DS",
            "X360",
            "PS3",
            "X360",
            "Wii",
            "X360",
            "Wii",
            "PC",
            "PS3",
            "DS",
            "PSP",
            "Wii",
            "Wii",
            "DS",
            "Wii",
            "PC",
            "DS",
            "Wii",
            "DS",
            "PS3",
            "DS",
            "Wii",
            "Wii",
            "DS",
            "PS2",
            "X360",
            "DS",
            "DS",
            "PC",
            "DS",
            "DS",
            "Wii",
            "Wii",
            "PS3",
            "Wii",
            "X360",
            "Wii",
            "X360",
            "DS",
            "PS3",
            "PS3",
            "DS",
            "Wii",
            "X360",
            "PS2",
            "X360",
            "X360",
            "PS3",
            "DS",
            "X360",
            "DS",
            "DS",
            "DS",
            "PC",
            "X360",
            "DS",
            "PS2",
            "DS",
            "DS",
            "Wii",
            "Wii",
            "DS",
            "X360",
            "DS",
            "Wii",
            "Wii",
            "Wii",
            "PS2",
            "DS",
            "DS",
            "DS",
            "PS3",
            "Wii",
            "PS3",
            "DS",
            "Wii",
            "PS2",
            "X360",
            "PSP",
            "Wii",
            "PC",
            "PSP",
            "DS",
            "Wii",
            "PS3",
            "PSP",
            "X360",
            "PS3",
            "PS2",
            "Wii",
            "PS2",
            "PS2",
            "DS",
            "Wii",
            "X360",
            "Wii",
            "DS",
            "Wii",
            "Wii",
            "PC",
            "PS3",
            "PS2",
            "DS",
            "Wii",
            "DS",
            "DS",
            "DS",
            "DS",
            "PS3",
            "Wii",
            "PSP",
            "DS",
            "DS",
            "PS3",
            "Wii",
            "Wii",
            "X360",
            "X360",
            "PC",
            "X360",
            "Wii",
            "DS",
            "PSP",
            "Wii",
            "X360",
            "DS",
            "DS",
            "PS2",
            "X360",
            "DS",
            "Wii",
            "DS",
            "PS3",
            "Wii",
            "DS",
            "DS",
            "X360",
            "PC",
            "DS",
            "Wii",
            "X360",
            "PS3",
            "PSP",
            "DS",
            "PC",
            "DS",
            "DS",
            "DS",
            "PS2",
            "PS2",
            "Wii",
            "PS2",
            "X360",
            "X360",
            "X360",
            "Wii",
            "X360",
            "PS3",
            "PS2",
            "Wii",
            "Wii",
            "DS",
            "DS",
            "Wii",
            "Wii",
            "PS2",
            "DS",
            "X360",
            "X360",
            "DS",
            "DS",
            "DS",
            "DS",
            "X360",
            "X360",
            "PS2",
            "PS3",
            "PS3",
            "DS",
            "DC",
            "DS",
            "Wii",
            "PS2",
            "Wii",
            "PS3",
            "DS",
            "DS",
            "X360",
            "PS3",
            "DS",
            "DS",
            "PS3",
            "PS3",
            "DS",
            "Wii",
            "DS",
            "Wii",
            "DS",
            "Wii",
            "PS2",
            "PS2",
            "DS",
            "Wii",
            "DS",
            "Wii",
            "DS",
            "DS",
            "DS",
            "PS2",
            "PSP",
            "Wii",
            "PS2",
            "Wii",
            "DS",
            "DS",
            "Wii",
            "DS",
            "DS",
            "DS",
            "DS",
            "DS",
            "Wii",
            "Wii",
            "DS",
            "DS",
            "DS",
            "Wii",
            "Wii",
            "X360",
            "Wii",
            "PS2",
            "DS",
            "DS",
            "PS2",
            "DS",
            "DS",
            "PSP",
            "DS",
            "DS",
            "Wii",
            "X360",
            "Wii",
            "DS",
            "PS2",
            "Wii",
            "PC",
            "DS",
            "PSP",
            "Wii",
            "DS",
            "DS",
            "PS2",
            "DS",
            "PS3",
            "XB",
            "PSP",
            "Wii",
            "DS",
            "DS",
            "DS",
            "DS",
            "PS2",
            "DS",
            "DS",
            "Wii",
            "PS2",
            "PS2",
            "DS",
            "DS",
            "DS",
            "DS",
            "PSP",
            "Wii",
            "Wii",
            "DS",
            "DS",
            "X360",
            "Wii",
            "X360",
            "PSP",
            "Wii",
            "Wii",
            "DS",
            "DS",
            "PSP",
            "X360",
            "Wii",
            "PS2",
            "PS3",
            "X360",
            "PS2",
            "DS",
            "DS",
            "X360",
            "DS",
            "DS",
            "PSP",
            "PS2",
            "PC",
            "DS",
            "X360",
            "PS2",
            "PS3",
            "DS",
            "PC",
            "DS",
            "Wii",
            "DS",
            "Wii",
            "DS",
            "PSP",
            "DS",
            "PS3",
            "DS",
            "PS2",
            "PS3",
            "Wii",
            "DS",
            "DS",
            "DS",
            "DS",
            "DS",
            "DS",
            "PS3",
            "Wii",
            "PS3",
            "DS",
            "PSP",
            "Wii",
            "PS2",
            "DS",
            "Wii",
            "PS3",
            "DS",
            "DS",
            "PC",
            "DS",
            "PS2",
            "DS",
            "DS",
            "DS",
            "DS",
            "DS",
            "Wii",
            "DS",
            "Wii",
            "DS",
            "PS2",
            "PS2",
            "PS2",
            "DS",
            "DS",
            "DS",
            "DS",
            "Wii",
            "PS3",
            "PS2",
            "PS3",
            "DS",
            "Wii",
            "DS",
            "Wii",
            "Wii",
            "PS2",
            "PS2",
            "Wii",
            "DS",
            "X360",
            "Wii",
            "Wii",
            "DS",
            "Wii",
            "PS2",
            "DS",
            "DS",
            "DS",
            "DS",
            "DS",
            "DS",
            "PS3",
            "PSP",
            "PS3",
            "DS",
            "Wii",
            "PS2",
            "Wii",
            "PS2",
            "Wii",
            "PS3",
            "DS",
            "PSP",
            "PSP",
            "PS2",
            "PS3",
            "Wii",
            "Wii",
            "X360",
            "X360",
            "X360",
            "DS",
            "DS",
            "DS",
            "PS2",
            "DS",
            "X360",
            "PSP",
            "DS",
            "DS",
            "DS",
            "Wii",
            "DS",
            "DS",
            "PS3",
            "DS",
            "PS2",
            "DS",
            "PC",
            "DS",
            "PS3",
            "Wii",
            "PSP",
            "DS",
            "PS2",
            "DS",
            "DS",
            "Wii",
            "Wii",
            "Wii",
            "DS",
            "PS3",
            "Wii",
            "Wii",
            "PSP",
            "DS",
            "DS",
            "DS",
            "Wii",
            "DS",
            "PSP",
            "DS",
            "DS",
            "DS",
            "PS3",
            "PS2",
            "Wii",
            "DS",
            "DS",
            "DS",
            "DS",
            "DS",
            "Wii",
            "DS",
            "DS",
            "Wii",
            "PS2",
            "Wii",
            "DS",
            "Wii",
            "Wii",
            "DS",
            "Wii",
            "Wii",
            "DS",
            "PSP",
            "DS",
            "DS",
            "Wii",
            "PS2",
            "PSP",
            "DS",
            "DS",
            "PS2",
            "PSP",
            "PS2",
            "PSP",
            "PSP",
            "PS2",
            "DS",
            "DS",
            "PS2",
            "Wii",
            "DS",
            "PSP",
            "DS",
            "PSP",
            "X360",
            "DS",
            "Wii",
            "DS",
            "Wii",
            "X360",
            "DS",
            "DS",
            "DS",
            "Wii",
            "X360",
            "PS2",
            "Wii",
            "DS",
            "Wii",
            "PS3",
            "DS",
            "PS3",
            "Wii",
            "PS2",
            "PC",
            "DS",
            "X360",
            "X360",
            "X360",
            "PS2",
            "DS",
            "DS",
            "DS",
            "PS2",
            "DS",
            "PS2",
            "DS",
            "PS2",
            "X360",
            "X360",
            "Wii",
            "DS",
            "PS2",
            "PSP",
            "X360",
            "DS",
            "DS",
            "PSP",
            "PS3",
            "PSP",
            "Wii",
            "PC",
            "PS2",
            "Wii",
            "Wii",
            "DS",
            "Wii",
            "DS",
            "DS",
            "Wii",
            "DS",
            "PSP",
            "DS",
            "DS",
            "DS",
            "PS2",
            "Wii",
            "PS2",
            "DS",
            "Wii",
            "DS",
            "DS",
            "DS",
            "PS2",
            "PS3",
            "PS2",
            "DS",
            "DS",
            "PS2",
            "PSP",
            "X360",
            "DS",
            "DS",
            "PS2",
            "DS",
            "Wii",
            "PS3",
            "PSP",
            "DS",
            "X360",
            "DS",
            "PS2",
            "PS3",
            "PS2",
            "PS2",
            "PS2",
            "PC",
            "PS2",
            "PC",
            "PS2",
            "PS3",
            "PS2",
            "PS2",
            "PS3",
            "PS2",
            "PS2",
            "DS",
            "Wii",
            "DS",
            "DS",
            "Wii",
            "PS2",
            "DS",
            "X360",
            "PS2",
            "PS2",
            "PS2",
            "DS",
            "Wii",
            "DS",
            "DS",
            "DS",
            "PC",
            "X360",
            "DS",
            "X360",
            "PSP",
            "DS",
            "PSP",
            "PC",
            "DS",
            "PS2",
            "PC",
            "Wii",
            "PS2",
            "X360",
            "X360",
            "PS2",
            "X360",
            "DS",
            "PSP",
            "Wii",
            "DS",
            "PSP",
            "DS",
            "Wii",
            "PS2",
            "X360",
            "DS",
            "PSP",
            "Wii",
            "DS",
            "X360",
            "X360",
            "DS",
            "DS",
            "PS2",
            "DS",
            "PC",
            "DS",
            "Wii",
            "Wii",
            "PS3",
            "Wii",
            "PS2",
            "DS",
            "DS",
            "PC",
            "DS",
            "PS2",
            "PS2",
            "PS3",
            "DS",
            "PS2",
            "DS",
            "PSP",
            "Wii",
            "DS",
            "Wii",
            "PS3",
            "Wii",
            "DS",
            "DS",
            "PS3",
            "DS",
            "PS2",
            "PS2",
            "PS3",
            "X360",
            "DS",
            "PS3",
            "Wii",
            "PS3",
            "Wii",
            "PC",
            "PSP",
            "Wii",
            "X360",
            "X360",
            "Wii",
            "X360",
            "PS3",
            "PSP",
            "PC",
            "DS",
            "DS",
            "Wii",
            "DS",
            "X360",
            "DS",
            "PC",
            "Wii",
            "DS",
            "DS",
            "PSP",
            "PSP",
            "DS",
            "Wii",
            "PS3",
            "X360",
            "PS3",
            "PC",
            "Wii",
            "DS",
            "PS3",
            "PS2",
            "PS3",
            "DS",
            "DS",
            "PS2",
            "Wii",
            "PC",
            "Wii",
            "PS3",
            "PSP",
            "Wii",
            "DS",
            "PS2",
            "Wii",
            "X360",
            "Wii",
            "PC",
            "DS",
            "DS",
            "X360",
            "DS",
            "PS2",
            "Wii",
            "PS3",
            "PC",
            "PC",
            "PS2",
            "PS3",
            "DS",
            "DS",
            "DS",
            "PS3",
            "Wii",
            "Wii",
            "PS3",
            "Wii",
            "DS",
            "DS",
            "PC",
            "X360",
            "DS",
            "DS",
            "PS2",
            "DS",
            "PC",
            "DS",
            "X360",
            "PSP",
            "PSP",
            "PS2",
            "DS",
            "PS2",
            "Wii",
            "DS",
            "X360",
            "PSP",
            "Wii",
            "DS",
            "PS2",
            "Wii",
            "PSP",
            "PS2",
            "PS2",
            "DS",
            "PS2",
            "Wii",
            "Wii",
            "PC",
            "X360",
            "DS",
            "DS",
            "DS",
            "DS",
            "PS3",
            "DS",
            "DS",
            "PSP",
            "X360",
            "PSP",
            "Wii",
            "PS2",
            "Wii",
            "DS",
            "DS",
            "PSP",
            "PS3",
            "X360",
            "DS",
            "PS2",
            "Wii",
            "X360",
            "X360",
            "DS",
            "X360",
            "PS3",
            "Wii",
            "PS2",
            "DS",
            "DS",
            "Wii",
            "PS2",
            "Wii",
            "DS",
            "DS",
            "DS",
            "DS",
            "PS3",
            "DS",
            "Wii",
            "Wii",
            "DS",
            "DS",
            "PS3",
            "Wii",
            "PS2",
            "Wii",
            "PC",
            "PS3",
            "DS",
            "DS",
            "Wii",
            "PSP",
            "DS",
            "DS",
            "DS",
            "DS",
            "DS",
            "Wii",
            "DS",
            "Wii",
            "Wii",
            "PS2",
            "PSP",
            "Wii",
            "DS",
            "X360",
            "PSP",
            "DS",
            "DS",
            "PS2",
            "X360",
            "X360",
            "X360",
            "PS2",
            "PS3",
            "PS2",
            "Wii",
            "PS2",
            "X360",
            "PS2",
            "DS",
            "PS2",
            "Wii",
            "Wii",
            "PS3",
            "Wii",
            "X360",
            "PC",
            "Wii",
            "DS",
            "PS2",
            "PSP",
            "Wii",
            "DS",
            "X360",
            "PS2",
            "PS3",
            "PS2",
            "DS",
            "DS",
            "Wii",
            "X360",
            "Wii",
            "PSP",
            "PSP",
            "PS3",
            "DS",
            "Wii",
            "PS3",
            "DS",
            "PS3",
            "DS",
            "DS",
            "DS",
            "DS",
            "Wii",
            "PS2",
            "X360",
            "PSP",
            "X360",
            "PC",
            "PS3",
            "PS2",
            "DS",
            "X360",
            "PS2",
            "Wii",
            "PS2",
            "PS3",
            "DS",
            "X360",
            "PC",
            "PC",
            "Wii",
            "X360",
            "DS",
            "PS2",
            "Wii",
            "PS3",
            "Wii",
            "DS",
            "DS",
            "PSP",
            "Wii",
            "PC",
            "DS",
            "X360",
            "Wii",
            "Wii",
            "DS",
            "Wii",
            "DS",
            "DS",
            "PC",
            "Wii",
            "PS2",
            "PSP",
            "PS2",
            "PC",
            "Wii",
            "DS",
            "PS3",
            "DS",
            "DS",
            "PS2",
            "PS2",
            "DS",
            "DS",
            "Wii",
            "DS",
            "PS3",
            "PS3",
            "DS",
            "DS",
            "DS",
            "DS",
            "DS",
            "Wii",
            "X360",
            "PS3",
            "PS3",
            "X360",
            "Wii",
            "DS",
            "PSP",
            "Wii",
            "DS",
            "PSP",
            "Wii",
            "Wii",
            "DS",
            "X360",
            "Wii",
            "DS",
            "DS",
            "DS",
            "PS2",
            "DS",
            "PS3",
            "DS",
            "Wii",
            "DS",
            "PS3",
            "DS",
            "PS2",
            "PS2",
            "X360",
            "DS",
            "Wii",
            "PS2",
            "Wii",
            "DS",
            "DS",
            "DS",
            "Wii"
           ],
           "xaxis": "x",
           "yaxis": "y"
          }
         ],
         "name": "2008"
        },
        {
         "data": [
          {
           "alignmentgroup": "True",
           "bingroup": "x",
           "hovertemplate": "Year_of_Release=2009<br>Platform=%{x}<br>count=%{y}<extra></extra>",
           "legendgroup": "",
           "marker": {
            "color": "#636efa",
            "pattern": {
             "shape": ""
            }
           },
           "name": "",
           "offsetgroup": "",
           "orientation": "v",
           "showlegend": false,
           "type": "histogram",
           "x": [
            "X360",
            "Wii",
            "PC",
            "Wii",
            "Wii",
            "PS2",
            "Wii",
            "PSP",
            "DS",
            "PSP",
            "Wii",
            "DS",
            "Wii",
            "PS3",
            "DS",
            "DS",
            "DS",
            "Wii",
            "DS",
            "DS",
            "DS",
            "Wii",
            "PC",
            "PC",
            "PSP",
            "Wii",
            "Wii",
            "DS",
            "DS",
            "X360",
            "DS",
            "Wii",
            "DS",
            "PC",
            "PC",
            "PS2",
            "Wii",
            "PC",
            "DS",
            "PSP",
            "DS",
            "PSP",
            "PS3",
            "X360",
            "DS",
            "PC",
            "PC",
            "PC",
            "X360",
            "DS",
            "DS",
            "PSP",
            "PSP",
            "DS",
            "X360",
            "DS",
            "PS2",
            "Wii",
            "Wii",
            "Wii",
            "DS",
            "PS2",
            "DS",
            "DS",
            "PC",
            "DS",
            "PC",
            "DS",
            "Wii",
            "Wii",
            "DS",
            "DS",
            "DS",
            "DS",
            "PSP",
            "Wii",
            "PSP",
            "PS3",
            "DS",
            "PC",
            "PSP",
            "PC",
            "Wii",
            "Wii",
            "Wii",
            "PC",
            "Wii",
            "Wii",
            "PS2",
            "DS",
            "PC",
            "PSP",
            "DS",
            "PC",
            "DS",
            "DS",
            "PSP",
            "Wii",
            "DS",
            "DS",
            "DS",
            "DS",
            "DS",
            "PSP",
            "DS",
            "PSP",
            "DS",
            "DS",
            "PS2",
            "DS",
            "DS",
            "PC",
            "PSP",
            "DS",
            "Wii",
            "X360",
            "PC",
            "Wii",
            "PC",
            "PSP",
            "Wii",
            "DS",
            "DS",
            "PS2",
            "PC",
            "DS",
            "Wii",
            "DS",
            "Wii",
            "PC",
            "PC",
            "X360",
            "DS",
            "DS",
            "Wii",
            "PS3",
            "PS2",
            "DS",
            "Wii",
            "PS2",
            "PS3",
            "Wii",
            "Wii",
            "PS3",
            "PS2",
            "Wii",
            "PC",
            "DS",
            "DS",
            "PSP",
            "X360",
            "PS3",
            "PC",
            "PC",
            "DS",
            "Wii",
            "PS2",
            "Wii",
            "Wii",
            "PC",
            "Wii",
            "DS",
            "Wii",
            "DS",
            "PSP",
            "DS",
            "PSP",
            "PC",
            "PS2",
            "DS",
            "PC",
            "PSP",
            "PS2",
            "Wii",
            "PSP",
            "Wii",
            "DS",
            "Wii",
            "PC",
            "PC",
            "DS",
            "PC",
            "DS",
            "PSP",
            "DS",
            "PS3",
            "PS3",
            "DS",
            "PSP",
            "Wii",
            "PS2",
            "PSP",
            "PSP",
            "PC",
            "DS",
            "Wii",
            "PC",
            "DS",
            "Wii",
            "DS",
            "PC",
            "DS",
            "DS",
            "PSP",
            "Wii",
            "PSP",
            "Wii",
            "DS",
            "DS",
            "DS",
            "X360",
            "DS",
            "DS",
            "X360",
            "DS",
            "PS3",
            "Wii",
            "Wii",
            "PSP",
            "DS",
            "PC",
            "PSP",
            "PS3",
            "X360",
            "PC",
            "PC",
            "DS",
            "PSP",
            "DS",
            "Wii",
            "PC",
            "PC",
            "PS3",
            "PC",
            "DS",
            "Wii",
            "DS",
            "PS2",
            "PC",
            "PS2",
            "DS",
            "DS",
            "X360",
            "DS",
            "PSP",
            "DS",
            "PS3",
            "Wii",
            "PSP",
            "PS2",
            "DS",
            "PC",
            "Wii",
            "DS",
            "Wii",
            "PSP",
            "PSP",
            "PS3",
            "PSP",
            "DS",
            "PC",
            "Wii",
            "DS",
            "PS3",
            "PC",
            "DS",
            "DS",
            "PS3",
            "PSP",
            "Wii",
            "DS",
            "PC",
            "DS",
            "X360",
            "PSP",
            "X360",
            "Wii",
            "PC",
            "PS3",
            "PSP",
            "DS",
            "PS2",
            "PS2",
            "PS2",
            "DS",
            "DS",
            "PC",
            "PSP",
            "PC",
            "PS3",
            "DS",
            "PC",
            "DS",
            "DS",
            "DS",
            "X360",
            "PSP",
            "Wii",
            "DS",
            "PC",
            "DS",
            "X360",
            "Wii",
            "PSP",
            "PC",
            "Wii",
            "PSP",
            "PSP",
            "DS",
            "DS",
            "DS",
            "X360",
            "DS",
            "Wii",
            "Wii",
            "Wii",
            "DS",
            "Wii",
            "Wii",
            "PSP",
            "DS",
            "PC",
            "PC",
            "DS",
            "DS",
            "DS",
            "DS",
            "Wii",
            "PC",
            "Wii",
            "Wii",
            "X360",
            "DS",
            "PC",
            "PC",
            "PC",
            "Wii",
            "DS",
            "PSP",
            "PC",
            "PSP",
            "X360",
            "PS3",
            "Wii",
            "PS2",
            "DS",
            "Wii",
            "PC",
            "Wii",
            "X360",
            "X360",
            "PSP",
            "PC",
            "PS2",
            "DS",
            "DS",
            "PSP",
            "DS",
            "DS",
            "PS3",
            "Wii",
            "Wii",
            "PSP",
            "DS",
            "PC",
            "PC",
            "X360",
            "PC",
            "DS",
            "DS",
            "DS",
            "PS3",
            "DS",
            "DS",
            "PSP",
            "Wii",
            "DS",
            "PSP",
            "X360",
            "DS",
            "DS",
            "PS2",
            "Wii",
            "DS",
            "DS",
            "PSP",
            "PS2",
            "PSP",
            "PC",
            "DS",
            "DS",
            "PC",
            "DS",
            "PSP",
            "DS",
            "PS2",
            "PSP",
            "PC",
            "DS",
            "PC",
            "PSP",
            "PS2",
            "Wii",
            "DS",
            "DS",
            "DS",
            "PSP",
            "Wii",
            "PSP",
            "PSP",
            "X360",
            "X360",
            "PSP",
            "DS",
            "Wii",
            "PC",
            "DS",
            "PSP",
            "Wii",
            "DS",
            "PSP",
            "PC",
            "PSP",
            "DS",
            "DS",
            "DS",
            "DS",
            "PSP",
            "PSP",
            "DS",
            "PSP",
            "DS",
            "PSP",
            "PC",
            "X360",
            "PS2",
            "Wii",
            "DS",
            "DS",
            "DS",
            "DS",
            "DS",
            "Wii",
            "Wii",
            "DS",
            "PS2",
            "PSP",
            "Wii",
            "DS",
            "PSP",
            "PC",
            "PC",
            "DS",
            "Wii",
            "DS",
            "DS",
            "DS",
            "PC",
            "PS3",
            "Wii",
            "X360",
            "PSP",
            "Wii",
            "DS",
            "PS2",
            "PSP",
            "DS",
            "Wii",
            "PSP",
            "DS",
            "DS",
            "PC",
            "PS2",
            "DS",
            "DS",
            "Wii",
            "Wii",
            "DS",
            "DS",
            "DS",
            "X360",
            "PSP",
            "DS",
            "PS3",
            "DS",
            "DS",
            "Wii",
            "DS",
            "PS3",
            "PC",
            "PC",
            "PC",
            "PC",
            "PS2",
            "PS3",
            "X360",
            "DS",
            "DS",
            "PSP",
            "X360",
            "PSP",
            "DS",
            "DS",
            "PSP",
            "PC",
            "PSP",
            "PC",
            "DS",
            "PSP",
            "PSP",
            "PC",
            "PC",
            "X360",
            "PSP",
            "DS",
            "PS3",
            "X360",
            "PC",
            "Wii",
            "PSP",
            "DS",
            "DS",
            "DS",
            "Wii",
            "PS2",
            "DS",
            "PS2",
            "X360",
            "Wii",
            "PSP",
            "DS",
            "Wii",
            "PSP",
            "DS",
            "X360",
            "Wii",
            "DS",
            "PSP",
            "Wii",
            "PSP",
            "PS2",
            "DS",
            "DS",
            "Wii",
            "DS",
            "Wii",
            "DS",
            "DS",
            "X360",
            "Wii",
            "PS2",
            "DS",
            "PC",
            "PSP",
            "PC",
            "PSP",
            "PC",
            "Wii",
            "PS2",
            "PC",
            "PC",
            "PC",
            "DS",
            "DS",
            "Wii",
            "DS",
            "DS",
            "X360",
            "PSP",
            "PS3",
            "PS3",
            "X360",
            "PS2",
            "PS2",
            "X360",
            "DS",
            "Wii",
            "DS",
            "Wii",
            "Wii",
            "PS2",
            "PSP",
            "Wii",
            "X360",
            "DS",
            "PS3",
            "PS3",
            "X360",
            "Wii",
            "X360",
            "DS",
            "PS3",
            "Wii",
            "DS",
            "X360",
            "DS",
            "DS",
            "PS3",
            "Wii",
            "X360",
            "DS",
            "X360",
            "DS",
            "PS3",
            "PSP",
            "PSP",
            "DS",
            "DS",
            "X360",
            "DS",
            "X360",
            "PS3",
            "PS2",
            "PS2",
            "DS",
            "Wii",
            "PSP",
            "DS",
            "PSP",
            "DS",
            "PS2",
            "Wii",
            "Wii",
            "PS2",
            "DS",
            "PC",
            "DS",
            "X360",
            "DS",
            "PSP",
            "DS",
            "PSP",
            "PS3",
            "X360",
            "PS2",
            "PSP",
            "X360",
            "DS",
            "Wii",
            "DS",
            "Wii",
            "PS2",
            "DS",
            "PS3",
            "X360",
            "PS2",
            "X360",
            "X360",
            "Wii",
            "Wii",
            "X360",
            "Wii",
            "Wii",
            "PS3",
            "PS3",
            "Wii",
            "DS",
            "Wii",
            "X360",
            "PSP",
            "PS3",
            "DS",
            "DS",
            "X360",
            "X360",
            "DS",
            "X360",
            "X360",
            "Wii",
            "PS3",
            "Wii",
            "PS2",
            "DS",
            "DS",
            "Wii",
            "DS",
            "X360",
            "PS3",
            "X360",
            "DS",
            "DS",
            "Wii",
            "PS3",
            "Wii",
            "DS",
            "Wii",
            "PS3",
            "Wii",
            "X360",
            "DS",
            "X360",
            "PS3",
            "DS",
            "PS2",
            "X360",
            "PSP",
            "DS",
            "DS",
            "X360",
            "Wii",
            "Wii",
            "PSP",
            "DS",
            "DS",
            "PS3",
            "Wii",
            "PS2",
            "DS",
            "X360",
            "PS3",
            "X360",
            "DS",
            "PSP",
            "Wii",
            "PSP",
            "DS",
            "Wii",
            "Wii",
            "X360",
            "X360",
            "Wii",
            "PS3",
            "Wii",
            "DS",
            "PS3",
            "PS3",
            "PSP",
            "DS",
            "PS3",
            "DS",
            "PC",
            "DS",
            "PSP",
            "DS",
            "PSP",
            "PS3",
            "Wii",
            "PC",
            "DS",
            "DS",
            "DS",
            "Wii",
            "PS2",
            "PS3",
            "DS",
            "Wii",
            "Wii",
            "DS",
            "PSP",
            "PS2",
            "Wii",
            "PS3",
            "PS3",
            "DS",
            "Wii",
            "PSP",
            "Wii",
            "DS",
            "DS",
            "DS",
            "X360",
            "DS",
            "DS",
            "DS",
            "Wii",
            "DS",
            "X360",
            "Wii",
            "DS",
            "Wii",
            "PS3",
            "Wii",
            "DS",
            "Wii",
            "PS3",
            "Wii",
            "PS2",
            "Wii",
            "PS2",
            "Wii",
            "Wii",
            "Wii",
            "PSP",
            "PSP",
            "PC",
            "PS3",
            "X360",
            "Wii",
            "Wii",
            "X360",
            "PS3",
            "X360",
            "PS3",
            "X360",
            "X360",
            "PS2",
            "PS2",
            "DS",
            "PC",
            "PS3",
            "Wii",
            "Wii",
            "X360",
            "X360",
            "Wii",
            "Wii",
            "PS2",
            "Wii",
            "DS",
            "PS3",
            "PS3",
            "X360",
            "PS3",
            "DS",
            "DS",
            "Wii",
            "DS",
            "Wii",
            "X360",
            "DS",
            "PS3",
            "DS",
            "PS3",
            "Wii",
            "PS3",
            "PS3",
            "DS",
            "X360",
            "DS",
            "DS",
            "X360",
            "DS",
            "PS3",
            "DS",
            "X360",
            "DS",
            "PC",
            "Wii",
            "DS",
            "Wii",
            "Wii",
            "Wii",
            "Wii",
            "X360",
            "Wii",
            "PS3",
            "Wii",
            "PS2",
            "X360",
            "DS",
            "DS",
            "PS3",
            "Wii",
            "PS3",
            "DS",
            "DS",
            "Wii",
            "DS",
            "Wii",
            "Wii",
            "Wii",
            "PS3",
            "PS3",
            "Wii",
            "PS2",
            "PSP",
            "PS3",
            "DS",
            "PS2",
            "Wii",
            "Wii",
            "DS",
            "Wii",
            "Wii",
            "DS",
            "X360",
            "X360",
            "Wii",
            "Wii",
            "X360",
            "X360",
            "X360",
            "DS",
            "DS",
            "Wii",
            "X360",
            "PSP",
            "PS3",
            "DS",
            "Wii",
            "X360",
            "X360",
            "X360",
            "PC",
            "PS3",
            "Wii",
            "Wii",
            "X360",
            "PC",
            "PSP",
            "PS3",
            "Wii",
            "PS2",
            "DS",
            "PSP",
            "Wii",
            "PSP",
            "Wii",
            "Wii",
            "DS",
            "Wii",
            "PSP",
            "PSP",
            "PS3",
            "DS",
            "PS3",
            "DS",
            "PS3",
            "DS",
            "Wii",
            "X360",
            "PS3",
            "Wii",
            "Wii",
            "Wii",
            "DS",
            "DS",
            "DS",
            "PS2",
            "Wii",
            "DS",
            "PSP",
            "DS",
            "DS",
            "PS2",
            "DS",
            "PC",
            "DS",
            "DS",
            "DS",
            "Wii",
            "PS3",
            "Wii",
            "DS",
            "Wii",
            "PS3",
            "PS2",
            "DS",
            "X360",
            "Wii",
            "Wii",
            "PSP",
            "Wii",
            "PS3",
            "PS3",
            "Wii",
            "Wii",
            "Wii",
            "Wii",
            "X360",
            "PS2",
            "PS3",
            "Wii",
            "DS",
            "PS3",
            "X360",
            "PSP",
            "X360",
            "X360",
            "DS",
            "Wii",
            "PSP",
            "DS",
            "DS",
            "DS",
            "Wii",
            "DS",
            "Wii",
            "X360",
            "PSP",
            "X360",
            "DS",
            "Wii",
            "PS2",
            "Wii",
            "Wii",
            "PS3",
            "DS",
            "PS3",
            "PS2",
            "DS",
            "X360",
            "DS",
            "DS",
            "DS",
            "X360",
            "X360",
            "DS",
            "PS3",
            "Wii",
            "Wii",
            "DS",
            "DS",
            "Wii",
            "PS3",
            "PSP",
            "DS",
            "X360",
            "PS3",
            "Wii",
            "Wii",
            "Wii",
            "Wii",
            "DS",
            "Wii",
            "PS2",
            "Wii",
            "Wii",
            "PSP",
            "PSP",
            "PSP",
            "Wii",
            "Wii",
            "X360",
            "Wii",
            "PS3",
            "PS2",
            "PS3",
            "PS3",
            "Wii",
            "DS",
            "Wii",
            "X360",
            "PC",
            "X360",
            "PS2",
            "Wii",
            "PS3",
            "Wii",
            "PSP",
            "PS2",
            "PS3",
            "DS",
            "PS2",
            "PS3",
            "X360",
            "PSP",
            "DS",
            "Wii",
            "PSP",
            "X360",
            "PS3",
            "Wii",
            "Wii",
            "DS",
            "PS2",
            "PS2",
            "PS3",
            "Wii",
            "PS3",
            "PS3",
            "X360",
            "PSP",
            "DS",
            "X360",
            "DS",
            "PS3",
            "PSP",
            "DS",
            "PS3",
            "PSP",
            "Wii",
            "PS3",
            "PS3",
            "DS",
            "DS",
            "X360",
            "DS",
            "X360",
            "X360",
            "Wii",
            "PSP",
            "Wii",
            "X360",
            "PS2",
            "DS",
            "Wii",
            "X360",
            "X360",
            "Wii",
            "X360",
            "X360",
            "PSP",
            "PS3",
            "PSP",
            "PS3",
            "DS",
            "PS3",
            "Wii",
            "DS",
            "PS3",
            "X360",
            "X360",
            "DS",
            "X360",
            "Wii",
            "Wii",
            "X360",
            "PS3",
            "PS2",
            "Wii",
            "Wii",
            "PS2",
            "PSP",
            "PSP",
            "Wii",
            "PS2",
            "DS",
            "DS",
            "Wii",
            "DS",
            "X360",
            "Wii",
            "PS3",
            "PSP",
            "PC",
            "PS3",
            "DS",
            "DS",
            "PC",
            "PS3",
            "Wii",
            "Wii",
            "DS",
            "X360",
            "Wii",
            "PS3",
            "X360",
            "Wii",
            "PS3",
            "PS2",
            "PSP",
            "DS",
            "PC",
            "Wii",
            "PS2",
            "DS",
            "Wii",
            "Wii",
            "PS3",
            "PSP",
            "Wii",
            "Wii",
            "PC",
            "Wii",
            "PSP",
            "DS",
            "Wii",
            "Wii",
            "Wii",
            "PS3",
            "DS",
            "PS2",
            "Wii",
            "PS2",
            "DS",
            "Wii",
            "PS3",
            "X360",
            "X360",
            "X360",
            "Wii",
            "PSP",
            "DS",
            "PS3",
            "X360",
            "Wii",
            "DS",
            "DS",
            "DS",
            "Wii",
            "X360",
            "Wii",
            "PS3",
            "PS3",
            "Wii",
            "PS2",
            "DS",
            "Wii",
            "PS2",
            "DS",
            "PSP",
            "X360",
            "Wii",
            "Wii",
            "Wii",
            "X360",
            "PSP",
            "PS3",
            "DS",
            "PSP",
            "Wii",
            "PS3",
            "Wii",
            "DS",
            "PSP",
            "PS3",
            "Wii",
            "X360",
            "X360",
            "DS",
            "DS",
            "PSP",
            "Wii",
            "DS",
            "DS",
            "X360",
            "DS",
            "X360",
            "Wii",
            "PSP",
            "Wii",
            "Wii",
            "PSP",
            "DS",
            "DS",
            "DS",
            "DS",
            "Wii",
            "PSP",
            "PS2",
            "X360",
            "DS",
            "X360",
            "Wii",
            "PS3",
            "X360",
            "Wii",
            "DS",
            "DS",
            "PS2",
            "DS",
            "Wii",
            "PS3",
            "PC",
            "PS3",
            "DS",
            "Wii",
            "PS3",
            "Wii",
            "PS3",
            "Wii",
            "PS2",
            "Wii",
            "Wii",
            "Wii",
            "PS2",
            "X360",
            "PS3",
            "PS3",
            "Wii",
            "PS2",
            "Wii",
            "Wii",
            "PS3",
            "Wii",
            "Wii",
            "Wii",
            "DS",
            "DS",
            "PS3",
            "PS3",
            "X360",
            "PS3",
            "PS3",
            "DS",
            "DS",
            "PSP",
            "PS3",
            "Wii",
            "PS3",
            "PC",
            "PS3",
            "Wii",
            "DS",
            "DS",
            "Wii",
            "Wii",
            "PS2",
            "PSP",
            "PS3",
            "Wii",
            "Wii",
            "X360",
            "DS",
            "DS",
            "PC",
            "Wii",
            "X360",
            "PSP",
            "X360",
            "Wii",
            "Wii",
            "X360",
            "PS3",
            "DS",
            "DS",
            "PS2",
            "PS2",
            "X360",
            "DS",
            "PS3",
            "X360",
            "Wii",
            "PC",
            "DS",
            "X360",
            "Wii",
            "DS",
            "DS",
            "PSP",
            "X360",
            "X360",
            "DS",
            "DS",
            "PS2",
            "Wii",
            "DS",
            "DS",
            "DS",
            "X360",
            "PSP",
            "PS3",
            "X360",
            "Wii",
            "DS",
            "DS",
            "X360",
            "PS3",
            "X360",
            "DS",
            "X360",
            "PSP",
            "DS",
            "X360",
            "DS",
            "PS2",
            "X360",
            "DS",
            "DS",
            "Wii",
            "PSP",
            "X360",
            "PS3",
            "DS",
            "PS2",
            "PS2",
            "PS3",
            "DS",
            "PS3",
            "DS",
            "PS3",
            "PSP",
            "PS3",
            "Wii",
            "PS3",
            "PSP",
            "Wii",
            "Wii",
            "DS",
            "DS",
            "DS",
            "Wii",
            "Wii",
            "DS",
            "DS",
            "PS3",
            "Wii",
            "PS3",
            "X360",
            "PS3",
            "PS3",
            "Wii",
            "Wii",
            "Wii",
            "Wii",
            "PS3",
            "X360",
            "PSP",
            "PSP",
            "DS",
            "DS",
            "X360",
            "Wii",
            "PS3",
            "X360",
            "DS",
            "DS",
            "PSP",
            "DS",
            "Wii",
            "PS3",
            "PS2",
            "Wii",
            "Wii",
            "X360",
            "X360",
            "X360",
            "DS",
            "PS3",
            "X360",
            "Wii",
            "DS",
            "X360",
            "X360",
            "Wii",
            "DS",
            "PSP",
            "DS",
            "X360",
            "DS",
            "PS3",
            "PS3",
            "Wii",
            "Wii",
            "PS3"
           ],
           "xaxis": "x",
           "yaxis": "y"
          }
         ],
         "name": "2009"
        },
        {
         "data": [
          {
           "alignmentgroup": "True",
           "bingroup": "x",
           "hovertemplate": "Year_of_Release=2010<br>Platform=%{x}<br>count=%{y}<extra></extra>",
           "legendgroup": "",
           "marker": {
            "color": "#636efa",
            "pattern": {
             "shape": ""
            }
           },
           "name": "",
           "offsetgroup": "",
           "orientation": "v",
           "showlegend": false,
           "type": "histogram",
           "x": [
            "Wii",
            "Wii",
            "PS3",
            "X360",
            "PS2",
            "DS",
            "Wii",
            "PS3",
            "X360",
            "PC",
            "PSP",
            "DS",
            "PSP",
            "Wii",
            "PS2",
            "DS",
            "Wii",
            "PS3",
            "PC",
            "PSP",
            "PC",
            "Wii",
            "DS",
            "PSP",
            "PC",
            "PS3",
            "DS",
            "PSP",
            "X360",
            "Wii",
            "PS3",
            "PSP",
            "Wii",
            "PS2",
            "Wii",
            "PS3",
            "X360",
            "Wii",
            "PS3",
            "X360",
            "Wii",
            "DS",
            "PS3",
            "DS",
            "DS",
            "Wii",
            "X360",
            "DS",
            "PSP",
            "PC",
            "PC",
            "Wii",
            "PS2",
            "Wii",
            "DS",
            "PSP",
            "Wii",
            "PSP",
            "DS",
            "PSP",
            "DS",
            "PS3",
            "Wii",
            "PS3",
            "PSP",
            "PS3",
            "PSP",
            "DS",
            "PS3",
            "DS",
            "PS3",
            "DS",
            "Wii",
            "PC",
            "DS",
            "DS",
            "PS3",
            "PSP",
            "Wii",
            "PSP",
            "DS",
            "PSP",
            "Wii",
            "PSP",
            "PSP",
            "PS3",
            "DS",
            "Wii",
            "PSP",
            "PC",
            "Wii",
            "PS3",
            "PC",
            "DS",
            "PSP",
            "PC",
            "X360",
            "PSP",
            "PC",
            "PS3",
            "DS",
            "DS",
            "Wii",
            "DS",
            "DS",
            "DS",
            "PS3",
            "PSP",
            "Wii",
            "Wii",
            "X360",
            "DS",
            "PC",
            "PS3",
            "PC",
            "X360",
            "DS",
            "PS3",
            "X360",
            "PSP",
            "PSP",
            "Wii",
            "PS3",
            "PS3",
            "PC",
            "Wii",
            "Wii",
            "X360",
            "PSP",
            "X360",
            "Wii",
            "PS3",
            "Wii",
            "DS",
            "Wii",
            "PSP",
            "DS",
            "PS3",
            "DS",
            "PC",
            "PSP",
            "DS",
            "PSP",
            "PS2",
            "Wii",
            "Wii",
            "PS3",
            "X360",
            "PSP",
            "X360",
            "X360",
            "Wii",
            "X360",
            "Wii",
            "DS",
            "X360",
            "DS",
            "DS",
            "DS",
            "DS",
            "PS2",
            "PSP",
            "DS",
            "PS3",
            "PSP",
            "PC",
            "X360",
            "X360",
            "DS",
            "PS3",
            "PSP",
            "PS3",
            "Wii",
            "DS",
            "Wii",
            "Wii",
            "Wii",
            "PS3",
            "DS",
            "PSP",
            "PS2",
            "DS",
            "X360",
            "DS",
            "DS",
            "X360",
            "PS3",
            "DS",
            "DS",
            "PSP",
            "PC",
            "X360",
            "DS",
            "PC",
            "Wii",
            "PS3",
            "PS2",
            "PS3",
            "Wii",
            "PC",
            "DS",
            "PS3",
            "PSP",
            "PSP",
            "Wii",
            "X360",
            "X360",
            "Wii",
            "PS3",
            "X360",
            "PSP",
            "X360",
            "Wii",
            "DS",
            "PSP",
            "DS",
            "Wii",
            "Wii",
            "PSP",
            "PS3",
            "PC",
            "X360",
            "X360",
            "PS3",
            "PS3",
            "Wii",
            "PSP",
            "X360",
            "Wii",
            "PS3",
            "Wii",
            "DS",
            "Wii",
            "Wii",
            "DS",
            "PC",
            "X360",
            "PC",
            "Wii",
            "DS",
            "PS2",
            "Wii",
            "PSP",
            "Wii",
            "X360",
            "X360",
            "DS",
            "X360",
            "Wii",
            "DS",
            "DS",
            "DS",
            "Wii",
            "X360",
            "Wii",
            "PS3",
            "PS3",
            "DS",
            "PS3",
            "Wii",
            "DS",
            "PSP",
            "Wii",
            "PS2",
            "Wii",
            "PC",
            "PSP",
            "PC",
            "PS3",
            "DS",
            "Wii",
            "PSP",
            "PSP",
            "Wii",
            "PS3",
            "PS3",
            "DS",
            "Wii",
            "PSP",
            "DS",
            "PSP",
            "X360",
            "DS",
            "PSP",
            "DS",
            "DS",
            "DS",
            "PS3",
            "X360",
            "Wii",
            "DS",
            "Wii",
            "DS",
            "PSP",
            "Wii",
            "Wii",
            "PS2",
            "Wii",
            "PS2",
            "Wii",
            "DS",
            "DS",
            "X360",
            "Wii",
            "DS",
            "DS",
            "Wii",
            "PS3",
            "Wii",
            "DS",
            "PSP",
            "PC",
            "Wii",
            "Wii",
            "Wii",
            "PS3",
            "X360",
            "DS",
            "PSP",
            "X360",
            "DS",
            "X360",
            "Wii",
            "PS3",
            "PSP",
            "PS3",
            "DS",
            "DS",
            "PSP",
            "DS",
            "PC",
            "DS",
            "DS",
            "X360",
            "X360",
            "Wii",
            "X360",
            "DS",
            "DS",
            "Wii",
            "Wii",
            "X360",
            "DS",
            "Wii",
            "PSP",
            "X360",
            "Wii",
            "Wii",
            "X360",
            "PSP",
            "PS3",
            "PS3",
            "DS",
            "DS",
            "DS",
            "PS3",
            "Wii",
            "Wii",
            "Wii",
            "DS",
            "DS",
            "DS",
            "Wii",
            "X360",
            "DS",
            "PS3",
            "Wii",
            "X360",
            "X360",
            "X360",
            "DS",
            "PSP",
            "DS",
            "X360",
            "PC",
            "PS3",
            "PS3",
            "Wii",
            "PS3",
            "PC",
            "Wii",
            "Wii",
            "PSP",
            "PS3",
            "PSP",
            "PSP",
            "DS",
            "Wii",
            "DS",
            "DS",
            "DS",
            "DS",
            "DS",
            "DS",
            "PS3",
            "PSP",
            "Wii",
            "X360",
            "DS",
            "PC",
            "Wii",
            "X360",
            "PC",
            "X360",
            "Wii",
            "DS",
            "PS3",
            "PS3",
            "X360",
            "PSP",
            "PS3",
            "Wii",
            "X360",
            "DS",
            "PC",
            "PSP",
            "Wii",
            "DS",
            "Wii",
            "DS",
            "PS3",
            "PS3",
            "Wii",
            "X360",
            "Wii",
            "X360",
            "Wii",
            "Wii",
            "Wii",
            "Wii",
            "X360",
            "Wii",
            "PS3",
            "PSP",
            "PSP",
            "Wii",
            "PC",
            "PS3",
            "X360",
            "PC",
            "PS2",
            "PS2",
            "PSP",
            "Wii",
            "DS",
            "PS3",
            "Wii",
            "PC",
            "PS3",
            "X360",
            "Wii",
            "PS3",
            "PSP",
            "PS3",
            "DS",
            "X360",
            "Wii",
            "Wii",
            "PC",
            "X360",
            "X360",
            "DS",
            "PS3",
            "PC",
            "PS3",
            "PSP",
            "X360",
            "DS",
            "Wii",
            "PS3",
            "PS3",
            "PSP",
            "DS",
            "PS2",
            "DS",
            "DS",
            "PC",
            "PSP",
            "DS",
            "Wii",
            "PS3",
            "DS",
            "PS3",
            "X360",
            "X360",
            "PC",
            "DS",
            "DS",
            "PSP",
            "PSP",
            "PS2",
            "PS2",
            "PSP",
            "Wii",
            "PS3",
            "DS",
            "DS",
            "DS",
            "PS3",
            "DS",
            "PC",
            "PSP",
            "PS3",
            "PSP",
            "PSP",
            "DS",
            "PS3",
            "Wii",
            "PS3",
            "Wii",
            "PSP",
            "PSP",
            "X360",
            "Wii",
            "Wii",
            "PSP",
            "Wii",
            "PS3",
            "DS",
            "PS3",
            "X360",
            "X360",
            "PS2",
            "X360",
            "PSP",
            "PC",
            "X360",
            "X360",
            "Wii",
            "X360",
            "PSP",
            "Wii",
            "PC",
            "PC",
            "PS3",
            "PS2",
            "DS",
            "PS3",
            "PSP",
            "DS",
            "DS",
            "PS2",
            "DS",
            "PS3",
            "DS",
            "PS3",
            "Wii",
            "Wii",
            "PSP",
            "DS",
            "PS2",
            "DS",
            "DS",
            "X360",
            "Wii",
            "DS",
            "PSP",
            "DS",
            "X360",
            "Wii",
            "PS3",
            "PSP",
            "PC",
            "PC",
            "PSP",
            "PS3",
            "Wii",
            "DS",
            "PS3",
            "DS",
            "PSP",
            "DS",
            "DS",
            "Wii",
            "X360",
            "Wii",
            "PS3",
            "DS",
            "PSP",
            "PS3",
            "Wii",
            "Wii",
            "Wii",
            "PSP",
            "DS",
            "PS3",
            "PS3",
            "X360",
            "PC",
            "Wii",
            "DS",
            "DS",
            "X360",
            "DS",
            "Wii",
            "PS2",
            "PSP",
            "X360",
            "DS",
            "PS3",
            "PS3",
            "DS",
            "DS",
            "DS",
            "PC",
            "PSP",
            "X360",
            "PS3",
            "Wii",
            "PS3",
            "X360",
            "PSP",
            "Wii",
            "PSP",
            "PS3",
            "PC",
            "Wii",
            "Wii",
            "Wii",
            "DS",
            "Wii",
            "PS3",
            "PS3",
            "Wii",
            "PS3",
            "Wii",
            "PC",
            "PC",
            "PSP",
            "X360",
            "Wii",
            "Wii",
            "DS",
            "PSP",
            "X360",
            "PS2",
            "DS",
            "DS",
            "DS",
            "PSP",
            "DS",
            "Wii",
            "PC",
            "PS3",
            "X360",
            "PS3",
            "DS",
            "Wii",
            "Wii",
            "PS2",
            "X360",
            "PSP",
            "DS",
            "PS2",
            "DS",
            "X360",
            "PS3",
            "X360",
            "PSP",
            "DS",
            "DS",
            "PS3",
            "PS3",
            "DS",
            "DS",
            "PC",
            "Wii",
            "Wii",
            "Wii",
            "PSP",
            "DS",
            "DS",
            "DS",
            "Wii",
            "PSP",
            "DS",
            "PSP",
            "PS3",
            "DS",
            "X360",
            "PSP",
            "X360",
            "PS3",
            "PS2",
            "X360",
            "Wii",
            "PS3",
            "X360",
            "DS",
            "DS",
            "DS",
            "PSP",
            "X360",
            "PSP",
            "PSP",
            "DS",
            "DS",
            "PC",
            "PSP",
            "PC",
            "Wii",
            "X360",
            "DS",
            "PC",
            "PSP",
            "DS",
            "Wii",
            "Wii",
            "PSP",
            "DS",
            "PSP",
            "Wii",
            "X360",
            "PSP",
            "X360",
            "PC",
            "Wii",
            "X360",
            "PSP",
            "PSP",
            "DS",
            "DS",
            "DS",
            "X360",
            "Wii",
            "PS3",
            "X360",
            "PC",
            "DS",
            "PSP",
            "PC",
            "DS",
            "DS",
            "DS",
            "X360",
            "DS",
            "DS",
            "DS",
            "X360",
            "Wii",
            "DS",
            "Wii",
            "PSP",
            "PSP",
            "Wii",
            "Wii",
            "Wii",
            "PS3",
            "PS2",
            "DS",
            "PS3",
            "X360",
            "DS",
            "PS3",
            "PS3",
            "PS3",
            "DS",
            "Wii",
            "X360",
            "PC",
            "PSP",
            "X360",
            "DS",
            "Wii",
            "Wii",
            "PS3",
            "X360",
            "DS",
            "DS",
            "PS3",
            "DS",
            "PSP",
            "PSP",
            "PSP",
            "X360",
            "X360",
            "PSP",
            "X360",
            "DS",
            "Wii",
            "X360",
            "Wii",
            "DS",
            "PSP",
            "X360",
            "DS",
            "PS3",
            "X360",
            "PSP",
            "PC",
            "PSP",
            "X360",
            "PSP",
            "X360",
            "DS",
            "X360",
            "Wii",
            "DS",
            "DS",
            "X360",
            "X360",
            "Wii",
            "Wii",
            "X360",
            "DS",
            "DS",
            "DS",
            "PSP",
            "Wii",
            "PSP",
            "X360",
            "DS",
            "PSP",
            "X360",
            "DS",
            "PS3",
            "PSP",
            "PSP",
            "DS",
            "Wii",
            "PS3",
            "DS",
            "DS",
            "DS",
            "PS2",
            "Wii",
            "DS",
            "PS3",
            "X360",
            "PC",
            "PSP",
            "DS",
            "Wii",
            "X360",
            "PC",
            "Wii",
            "X360",
            "Wii",
            "Wii",
            "PSP",
            "DS",
            "DS",
            "Wii",
            "Wii",
            "PS3",
            "PS3",
            "PSP",
            "Wii",
            "X360",
            "DS",
            "PSP",
            "X360",
            "DS",
            "PS3",
            "DS",
            "DS",
            "PS3",
            "PSP",
            "Wii",
            "PC",
            "DS",
            "Wii",
            "PS3",
            "Wii",
            "Wii",
            "DS",
            "DS",
            "PSP",
            "X360",
            "DS",
            "PC",
            "DS",
            "PSP",
            "DS",
            "Wii",
            "PSP",
            "PS3",
            "DS",
            "DS",
            "PC",
            "PS3",
            "X360",
            "PS2",
            "DS",
            "PC",
            "PS2",
            "X360",
            "PS3",
            "PS3",
            "DS",
            "Wii",
            "DS",
            "X360",
            "X360",
            "DS",
            "X360",
            "PSP",
            "PS3",
            "Wii",
            "Wii",
            "Wii",
            "DS",
            "DS",
            "DS",
            "DS",
            "PS2",
            "DS",
            "DS",
            "PSP",
            "Wii",
            "PS2",
            "X360",
            "X360",
            "X360",
            "DS",
            "DS",
            "Wii",
            "Wii",
            "DS",
            "Wii",
            "PS3",
            "PS3",
            "X360",
            "X360",
            "X360",
            "DS",
            "Wii",
            "DS",
            "PSP",
            "X360",
            "X360",
            "DS",
            "X360",
            "PS2",
            "PSP",
            "X360",
            "DS",
            "X360",
            "DS",
            "X360",
            "DS",
            "DS",
            "Wii",
            "PS3",
            "DS",
            "Wii",
            "PSP",
            "DS",
            "PSP",
            "PSP",
            "Wii",
            "X360",
            "PSP",
            "DS",
            "X360",
            "PSP",
            "X360",
            "PSP",
            "Wii",
            "PSP",
            "DS",
            "DS",
            "PS2",
            "PSP",
            "Wii",
            "PS3",
            "DS",
            "X360",
            "DS",
            "X360",
            "PS3",
            "PS3",
            "X360",
            "X360",
            "DS",
            "PSP",
            "PSP",
            "Wii",
            "PSP",
            "PSP",
            "PC",
            "DS",
            "Wii",
            "Wii",
            "X360",
            "PS3",
            "DS",
            "PSP",
            "DS",
            "DS",
            "PSP",
            "PSP",
            "PSP",
            "Wii",
            "Wii",
            "Wii",
            "DS",
            "PS3",
            "PSP",
            "X360",
            "X360",
            "DS",
            "X360",
            "DS",
            "DS",
            "PSP",
            "X360",
            "PS3",
            "PS3",
            "PSP",
            "PS3",
            "PSP",
            "DS",
            "PSP",
            "PC",
            "DS",
            "DS",
            "DS",
            "DS",
            "DS",
            "DS",
            "Wii",
            "PSP",
            "PSP",
            "DS",
            "DS",
            "PC",
            "DS",
            "PS3",
            "PS3",
            "PS3",
            "Wii",
            "PSP",
            "X360",
            "PSP",
            "PC",
            "X360",
            "PS3",
            "PSP",
            "Wii",
            "DS",
            "DS",
            "PSP",
            "DS",
            "Wii",
            "DS",
            "X360",
            "PSP",
            "Wii",
            "PC",
            "DS",
            "DS",
            "Wii",
            "PS2",
            "PS3",
            "PC",
            "PS3",
            "X360",
            "X360",
            "X360",
            "Wii",
            "DS",
            "PC",
            "X360",
            "PSP",
            "Wii",
            "PSP",
            "X360",
            "PSP",
            "DS",
            "Wii",
            "PSP",
            "DS",
            "PS2",
            "DS",
            "PS3",
            "PC",
            "X360",
            "PS3",
            "PS3",
            "Wii",
            "DS",
            "PS3",
            "DS",
            "Wii",
            "Wii",
            "DS",
            "PSP",
            "Wii",
            "Wii",
            "PS3",
            "DS",
            "Wii",
            "DS",
            "PS3",
            "X360",
            "X360",
            "Wii",
            "PS3",
            "DS",
            "PSP",
            "PS3",
            "DS",
            "PC",
            "DS",
            "X360",
            "PS3",
            "DS",
            "Wii",
            "Wii",
            "PS3",
            "Wii",
            "DS",
            "DS",
            "DS",
            "PSP",
            "X360",
            "DS",
            "X360",
            "PC",
            "PS3",
            "PSP",
            "PSP",
            "PSP",
            "Wii",
            "DS",
            "X360",
            "Wii",
            "DS",
            "PC",
            "Wii",
            "DS",
            "DS",
            "Wii",
            "Wii",
            "Wii",
            "Wii",
            "DS",
            "X360",
            "Wii",
            "DS",
            "PSP",
            "PS3",
            "Wii",
            "Wii",
            "PS3",
            "DS",
            "PS3",
            "PC",
            "Wii",
            "PSP",
            "X360",
            "PC",
            "X360",
            "PS3",
            "DS",
            "PC",
            "DS",
            "PS3",
            "PS3",
            "Wii",
            "Wii",
            "DS",
            "PS3",
            "PSP",
            "PC",
            "DS",
            "DS",
            "Wii",
            "PS3",
            "DS",
            "X360",
            "DS",
            "X360",
            "X360",
            "PS3",
            "DS",
            "PSP",
            "DS",
            "DS",
            "DS",
            "PC",
            "Wii",
            "PS3",
            "Wii",
            "PSP",
            "X360",
            "PS3",
            "PS3",
            "PC",
            "DS",
            "X360",
            "X360",
            "Wii",
            "DS",
            "DS",
            "PS3",
            "DS",
            "Wii",
            "Wii",
            "Wii",
            "PS3",
            "Wii",
            "PSP",
            "PS3",
            "X360",
            "PS2",
            "PC",
            "DS",
            "Wii",
            "X360",
            "PS3",
            "Wii",
            "DS",
            "Wii",
            "PC",
            "DS",
            "DS",
            "DS",
            "DS",
            "Wii",
            "PSP",
            "X360",
            "PC",
            "PS3",
            "PC",
            "DS",
            "Wii",
            "PS3",
            "Wii",
            "PSP",
            "PS3",
            "PS3",
            "PSP",
            "Wii",
            "PS3",
            "PSP",
            "Wii",
            "X360",
            "DS",
            "DS",
            "DS",
            "Wii",
            "PS3",
            "PSP",
            "PC",
            "PC",
            "DS",
            "DS",
            "DS",
            "DS",
            "Wii",
            "PS2"
           ],
           "xaxis": "x",
           "yaxis": "y"
          }
         ],
         "name": "2010"
        },
        {
         "data": [
          {
           "alignmentgroup": "True",
           "bingroup": "x",
           "hovertemplate": "Year_of_Release=2011<br>Platform=%{x}<br>count=%{y}<extra></extra>",
           "legendgroup": "",
           "marker": {
            "color": "#636efa",
            "pattern": {
             "shape": ""
            }
           },
           "name": "",
           "offsetgroup": "",
           "orientation": "v",
           "showlegend": false,
           "type": "histogram",
           "x": [
            "PC",
            "Wii",
            "PSV",
            "PSP",
            "3DS",
            "Wii",
            "PSP",
            "X360",
            "DS",
            "PS3",
            "3DS",
            "X360",
            "DS",
            "DS",
            "PS3",
            "PSP",
            "3DS",
            "3DS",
            "DS",
            "DS",
            "DS",
            "DS",
            "Wii",
            "Wii",
            "PS3",
            "X360",
            "PS3",
            "DS",
            "X360",
            "PS3",
            "3DS",
            "X360",
            "3DS",
            "3DS",
            "3DS",
            "X360",
            "PS3",
            "3DS",
            "Wii",
            "Wii",
            "PC",
            "PSP",
            "DS",
            "Wii",
            "Wii",
            "Wii",
            "PSP",
            "PSP",
            "3DS",
            "PS2",
            "X360",
            "DS",
            "X360",
            "Wii",
            "PS3",
            "X360",
            "PSP",
            "X360",
            "PS3",
            "Wii",
            "PSP",
            "X360",
            "PSP",
            "PSP",
            "PSP",
            "3DS",
            "X360",
            "PC",
            "3DS",
            "3DS",
            "X360",
            "PC",
            "PSP",
            "PC",
            "X360",
            "PS3",
            "Wii",
            "PC",
            "PS3",
            "X360",
            "X360",
            "PSP",
            "PC",
            "DS",
            "PSP",
            "PS3",
            "PS3",
            "PS3",
            "PSP",
            "X360",
            "PC",
            "DS",
            "PSP",
            "PC",
            "3DS",
            "PSP",
            "PC",
            "PS3",
            "Wii",
            "PSP",
            "PSP",
            "PS3",
            "PS3",
            "3DS",
            "X360",
            "PC",
            "DS",
            "PSP",
            "3DS",
            "DS",
            "Wii",
            "X360",
            "Wii",
            "3DS",
            "PSV",
            "PS3",
            "PSP",
            "3DS",
            "PSP",
            "PSP",
            "DS",
            "DS",
            "Wii",
            "PS3",
            "DS",
            "X360",
            "DS",
            "PS2",
            "3DS",
            "X360",
            "3DS",
            "DS",
            "Wii",
            "PSP",
            "DS",
            "Wii",
            "PS3",
            "PSV",
            "PC",
            "X360",
            "Wii",
            "PSP",
            "PS3",
            "Wii",
            "DS",
            "PS3",
            "Wii",
            "Wii",
            "PC",
            "PC",
            "PS3",
            "3DS",
            "X360",
            "PSP",
            "Wii",
            "PS2",
            "DS",
            "PSP",
            "X360",
            "PS3",
            "X360",
            "Wii",
            "PS3",
            "3DS",
            "DS",
            "X360",
            "PS3",
            "Wii",
            "X360",
            "PS3",
            "PSP",
            "Wii",
            "Wii",
            "PSP",
            "Wii",
            "PS3",
            "PS3",
            "3DS",
            "PSP",
            "PSP",
            "DS",
            "PSP",
            "PS3",
            "PSP",
            "3DS",
            "X360",
            "PC",
            "PC",
            "3DS",
            "PS3",
            "PS3",
            "3DS",
            "DS",
            "X360",
            "PC",
            "PC",
            "PC",
            "3DS",
            "DS",
            "DS",
            "Wii",
            "Wii",
            "3DS",
            "3DS",
            "PC",
            "PS3",
            "Wii",
            "Wii",
            "Wii",
            "PC",
            "PC",
            "Wii",
            "Wii",
            "Wii",
            "PS3",
            "3DS",
            "PS3",
            "PSP",
            "DS",
            "3DS",
            "PS3",
            "PSP",
            "3DS",
            "PS3",
            "PSP",
            "PSP",
            "PC",
            "PS3",
            "Wii",
            "3DS",
            "X360",
            "DS",
            "X360",
            "Wii",
            "PS3",
            "3DS",
            "3DS",
            "PS3",
            "PC",
            "DS",
            "X360",
            "3DS",
            "PS3",
            "PS3",
            "X360",
            "X360",
            "X360",
            "PS3",
            "PSV",
            "3DS",
            "X360",
            "X360",
            "PS3",
            "X360",
            "DS",
            "PS3",
            "PC",
            "X360",
            "PS3",
            "3DS",
            "PS3",
            "X360",
            "3DS",
            "Wii",
            "PC",
            "PC",
            "DS",
            "PSP",
            "PS2",
            "PSP",
            "PS3",
            "3DS",
            "X360",
            "PC",
            "DS",
            "DS",
            "PSP",
            "X360",
            "X360",
            "X360",
            "X360",
            "PSP",
            "PC",
            "PSP",
            "PS3",
            "X360",
            "X360",
            "PS3",
            "PSP",
            "PC",
            "PS3",
            "PS3",
            "DS",
            "PS3",
            "PS3",
            "PC",
            "DS",
            "Wii",
            "3DS",
            "DS",
            "PC",
            "PS3",
            "DS",
            "3DS",
            "3DS",
            "Wii",
            "PC",
            "PC",
            "Wii",
            "X360",
            "PC",
            "PS3",
            "Wii",
            "PC",
            "PS3",
            "DS",
            "X360",
            "DS",
            "PC",
            "PC",
            "3DS",
            "3DS",
            "PC",
            "PS3",
            "PS3",
            "DS",
            "Wii",
            "PS3",
            "Wii",
            "PC",
            "PS3",
            "PSP",
            "DS",
            "PSP",
            "PS3",
            "3DS",
            "PSP",
            "PS3",
            "PSP",
            "Wii",
            "PSP",
            "DS",
            "PSP",
            "PS3",
            "DS",
            "Wii",
            "3DS",
            "PS3",
            "X360",
            "3DS",
            "X360",
            "PSP",
            "X360",
            "PC",
            "DS",
            "X360",
            "PC",
            "PS3",
            "X360",
            "PS3",
            "PC",
            "3DS",
            "X360",
            "PSV",
            "Wii",
            "3DS",
            "PSP",
            "X360",
            "DS",
            "PSP",
            "PSP",
            "PS3",
            "PSP",
            "Wii",
            "DS",
            "PS3",
            "PSP",
            "PS3",
            "PC",
            "PSP",
            "Wii",
            "PSP",
            "3DS",
            "PSP",
            "PSP",
            "Wii",
            "Wii",
            "3DS",
            "PC",
            "Wii",
            "PS3",
            "PSP",
            "PS3",
            "DS",
            "3DS",
            "PSP",
            "PC",
            "X360",
            "3DS",
            "PC",
            "PSP",
            "DS",
            "DS",
            "PS3",
            "PC",
            "X360",
            "X360",
            "X360",
            "PC",
            "PC",
            "PC",
            "DS",
            "X360",
            "DS",
            "PC",
            "PC",
            "PSP",
            "X360",
            "PSV",
            "Wii",
            "PS3",
            "PSP",
            "X360",
            "X360",
            "PS3",
            "X360",
            "PSV",
            "X360",
            "PS3",
            "PS3",
            "PS3",
            "DS",
            "PSP",
            "DS",
            "Wii",
            "PSV",
            "PS3",
            "PC",
            "PSP",
            "Wii",
            "Wii",
            "PSP",
            "PSP",
            "DS",
            "DS",
            "PSP",
            "PC",
            "Wii",
            "Wii",
            "X360",
            "X360",
            "PC",
            "3DS",
            "X360",
            "PS3",
            "X360",
            "PSP",
            "Wii",
            "X360",
            "DS",
            "PSV",
            "Wii",
            "DS",
            "X360",
            "Wii",
            "PSV",
            "X360",
            "PS3",
            "PSP",
            "Wii",
            "X360",
            "PS3",
            "DS",
            "3DS",
            "Wii",
            "PC",
            "DS",
            "X360",
            "PS3",
            "Wii",
            "X360",
            "PSP",
            "PC",
            "PC",
            "PS3",
            "DS",
            "PSP",
            "X360",
            "PSV",
            "X360",
            "DS",
            "X360",
            "DS",
            "PS3",
            "X360",
            "PSP",
            "3DS",
            "X360",
            "3DS",
            "X360",
            "PC",
            "3DS",
            "3DS",
            "PC",
            "DS",
            "DS",
            "Wii",
            "PS3",
            "Wii",
            "X360",
            "PS3",
            "PSP",
            "PS3",
            "3DS",
            "Wii",
            "PSP",
            "DS",
            "Wii",
            "PSP",
            "X360",
            "PS3",
            "Wii",
            "X360",
            "Wii",
            "X360",
            "PS3",
            "3DS",
            "Wii",
            "X360",
            "PS3",
            "PS3",
            "PC",
            "DS",
            "PSP",
            "3DS",
            "3DS",
            "3DS",
            "Wii",
            "DS",
            "3DS",
            "PS3",
            "PSP",
            "DS",
            "DS",
            "X360",
            "PS3",
            "PS3",
            "PSP",
            "X360",
            "3DS",
            "X360",
            "X360",
            "PS3",
            "3DS",
            "PC",
            "DS",
            "PSP",
            "X360",
            "PS3",
            "X360",
            "3DS",
            "PS3",
            "X360",
            "PS3",
            "PC",
            "X360",
            "X360",
            "PC",
            "PC",
            "3DS",
            "PC",
            "PC",
            "PC",
            "PS3",
            "PS3",
            "DS",
            "X360",
            "3DS",
            "3DS",
            "3DS",
            "Wii",
            "DS",
            "PS3",
            "3DS",
            "Wii",
            "PSP",
            "Wii",
            "Wii",
            "PS3",
            "DS",
            "X360",
            "X360",
            "PS3",
            "PSP",
            "PS3",
            "PSP",
            "PS3",
            "PS3",
            "PC",
            "PS3",
            "3DS",
            "X360",
            "PC",
            "X360",
            "X360",
            "Wii",
            "PC",
            "PC",
            "X360",
            "X360",
            "3DS",
            "Wii",
            "3DS",
            "Wii",
            "DS",
            "PS3",
            "Wii",
            "Wii",
            "PC",
            "DS",
            "PC",
            "X360",
            "X360",
            "PSP",
            "PSP",
            "PS3",
            "X360",
            "PC",
            "PS3",
            "PS3",
            "X360",
            "X360",
            "DS",
            "PC",
            "PC",
            "Wii",
            "PSP",
            "DS",
            "X360",
            "PSP",
            "PSP",
            "PS3",
            "PS3",
            "PC",
            "X360",
            "PC",
            "Wii",
            "DS",
            "3DS",
            "DS",
            "PSP",
            "PSP",
            "PS3",
            "PS3",
            "PC",
            "PC",
            "X360",
            "X360",
            "DS",
            "DS",
            "X360",
            "DS",
            "DS",
            "Wii",
            "PSP",
            "X360",
            "DS",
            "PS3",
            "PSP",
            "3DS",
            "Wii",
            "X360",
            "X360",
            "3DS",
            "DS",
            "X360",
            "X360",
            "X360",
            "PC",
            "PC",
            "PS3",
            "PS3",
            "PS3",
            "DS",
            "DS",
            "PSP",
            "PS3",
            "PS3",
            "PS3",
            "Wii",
            "PSP",
            "X360",
            "DS",
            "X360",
            "PS3",
            "DS",
            "PC",
            "PC",
            "X360",
            "3DS",
            "3DS",
            "PS3",
            "PC",
            "PS3",
            "PS3",
            "Wii",
            "3DS",
            "PS3",
            "PS3",
            "PSV",
            "PC",
            "PS3",
            "DS",
            "DS",
            "PC",
            "PC",
            "PS3",
            "Wii",
            "X360",
            "X360",
            "PC",
            "Wii",
            "Wii",
            "Wii",
            "X360",
            "Wii",
            "3DS",
            "Wii",
            "PSP",
            "PC",
            "PSP",
            "X360",
            "PS3",
            "PSP",
            "3DS",
            "PC",
            "X360",
            "DS",
            "PSP",
            "PC",
            "DS",
            "Wii",
            "PC",
            "PS3",
            "X360",
            "DS",
            "PSP",
            "DS",
            "PS3",
            "3DS",
            "PC",
            "PS3",
            "PS3",
            "PS3",
            "X360",
            "DS",
            "PS3",
            "DS",
            "DS",
            "PSP",
            "PSP",
            "DS",
            "X360",
            "DS",
            "DS",
            "PC",
            "PC",
            "Wii",
            "PSP",
            "PC",
            "DS",
            "PSP",
            "DS",
            "PS3",
            "Wii",
            "PSV",
            "DS",
            "PC",
            "X360",
            "Wii",
            "PS3",
            "X360",
            "PSP",
            "X360",
            "PS3",
            "PS3",
            "DS",
            "Wii",
            "DS",
            "PC",
            "PS3",
            "X360",
            "DS",
            "X360",
            "PSP",
            "Wii",
            "PC",
            "DS",
            "DS",
            "PS3",
            "Wii",
            "PS3",
            "DS",
            "PS3",
            "X360",
            "PSP",
            "Wii",
            "PS3",
            "Wii",
            "Wii",
            "PC",
            "PS3",
            "PC",
            "3DS",
            "DS",
            "DS",
            "X360",
            "DS",
            "X360",
            "PS3",
            "PC",
            "Wii",
            "DS",
            "PSP",
            "PSP",
            "X360",
            "X360",
            "PS3",
            "X360",
            "PS3",
            "X360",
            "PC",
            "PSP",
            "X360",
            "PS3",
            "Wii",
            "X360",
            "X360",
            "PS3",
            "PSP",
            "3DS",
            "Wii",
            "PS3",
            "PSV",
            "PS3",
            "PS3",
            "PC",
            "PC",
            "PS3",
            "PS3",
            "X360",
            "PSV",
            "PS3",
            "PS3",
            "PS3",
            "Wii",
            "X360",
            "PC",
            "DS",
            "DS",
            "3DS",
            "PC",
            "X360",
            "DS",
            "PS3",
            "X360",
            "PS3",
            "X360",
            "PS3",
            "X360",
            "PSP",
            "PC",
            "DS",
            "PS3",
            "3DS",
            "3DS",
            "PC",
            "PS3",
            "Wii",
            "3DS",
            "PS3",
            "3DS",
            "X360",
            "3DS",
            "3DS",
            "DS",
            "PS3",
            "PSP",
            "X360",
            "X360",
            "PS3",
            "Wii",
            "X360",
            "PS2",
            "PSP",
            "PS3",
            "X360",
            "PS2",
            "PS3",
            "PC",
            "X360",
            "PS3",
            "X360",
            "X360",
            "PSP",
            "X360",
            "PS3",
            "X360",
            "PS3",
            "Wii",
            "PC",
            "PS3",
            "Wii",
            "PS3",
            "X360",
            "PS3",
            "PS3",
            "PSP",
            "PS3",
            "DS",
            "PS3",
            "DS",
            "PSP",
            "X360",
            "Wii",
            "3DS",
            "X360",
            "Wii",
            "PSP",
            "3DS",
            "DS",
            "PC",
            "X360",
            "3DS",
            "PC",
            "PS3",
            "PSP",
            "X360",
            "DS",
            "DS",
            "Wii",
            "PC",
            "X360",
            "PSP",
            "PS3",
            "X360",
            "Wii",
            "PSP",
            "Wii",
            "PSV",
            "Wii",
            "PC",
            "PS3",
            "X360",
            "PS3",
            "Wii",
            "X360",
            "PSV",
            "X360",
            "DS",
            "PC",
            "3DS",
            "DS",
            "X360",
            "X360",
            "PS3",
            "X360",
            "DS",
            "Wii",
            "DS",
            "PC",
            "X360",
            "DS",
            "PSP",
            "DS",
            "Wii",
            "3DS",
            "X360",
            "3DS",
            "X360",
            "PC",
            "PSP",
            "Wii",
            "PSP",
            "PS3",
            "PS3",
            "PS3",
            "PS3",
            "PS3",
            "PC",
            "PSP",
            "X360",
            "PSP",
            "3DS",
            "DS",
            "DS",
            "PS3",
            "Wii",
            "X360",
            "Wii",
            "PS3",
            "DS",
            "DS",
            "Wii",
            "PSP",
            "3DS",
            "DS",
            "PS3",
            "Wii",
            "X360",
            "3DS",
            "X360",
            "PS3",
            "DS",
            "Wii",
            "PC",
            "PSP",
            "PSP",
            "DS",
            "PS3",
            "Wii",
            "3DS",
            "3DS",
            "DS",
            "PS3",
            "DS",
            "X360",
            "X360",
            "PS3",
            "X360",
            "X360",
            "PSP",
            "DS",
            "PSV",
            "3DS",
            "DS",
            "X360",
            "X360",
            "3DS",
            "X360",
            "Wii",
            "PS3",
            "X360",
            "Wii",
            "PS3",
            "Wii",
            "PS3",
            "PSP",
            "X360",
            "PC",
            "Wii",
            "PC",
            "X360",
            "X360",
            "X360",
            "X360",
            "X360",
            "PSP",
            "3DS",
            "Wii",
            "PSP",
            "PS2",
            "PS3",
            "Wii",
            "X360",
            "DS",
            "PSP",
            "Wii",
            "PSP",
            "3DS",
            "Wii",
            "PC",
            "DS",
            "3DS",
            "DS",
            "DS",
            "PC",
            "PS3",
            "PC",
            "PS3",
            "PC",
            "Wii",
            "DS",
            "PS3",
            "PS3",
            "3DS",
            "DS",
            "DS",
            "PC",
            "DS",
            "X360",
            "PS3",
            "PS3",
            "Wii",
            "3DS",
            "PS3",
            "Wii",
            "Wii",
            "X360",
            "X360",
            "X360",
            "PC",
            "PS3",
            "X360",
            "PSP",
            "DS",
            "3DS",
            "PSP",
            "X360",
            "Wii",
            "X360",
            "PC",
            "PSP",
            "Wii",
            "PS3",
            "PS3",
            "Wii",
            "PS3",
            "PS3",
            "X360",
            "PS3",
            "3DS",
            "PC",
            "X360",
            "DS",
            "3DS",
            "PS3",
            "PC",
            "PC",
            "DS",
            "PC",
            "PSP",
            "PS3"
           ],
           "xaxis": "x",
           "yaxis": "y"
          }
         ],
         "name": "2011"
        },
        {
         "data": [
          {
           "alignmentgroup": "True",
           "bingroup": "x",
           "hovertemplate": "Year_of_Release=2012<br>Platform=%{x}<br>count=%{y}<extra></extra>",
           "legendgroup": "",
           "marker": {
            "color": "#636efa",
            "pattern": {
             "shape": ""
            }
           },
           "name": "",
           "offsetgroup": "",
           "orientation": "v",
           "showlegend": false,
           "type": "histogram",
           "x": [
            "WiiU",
            "X360",
            "PSP",
            "X360",
            "X360",
            "3DS",
            "PSP",
            "PSP",
            "3DS",
            "PS3",
            "PSP",
            "PSP",
            "3DS",
            "PS3",
            "WiiU",
            "PSV",
            "PS3",
            "PSP",
            "PS3",
            "PS3",
            "Wii",
            "PSP",
            "PS3",
            "3DS",
            "PS3",
            "PSP",
            "3DS",
            "X360",
            "X360",
            "PSP",
            "WiiU",
            "3DS",
            "PSP",
            "PS3",
            "PSV",
            "X360",
            "DS",
            "PC",
            "DS",
            "PS3",
            "PS3",
            "PS3",
            "PSP",
            "PS3",
            "X360",
            "PSV",
            "PS3",
            "PS3",
            "DS",
            "PSP",
            "3DS",
            "PC",
            "PS3",
            "PSP",
            "X360",
            "PSP",
            "3DS",
            "PC",
            "X360",
            "3DS",
            "PSP",
            "PSP",
            "X360",
            "PS3",
            "PS3",
            "3DS",
            "PSP",
            "PS3",
            "3DS",
            "PC",
            "3DS",
            "Wii",
            "PSP",
            "PS3",
            "PSP",
            "PS3",
            "DS",
            "3DS",
            "PS3",
            "PSP",
            "3DS",
            "PC",
            "PSP",
            "3DS",
            "3DS",
            "3DS",
            "PSP",
            "PS3",
            "Wii",
            "PS3",
            "PSP",
            "PSV",
            "PS3",
            "PS3",
            "PC",
            "3DS",
            "PSV",
            "X360",
            "PSP",
            "Wii",
            "PSP",
            "WiiU",
            "PSV",
            "X360",
            "X360",
            "PC",
            "X360",
            "PS3",
            "PC",
            "X360",
            "PSP",
            "PS3",
            "PC",
            "PSP",
            "3DS",
            "PS3",
            "PSV",
            "PSV",
            "PS3",
            "PSV",
            "PS3",
            "PSV",
            "PSP",
            "X360",
            "PS3",
            "3DS",
            "PS3",
            "WiiU",
            "PC",
            "PS3",
            "PS3",
            "3DS",
            "PSP",
            "PSV",
            "PS3",
            "X360",
            "PC",
            "3DS",
            "3DS",
            "3DS",
            "3DS",
            "PSP",
            "X360",
            "WiiU",
            "PC",
            "3DS",
            "PS3",
            "PS3",
            "PS3",
            "X360",
            "X360",
            "X360",
            "PSV",
            "PS3",
            "PSP",
            "PSP",
            "PS3",
            "WiiU",
            "PS3",
            "PS3",
            "PS3",
            "PSV",
            "X360",
            "Wii",
            "DS",
            "X360",
            "PSP",
            "PSP",
            "PSP",
            "X360",
            "PSP",
            "PSP",
            "PS3",
            "Wii",
            "DS",
            "PSP",
            "X360",
            "3DS",
            "3DS",
            "DS",
            "X360",
            "X360",
            "3DS",
            "PC",
            "PS3",
            "3DS",
            "PS3",
            "3DS",
            "3DS",
            "PC",
            "X360",
            "X360",
            "PC",
            "X360",
            "3DS",
            "3DS",
            "Wii",
            "PSV",
            "Wii",
            "PSV",
            "3DS",
            "PS3",
            "X360",
            "PS3",
            "DS",
            "3DS",
            "PSP",
            "PSV",
            "PS3",
            "PC",
            "WiiU",
            "PS3",
            "X360",
            "PS3",
            "X360",
            "3DS",
            "X360",
            "PSV",
            "PS3",
            "WiiU",
            "3DS",
            "PSP",
            "PSV",
            "PSP",
            "PSV",
            "X360",
            "PS3",
            "X360",
            "PS3",
            "PSV",
            "Wii",
            "PSP",
            "PC",
            "PSP",
            "WiiU",
            "PS3",
            "Wii",
            "X360",
            "PS3",
            "X360",
            "PS3",
            "Wii",
            "PS3",
            "DS",
            "PC",
            "DS",
            "PSV",
            "3DS",
            "PC",
            "PS3",
            "PSP",
            "PS3",
            "X360",
            "PSV",
            "PS3",
            "PS3",
            "3DS",
            "PSP",
            "X360",
            "PSP",
            "3DS",
            "3DS",
            "PSP",
            "X360",
            "PC",
            "X360",
            "WiiU",
            "X360",
            "Wii",
            "PSV",
            "PSV",
            "3DS",
            "PSP",
            "PS3",
            "PS3",
            "WiiU",
            "3DS",
            "Wii",
            "PSP",
            "3DS",
            "PS3",
            "PS3",
            "WiiU",
            "PS3",
            "3DS",
            "3DS",
            "WiiU",
            "X360",
            "3DS",
            "PSP",
            "WiiU",
            "Wii",
            "PSP",
            "3DS",
            "3DS",
            "PS3",
            "Wii",
            "PSP",
            "DS",
            "PS3",
            "PSV",
            "3DS",
            "3DS",
            "PSP",
            "PSP",
            "PSP",
            "DS",
            "DS",
            "X360",
            "3DS",
            "PSP",
            "3DS",
            "PS3",
            "X360",
            "X360",
            "PC",
            "PC",
            "PS3",
            "PSP",
            "X360",
            "PC",
            "X360",
            "X360",
            "PS3",
            "3DS",
            "PSP",
            "WiiU",
            "WiiU",
            "PS3",
            "PSP",
            "PS3",
            "PSV",
            "PSP",
            "3DS",
            "PSV",
            "PS3",
            "PSV",
            "PC",
            "PC",
            "PC",
            "PSV",
            "X360",
            "PS3",
            "WiiU",
            "X360",
            "PS3",
            "PSP",
            "3DS",
            "PSV",
            "3DS",
            "PC",
            "PS3",
            "3DS",
            "WiiU",
            "PC",
            "3DS",
            "DS",
            "X360",
            "PC",
            "WiiU",
            "X360",
            "3DS",
            "X360",
            "PSP",
            "X360",
            "PC",
            "3DS",
            "3DS",
            "PS3",
            "PS3",
            "PS3",
            "DS",
            "PS3",
            "PSV",
            "3DS",
            "PSP",
            "X360",
            "X360",
            "PS3",
            "PS3",
            "PSP",
            "3DS",
            "PC",
            "Wii",
            "X360",
            "PC",
            "PC",
            "PS3",
            "PC",
            "PC",
            "PSP",
            "WiiU",
            "PSP",
            "PS3",
            "PSP",
            "Wii",
            "Wii",
            "PC",
            "3DS",
            "3DS",
            "PC",
            "PS3",
            "X360",
            "Wii",
            "PS3",
            "3DS",
            "WiiU",
            "PS3",
            "3DS",
            "PSV",
            "PSV",
            "PS3",
            "DS",
            "PS3",
            "PS3",
            "X360",
            "PS3",
            "PS3",
            "X360",
            "PC",
            "DS",
            "Wii",
            "PS3",
            "DS",
            "Wii",
            "X360",
            "PS3",
            "3DS",
            "PS3",
            "PC",
            "PC",
            "PC",
            "PS3",
            "PSP",
            "X360",
            "3DS",
            "X360",
            "PC",
            "X360",
            "3DS",
            "PS3",
            "PS3",
            "PC",
            "PSP",
            "PSP",
            "3DS",
            "PSV",
            "3DS",
            "DS",
            "WiiU",
            "PS3",
            "WiiU",
            "PC",
            "PSP",
            "Wii",
            "PS3",
            "Wii",
            "X360",
            "PC",
            "PS3",
            "3DS",
            "PS3",
            "PC",
            "3DS",
            "PC",
            "3DS",
            "PC",
            "X360",
            "3DS",
            "PSP",
            "3DS",
            "DS",
            "PSV",
            "PS3",
            "PC",
            "X360",
            "WiiU",
            "PSP",
            "PS3",
            "Wii",
            "Wii",
            "PS3",
            "DS",
            "PS3",
            "PS3",
            "PSV",
            "PSV",
            "PSP",
            "PSP",
            "PS3",
            "X360",
            "PSP",
            "X360",
            "PS3",
            "PSP",
            "PSP",
            "PSP",
            "PS3",
            "PS3",
            "Wii",
            "PSV",
            "PS3",
            "PS3",
            "X360",
            "WiiU",
            "Wii",
            "PSP",
            "X360",
            "X360",
            "WiiU",
            "X360",
            "PSP",
            "PS3",
            "PS3",
            "PSV",
            "PSP",
            "X360",
            "PC",
            "PS3",
            "PS3",
            "X360",
            "3DS",
            "3DS",
            "PS3",
            "PSV",
            "X360",
            "X360",
            "X360",
            "X360",
            "X360",
            "X360",
            "PS3",
            "PS3",
            "PS3",
            "PS3",
            "PSV",
            "X360",
            "PC",
            "PSV",
            "PSV",
            "PSP",
            "3DS",
            "PSP",
            "PS3",
            "PSV",
            "PS3",
            "PS3",
            "PSP",
            "PSP",
            "PS3",
            "PSP",
            "X360",
            "X360",
            "PSP",
            "X360",
            "PC",
            "Wii",
            "X360",
            "3DS",
            "PSP",
            "PC",
            "WiiU",
            "PS3",
            "PSP",
            "3DS",
            "PSP",
            "X360",
            "PC",
            "X360",
            "PSP",
            "PS3",
            "3DS",
            "PSP",
            "WiiU",
            "PSP",
            "PS3",
            "X360",
            "PSP",
            "PSP",
            "PC",
            "3DS",
            "PS3",
            "X360",
            "3DS",
            "PS3",
            "PC",
            "PS3",
            "PSP",
            "PSV",
            "PS3",
            "X360",
            "X360",
            "PS3",
            "PC",
            "PC",
            "PSV",
            "3DS",
            "PS3",
            "PS3",
            "X360",
            "DS",
            "PS3",
            "PS3",
            "X360",
            "PSP",
            "X360",
            "PSP",
            "X360",
            "3DS",
            "PS3",
            "PSV",
            "PSP",
            "PS3",
            "3DS",
            "PS3",
            "PC",
            "3DS",
            "Wii",
            "DS",
            "X360",
            "PS3",
            "PSV",
            "PSV",
            "X360",
            "X360",
            "WiiU",
            "3DS",
            "WiiU",
            "3DS",
            "PSP",
            "PS3",
            "PS3",
            "X360",
            "PSP",
            "PSP",
            "PSV",
            "X360",
            "Wii",
            "X360",
            "PSV",
            "PC",
            "PSV",
            "Wii",
            "PS3",
            "PSP",
            "PSP",
            "X360",
            "PSV",
            "PC",
            "PS3",
            "WiiU",
            "X360",
            "PSP"
           ],
           "xaxis": "x",
           "yaxis": "y"
          }
         ],
         "name": "2012"
        },
        {
         "data": [
          {
           "alignmentgroup": "True",
           "bingroup": "x",
           "hovertemplate": "Year_of_Release=2013<br>Platform=%{x}<br>count=%{y}<extra></extra>",
           "legendgroup": "",
           "marker": {
            "color": "#636efa",
            "pattern": {
             "shape": ""
            }
           },
           "name": "",
           "offsetgroup": "",
           "orientation": "v",
           "showlegend": false,
           "type": "histogram",
           "x": [
            "PS4",
            "PS4",
            "PS3",
            "PS3",
            "PS3",
            "PS3",
            "PSV",
            "X360",
            "PC",
            "3DS",
            "X360",
            "PS3",
            "XOne",
            "PS4",
            "XOne",
            "PS3",
            "PC",
            "PS4",
            "X360",
            "XOne",
            "3DS",
            "PS3",
            "PS4",
            "Wii",
            "XOne",
            "3DS",
            "WiiU",
            "PC",
            "X360",
            "XOne",
            "WiiU",
            "PSP",
            "PSV",
            "PSV",
            "PS4",
            "PS4",
            "PSP",
            "X360",
            "PSV",
            "PSV",
            "PS3",
            "PSP",
            "PS4",
            "X360",
            "XOne",
            "PS3",
            "PS3",
            "PS4",
            "PSP",
            "PSP",
            "3DS",
            "XOne",
            "XOne",
            "X360",
            "3DS",
            "XOne",
            "PSV",
            "PSP",
            "XOne",
            "PSP",
            "WiiU",
            "X360",
            "WiiU",
            "XOne",
            "X360",
            "XOne",
            "PSP",
            "PS4",
            "PC",
            "PC",
            "PS3",
            "XOne",
            "PC",
            "PSP",
            "3DS",
            "PS4",
            "PS3",
            "PS3",
            "XOne",
            "XOne",
            "PS3",
            "X360",
            "PS4",
            "X360",
            "PS4",
            "XOne",
            "PC",
            "PS4",
            "WiiU",
            "PS3",
            "3DS",
            "X360",
            "PS3",
            "DS",
            "XOne",
            "XOne",
            "PS3",
            "XOne",
            "XOne",
            "PSP",
            "PSP",
            "XOne",
            "PSV",
            "PSP",
            "PS3",
            "X360",
            "PSP",
            "PSP",
            "PSP",
            "PSP",
            "WiiU",
            "Wii",
            "PS3",
            "PSP",
            "XOne",
            "X360",
            "XOne",
            "X360",
            "X360",
            "PS4",
            "WiiU",
            "3DS",
            "PS3",
            "PSP",
            "X360",
            "PS3",
            "3DS",
            "PC",
            "PS3",
            "PS3",
            "PS3",
            "PS3",
            "X360",
            "PC",
            "PC",
            "PS3",
            "3DS",
            "X360",
            "WiiU",
            "PSP",
            "X360",
            "Wii",
            "PSP",
            "X360",
            "PSP",
            "PS3",
            "PS4",
            "Wii",
            "3DS",
            "X360",
            "PS3",
            "XOne",
            "X360",
            "3DS",
            "X360",
            "PS3",
            "WiiU",
            "PSP",
            "PS3",
            "WiiU",
            "WiiU",
            "3DS",
            "PSP",
            "PSP",
            "PS3",
            "X360",
            "X360",
            "X360",
            "PC",
            "WiiU",
            "PS3",
            "PS3",
            "PC",
            "PSV",
            "WiiU",
            "PSP",
            "PS4",
            "3DS",
            "WiiU",
            "PS3",
            "3DS",
            "PS3",
            "PS3",
            "3DS",
            "PS3",
            "PSP",
            "PS3",
            "PSP",
            "PC",
            "PS3",
            "3DS",
            "PS4",
            "PS3",
            "PS4",
            "PS4",
            "PS3",
            "PS4",
            "PSP",
            "PSV",
            "PS4",
            "PS3",
            "XOne",
            "PS3",
            "PSV",
            "PS4",
            "PS4",
            "PS4",
            "XOne",
            "3DS",
            "X360",
            "X360",
            "XOne",
            "X360",
            "X360",
            "PS4",
            "3DS",
            "XOne",
            "XOne",
            "X360",
            "PSV",
            "PS3",
            "Wii",
            "PS3",
            "PSV",
            "PS4",
            "3DS",
            "3DS",
            "3DS",
            "PS3",
            "XOne",
            "WiiU",
            "X360",
            "3DS",
            "X360",
            "X360",
            "PS3",
            "PSV",
            "PS3",
            "PS3",
            "PC",
            "PS4",
            "3DS",
            "PSP",
            "PSV",
            "PS4",
            "PS3",
            "PS4",
            "X360",
            "PSV",
            "PS3",
            "3DS",
            "PS3",
            "PSV",
            "X360",
            "PS3",
            "3DS",
            "PSV",
            "X360",
            "PSP",
            "PC",
            "Wii",
            "WiiU",
            "PSP",
            "3DS",
            "3DS",
            "X360",
            "PS3",
            "PSV",
            "PS3",
            "PSV",
            "3DS",
            "PSV",
            "PSP",
            "PSV",
            "X360",
            "3DS",
            "WiiU",
            "XOne",
            "PS3",
            "PS4",
            "PSP",
            "PSV",
            "PSP",
            "PS3",
            "X360",
            "Wii",
            "3DS",
            "PC",
            "PS3",
            "PS4",
            "X360",
            "3DS",
            "3DS",
            "PS3",
            "PS3",
            "PS3",
            "PC",
            "PSV",
            "X360",
            "PSV",
            "DS",
            "PS3",
            "3DS",
            "XOne",
            "PSV",
            "PS3",
            "PC",
            "3DS",
            "XOne",
            "PS3",
            "PSV",
            "X360",
            "PS3",
            "PSP",
            "3DS",
            "PS3",
            "WiiU",
            "WiiU",
            "PC",
            "PSV",
            "PSP",
            "DS",
            "PS3",
            "3DS",
            "XOne",
            "PS3",
            "3DS",
            "PS3",
            "PS3",
            "3DS",
            "3DS",
            "X360",
            "PS3",
            "PS3",
            "PS4",
            "X360",
            "PSP",
            "PS3",
            "X360",
            "3DS",
            "PSV",
            "PS3",
            "PC",
            "PSV",
            "PSV",
            "X360",
            "3DS",
            "PSV",
            "PS3",
            "PSV",
            "WiiU",
            "PS3",
            "PSV",
            "DS",
            "PC",
            "PS3",
            "PS3",
            "X360",
            "WiiU",
            "3DS",
            "PS3",
            "WiiU",
            "3DS",
            "PS3",
            "WiiU",
            "X360",
            "PC",
            "WiiU",
            "X360",
            "3DS",
            "Wii",
            "PSP",
            "PS3",
            "PS3",
            "X360",
            "PS3",
            "WiiU",
            "X360",
            "PSV",
            "3DS",
            "PSV",
            "X360",
            "WiiU",
            "PS3",
            "PSV",
            "PS3",
            "PSV",
            "PS3",
            "PSV",
            "PSV",
            "PC",
            "WiiU",
            "WiiU",
            "PS3",
            "PSV",
            "PS3",
            "PC",
            "X360",
            "XOne",
            "WiiU",
            "PS3",
            "WiiU",
            "3DS",
            "PC",
            "PSP",
            "PS3",
            "PSV",
            "3DS",
            "PS3",
            "PSP",
            "PS3",
            "3DS",
            "3DS",
            "3DS",
            "WiiU",
            "X360",
            "XOne",
            "WiiU",
            "3DS",
            "Wii",
            "PSP",
            "X360",
            "3DS",
            "3DS",
            "PS3",
            "PC",
            "PS3",
            "PS4",
            "X360",
            "PS3",
            "WiiU",
            "PSV",
            "PSP",
            "PS3",
            "3DS",
            "3DS",
            "X360",
            "PS3",
            "PC",
            "WiiU",
            "3DS",
            "PSV",
            "3DS",
            "PSV",
            "X360",
            "PSP",
            "PS3",
            "3DS",
            "3DS",
            "Wii",
            "PS3",
            "PSV",
            "3DS",
            "PSV",
            "WiiU",
            "PS3",
            "PS3",
            "PS3",
            "3DS",
            "X360",
            "X360",
            "PSV",
            "PS3",
            "PS3",
            "PSP",
            "DS",
            "PC",
            "WiiU",
            "X360",
            "PS3",
            "3DS",
            "3DS",
            "PS3",
            "X360",
            "PSV",
            "3DS",
            "3DS",
            "PS3",
            "3DS",
            "PC",
            "PC",
            "PS3",
            "X360",
            "PSP",
            "X360",
            "PSP",
            "PS3",
            "PS3",
            "3DS",
            "3DS",
            "PS3",
            "3DS",
            "PSP",
            "PS3",
            "PSV",
            "3DS",
            "PS3",
            "3DS",
            "Wii",
            "PSV",
            "DS",
            "3DS",
            "PSV",
            "PSV",
            "X360",
            "DS",
            "PSP",
            "DS",
            "PS3",
            "PSV",
            "3DS",
            "PS3",
            "PS3",
            "PC",
            "PSV",
            "PS3",
            "PS3",
            "PSV",
            "PC",
            "PC",
            "PSV",
            "3DS",
            "PS3",
            "WiiU",
            "3DS",
            "PSP",
            "3DS",
            "PC",
            "3DS",
            "PSV",
            "WiiU",
            "3DS",
            "PSV",
            "PC",
            "X360",
            "3DS",
            "3DS",
            "PS3",
            "PSV",
            "X360",
            "3DS",
            "XOne",
            "PS3",
            "WiiU",
            "PSP",
            "PSP",
            "PC",
            "3DS",
            "WiiU",
            "WiiU",
            "PSP",
            "PS3",
            "X360",
            "3DS",
            "3DS",
            "PS4",
            "PC",
            "PSP",
            "3DS",
            "3DS",
            "3DS",
            "PS3",
            "PS3",
            "X360",
            "XOne",
            "PS3",
            "X360",
            "X360",
            "3DS",
            "Wii",
            "PS3",
            "PC",
            "3DS",
            "3DS",
            "PSV",
            "X360",
            "PSP",
            "X360",
            "PSV",
            "WiiU",
            "PSV",
            "PSV"
           ],
           "xaxis": "x",
           "yaxis": "y"
          }
         ],
         "name": "2013"
        },
        {
         "data": [
          {
           "alignmentgroup": "True",
           "bingroup": "x",
           "hovertemplate": "Year_of_Release=2014<br>Platform=%{x}<br>count=%{y}<extra></extra>",
           "legendgroup": "",
           "marker": {
            "color": "#636efa",
            "pattern": {
             "shape": ""
            }
           },
           "name": "",
           "offsetgroup": "",
           "orientation": "v",
           "showlegend": false,
           "type": "histogram",
           "x": [
            "3DS",
            "PC",
            "XOne",
            "PSP",
            "3DS",
            "PSV",
            "WiiU",
            "PS4",
            "PC",
            "PSV",
            "WiiU",
            "WiiU",
            "PS3",
            "PS4",
            "3DS",
            "PSV",
            "PSP",
            "X360",
            "3DS",
            "PS4",
            "3DS",
            "PSV",
            "PSV",
            "PSV",
            "PSV",
            "PS4",
            "PSV",
            "PS4",
            "XOne",
            "Wii",
            "PS3",
            "PSV",
            "PSV",
            "PSV",
            "3DS",
            "PC",
            "PS3",
            "PSV",
            "PS3",
            "PS3",
            "PSV",
            "PS3",
            "X360",
            "PS3",
            "WiiU",
            "PS3",
            "PSP",
            "PS3",
            "PC",
            "PS4",
            "3DS",
            "X360",
            "PS4",
            "PS3",
            "WiiU",
            "XOne",
            "3DS",
            "3DS",
            "PS4",
            "PS4",
            "PSV",
            "3DS",
            "PS4",
            "PS4",
            "3DS",
            "PC",
            "PS4",
            "3DS",
            "PC",
            "3DS",
            "X360",
            "XOne",
            "XOne",
            "PS4",
            "XOne",
            "PS4",
            "PS4",
            "PS3",
            "PS4",
            "PS4",
            "X360",
            "PS4",
            "PC",
            "PS4",
            "PS4",
            "PSV",
            "PSV",
            "PS4",
            "PS4",
            "PC",
            "PS4",
            "PS3",
            "PS4",
            "PS4",
            "X360",
            "PS4",
            "PS4",
            "PC",
            "PSV",
            "XOne",
            "PC",
            "PS4",
            "PSV",
            "PS3",
            "X360",
            "PS4",
            "PS4",
            "PS4",
            "XOne",
            "PSV",
            "PS4",
            "PSV",
            "PS4",
            "X360",
            "PSV",
            "PS4",
            "XOne",
            "PS3",
            "PC",
            "PS4",
            "PC",
            "PS3",
            "3DS",
            "3DS",
            "PSV",
            "WiiU",
            "3DS",
            "Wii",
            "PS4",
            "PS3",
            "PS3",
            "PSV",
            "WiiU",
            "3DS",
            "XOne",
            "PSV",
            "PS3",
            "PSV",
            "PS4",
            "X360",
            "X360",
            "3DS",
            "PS3",
            "PSV",
            "PC",
            "PSV",
            "X360",
            "PS3",
            "PS3",
            "PSV",
            "WiiU",
            "3DS",
            "X360",
            "3DS",
            "X360",
            "PSP",
            "X360",
            "PS3",
            "X360",
            "PS3",
            "PS3",
            "XOne",
            "PSP",
            "PSV",
            "X360",
            "XOne",
            "PC",
            "3DS",
            "3DS",
            "PSV",
            "PS4",
            "PS4",
            "X360",
            "PS3",
            "PSV",
            "PSP",
            "PSV",
            "PSV",
            "PS4",
            "PS4",
            "3DS",
            "XOne",
            "3DS",
            "PSV",
            "X360",
            "PSV",
            "3DS",
            "XOne",
            "3DS",
            "PSV",
            "PS4",
            "3DS",
            "3DS",
            "3DS",
            "3DS",
            "PS3",
            "PC",
            "XOne",
            "PSV",
            "XOne",
            "PC",
            "PC",
            "PSV",
            "3DS",
            "XOne",
            "3DS",
            "3DS",
            "PSV",
            "PS3",
            "XOne",
            "XOne",
            "3DS",
            "PS3",
            "X360",
            "X360",
            "PSV",
            "PS4",
            "WiiU",
            "WiiU",
            "PS3",
            "XOne",
            "WiiU",
            "PSV",
            "X360",
            "3DS",
            "PSV",
            "PS4",
            "PS3",
            "PS3",
            "PS3",
            "PS4",
            "PSV",
            "PC",
            "PS3",
            "PS4",
            "PS3",
            "PS3",
            "3DS",
            "PSV",
            "3DS",
            "PSV",
            "XOne",
            "X360",
            "XOne",
            "PS4",
            "PC",
            "XOne",
            "WiiU",
            "PSV",
            "PS4",
            "PSV",
            "X360",
            "PS3",
            "PC",
            "PS3",
            "3DS",
            "WiiU",
            "WiiU",
            "XOne",
            "PS4",
            "X360",
            "PSV",
            "PSV",
            "X360",
            "PS4",
            "X360",
            "PS3",
            "PS3",
            "PSV",
            "XOne",
            "XOne",
            "X360",
            "WiiU",
            "XOne",
            "3DS",
            "XOne",
            "XOne",
            "X360",
            "PS3",
            "PS3",
            "PSV",
            "X360",
            "PS4",
            "PS3",
            "PSV",
            "PS3",
            "3DS",
            "PS4",
            "PS3",
            "PS4",
            "X360",
            "PSV",
            "PSV",
            "PS3",
            "PSV",
            "X360",
            "PSP",
            "X360",
            "PC",
            "PS4",
            "PS3",
            "PS3",
            "PSV",
            "PS4",
            "PS4",
            "PS3",
            "X360",
            "WiiU",
            "PS4",
            "3DS",
            "X360",
            "PS4",
            "PSV",
            "PS3",
            "PSV",
            "XOne",
            "XOne",
            "WiiU",
            "3DS",
            "PC",
            "PS4",
            "PS3",
            "3DS",
            "PS4",
            "PS4",
            "PS3",
            "PSV",
            "XOne",
            "X360",
            "XOne",
            "PS3",
            "PSV",
            "3DS",
            "PSV",
            "X360",
            "PC",
            "PS3",
            "PSV",
            "PSV",
            "PS4",
            "3DS",
            "Wii",
            "PSV",
            "PSP",
            "PSV",
            "PC",
            "PS3",
            "3DS",
            "WiiU",
            "PS4",
            "X360",
            "PC",
            "PSV",
            "PS3",
            "WiiU",
            "PS3",
            "PS4",
            "3DS",
            "PS3",
            "3DS",
            "PS3",
            "XOne",
            "PC",
            "PSV",
            "X360",
            "X360",
            "3DS",
            "PSV",
            "3DS",
            "3DS",
            "PS3",
            "X360",
            "PS3",
            "3DS",
            "PS4",
            "3DS",
            "X360",
            "PSV",
            "PS4",
            "PS3",
            "PS3",
            "PS3",
            "PS3",
            "PS4",
            "3DS",
            "PS3",
            "WiiU",
            "X360",
            "PS4",
            "XOne",
            "XOne",
            "3DS",
            "PS4",
            "PSV",
            "PS4",
            "XOne",
            "XOne",
            "PS3",
            "XOne",
            "PSV",
            "PC",
            "PSV",
            "3DS",
            "XOne",
            "XOne",
            "XOne",
            "XOne",
            "XOne",
            "PC",
            "XOne",
            "WiiU",
            "XOne",
            "PSP",
            "WiiU",
            "XOne",
            "PC",
            "X360",
            "XOne",
            "PS4",
            "PS3",
            "PS4",
            "XOne",
            "3DS",
            "3DS",
            "X360",
            "XOne",
            "PC",
            "XOne",
            "PS4",
            "PS3",
            "XOne",
            "XOne",
            "3DS",
            "PS3",
            "WiiU",
            "PC",
            "XOne",
            "XOne",
            "XOne",
            "X360",
            "XOne",
            "XOne",
            "PSV",
            "X360",
            "3DS",
            "PS4",
            "PS4",
            "PS4",
            "XOne",
            "PS4",
            "XOne",
            "XOne",
            "X360",
            "X360",
            "PS4",
            "PS4",
            "PS3",
            "PS4",
            "PS4",
            "PS4",
            "PS4",
            "PS4",
            "3DS",
            "PS4",
            "PSV",
            "PS4",
            "PS4",
            "XOne",
            "X360",
            "PS4",
            "PS4",
            "3DS",
            "PS4",
            "PS3",
            "XOne",
            "PS3",
            "PS4",
            "PC",
            "3DS",
            "XOne",
            "XOne",
            "PS4",
            "PS3",
            "PS4",
            "PS4",
            "PS4",
            "PSV",
            "PSV",
            "WiiU",
            "PSV",
            "PS4",
            "PS4",
            "PC",
            "PC",
            "PS3",
            "X360",
            "PS3",
            "PS4",
            "PS3",
            "PC",
            "PS4",
            "PS4",
            "PSV",
            "3DS",
            "XOne",
            "X360",
            "PS4",
            "XOne",
            "PS3",
            "PS4",
            "PS4",
            "PS4",
            "XOne",
            "PS4",
            "PC",
            "XOne",
            "XOne",
            "PS3",
            "XOne",
            "X360",
            "XOne",
            "PS4",
            "XOne",
            "PS4",
            "XOne",
            "PS3",
            "PSV",
            "3DS",
            "PS3",
            "X360",
            "PSV",
            "PS3",
            "WiiU",
            "PS3",
            "XOne",
            "PS3",
            "PS3",
            "XOne",
            "XOne",
            "PS3",
            "PS3",
            "PSV",
            "PS4",
            "XOne",
            "PSV",
            "PS4",
            "PSV",
            "PS3",
            "XOne",
            "PC",
            "PS4",
            "3DS",
            "X360",
            "XOne",
            "XOne",
            "PC",
            "XOne",
            "WiiU",
            "XOne",
            "XOne",
            "XOne",
            "PSV",
            "PS4",
            "XOne",
            "XOne",
            "WiiU",
            "XOne",
            "XOne",
            "PS3",
            "XOne",
            "3DS",
            "XOne",
            "XOne",
            "PS4",
            "XOne",
            "XOne",
            "XOne",
            "XOne",
            "3DS",
            "XOne",
            "XOne",
            "3DS",
            "X360",
            "XOne",
            "XOne",
            "PS4",
            "PSV",
            "3DS",
            "XOne",
            "XOne",
            "XOne",
            "PS3",
            "XOne",
            "XOne",
            "PSV",
            "WiiU",
            "XOne",
            "XOne",
            "XOne",
            "XOne",
            "XOne",
            "XOne",
            "3DS",
            "XOne",
            "WiiU",
            "PSV",
            "XOne",
            "PS4",
            "PSV",
            "XOne",
            "PC",
            "PS3",
            "PS3",
            "XOne",
            "XOne",
            "XOne",
            "3DS",
            "PS3",
            "XOne",
            "XOne",
            "PC",
            "PS3",
            "Wii",
            "XOne",
            "XOne",
            "XOne",
            "XOne",
            "XOne",
            "XOne",
            "PS4",
            "PC",
            "XOne",
            "PS3",
            "X360",
            "PS4",
            "3DS",
            "PSV",
            "Wii",
            "PS4",
            "PC",
            "PS4",
            "PS4",
            "X360",
            "PS4",
            "PS4",
            "PS3",
            "PS4",
            "PS4",
            "PSV",
            "PS4",
            "PSV",
            "PS4",
            "PS4",
            "PS4",
            "PC",
            "PS4",
            "X360",
            "PSV",
            "3DS",
            "X360",
            "PS4",
            "X360",
            "PC",
            "PS4",
            "PSV",
            "PS4",
            "PS3",
            "PS4",
            "PS4",
            "PS4",
            "PS3",
            "X360",
            "PS4",
            "WiiU",
            "PS4",
            "3DS",
            "PS3",
            "PS3",
            "X360",
            "PS3",
            "3DS",
            "PSV",
            "PS4",
            "PS3",
            "PS3",
            "PC",
            "PSV",
            "PS4",
            "PSV",
            "XOne",
            "XOne",
            "PS3",
            "PS4",
            "PS4",
            "PS4",
            "PS4",
            "PS4",
            "3DS",
            "PS4",
            "PS4",
            "PS4",
            "PS4",
            "PS4",
            "PS4",
            "XOne",
            "PC",
            "PS3",
            "PS3",
            "PS4",
            "PSV",
            "PS4",
            "XOne",
            "PS4",
            "PS4",
            "Wii",
            "PS4",
            "X360",
            "PS4",
            "PSP",
            "PC",
            "PS4",
            "PS3",
            "PS4",
            "PS4",
            "PSV",
            "PS4",
            "3DS",
            "PS4",
            "PS3",
            "PS4",
            "PS4",
            "PS4",
            "3DS",
            "3DS",
            "PS4",
            "PSV",
            "WiiU",
            "PS4",
            "PS3",
            "PSV",
            "XOne",
            "PS4"
           ],
           "xaxis": "x",
           "yaxis": "y"
          }
         ],
         "name": "2014"
        },
        {
         "data": [
          {
           "alignmentgroup": "True",
           "bingroup": "x",
           "hovertemplate": "Year_of_Release=2015<br>Platform=%{x}<br>count=%{y}<extra></extra>",
           "legendgroup": "",
           "marker": {
            "color": "#636efa",
            "pattern": {
             "shape": ""
            }
           },
           "name": "",
           "offsetgroup": "",
           "orientation": "v",
           "showlegend": false,
           "type": "histogram",
           "x": [
            "XOne",
            "XOne",
            "PS4",
            "XOne",
            "XOne",
            "3DS",
            "PS4",
            "PS4",
            "XOne",
            "PS4",
            "XOne",
            "XOne",
            "PS4",
            "PS4",
            "XOne",
            "PS4",
            "PS4",
            "3DS",
            "XOne",
            "PS4",
            "PS3",
            "PS4",
            "PC",
            "PS4",
            "3DS",
            "XOne",
            "PSV",
            "PC",
            "XOne",
            "PS4",
            "XOne",
            "XOne",
            "PSV",
            "PSV",
            "PS4",
            "PS4",
            "PS3",
            "PS4",
            "PS4",
            "XOne",
            "PS4",
            "XOne",
            "PS3",
            "PSV",
            "PS4",
            "XOne",
            "XOne",
            "PSV",
            "XOne",
            "PS4",
            "XOne",
            "XOne",
            "XOne",
            "XOne",
            "PS4",
            "PS4",
            "PS4",
            "XOne",
            "PS4",
            "PS3",
            "PSV",
            "PS4",
            "XOne",
            "XOne",
            "XOne",
            "XOne",
            "XOne",
            "PC",
            "XOne",
            "PC",
            "PS4",
            "3DS",
            "XOne",
            "XOne",
            "XOne",
            "PSV",
            "PSV",
            "3DS",
            "PS4",
            "XOne",
            "3DS",
            "XOne",
            "XOne",
            "Wii",
            "XOne",
            "PS4",
            "XOne",
            "XOne",
            "PS4",
            "3DS",
            "PS3",
            "PSV",
            "PS4",
            "PS4",
            "XOne",
            "XOne",
            "PS3",
            "XOne",
            "XOne",
            "PS4",
            "XOne",
            "PS4",
            "XOne",
            "PS4",
            "XOne",
            "PS4",
            "XOne",
            "PS4",
            "XOne",
            "PS4",
            "XOne",
            "PS4",
            "XOne",
            "PS4",
            "X360",
            "PS4",
            "XOne",
            "XOne",
            "XOne",
            "XOne",
            "PS4",
            "XOne",
            "PS3",
            "XOne",
            "PSV",
            "PS4",
            "PS4",
            "3DS",
            "XOne",
            "PS4",
            "XOne",
            "PSP",
            "XOne",
            "XOne",
            "3DS",
            "PS4",
            "XOne",
            "XOne",
            "PS4",
            "XOne",
            "XOne",
            "XOne",
            "PS4",
            "PS4",
            "XOne",
            "XOne",
            "XOne",
            "XOne",
            "PS4",
            "3DS",
            "PS4",
            "XOne",
            "PS4",
            "PS4",
            "PS3",
            "XOne",
            "XOne",
            "XOne",
            "XOne",
            "XOne",
            "PS4",
            "PS4",
            "PS4",
            "XOne",
            "Wii",
            "XOne",
            "XOne",
            "PS4",
            "XOne",
            "XOne",
            "PS4",
            "PS4",
            "PS4",
            "PS4",
            "PS4",
            "WiiU",
            "XOne",
            "3DS",
            "PS4",
            "PS4",
            "PS4",
            "PS4",
            "X360",
            "PS4",
            "PS4",
            "PC",
            "XOne",
            "PS4",
            "XOne",
            "PS4",
            "PS4",
            "WiiU",
            "PS4",
            "PS4",
            "PSV",
            "PS4",
            "PS4",
            "PS4",
            "XOne",
            "PC",
            "PS4",
            "PS4",
            "WiiU",
            "PS4",
            "PS4",
            "PS4",
            "PS4",
            "PS4",
            "PS4",
            "PS4",
            "PS4",
            "PS4",
            "PS4",
            "PS4",
            "WiiU",
            "PS4",
            "PS4",
            "PS3",
            "PS4",
            "PS4",
            "PS4",
            "PS4",
            "PS4",
            "PS4",
            "PS4",
            "PSV",
            "PS4",
            "PS4",
            "PS4",
            "PS4",
            "PS4",
            "PS4",
            "3DS",
            "3DS",
            "PS4",
            "XOne",
            "PS4",
            "PS4",
            "PS4",
            "3DS",
            "PS4",
            "PS4",
            "PS4",
            "PSV",
            "PS4",
            "PS4",
            "PS4",
            "PS4",
            "PS4",
            "PS4",
            "PS4",
            "PS4",
            "PS4",
            "PS4",
            "PS4",
            "PS4",
            "3DS",
            "PS4",
            "PS4",
            "PS4",
            "PS4",
            "PS4",
            "PS4",
            "XOne",
            "PS4",
            "PS4",
            "PS4",
            "PS4",
            "XOne",
            "PS4",
            "PS4",
            "PC",
            "PS4",
            "XOne",
            "PS4",
            "PS4",
            "PS4",
            "PS4",
            "PS4",
            "3DS",
            "PS4",
            "PS4",
            "PS4",
            "PS4",
            "PS4",
            "PS4",
            "PS4",
            "PSV",
            "PS4",
            "PS4",
            "PSV",
            "PS4",
            "WiiU",
            "PS4",
            "PS4",
            "PS4",
            "PS4",
            "XOne",
            "XOne",
            "PS3",
            "XOne",
            "XOne",
            "PS3",
            "PSV",
            "WiiU",
            "XOne",
            "PS4",
            "PS3",
            "PSV",
            "PS4",
            "PS4",
            "PS4",
            "XOne",
            "XOne",
            "PS4",
            "WiiU",
            "PSV",
            "XOne",
            "XOne",
            "PC",
            "XOne",
            "XOne",
            "PS4",
            "XOne",
            "3DS",
            "XOne",
            "XOne",
            "PC",
            "PS4",
            "WiiU",
            "XOne",
            "3DS",
            "XOne",
            "PC",
            "PS4",
            "PS4",
            "XOne",
            "PS4",
            "PS3",
            "PS4",
            "PS4",
            "3DS",
            "PSV",
            "XOne",
            "PS4",
            "PS4",
            "PS4",
            "XOne",
            "XOne",
            "PS4",
            "XOne",
            "XOne",
            "XOne",
            "PS4",
            "XOne",
            "PS4",
            "PS4",
            "PS4",
            "PC",
            "X360",
            "PS4",
            "PS4",
            "XOne",
            "PS4",
            "PS4",
            "PS3",
            "PS4",
            "3DS",
            "PC",
            "PS4",
            "XOne",
            "PC",
            "PS4",
            "3DS",
            "PS4",
            "PS4",
            "PS4",
            "PS4",
            "XOne",
            "PS4",
            "XOne",
            "PS4",
            "XOne",
            "PS4",
            "XOne",
            "XOne",
            "WiiU",
            "XOne",
            "3DS",
            "XOne",
            "PS4",
            "PC",
            "PS4",
            "PS4",
            "PS4",
            "PS4",
            "XOne",
            "PS4",
            "XOne",
            "3DS",
            "PS4",
            "XOne",
            "X360",
            "XOne",
            "PS4",
            "XOne",
            "XOne",
            "XOne",
            "PS4",
            "Wii",
            "WiiU",
            "PSV",
            "PSV",
            "WiiU",
            "PS3",
            "X360",
            "PSV",
            "3DS",
            "PS4",
            "PS4",
            "PS4",
            "PC",
            "PSV",
            "PSV",
            "PSV",
            "PSV",
            "PS4",
            "3DS",
            "PSV",
            "XOne",
            "XOne",
            "XOne",
            "PS3",
            "PS4",
            "PS3",
            "PSV",
            "PS3",
            "XOne",
            "PC",
            "PS3",
            "PS4",
            "XOne",
            "PS3",
            "XOne",
            "PS4",
            "PS4",
            "X360",
            "PS4",
            "PSV",
            "XOne",
            "PS3",
            "PSV",
            "PC",
            "PS4",
            "PSV",
            "PS4",
            "PS4",
            "3DS",
            "3DS",
            "PSV",
            "PSV",
            "PS3",
            "3DS",
            "PS3",
            "PSV",
            "PSV",
            "XOne",
            "PS4",
            "PS4",
            "PSV",
            "PS3",
            "3DS",
            "PSV",
            "PS3",
            "PS4",
            "PSV",
            "3DS",
            "XOne",
            "3DS",
            "XOne",
            "3DS",
            "PSV",
            "PSV",
            "XOne",
            "WiiU",
            "XOne",
            "X360",
            "PSV",
            "PC",
            "X360",
            "PS3",
            "PC",
            "XOne",
            "PS4",
            "3DS",
            "XOne",
            "PSV",
            "PS4",
            "3DS",
            "3DS",
            "XOne",
            "PSV",
            "X360",
            "XOne",
            "XOne",
            "PSV",
            "PS4",
            "X360",
            "PC",
            "3DS",
            "PS4",
            "XOne",
            "PC",
            "PSV",
            "PC",
            "PS4",
            "WiiU",
            "PS3",
            "XOne",
            "PS3",
            "PC",
            "PC",
            "PS4",
            "3DS",
            "XOne",
            "PS3",
            "PS4",
            "XOne",
            "PSV",
            "3DS",
            "3DS",
            "PS3",
            "PS3",
            "XOne",
            "WiiU",
            "3DS",
            "PS3",
            "PC",
            "X360",
            "3DS",
            "PC",
            "3DS",
            "PS4",
            "XOne",
            "XOne",
            "WiiU",
            "WiiU",
            "PS4",
            "PC",
            "X360",
            "PS4",
            "PSV",
            "Wii",
            "3DS",
            "XOne",
            "PS3",
            "3DS",
            "XOne",
            "X360",
            "PSV",
            "PC",
            "PS4",
            "3DS",
            "PS3",
            "3DS",
            "PS3",
            "PS4",
            "X360",
            "3DS",
            "PSV",
            "3DS",
            "3DS",
            "3DS",
            "PS4",
            "X360",
            "PS4",
            "PS3",
            "3DS",
            "XOne",
            "PS4",
            "PS3",
            "X360",
            "PSV",
            "PS3",
            "PSV",
            "PS3",
            "XOne",
            "PC",
            "PC",
            "PSV",
            "3DS",
            "PS3",
            "PS4",
            "XOne",
            "PSV",
            "PS4",
            "3DS",
            "PS4",
            "XOne",
            "PS4",
            "PC",
            "XOne",
            "PS3",
            "PS4",
            "X360",
            "PC",
            "PS4",
            "PS3",
            "PSV",
            "PSV",
            "PS4",
            "3DS",
            "PSV",
            "PSV",
            "X360",
            "XOne",
            "X360",
            "PSV",
            "PS4",
            "PSV",
            "PS3",
            "WiiU",
            "3DS",
            "PS4",
            "PS3",
            "PS4",
            "PS3",
            "PS3",
            "PS4",
            "PS3",
            "3DS",
            "3DS",
            "PSV",
            "PSV",
            "PSV",
            "XOne",
            "PSV",
            "XOne",
            "PSV",
            "3DS",
            "XOne",
            "PSV",
            "PS3",
            "WiiU",
            "PS3",
            "X360",
            "PS4",
            "PC",
            "X360",
            "PS4",
            "PSV",
            "PC",
            "3DS",
            "X360",
            "PS4",
            "X360",
            "XOne",
            "PS4",
            "PC",
            "PSV",
            "PC",
            "PSV",
            "PSV",
            "PSV",
            "PS4",
            "PSV",
            "PSV",
            "PS3",
            "PS4",
            "X360",
            "PC",
            "3DS",
            "3DS",
            "PSV",
            "PSV",
            "PS4",
            "PS3",
            "PSV",
            "PS4",
            "PS4",
            "PS3",
            "PS3",
            "3DS",
            "PSV",
            "PS4",
            "XOne",
            "PS3",
            "PSV",
            "X360",
            "XOne",
            "PSV",
            "PS3",
            "PS3",
            "PSP",
            "PSV",
            "PSV",
            "X360",
            "PS4",
            "PS4",
            "3DS",
            "PS4",
            "PSV",
            "3DS",
            "PSV",
            "PSV",
            "PS4",
            "PS4",
            "PS4",
            "XOne",
            "XOne",
            "XOne",
            "XOne",
            "3DS",
            "3DS",
            "X360",
            "PSV",
            "PSV",
            "PS4",
            "PC",
            "PC",
            "PS4",
            "3DS",
            "PS3",
            "PC",
            "PS4",
            "3DS",
            "XOne",
            "PS4",
            "WiiU",
            "PS4",
            "WiiU",
            "PSV",
            "3DS",
            "XOne",
            "X360",
            "3DS",
            "PS3",
            "PS4",
            "WiiU",
            "PS3",
            "3DS",
            "PS4",
            "PSV",
            "PC",
            "PSV",
            "PS3",
            "X360",
            "3DS",
            "PS4",
            "X360",
            "PS4",
            "PSV",
            "PS3",
            "PSV",
            "3DS",
            "PS4",
            "3DS",
            "X360",
            "PS4",
            "X360",
            "PSV",
            "PS4",
            "PS4",
            "PC",
            "3DS",
            "PSV",
            "WiiU",
            "PSV",
            "3DS",
            "PC",
            "PS3",
            "PS3",
            "WiiU",
            "PS4",
            "WiiU",
            "PS4",
            "PS4",
            "X360",
            "PS4",
            "PS3",
            "PC",
            "PS4",
            "3DS",
            "PS4",
            "PSP",
            "PS4",
            "PS4",
            "PSV",
            "XOne",
            "PS4",
            "PSV",
            "PS4",
            "PS4",
            "PS4",
            "PS4",
            "XOne",
            "PSV",
            "PS4",
            "3DS",
            "PS4",
            "PS4",
            "PSV",
            "PS4",
            "PS3",
            "3DS",
            "PSV",
            "3DS",
            "XOne",
            "PS4",
            "3DS",
            "PSV",
            "PS4",
            "3DS",
            "PSV",
            "WiiU",
            "PS3",
            "PSV",
            "PS4",
            "3DS",
            "X360",
            "3DS",
            "PS4",
            "XOne",
            "PS3",
            "PSV",
            "PS4",
            "XOne",
            "PS4",
            "PS4",
            "PS4",
            "WiiU",
            "XOne",
            "PC",
            "PS4",
            "PS4",
            "PS3",
            "WiiU",
            "PSV",
            "PS4",
            "PSV",
            "PSV",
            "PS4",
            "PC",
            "X360",
            "XOne",
            "WiiU",
            "PSV",
            "XOne",
            "PSV",
            "PSV",
            "PS3",
            "PS3",
            "PC",
            "3DS",
            "PC",
            "PSV",
            "XOne",
            "PS3",
            "PS3",
            "PS4",
            "PS3",
            "XOne",
            "XOne",
            "PS4",
            "PC",
            "XOne",
            "PSV",
            "3DS",
            "PC"
           ],
           "xaxis": "x",
           "yaxis": "y"
          }
         ],
         "name": "2015"
        },
        {
         "data": [
          {
           "alignmentgroup": "True",
           "bingroup": "x",
           "hovertemplate": "Year_of_Release=2016<br>Platform=%{x}<br>count=%{y}<extra></extra>",
           "legendgroup": "",
           "marker": {
            "color": "#636efa",
            "pattern": {
             "shape": ""
            }
           },
           "name": "",
           "offsetgroup": "",
           "orientation": "v",
           "showlegend": false,
           "type": "histogram",
           "x": [
            "XOne",
            "XOne",
            "XOne",
            "PS4",
            "3DS",
            "PS4",
            "PS4",
            "PS4",
            "XOne",
            "XOne",
            "PS4",
            "PS4",
            "XOne",
            "PS4",
            "XOne",
            "PC",
            "PS4",
            "XOne",
            "XOne",
            "PS4",
            "PS4",
            "XOne",
            "PS4",
            "3DS",
            "PS4",
            "PSV",
            "3DS",
            "PSV",
            "PS4",
            "PS4",
            "XOne",
            "XOne",
            "PS4",
            "XOne",
            "PS4",
            "PS4",
            "PS4",
            "X360",
            "PS4",
            "XOne",
            "PS4",
            "PS4",
            "PS4",
            "PS3",
            "XOne",
            "PS4",
            "PS4",
            "PS4",
            "XOne",
            "XOne",
            "PS4",
            "PS4",
            "PS3",
            "PC",
            "XOne",
            "PS3",
            "PS4",
            "PC",
            "PS4",
            "XOne",
            "PS4",
            "PS4",
            "XOne",
            "PS4",
            "XOne",
            "XOne",
            "PS4",
            "PS4",
            "PS4",
            "XOne",
            "PS4",
            "PS4",
            "PS4",
            "PS4",
            "PS4",
            "PS4",
            "PS4",
            "XOne",
            "PS4",
            "XOne",
            "PS4",
            "PS4",
            "XOne",
            "PS4",
            "PS3",
            "PS4",
            "PS3",
            "PS4",
            "XOne",
            "PS4",
            "PS4",
            "XOne",
            "XOne",
            "XOne",
            "PS4",
            "PS4",
            "PS4",
            "PS4",
            "PS4",
            "PS4",
            "PS4",
            "XOne",
            "PS4",
            "3DS",
            "3DS",
            "PS4",
            "XOne",
            "PS4",
            "PS4",
            "XOne",
            "XOne",
            "PSV",
            "PS3",
            "PS4",
            "PS4",
            "PSV",
            "XOne",
            "XOne",
            "X360",
            "PS4",
            "PS4",
            "XOne",
            "PS4",
            "PS4",
            "3DS",
            "PS4",
            "XOne",
            "PSV",
            "XOne",
            "PS4",
            "XOne",
            "PS4",
            "XOne",
            "PC",
            "PS4",
            "PS4",
            "PS4",
            "PS4",
            "XOne",
            "PS4",
            "PS4",
            "PS4",
            "PC",
            "XOne",
            "X360",
            "PS4",
            "XOne",
            "PS4",
            "PS4",
            "PS4",
            "PS4",
            "XOne",
            "XOne",
            "PC",
            "PS4",
            "PS4",
            "PS4",
            "PS4",
            "PS4",
            "PS4",
            "PS4",
            "PS4",
            "XOne",
            "PS3",
            "XOne",
            "PS4",
            "XOne",
            "PS4",
            "PS4",
            "PS4",
            "PS4",
            "PS4",
            "PS4",
            "PC",
            "PC",
            "XOne",
            "PS4",
            "PS4",
            "PS4",
            "XOne",
            "PS4",
            "XOne",
            "XOne",
            "PS4",
            "PS4",
            "XOne",
            "PS4",
            "PS4",
            "PS4",
            "3DS",
            "PS4",
            "PS4",
            "PS4",
            "PSV",
            "PS3",
            "PS4",
            "PS4",
            "PSV",
            "PS4",
            "XOne",
            "PS4",
            "PSV",
            "PS4",
            "XOne",
            "XOne",
            "PS4",
            "PS4",
            "3DS",
            "XOne",
            "PS4",
            "PS4",
            "PS4",
            "X360",
            "PS4",
            "PS4",
            "PS4",
            "XOne",
            "PC",
            "XOne",
            "PS4",
            "XOne",
            "PS4",
            "PS4",
            "PS4",
            "PS4",
            "PS4",
            "XOne",
            "3DS",
            "XOne",
            "PS4",
            "PS4",
            "XOne",
            "PS4",
            "PS4",
            "XOne",
            "PS4",
            "PS4",
            "XOne",
            "PS4",
            "PC",
            "PC",
            "PS4",
            "XOne",
            "XOne",
            "XOne",
            "XOne",
            "PS4",
            "PS4",
            "PS4",
            "PS4",
            "XOne",
            "X360",
            "XOne",
            "PS4",
            "PS4",
            "PS3",
            "PS4",
            "PS4",
            "X360",
            "XOne",
            "XOne",
            "PS4",
            "3DS",
            "XOne",
            "PS4",
            "PSV",
            "PS4",
            "PS4",
            "PS4",
            "WiiU",
            "PS4",
            "PSV",
            "PS4",
            "XOne",
            "XOne",
            "XOne",
            "X360",
            "XOne",
            "PS4",
            "XOne",
            "PS4",
            "PS4",
            "3DS",
            "3DS",
            "XOne",
            "PS4",
            "XOne",
            "PS4",
            "PSV",
            "PS4",
            "XOne",
            "PS4",
            "PS4",
            "XOne",
            "XOne",
            "XOne",
            "PS4",
            "PS4",
            "WiiU",
            "PSV",
            "PS4",
            "PS4",
            "XOne",
            "3DS",
            "XOne",
            "PS4",
            "PC",
            "3DS",
            "PS4",
            "XOne",
            "XOne",
            "PS4",
            "XOne",
            "PS4",
            "XOne",
            "PSV",
            "PS4",
            "PC",
            "PS4",
            "PS4",
            "3DS",
            "PS4",
            "XOne",
            "X360",
            "PS4",
            "PS4",
            "PS4",
            "PS4",
            "XOne",
            "PS4",
            "XOne",
            "XOne",
            "PS4",
            "XOne",
            "PS4",
            "PS4",
            "XOne",
            "PS4",
            "PS4",
            "XOne",
            "PSV",
            "XOne",
            "XOne",
            "PS3",
            "PS4",
            "PS4",
            "PS4",
            "PS4",
            "XOne",
            "XOne",
            "PSV",
            "XOne",
            "PS4",
            "PS3",
            "PS4",
            "PSV",
            "XOne",
            "PS4",
            "XOne",
            "PS3",
            "PC",
            "PSV",
            "PS4",
            "PS4",
            "PS4",
            "XOne",
            "PS4",
            "PSV",
            "PS4",
            "PS4",
            "XOne",
            "PSV",
            "XOne",
            "PS3",
            "PC",
            "PS4",
            "WiiU",
            "PS4",
            "XOne",
            "XOne",
            "XOne",
            "PSV",
            "PSV",
            "PS3",
            "PS3",
            "PSV",
            "PSV",
            "WiiU",
            "PS4",
            "PS3",
            "X360",
            "XOne",
            "PS3",
            "PS4",
            "PSV",
            "PC",
            "XOne",
            "PSV",
            "3DS",
            "PSV",
            "PS3",
            "PS4",
            "PS4",
            "PS4",
            "PS4",
            "PS4",
            "PS4",
            "PC",
            "PS4",
            "PSV",
            "PSV",
            "PSV",
            "PS4",
            "PC",
            "PS4",
            "PS4",
            "XOne",
            "XOne",
            "XOne",
            "PS4",
            "PS4",
            "PS4",
            "PSV",
            "PS4",
            "PC",
            "XOne",
            "PS4",
            "PS4",
            "PSV",
            "XOne",
            "PS4",
            "XOne",
            "PS3",
            "PS4",
            "PS4",
            "XOne",
            "PC",
            "PS4",
            "PS4",
            "3DS",
            "PS4",
            "PS4",
            "PS4",
            "3DS",
            "PSV",
            "PS3",
            "3DS",
            "PS3",
            "XOne",
            "XOne",
            "PS4",
            "XOne",
            "3DS",
            "PSV",
            "PSV",
            "PSV",
            "PS3",
            "PSV",
            "PS3",
            "PS4",
            "PSV",
            "3DS",
            "PS4",
            "PSV",
            "PS4",
            "PS4",
            "PSV",
            "PSV",
            "PS3",
            "PS4",
            "PSV",
            "XOne",
            "XOne",
            "PC",
            "PSV",
            "PS4",
            "PS3",
            "PC",
            "PSV",
            "PC",
            "PSV",
            "PS4",
            "PS3",
            "PS3",
            "PS4",
            "PSV",
            "PS4",
            "PC",
            "PS4",
            "PS4",
            "XOne",
            "XOne",
            "PS4",
            "PSV",
            "3DS",
            "3DS",
            "3DS",
            "PS4",
            "PSV",
            "PS4",
            "PS4",
            "3DS",
            "XOne",
            "XOne",
            "PS3",
            "PS4",
            "X360",
            "PSV",
            "PSV",
            "XOne",
            "PS3",
            "PSV",
            "PS4",
            "XOne",
            "PS4",
            "3DS",
            "PS4",
            "PS4",
            "XOne",
            "PSV",
            "PC",
            "PC",
            "PSV",
            "PS4",
            "3DS",
            "PS4",
            "PSV",
            "PS4",
            "PSV",
            "PC",
            "PSV",
            "3DS",
            "PS3",
            "PS4",
            "PSV",
            "PS4",
            "PS4",
            "PSV",
            "PSV",
            "PS4",
            "XOne",
            "WiiU",
            "3DS",
            "PS4",
            "XOne",
            "PS4",
            "3DS",
            "PC",
            "PSV",
            "PS4",
            "PS3",
            "XOne",
            "3DS",
            "X360",
            "XOne",
            "PSV",
            "XOne",
            "XOne",
            "PS4",
            "PC",
            "XOne",
            "PS4",
            "PS3",
            "PSV",
            "PC",
            "PS4",
            "PSV",
            "PS4",
            "PS4",
            "3DS",
            "PS4",
            "XOne",
            "PS4",
            "XOne",
            "PS3",
            "XOne",
            "PC",
            "PS4",
            "PS3",
            "3DS",
            "PS4",
            "PS4",
            "3DS",
            "XOne",
            "PC",
            "PC",
            "XOne",
            "PSV",
            "3DS",
            "PS4",
            "XOne",
            "PS4",
            "PS4",
            "3DS",
            "PC",
            "3DS",
            "PS4",
            "PS4",
            "PS4",
            "XOne",
            "PSV",
            "XOne",
            "PS3",
            "PS4",
            "PS4",
            "PS4",
            "PS4",
            "PS4",
            "PC",
            "PS4",
            "3DS",
            "PS4",
            "PS4",
            "PS4",
            "PS4",
            "3DS",
            "XOne",
            "XOne",
            "PS4",
            "PS4",
            "PS4",
            "PS4",
            "PSV",
            "XOne",
            "XOne",
            "PS4",
            "PS4",
            "PC",
            "PS4",
            "PS4",
            "PS4",
            "PS4",
            "PSV",
            "XOne",
            "PS4",
            "PS4",
            "PSV",
            "XOne",
            "PSV",
            "PS4",
            "XOne",
            "PS4",
            "PC",
            "PS4",
            "PS4",
            "XOne",
            "WiiU",
            "X360",
            "PS4",
            "3DS",
            "PS4",
            "XOne",
            "PS4",
            "WiiU",
            "3DS",
            "PC",
            "PS4",
            "XOne",
            "XOne",
            "XOne",
            "XOne",
            "PS4",
            "PS4",
            "PS4",
            "PS4",
            "PSV",
            "PS4",
            "XOne",
            "PC",
            "PS4",
            "XOne",
            "XOne",
            "XOne",
            "PS4",
            "PS4",
            "PS3",
            "XOne",
            "PS3",
            "PS4",
            "PS3",
            "PS4",
            "PC",
            "XOne",
            "PS4",
            "PC",
            "WiiU",
            "PS4",
            "XOne",
            "PS4",
            "PS4",
            "3DS",
            "PS4",
            "PC",
            "PSV",
            "PS4",
            "XOne",
            "PS4",
            "PS4",
            "3DS",
            "XOne",
            "PS4",
            "PC",
            "XOne",
            "PS4",
            "PS4",
            "PSV",
            "PSV",
            "PS4",
            "PS4",
            "PS4",
            "XOne",
            "PC",
            "XOne",
            "PS4",
            "PS4",
            "PSV",
            "PS4",
            "XOne",
            "PS4",
            "XOne",
            "PS4",
            "PS4",
            "PSV",
            "PS4",
            "PS4",
            "XOne",
            "XOne",
            "PS4",
            "PS4",
            "PSV",
            "Wii",
            "PS4",
            "PS4",
            "PS4",
            "PSV",
            "PS4",
            "WiiU",
            "PSV",
            "PS4",
            "PC",
            "XOne",
            "XOne",
            "PS4",
            "3DS",
            "PS4",
            "PS4",
            "PS4",
            "XOne",
            "PC",
            "PC",
            "PSV",
            "WiiU",
            "XOne",
            "PS4",
            "PS4",
            "PS4",
            "PS4",
            "XOne",
            "XOne",
            "XOne",
            "PS4",
            "PS4",
            "XOne",
            "XOne",
            "PSV",
            "PS4",
            "PS4",
            "PS4",
            "XOne",
            "WiiU",
            "PS4",
            "XOne",
            "PS4",
            "PS4",
            "PS4",
            "PSV",
            "PS4",
            "PS4",
            "PS4",
            "PS4",
            "WiiU",
            "PSV",
            "PS4",
            "WiiU",
            "PS4",
            "PS4",
            "PS4",
            "XOne",
            "XOne",
            "PC",
            "PS4",
            "XOne",
            "PS4",
            "PS4",
            "XOne",
            "PC",
            "PS4",
            "PS4",
            "PS4",
            "PS4",
            "PC",
            "PS4",
            "PS4",
            "XOne",
            "PS4",
            "PS4",
            "PS4",
            "XOne",
            "3DS",
            "PS4",
            "PC",
            "XOne",
            "PS4",
            "PC",
            "XOne",
            "XOne",
            "XOne",
            "PS4",
            "PSV",
            "XOne",
            "XOne",
            "3DS",
            "WiiU",
            "PSV",
            "PC",
            "PS4",
            "PS4",
            "PS4",
            "PS4",
            "PC",
            "X360",
            "XOne",
            "XOne"
           ],
           "xaxis": "x",
           "yaxis": "y"
          }
         ],
         "name": "2016"
        },
        {
         "data": [
          {
           "alignmentgroup": "True",
           "bingroup": "x",
           "hovertemplate": "Year_of_Release=2017<br>Platform=%{x}<br>count=%{y}<extra></extra>",
           "legendgroup": "",
           "marker": {
            "color": "#636efa",
            "pattern": {
             "shape": ""
            }
           },
           "name": "",
           "offsetgroup": "",
           "orientation": "v",
           "showlegend": false,
           "type": "histogram",
           "x": [
            "XOne",
            "XOne",
            "XOne",
            "XOne",
            "XOne",
            "XOne",
            "XOne",
            "XOne",
            "XOne",
            "XOne",
            "XOne",
            "XOne",
            "XOne",
            "XOne",
            "XOne",
            "XOne",
            "XOne",
            "XOne",
            "XOne",
            "XOne",
            "XOne",
            "XOne",
            "XOne",
            "XOne",
            "XOne",
            "XOne",
            "XOne",
            "XOne",
            "XOne",
            "XOne",
            "XOne",
            "XOne",
            "XOne",
            "XOne",
            "XOne",
            "XOne",
            "XOne",
            "XOne",
            "XOne",
            "XOne",
            "XOne",
            "XOne",
            "XOne",
            "XOne",
            "XOne",
            "XOne",
            "XOne",
            "XOne",
            "XOne",
            "XOne",
            "XOne",
            "XOne",
            "XOne",
            "XOne",
            "XOne",
            "XOne",
            "XOne",
            "XOne",
            "XOne",
            "XOne",
            "XOne",
            "XOne",
            "XOne",
            "XOne",
            "XOne",
            "XOne",
            "XOne",
            "XOne",
            "XOne",
            "XOne",
            "XOne",
            "XOne",
            "XOne",
            "XOne",
            "XOne",
            "XOne",
            "XOne",
            "XOne",
            "XOne",
            "XOne",
            "XOne",
            "XOne",
            "XOne",
            "XOne",
            "XOne",
            "XOne",
            "XOne",
            "XOne",
            "XOne",
            "XOne",
            "XOne",
            "XOne",
            "XOne",
            "XOne",
            "XOne",
            "XOne",
            "XOne",
            "XOne",
            "XOne",
            "XOne",
            "XOne",
            "XOne",
            "XOne",
            "XOne",
            "XOne",
            "XOne",
            "XOne",
            "XOne",
            "XOne",
            "XOne",
            "XOne",
            "XOne",
            "XOne",
            "XOne",
            "XOne",
            "XOne",
            "XOne",
            "XOne",
            "XOne",
            "XOne",
            "PS4",
            "XOne",
            "PS4",
            "PS4",
            "PS4",
            "PS4",
            "PS4",
            "PS4",
            "PS4",
            "PS4",
            "PS4",
            "PS4",
            "PS4",
            "PS4",
            "PS4",
            "PS4",
            "PS4",
            "PS4",
            "PS4",
            "PS4",
            "PS4",
            "PS4",
            "PS4",
            "PS4",
            "PS4",
            "PS4",
            "PS4",
            "PS4",
            "PS4",
            "PS4",
            "PS4",
            "PS4",
            "PS4",
            "PS4",
            "PS4",
            "PS4",
            "PS4",
            "PS4",
            "PS4",
            "PS4",
            "PS4",
            "PS4",
            "PS4",
            "PS4",
            "PS4",
            "PS4",
            "PS4",
            "PS4",
            "PS4",
            "PS4",
            "PS4",
            "PS4",
            "PS4",
            "PS4",
            "PS4",
            "PS4",
            "PS4",
            "PS4",
            "PS4",
            "PS4",
            "PS4",
            "PS4",
            "PS4",
            "PS4",
            "PS4",
            "PS4",
            "PS4",
            "PS4",
            "PS4",
            "PS4",
            "PS4",
            "PS4",
            "PS4",
            "PS4",
            "PS4",
            "PS4",
            "PS4",
            "PS4",
            "XOne",
            "PS4",
            "PS4",
            "PS4",
            "PS4",
            "PS4",
            "PS4",
            "PS4",
            "PS4",
            "PS4",
            "PS4",
            "PS4",
            "PS4",
            "PS4",
            "PS4",
            "PS4",
            "PS4",
            "PS4",
            "PS4",
            "PS4",
            "PS4",
            "PS4",
            "PS4",
            "PS4",
            "PS4",
            "PSV",
            "XOne",
            "PSV",
            "PS4",
            "PS4",
            "PS4",
            "PS4",
            "PS4",
            "PS4",
            "PS4",
            "PS4",
            "PS4",
            "PS4",
            "PS4",
            "PS4",
            "PS4",
            "PS4",
            "PS4",
            "PS4",
            "PS4",
            "PS4",
            "PS4",
            "PS4",
            "PS4",
            "PS4",
            "PS4",
            "PS4",
            "PS4",
            "PS4",
            "PS4",
            "PS4",
            "PS4",
            "PS4",
            "PS4",
            "PS4",
            "PS4",
            "PS4",
            "PS4",
            "PS4",
            "PS4",
            "PS4",
            "PS4",
            "PS4",
            "PS4",
            "PS4",
            "PS4",
            "PS4",
            "PS4",
            "PS4",
            "PS4",
            "PS4",
            "PS4",
            "PS4",
            "PS4",
            "PS4",
            "PS4",
            "PS4",
            "PS4",
            "PS4",
            "PS4",
            "PS4",
            "PS4",
            "XOne",
            "PS4",
            "PS4",
            "PS4",
            "XOne",
            "PS4",
            "PS4",
            "PS4",
            "PS4",
            "PS4",
            "XOne",
            "PS4",
            "PS4",
            "PS4",
            "XOne",
            "PS4",
            "PS4",
            "PS4",
            "PS4",
            "PS4",
            "PS4",
            "XOne",
            "PS4",
            "PS4",
            "PS4",
            "PS4",
            "PS4",
            "PS4",
            "PS4",
            "PS4",
            "PS4",
            "PS4",
            "PS4",
            "PS4",
            "PS4",
            "PS4",
            "PS4",
            "PS4",
            "PS4",
            "PS4",
            "PS4",
            "PS4",
            "XOne",
            "PS4",
            "PS4",
            "PS4",
            "PS4",
            "PS4",
            "PS4",
            "PS4",
            "XOne",
            "PS4",
            "XOne",
            "PS4",
            "PS4",
            "XOne",
            "PS4",
            "XOne",
            "XOne",
            "PS4",
            "PS4",
            "PS4",
            "PS4",
            "XOne",
            "PS4",
            "PS4",
            "PS4",
            "PS4",
            "XOne",
            "PS4",
            "PS4",
            "PS4",
            "PS4",
            "PS4",
            "PS4",
            "XOne",
            "PS4",
            "PS4",
            "PS4",
            "PS4",
            "PS4",
            "PS4",
            "PS4",
            "PS4",
            "PS4",
            "PS4",
            "PS4",
            "PS4",
            "PS4",
            "PS4",
            "PS4",
            "PS4",
            "PS4",
            "PS4",
            "XOne",
            "XOne",
            "PS4",
            "PS4",
            "PS4",
            "PS4",
            "PS4",
            "XOne",
            "PS4",
            "PS4",
            "PS4",
            "XOne",
            "PS4",
            "PS4",
            "PS4",
            "PS4",
            "PS4",
            "PS4",
            "PS4",
            "XOne"
           ],
           "xaxis": "x",
           "yaxis": "y"
          }
         ],
         "name": "2017"
        },
        {
         "data": [
          {
           "alignmentgroup": "True",
           "bingroup": "x",
           "hovertemplate": "Year_of_Release=2018<br>Platform=%{x}<br>count=%{y}<extra></extra>",
           "legendgroup": "",
           "marker": {
            "color": "#636efa",
            "pattern": {
             "shape": ""
            }
           },
           "name": "",
           "offsetgroup": "",
           "orientation": "v",
           "showlegend": false,
           "type": "histogram",
           "x": [
            "PS4",
            "XOne",
            "PS4",
            "PS4",
            "PS4",
            "XOne",
            "PS4",
            "PS4",
            "PS4",
            "XOne",
            "XOne",
            "PS4",
            "PS4",
            "PS4",
            "PS4",
            "XOne",
            "PS4",
            "PS4",
            "XOne",
            "PS4",
            "XOne",
            "PS4",
            "XOne",
            "XOne",
            "XOne",
            "PS4",
            "XOne",
            "PS4",
            "PS4",
            "PS4",
            "PS4",
            "XOne",
            "XOne",
            "PS4",
            "XOne",
            "PS4",
            "PS4",
            "PS4",
            "PS4",
            "PS4",
            "PS4",
            "XOne",
            "PS4",
            "PS4",
            "PS4",
            "PS4",
            "PS4",
            "PS4",
            "XOne",
            "PS4",
            "XOne",
            "PS4",
            "XOne",
            "XOne",
            "XOne",
            "XOne",
            "XOne",
            "PS4",
            "PS4",
            "PS4",
            "XOne",
            "XOne",
            "PS4"
           ],
           "xaxis": "x",
           "yaxis": "y"
          }
         ],
         "name": "2018"
        },
        {
         "data": [
          {
           "alignmentgroup": "True",
           "bingroup": "x",
           "hovertemplate": "Year_of_Release=2019<br>Platform=%{x}<br>count=%{y}<extra></extra>",
           "legendgroup": "",
           "marker": {
            "color": "#636efa",
            "pattern": {
             "shape": ""
            }
           },
           "name": "",
           "offsetgroup": "",
           "orientation": "v",
           "showlegend": false,
           "type": "histogram",
           "x": [
            "XOne",
            "XOne",
            "XOne",
            "XOne",
            "PS4",
            "XOne",
            "PS4",
            "XOne",
            "PS4",
            "XOne",
            "PS4",
            "PS4",
            "PS4",
            "PS4",
            "PS4",
            "PS4",
            "PS4",
            "XOne",
            "PS4",
            "XOne",
            "PS4"
           ],
           "xaxis": "x",
           "yaxis": "y"
          }
         ],
         "name": "2019"
        },
        {
         "data": [
          {
           "alignmentgroup": "True",
           "bingroup": "x",
           "hovertemplate": "Year_of_Release=2020<br>Platform=%{x}<br>count=%{y}<extra></extra>",
           "legendgroup": "",
           "marker": {
            "color": "#636efa",
            "pattern": {
             "shape": ""
            }
           },
           "name": "",
           "offsetgroup": "",
           "orientation": "v",
           "showlegend": false,
           "type": "histogram",
           "x": [
            "PS4",
            "PS4",
            "XOne",
            "DS",
            "XOne",
            "PS4",
            "PS4",
            "PS4",
            "PS4",
            "PS4",
            "PS4",
            "XOne",
            "XOne"
           ],
           "xaxis": "x",
           "yaxis": "y"
          }
         ],
         "name": "2020"
        }
       ],
       "layout": {
        "barmode": "relative",
        "legend": {
         "tracegroupgap": 0
        },
        "margin": {
         "t": 60
        },
        "sliders": [
         {
          "active": 0,
          "currentvalue": {
           "prefix": "Year_of_Release="
          },
          "len": 0.9,
          "pad": {
           "b": 10,
           "t": 60
          },
          "steps": [
           {
            "args": [
             [
              "1980"
             ],
             {
              "frame": {
               "duration": 0,
               "redraw": true
              },
              "fromcurrent": true,
              "mode": "immediate",
              "transition": {
               "duration": 0,
               "easing": "linear"
              }
             }
            ],
            "label": "1980",
            "method": "animate"
           },
           {
            "args": [
             [
              "1981"
             ],
             {
              "frame": {
               "duration": 0,
               "redraw": true
              },
              "fromcurrent": true,
              "mode": "immediate",
              "transition": {
               "duration": 0,
               "easing": "linear"
              }
             }
            ],
            "label": "1981",
            "method": "animate"
           },
           {
            "args": [
             [
              "1982"
             ],
             {
              "frame": {
               "duration": 0,
               "redraw": true
              },
              "fromcurrent": true,
              "mode": "immediate",
              "transition": {
               "duration": 0,
               "easing": "linear"
              }
             }
            ],
            "label": "1982",
            "method": "animate"
           },
           {
            "args": [
             [
              "1983"
             ],
             {
              "frame": {
               "duration": 0,
               "redraw": true
              },
              "fromcurrent": true,
              "mode": "immediate",
              "transition": {
               "duration": 0,
               "easing": "linear"
              }
             }
            ],
            "label": "1983",
            "method": "animate"
           },
           {
            "args": [
             [
              "1984"
             ],
             {
              "frame": {
               "duration": 0,
               "redraw": true
              },
              "fromcurrent": true,
              "mode": "immediate",
              "transition": {
               "duration": 0,
               "easing": "linear"
              }
             }
            ],
            "label": "1984",
            "method": "animate"
           },
           {
            "args": [
             [
              "1985"
             ],
             {
              "frame": {
               "duration": 0,
               "redraw": true
              },
              "fromcurrent": true,
              "mode": "immediate",
              "transition": {
               "duration": 0,
               "easing": "linear"
              }
             }
            ],
            "label": "1985",
            "method": "animate"
           },
           {
            "args": [
             [
              "1986"
             ],
             {
              "frame": {
               "duration": 0,
               "redraw": true
              },
              "fromcurrent": true,
              "mode": "immediate",
              "transition": {
               "duration": 0,
               "easing": "linear"
              }
             }
            ],
            "label": "1986",
            "method": "animate"
           },
           {
            "args": [
             [
              "1987"
             ],
             {
              "frame": {
               "duration": 0,
               "redraw": true
              },
              "fromcurrent": true,
              "mode": "immediate",
              "transition": {
               "duration": 0,
               "easing": "linear"
              }
             }
            ],
            "label": "1987",
            "method": "animate"
           },
           {
            "args": [
             [
              "1988"
             ],
             {
              "frame": {
               "duration": 0,
               "redraw": true
              },
              "fromcurrent": true,
              "mode": "immediate",
              "transition": {
               "duration": 0,
               "easing": "linear"
              }
             }
            ],
            "label": "1988",
            "method": "animate"
           },
           {
            "args": [
             [
              "1989"
             ],
             {
              "frame": {
               "duration": 0,
               "redraw": true
              },
              "fromcurrent": true,
              "mode": "immediate",
              "transition": {
               "duration": 0,
               "easing": "linear"
              }
             }
            ],
            "label": "1989",
            "method": "animate"
           },
           {
            "args": [
             [
              "1990"
             ],
             {
              "frame": {
               "duration": 0,
               "redraw": true
              },
              "fromcurrent": true,
              "mode": "immediate",
              "transition": {
               "duration": 0,
               "easing": "linear"
              }
             }
            ],
            "label": "1990",
            "method": "animate"
           },
           {
            "args": [
             [
              "1991"
             ],
             {
              "frame": {
               "duration": 0,
               "redraw": true
              },
              "fromcurrent": true,
              "mode": "immediate",
              "transition": {
               "duration": 0,
               "easing": "linear"
              }
             }
            ],
            "label": "1991",
            "method": "animate"
           },
           {
            "args": [
             [
              "1992"
             ],
             {
              "frame": {
               "duration": 0,
               "redraw": true
              },
              "fromcurrent": true,
              "mode": "immediate",
              "transition": {
               "duration": 0,
               "easing": "linear"
              }
             }
            ],
            "label": "1992",
            "method": "animate"
           },
           {
            "args": [
             [
              "1993"
             ],
             {
              "frame": {
               "duration": 0,
               "redraw": true
              },
              "fromcurrent": true,
              "mode": "immediate",
              "transition": {
               "duration": 0,
               "easing": "linear"
              }
             }
            ],
            "label": "1993",
            "method": "animate"
           },
           {
            "args": [
             [
              "1994"
             ],
             {
              "frame": {
               "duration": 0,
               "redraw": true
              },
              "fromcurrent": true,
              "mode": "immediate",
              "transition": {
               "duration": 0,
               "easing": "linear"
              }
             }
            ],
            "label": "1994",
            "method": "animate"
           },
           {
            "args": [
             [
              "1995"
             ],
             {
              "frame": {
               "duration": 0,
               "redraw": true
              },
              "fromcurrent": true,
              "mode": "immediate",
              "transition": {
               "duration": 0,
               "easing": "linear"
              }
             }
            ],
            "label": "1995",
            "method": "animate"
           },
           {
            "args": [
             [
              "1996"
             ],
             {
              "frame": {
               "duration": 0,
               "redraw": true
              },
              "fromcurrent": true,
              "mode": "immediate",
              "transition": {
               "duration": 0,
               "easing": "linear"
              }
             }
            ],
            "label": "1996",
            "method": "animate"
           },
           {
            "args": [
             [
              "1997"
             ],
             {
              "frame": {
               "duration": 0,
               "redraw": true
              },
              "fromcurrent": true,
              "mode": "immediate",
              "transition": {
               "duration": 0,
               "easing": "linear"
              }
             }
            ],
            "label": "1997",
            "method": "animate"
           },
           {
            "args": [
             [
              "1998"
             ],
             {
              "frame": {
               "duration": 0,
               "redraw": true
              },
              "fromcurrent": true,
              "mode": "immediate",
              "transition": {
               "duration": 0,
               "easing": "linear"
              }
             }
            ],
            "label": "1998",
            "method": "animate"
           },
           {
            "args": [
             [
              "1999"
             ],
             {
              "frame": {
               "duration": 0,
               "redraw": true
              },
              "fromcurrent": true,
              "mode": "immediate",
              "transition": {
               "duration": 0,
               "easing": "linear"
              }
             }
            ],
            "label": "1999",
            "method": "animate"
           },
           {
            "args": [
             [
              "2000"
             ],
             {
              "frame": {
               "duration": 0,
               "redraw": true
              },
              "fromcurrent": true,
              "mode": "immediate",
              "transition": {
               "duration": 0,
               "easing": "linear"
              }
             }
            ],
            "label": "2000",
            "method": "animate"
           },
           {
            "args": [
             [
              "2001"
             ],
             {
              "frame": {
               "duration": 0,
               "redraw": true
              },
              "fromcurrent": true,
              "mode": "immediate",
              "transition": {
               "duration": 0,
               "easing": "linear"
              }
             }
            ],
            "label": "2001",
            "method": "animate"
           },
           {
            "args": [
             [
              "2002"
             ],
             {
              "frame": {
               "duration": 0,
               "redraw": true
              },
              "fromcurrent": true,
              "mode": "immediate",
              "transition": {
               "duration": 0,
               "easing": "linear"
              }
             }
            ],
            "label": "2002",
            "method": "animate"
           },
           {
            "args": [
             [
              "2003"
             ],
             {
              "frame": {
               "duration": 0,
               "redraw": true
              },
              "fromcurrent": true,
              "mode": "immediate",
              "transition": {
               "duration": 0,
               "easing": "linear"
              }
             }
            ],
            "label": "2003",
            "method": "animate"
           },
           {
            "args": [
             [
              "2004"
             ],
             {
              "frame": {
               "duration": 0,
               "redraw": true
              },
              "fromcurrent": true,
              "mode": "immediate",
              "transition": {
               "duration": 0,
               "easing": "linear"
              }
             }
            ],
            "label": "2004",
            "method": "animate"
           },
           {
            "args": [
             [
              "2005"
             ],
             {
              "frame": {
               "duration": 0,
               "redraw": true
              },
              "fromcurrent": true,
              "mode": "immediate",
              "transition": {
               "duration": 0,
               "easing": "linear"
              }
             }
            ],
            "label": "2005",
            "method": "animate"
           },
           {
            "args": [
             [
              "2006"
             ],
             {
              "frame": {
               "duration": 0,
               "redraw": true
              },
              "fromcurrent": true,
              "mode": "immediate",
              "transition": {
               "duration": 0,
               "easing": "linear"
              }
             }
            ],
            "label": "2006",
            "method": "animate"
           },
           {
            "args": [
             [
              "2007"
             ],
             {
              "frame": {
               "duration": 0,
               "redraw": true
              },
              "fromcurrent": true,
              "mode": "immediate",
              "transition": {
               "duration": 0,
               "easing": "linear"
              }
             }
            ],
            "label": "2007",
            "method": "animate"
           },
           {
            "args": [
             [
              "2008"
             ],
             {
              "frame": {
               "duration": 0,
               "redraw": true
              },
              "fromcurrent": true,
              "mode": "immediate",
              "transition": {
               "duration": 0,
               "easing": "linear"
              }
             }
            ],
            "label": "2008",
            "method": "animate"
           },
           {
            "args": [
             [
              "2009"
             ],
             {
              "frame": {
               "duration": 0,
               "redraw": true
              },
              "fromcurrent": true,
              "mode": "immediate",
              "transition": {
               "duration": 0,
               "easing": "linear"
              }
             }
            ],
            "label": "2009",
            "method": "animate"
           },
           {
            "args": [
             [
              "2010"
             ],
             {
              "frame": {
               "duration": 0,
               "redraw": true
              },
              "fromcurrent": true,
              "mode": "immediate",
              "transition": {
               "duration": 0,
               "easing": "linear"
              }
             }
            ],
            "label": "2010",
            "method": "animate"
           },
           {
            "args": [
             [
              "2011"
             ],
             {
              "frame": {
               "duration": 0,
               "redraw": true
              },
              "fromcurrent": true,
              "mode": "immediate",
              "transition": {
               "duration": 0,
               "easing": "linear"
              }
             }
            ],
            "label": "2011",
            "method": "animate"
           },
           {
            "args": [
             [
              "2012"
             ],
             {
              "frame": {
               "duration": 0,
               "redraw": true
              },
              "fromcurrent": true,
              "mode": "immediate",
              "transition": {
               "duration": 0,
               "easing": "linear"
              }
             }
            ],
            "label": "2012",
            "method": "animate"
           },
           {
            "args": [
             [
              "2013"
             ],
             {
              "frame": {
               "duration": 0,
               "redraw": true
              },
              "fromcurrent": true,
              "mode": "immediate",
              "transition": {
               "duration": 0,
               "easing": "linear"
              }
             }
            ],
            "label": "2013",
            "method": "animate"
           },
           {
            "args": [
             [
              "2014"
             ],
             {
              "frame": {
               "duration": 0,
               "redraw": true
              },
              "fromcurrent": true,
              "mode": "immediate",
              "transition": {
               "duration": 0,
               "easing": "linear"
              }
             }
            ],
            "label": "2014",
            "method": "animate"
           },
           {
            "args": [
             [
              "2015"
             ],
             {
              "frame": {
               "duration": 0,
               "redraw": true
              },
              "fromcurrent": true,
              "mode": "immediate",
              "transition": {
               "duration": 0,
               "easing": "linear"
              }
             }
            ],
            "label": "2015",
            "method": "animate"
           },
           {
            "args": [
             [
              "2016"
             ],
             {
              "frame": {
               "duration": 0,
               "redraw": true
              },
              "fromcurrent": true,
              "mode": "immediate",
              "transition": {
               "duration": 0,
               "easing": "linear"
              }
             }
            ],
            "label": "2016",
            "method": "animate"
           },
           {
            "args": [
             [
              "2017"
             ],
             {
              "frame": {
               "duration": 0,
               "redraw": true
              },
              "fromcurrent": true,
              "mode": "immediate",
              "transition": {
               "duration": 0,
               "easing": "linear"
              }
             }
            ],
            "label": "2017",
            "method": "animate"
           },
           {
            "args": [
             [
              "2018"
             ],
             {
              "frame": {
               "duration": 0,
               "redraw": true
              },
              "fromcurrent": true,
              "mode": "immediate",
              "transition": {
               "duration": 0,
               "easing": "linear"
              }
             }
            ],
            "label": "2018",
            "method": "animate"
           },
           {
            "args": [
             [
              "2019"
             ],
             {
              "frame": {
               "duration": 0,
               "redraw": true
              },
              "fromcurrent": true,
              "mode": "immediate",
              "transition": {
               "duration": 0,
               "easing": "linear"
              }
             }
            ],
            "label": "2019",
            "method": "animate"
           },
           {
            "args": [
             [
              "2020"
             ],
             {
              "frame": {
               "duration": 0,
               "redraw": true
              },
              "fromcurrent": true,
              "mode": "immediate",
              "transition": {
               "duration": 0,
               "easing": "linear"
              }
             }
            ],
            "label": "2020",
            "method": "animate"
           }
          ],
          "x": 0.1,
          "xanchor": "left",
          "y": 0,
          "yanchor": "top"
         }
        ],
        "template": {
         "data": {
          "bar": [
           {
            "error_x": {
             "color": "#2a3f5f"
            },
            "error_y": {
             "color": "#2a3f5f"
            },
            "marker": {
             "line": {
              "color": "#E5ECF6",
              "width": 0.5
             },
             "pattern": {
              "fillmode": "overlay",
              "size": 10,
              "solidity": 0.2
             }
            },
            "type": "bar"
           }
          ],
          "barpolar": [
           {
            "marker": {
             "line": {
              "color": "#E5ECF6",
              "width": 0.5
             },
             "pattern": {
              "fillmode": "overlay",
              "size": 10,
              "solidity": 0.2
             }
            },
            "type": "barpolar"
           }
          ],
          "carpet": [
           {
            "aaxis": {
             "endlinecolor": "#2a3f5f",
             "gridcolor": "white",
             "linecolor": "white",
             "minorgridcolor": "white",
             "startlinecolor": "#2a3f5f"
            },
            "baxis": {
             "endlinecolor": "#2a3f5f",
             "gridcolor": "white",
             "linecolor": "white",
             "minorgridcolor": "white",
             "startlinecolor": "#2a3f5f"
            },
            "type": "carpet"
           }
          ],
          "choropleth": [
           {
            "colorbar": {
             "outlinewidth": 0,
             "ticks": ""
            },
            "type": "choropleth"
           }
          ],
          "contour": [
           {
            "colorbar": {
             "outlinewidth": 0,
             "ticks": ""
            },
            "colorscale": [
             [
              0,
              "#0d0887"
             ],
             [
              0.1111111111111111,
              "#46039f"
             ],
             [
              0.2222222222222222,
              "#7201a8"
             ],
             [
              0.3333333333333333,
              "#9c179e"
             ],
             [
              0.4444444444444444,
              "#bd3786"
             ],
             [
              0.5555555555555556,
              "#d8576b"
             ],
             [
              0.6666666666666666,
              "#ed7953"
             ],
             [
              0.7777777777777778,
              "#fb9f3a"
             ],
             [
              0.8888888888888888,
              "#fdca26"
             ],
             [
              1,
              "#f0f921"
             ]
            ],
            "type": "contour"
           }
          ],
          "contourcarpet": [
           {
            "colorbar": {
             "outlinewidth": 0,
             "ticks": ""
            },
            "type": "contourcarpet"
           }
          ],
          "heatmap": [
           {
            "colorbar": {
             "outlinewidth": 0,
             "ticks": ""
            },
            "colorscale": [
             [
              0,
              "#0d0887"
             ],
             [
              0.1111111111111111,
              "#46039f"
             ],
             [
              0.2222222222222222,
              "#7201a8"
             ],
             [
              0.3333333333333333,
              "#9c179e"
             ],
             [
              0.4444444444444444,
              "#bd3786"
             ],
             [
              0.5555555555555556,
              "#d8576b"
             ],
             [
              0.6666666666666666,
              "#ed7953"
             ],
             [
              0.7777777777777778,
              "#fb9f3a"
             ],
             [
              0.8888888888888888,
              "#fdca26"
             ],
             [
              1,
              "#f0f921"
             ]
            ],
            "type": "heatmap"
           }
          ],
          "heatmapgl": [
           {
            "colorbar": {
             "outlinewidth": 0,
             "ticks": ""
            },
            "colorscale": [
             [
              0,
              "#0d0887"
             ],
             [
              0.1111111111111111,
              "#46039f"
             ],
             [
              0.2222222222222222,
              "#7201a8"
             ],
             [
              0.3333333333333333,
              "#9c179e"
             ],
             [
              0.4444444444444444,
              "#bd3786"
             ],
             [
              0.5555555555555556,
              "#d8576b"
             ],
             [
              0.6666666666666666,
              "#ed7953"
             ],
             [
              0.7777777777777778,
              "#fb9f3a"
             ],
             [
              0.8888888888888888,
              "#fdca26"
             ],
             [
              1,
              "#f0f921"
             ]
            ],
            "type": "heatmapgl"
           }
          ],
          "histogram": [
           {
            "marker": {
             "pattern": {
              "fillmode": "overlay",
              "size": 10,
              "solidity": 0.2
             }
            },
            "type": "histogram"
           }
          ],
          "histogram2d": [
           {
            "colorbar": {
             "outlinewidth": 0,
             "ticks": ""
            },
            "colorscale": [
             [
              0,
              "#0d0887"
             ],
             [
              0.1111111111111111,
              "#46039f"
             ],
             [
              0.2222222222222222,
              "#7201a8"
             ],
             [
              0.3333333333333333,
              "#9c179e"
             ],
             [
              0.4444444444444444,
              "#bd3786"
             ],
             [
              0.5555555555555556,
              "#d8576b"
             ],
             [
              0.6666666666666666,
              "#ed7953"
             ],
             [
              0.7777777777777778,
              "#fb9f3a"
             ],
             [
              0.8888888888888888,
              "#fdca26"
             ],
             [
              1,
              "#f0f921"
             ]
            ],
            "type": "histogram2d"
           }
          ],
          "histogram2dcontour": [
           {
            "colorbar": {
             "outlinewidth": 0,
             "ticks": ""
            },
            "colorscale": [
             [
              0,
              "#0d0887"
             ],
             [
              0.1111111111111111,
              "#46039f"
             ],
             [
              0.2222222222222222,
              "#7201a8"
             ],
             [
              0.3333333333333333,
              "#9c179e"
             ],
             [
              0.4444444444444444,
              "#bd3786"
             ],
             [
              0.5555555555555556,
              "#d8576b"
             ],
             [
              0.6666666666666666,
              "#ed7953"
             ],
             [
              0.7777777777777778,
              "#fb9f3a"
             ],
             [
              0.8888888888888888,
              "#fdca26"
             ],
             [
              1,
              "#f0f921"
             ]
            ],
            "type": "histogram2dcontour"
           }
          ],
          "mesh3d": [
           {
            "colorbar": {
             "outlinewidth": 0,
             "ticks": ""
            },
            "type": "mesh3d"
           }
          ],
          "parcoords": [
           {
            "line": {
             "colorbar": {
              "outlinewidth": 0,
              "ticks": ""
             }
            },
            "type": "parcoords"
           }
          ],
          "pie": [
           {
            "automargin": true,
            "type": "pie"
           }
          ],
          "scatter": [
           {
            "fillpattern": {
             "fillmode": "overlay",
             "size": 10,
             "solidity": 0.2
            },
            "type": "scatter"
           }
          ],
          "scatter3d": [
           {
            "line": {
             "colorbar": {
              "outlinewidth": 0,
              "ticks": ""
             }
            },
            "marker": {
             "colorbar": {
              "outlinewidth": 0,
              "ticks": ""
             }
            },
            "type": "scatter3d"
           }
          ],
          "scattercarpet": [
           {
            "marker": {
             "colorbar": {
              "outlinewidth": 0,
              "ticks": ""
             }
            },
            "type": "scattercarpet"
           }
          ],
          "scattergeo": [
           {
            "marker": {
             "colorbar": {
              "outlinewidth": 0,
              "ticks": ""
             }
            },
            "type": "scattergeo"
           }
          ],
          "scattergl": [
           {
            "marker": {
             "colorbar": {
              "outlinewidth": 0,
              "ticks": ""
             }
            },
            "type": "scattergl"
           }
          ],
          "scattermapbox": [
           {
            "marker": {
             "colorbar": {
              "outlinewidth": 0,
              "ticks": ""
             }
            },
            "type": "scattermapbox"
           }
          ],
          "scatterpolar": [
           {
            "marker": {
             "colorbar": {
              "outlinewidth": 0,
              "ticks": ""
             }
            },
            "type": "scatterpolar"
           }
          ],
          "scatterpolargl": [
           {
            "marker": {
             "colorbar": {
              "outlinewidth": 0,
              "ticks": ""
             }
            },
            "type": "scatterpolargl"
           }
          ],
          "scatterternary": [
           {
            "marker": {
             "colorbar": {
              "outlinewidth": 0,
              "ticks": ""
             }
            },
            "type": "scatterternary"
           }
          ],
          "surface": [
           {
            "colorbar": {
             "outlinewidth": 0,
             "ticks": ""
            },
            "colorscale": [
             [
              0,
              "#0d0887"
             ],
             [
              0.1111111111111111,
              "#46039f"
             ],
             [
              0.2222222222222222,
              "#7201a8"
             ],
             [
              0.3333333333333333,
              "#9c179e"
             ],
             [
              0.4444444444444444,
              "#bd3786"
             ],
             [
              0.5555555555555556,
              "#d8576b"
             ],
             [
              0.6666666666666666,
              "#ed7953"
             ],
             [
              0.7777777777777778,
              "#fb9f3a"
             ],
             [
              0.8888888888888888,
              "#fdca26"
             ],
             [
              1,
              "#f0f921"
             ]
            ],
            "type": "surface"
           }
          ],
          "table": [
           {
            "cells": {
             "fill": {
              "color": "#EBF0F8"
             },
             "line": {
              "color": "white"
             }
            },
            "header": {
             "fill": {
              "color": "#C8D4E3"
             },
             "line": {
              "color": "white"
             }
            },
            "type": "table"
           }
          ]
         },
         "layout": {
          "annotationdefaults": {
           "arrowcolor": "#2a3f5f",
           "arrowhead": 0,
           "arrowwidth": 1
          },
          "autotypenumbers": "strict",
          "coloraxis": {
           "colorbar": {
            "outlinewidth": 0,
            "ticks": ""
           }
          },
          "colorscale": {
           "diverging": [
            [
             0,
             "#8e0152"
            ],
            [
             0.1,
             "#c51b7d"
            ],
            [
             0.2,
             "#de77ae"
            ],
            [
             0.3,
             "#f1b6da"
            ],
            [
             0.4,
             "#fde0ef"
            ],
            [
             0.5,
             "#f7f7f7"
            ],
            [
             0.6,
             "#e6f5d0"
            ],
            [
             0.7,
             "#b8e186"
            ],
            [
             0.8,
             "#7fbc41"
            ],
            [
             0.9,
             "#4d9221"
            ],
            [
             1,
             "#276419"
            ]
           ],
           "sequential": [
            [
             0,
             "#0d0887"
            ],
            [
             0.1111111111111111,
             "#46039f"
            ],
            [
             0.2222222222222222,
             "#7201a8"
            ],
            [
             0.3333333333333333,
             "#9c179e"
            ],
            [
             0.4444444444444444,
             "#bd3786"
            ],
            [
             0.5555555555555556,
             "#d8576b"
            ],
            [
             0.6666666666666666,
             "#ed7953"
            ],
            [
             0.7777777777777778,
             "#fb9f3a"
            ],
            [
             0.8888888888888888,
             "#fdca26"
            ],
            [
             1,
             "#f0f921"
            ]
           ],
           "sequentialminus": [
            [
             0,
             "#0d0887"
            ],
            [
             0.1111111111111111,
             "#46039f"
            ],
            [
             0.2222222222222222,
             "#7201a8"
            ],
            [
             0.3333333333333333,
             "#9c179e"
            ],
            [
             0.4444444444444444,
             "#bd3786"
            ],
            [
             0.5555555555555556,
             "#d8576b"
            ],
            [
             0.6666666666666666,
             "#ed7953"
            ],
            [
             0.7777777777777778,
             "#fb9f3a"
            ],
            [
             0.8888888888888888,
             "#fdca26"
            ],
            [
             1,
             "#f0f921"
            ]
           ]
          },
          "colorway": [
           "#636efa",
           "#EF553B",
           "#00cc96",
           "#ab63fa",
           "#FFA15A",
           "#19d3f3",
           "#FF6692",
           "#B6E880",
           "#FF97FF",
           "#FECB52"
          ],
          "font": {
           "color": "#2a3f5f"
          },
          "geo": {
           "bgcolor": "white",
           "lakecolor": "white",
           "landcolor": "#E5ECF6",
           "showlakes": true,
           "showland": true,
           "subunitcolor": "white"
          },
          "hoverlabel": {
           "align": "left"
          },
          "hovermode": "closest",
          "mapbox": {
           "style": "light"
          },
          "paper_bgcolor": "white",
          "plot_bgcolor": "#E5ECF6",
          "polar": {
           "angularaxis": {
            "gridcolor": "white",
            "linecolor": "white",
            "ticks": ""
           },
           "bgcolor": "#E5ECF6",
           "radialaxis": {
            "gridcolor": "white",
            "linecolor": "white",
            "ticks": ""
           }
          },
          "scene": {
           "xaxis": {
            "backgroundcolor": "#E5ECF6",
            "gridcolor": "white",
            "gridwidth": 2,
            "linecolor": "white",
            "showbackground": true,
            "ticks": "",
            "zerolinecolor": "white"
           },
           "yaxis": {
            "backgroundcolor": "#E5ECF6",
            "gridcolor": "white",
            "gridwidth": 2,
            "linecolor": "white",
            "showbackground": true,
            "ticks": "",
            "zerolinecolor": "white"
           },
           "zaxis": {
            "backgroundcolor": "#E5ECF6",
            "gridcolor": "white",
            "gridwidth": 2,
            "linecolor": "white",
            "showbackground": true,
            "ticks": "",
            "zerolinecolor": "white"
           }
          },
          "shapedefaults": {
           "line": {
            "color": "#2a3f5f"
           }
          },
          "ternary": {
           "aaxis": {
            "gridcolor": "white",
            "linecolor": "white",
            "ticks": ""
           },
           "baxis": {
            "gridcolor": "white",
            "linecolor": "white",
            "ticks": ""
           },
           "bgcolor": "#E5ECF6",
           "caxis": {
            "gridcolor": "white",
            "linecolor": "white",
            "ticks": ""
           }
          },
          "title": {
           "x": 0.05
          },
          "xaxis": {
           "automargin": true,
           "gridcolor": "white",
           "linecolor": "white",
           "ticks": "",
           "title": {
            "standoff": 15
           },
           "zerolinecolor": "white",
           "zerolinewidth": 2
          },
          "yaxis": {
           "automargin": true,
           "gridcolor": "white",
           "linecolor": "white",
           "ticks": "",
           "title": {
            "standoff": 15
           },
           "zerolinecolor": "white",
           "zerolinewidth": 2
          }
         }
        },
        "title": {
         "text": "Lanzamientos de videojuegos por año y plataforma"
        },
        "updatemenus": [
         {
          "buttons": [
           {
            "args": [
             null,
             {
              "frame": {
               "duration": 1000,
               "redraw": true
              },
              "fromcurrent": true,
              "mode": "immediate",
              "transition": {
               "duration": 500,
               "easing": "linear"
              }
             }
            ],
            "label": "&#9654;",
            "method": "animate"
           },
           {
            "args": [
             [
              null
             ],
             {
              "frame": {
               "duration": 0,
               "redraw": true
              },
              "fromcurrent": true,
              "mode": "immediate",
              "transition": {
               "duration": 0,
               "easing": "linear"
              }
             }
            ],
            "label": "&#9724;",
            "method": "animate"
           }
          ],
          "direction": "left",
          "pad": {
           "r": 10,
           "t": 70
          },
          "showactive": false,
          "type": "buttons",
          "x": 0.1,
          "xanchor": "right",
          "y": 0,
          "yanchor": "top"
         }
        ],
        "xaxis": {
         "anchor": "y",
         "categoryorder": "category ascending",
         "domain": [
          0,
          1
         ],
         "title": {
          "text": "Platform"
         },
         "type": "category"
        },
        "yaxis": {
         "anchor": "x",
         "domain": [
          0,
          1
         ],
         "range": [
          0,
          550
         ],
         "title": {
          "text": "count"
         }
        }
       }
      }
     },
     "metadata": {},
     "output_type": "display_data"
    }
   ],
   "source": [
    "df_Games_per_Year = df_Games.copy()\n",
    "df_Games_per_Year.sort_values(\"Year_of_Release\", ascending=True, inplace=True)\n",
    "\n",
    "fig = px.histogram(df_Games_per_Year, x=\"Platform\", animation_frame=\"Year_of_Release\", range_y=[0,550],)\n",
    "fig.update_layout(title=\"Lanzamientos de videojuegos por año y plataforma\")\n",
    "fig.update_xaxes(type='category')\n",
    "fig.update_xaxes(categoryorder='category ascending')\n",
    "fig.layout.updatemenus[0].buttons[0].args[1]['frame']['duration'] = 1000\n",
    "fig.write_html(\"gráficas/Lanzamientos_Juegos_Plataforma.html\")\n",
    "fig.show()"
   ]
  },
  {
   "cell_type": "code",
   "execution_count": 48,
   "metadata": {},
   "outputs": [
    {
     "data": {
      "application/vnd.plotly.v1+json": {
       "config": {
        "plotlyServerURL": "https://plot.ly"
       },
       "data": [
        {
         "alignmentgroup": "True",
         "hovertemplate": "Platform=%{x}<br>Count=%{y}<extra></extra>",
         "legendgroup": "",
         "marker": {
          "color": "#636efa",
          "pattern": {
           "shape": ""
          }
         },
         "name": "",
         "offsetgroup": "",
         "orientation": "v",
         "showlegend": false,
         "textposition": "auto",
         "type": "bar",
         "x": [
          "2600",
          "3DO",
          "3DS",
          "DC",
          "DS",
          "GB",
          "GBA",
          "GC",
          "GEN",
          "GG",
          "N64",
          "NES",
          "NG",
          "PC",
          "PCFX",
          "PS",
          "PS2",
          "PS3",
          "PS4",
          "PSP",
          "PSV",
          "SAT",
          "SCD",
          "SNES",
          "TG16",
          "WS",
          "Wii",
          "WiiU",
          "X360",
          "XB",
          "XOne"
         ],
         "xaxis": "x",
         "y": [
          116,
          3,
          512,
          52,
          2122,
          97,
          786,
          542,
          27,
          1,
          316,
          98,
          12,
          952,
          1,
          1190,
          2127,
          1306,
          1194,
          1193,
          429,
          173,
          6,
          239,
          2,
          6,
          1286,
          147,
          1232,
          803,
          733
         ],
         "yaxis": "y"
        }
       ],
       "layout": {
        "barmode": "relative",
        "legend": {
         "tracegroupgap": 0
        },
        "margin": {
         "t": 60
        },
        "template": {
         "data": {
          "bar": [
           {
            "error_x": {
             "color": "#2a3f5f"
            },
            "error_y": {
             "color": "#2a3f5f"
            },
            "marker": {
             "line": {
              "color": "#E5ECF6",
              "width": 0.5
             },
             "pattern": {
              "fillmode": "overlay",
              "size": 10,
              "solidity": 0.2
             }
            },
            "type": "bar"
           }
          ],
          "barpolar": [
           {
            "marker": {
             "line": {
              "color": "#E5ECF6",
              "width": 0.5
             },
             "pattern": {
              "fillmode": "overlay",
              "size": 10,
              "solidity": 0.2
             }
            },
            "type": "barpolar"
           }
          ],
          "carpet": [
           {
            "aaxis": {
             "endlinecolor": "#2a3f5f",
             "gridcolor": "white",
             "linecolor": "white",
             "minorgridcolor": "white",
             "startlinecolor": "#2a3f5f"
            },
            "baxis": {
             "endlinecolor": "#2a3f5f",
             "gridcolor": "white",
             "linecolor": "white",
             "minorgridcolor": "white",
             "startlinecolor": "#2a3f5f"
            },
            "type": "carpet"
           }
          ],
          "choropleth": [
           {
            "colorbar": {
             "outlinewidth": 0,
             "ticks": ""
            },
            "type": "choropleth"
           }
          ],
          "contour": [
           {
            "colorbar": {
             "outlinewidth": 0,
             "ticks": ""
            },
            "colorscale": [
             [
              0,
              "#0d0887"
             ],
             [
              0.1111111111111111,
              "#46039f"
             ],
             [
              0.2222222222222222,
              "#7201a8"
             ],
             [
              0.3333333333333333,
              "#9c179e"
             ],
             [
              0.4444444444444444,
              "#bd3786"
             ],
             [
              0.5555555555555556,
              "#d8576b"
             ],
             [
              0.6666666666666666,
              "#ed7953"
             ],
             [
              0.7777777777777778,
              "#fb9f3a"
             ],
             [
              0.8888888888888888,
              "#fdca26"
             ],
             [
              1,
              "#f0f921"
             ]
            ],
            "type": "contour"
           }
          ],
          "contourcarpet": [
           {
            "colorbar": {
             "outlinewidth": 0,
             "ticks": ""
            },
            "type": "contourcarpet"
           }
          ],
          "heatmap": [
           {
            "colorbar": {
             "outlinewidth": 0,
             "ticks": ""
            },
            "colorscale": [
             [
              0,
              "#0d0887"
             ],
             [
              0.1111111111111111,
              "#46039f"
             ],
             [
              0.2222222222222222,
              "#7201a8"
             ],
             [
              0.3333333333333333,
              "#9c179e"
             ],
             [
              0.4444444444444444,
              "#bd3786"
             ],
             [
              0.5555555555555556,
              "#d8576b"
             ],
             [
              0.6666666666666666,
              "#ed7953"
             ],
             [
              0.7777777777777778,
              "#fb9f3a"
             ],
             [
              0.8888888888888888,
              "#fdca26"
             ],
             [
              1,
              "#f0f921"
             ]
            ],
            "type": "heatmap"
           }
          ],
          "heatmapgl": [
           {
            "colorbar": {
             "outlinewidth": 0,
             "ticks": ""
            },
            "colorscale": [
             [
              0,
              "#0d0887"
             ],
             [
              0.1111111111111111,
              "#46039f"
             ],
             [
              0.2222222222222222,
              "#7201a8"
             ],
             [
              0.3333333333333333,
              "#9c179e"
             ],
             [
              0.4444444444444444,
              "#bd3786"
             ],
             [
              0.5555555555555556,
              "#d8576b"
             ],
             [
              0.6666666666666666,
              "#ed7953"
             ],
             [
              0.7777777777777778,
              "#fb9f3a"
             ],
             [
              0.8888888888888888,
              "#fdca26"
             ],
             [
              1,
              "#f0f921"
             ]
            ],
            "type": "heatmapgl"
           }
          ],
          "histogram": [
           {
            "marker": {
             "pattern": {
              "fillmode": "overlay",
              "size": 10,
              "solidity": 0.2
             }
            },
            "type": "histogram"
           }
          ],
          "histogram2d": [
           {
            "colorbar": {
             "outlinewidth": 0,
             "ticks": ""
            },
            "colorscale": [
             [
              0,
              "#0d0887"
             ],
             [
              0.1111111111111111,
              "#46039f"
             ],
             [
              0.2222222222222222,
              "#7201a8"
             ],
             [
              0.3333333333333333,
              "#9c179e"
             ],
             [
              0.4444444444444444,
              "#bd3786"
             ],
             [
              0.5555555555555556,
              "#d8576b"
             ],
             [
              0.6666666666666666,
              "#ed7953"
             ],
             [
              0.7777777777777778,
              "#fb9f3a"
             ],
             [
              0.8888888888888888,
              "#fdca26"
             ],
             [
              1,
              "#f0f921"
             ]
            ],
            "type": "histogram2d"
           }
          ],
          "histogram2dcontour": [
           {
            "colorbar": {
             "outlinewidth": 0,
             "ticks": ""
            },
            "colorscale": [
             [
              0,
              "#0d0887"
             ],
             [
              0.1111111111111111,
              "#46039f"
             ],
             [
              0.2222222222222222,
              "#7201a8"
             ],
             [
              0.3333333333333333,
              "#9c179e"
             ],
             [
              0.4444444444444444,
              "#bd3786"
             ],
             [
              0.5555555555555556,
              "#d8576b"
             ],
             [
              0.6666666666666666,
              "#ed7953"
             ],
             [
              0.7777777777777778,
              "#fb9f3a"
             ],
             [
              0.8888888888888888,
              "#fdca26"
             ],
             [
              1,
              "#f0f921"
             ]
            ],
            "type": "histogram2dcontour"
           }
          ],
          "mesh3d": [
           {
            "colorbar": {
             "outlinewidth": 0,
             "ticks": ""
            },
            "type": "mesh3d"
           }
          ],
          "parcoords": [
           {
            "line": {
             "colorbar": {
              "outlinewidth": 0,
              "ticks": ""
             }
            },
            "type": "parcoords"
           }
          ],
          "pie": [
           {
            "automargin": true,
            "type": "pie"
           }
          ],
          "scatter": [
           {
            "fillpattern": {
             "fillmode": "overlay",
             "size": 10,
             "solidity": 0.2
            },
            "type": "scatter"
           }
          ],
          "scatter3d": [
           {
            "line": {
             "colorbar": {
              "outlinewidth": 0,
              "ticks": ""
             }
            },
            "marker": {
             "colorbar": {
              "outlinewidth": 0,
              "ticks": ""
             }
            },
            "type": "scatter3d"
           }
          ],
          "scattercarpet": [
           {
            "marker": {
             "colorbar": {
              "outlinewidth": 0,
              "ticks": ""
             }
            },
            "type": "scattercarpet"
           }
          ],
          "scattergeo": [
           {
            "marker": {
             "colorbar": {
              "outlinewidth": 0,
              "ticks": ""
             }
            },
            "type": "scattergeo"
           }
          ],
          "scattergl": [
           {
            "marker": {
             "colorbar": {
              "outlinewidth": 0,
              "ticks": ""
             }
            },
            "type": "scattergl"
           }
          ],
          "scattermapbox": [
           {
            "marker": {
             "colorbar": {
              "outlinewidth": 0,
              "ticks": ""
             }
            },
            "type": "scattermapbox"
           }
          ],
          "scatterpolar": [
           {
            "marker": {
             "colorbar": {
              "outlinewidth": 0,
              "ticks": ""
             }
            },
            "type": "scatterpolar"
           }
          ],
          "scatterpolargl": [
           {
            "marker": {
             "colorbar": {
              "outlinewidth": 0,
              "ticks": ""
             }
            },
            "type": "scatterpolargl"
           }
          ],
          "scatterternary": [
           {
            "marker": {
             "colorbar": {
              "outlinewidth": 0,
              "ticks": ""
             }
            },
            "type": "scatterternary"
           }
          ],
          "surface": [
           {
            "colorbar": {
             "outlinewidth": 0,
             "ticks": ""
            },
            "colorscale": [
             [
              0,
              "#0d0887"
             ],
             [
              0.1111111111111111,
              "#46039f"
             ],
             [
              0.2222222222222222,
              "#7201a8"
             ],
             [
              0.3333333333333333,
              "#9c179e"
             ],
             [
              0.4444444444444444,
              "#bd3786"
             ],
             [
              0.5555555555555556,
              "#d8576b"
             ],
             [
              0.6666666666666666,
              "#ed7953"
             ],
             [
              0.7777777777777778,
              "#fb9f3a"
             ],
             [
              0.8888888888888888,
              "#fdca26"
             ],
             [
              1,
              "#f0f921"
             ]
            ],
            "type": "surface"
           }
          ],
          "table": [
           {
            "cells": {
             "fill": {
              "color": "#EBF0F8"
             },
             "line": {
              "color": "white"
             }
            },
            "header": {
             "fill": {
              "color": "#C8D4E3"
             },
             "line": {
              "color": "white"
             }
            },
            "type": "table"
           }
          ]
         },
         "layout": {
          "annotationdefaults": {
           "arrowcolor": "#2a3f5f",
           "arrowhead": 0,
           "arrowwidth": 1
          },
          "autotypenumbers": "strict",
          "coloraxis": {
           "colorbar": {
            "outlinewidth": 0,
            "ticks": ""
           }
          },
          "colorscale": {
           "diverging": [
            [
             0,
             "#8e0152"
            ],
            [
             0.1,
             "#c51b7d"
            ],
            [
             0.2,
             "#de77ae"
            ],
            [
             0.3,
             "#f1b6da"
            ],
            [
             0.4,
             "#fde0ef"
            ],
            [
             0.5,
             "#f7f7f7"
            ],
            [
             0.6,
             "#e6f5d0"
            ],
            [
             0.7,
             "#b8e186"
            ],
            [
             0.8,
             "#7fbc41"
            ],
            [
             0.9,
             "#4d9221"
            ],
            [
             1,
             "#276419"
            ]
           ],
           "sequential": [
            [
             0,
             "#0d0887"
            ],
            [
             0.1111111111111111,
             "#46039f"
            ],
            [
             0.2222222222222222,
             "#7201a8"
            ],
            [
             0.3333333333333333,
             "#9c179e"
            ],
            [
             0.4444444444444444,
             "#bd3786"
            ],
            [
             0.5555555555555556,
             "#d8576b"
            ],
            [
             0.6666666666666666,
             "#ed7953"
            ],
            [
             0.7777777777777778,
             "#fb9f3a"
            ],
            [
             0.8888888888888888,
             "#fdca26"
            ],
            [
             1,
             "#f0f921"
            ]
           ],
           "sequentialminus": [
            [
             0,
             "#0d0887"
            ],
            [
             0.1111111111111111,
             "#46039f"
            ],
            [
             0.2222222222222222,
             "#7201a8"
            ],
            [
             0.3333333333333333,
             "#9c179e"
            ],
            [
             0.4444444444444444,
             "#bd3786"
            ],
            [
             0.5555555555555556,
             "#d8576b"
            ],
            [
             0.6666666666666666,
             "#ed7953"
            ],
            [
             0.7777777777777778,
             "#fb9f3a"
            ],
            [
             0.8888888888888888,
             "#fdca26"
            ],
            [
             1,
             "#f0f921"
            ]
           ]
          },
          "colorway": [
           "#636efa",
           "#EF553B",
           "#00cc96",
           "#ab63fa",
           "#FFA15A",
           "#19d3f3",
           "#FF6692",
           "#B6E880",
           "#FF97FF",
           "#FECB52"
          ],
          "font": {
           "color": "#2a3f5f"
          },
          "geo": {
           "bgcolor": "white",
           "lakecolor": "white",
           "landcolor": "#E5ECF6",
           "showlakes": true,
           "showland": true,
           "subunitcolor": "white"
          },
          "hoverlabel": {
           "align": "left"
          },
          "hovermode": "closest",
          "mapbox": {
           "style": "light"
          },
          "paper_bgcolor": "white",
          "plot_bgcolor": "#E5ECF6",
          "polar": {
           "angularaxis": {
            "gridcolor": "white",
            "linecolor": "white",
            "ticks": ""
           },
           "bgcolor": "#E5ECF6",
           "radialaxis": {
            "gridcolor": "white",
            "linecolor": "white",
            "ticks": ""
           }
          },
          "scene": {
           "xaxis": {
            "backgroundcolor": "#E5ECF6",
            "gridcolor": "white",
            "gridwidth": 2,
            "linecolor": "white",
            "showbackground": true,
            "ticks": "",
            "zerolinecolor": "white"
           },
           "yaxis": {
            "backgroundcolor": "#E5ECF6",
            "gridcolor": "white",
            "gridwidth": 2,
            "linecolor": "white",
            "showbackground": true,
            "ticks": "",
            "zerolinecolor": "white"
           },
           "zaxis": {
            "backgroundcolor": "#E5ECF6",
            "gridcolor": "white",
            "gridwidth": 2,
            "linecolor": "white",
            "showbackground": true,
            "ticks": "",
            "zerolinecolor": "white"
           }
          },
          "shapedefaults": {
           "line": {
            "color": "#2a3f5f"
           }
          },
          "ternary": {
           "aaxis": {
            "gridcolor": "white",
            "linecolor": "white",
            "ticks": ""
           },
           "baxis": {
            "gridcolor": "white",
            "linecolor": "white",
            "ticks": ""
           },
           "bgcolor": "#E5ECF6",
           "caxis": {
            "gridcolor": "white",
            "linecolor": "white",
            "ticks": ""
           }
          },
          "title": {
           "x": 0.05
          },
          "xaxis": {
           "automargin": true,
           "gridcolor": "white",
           "linecolor": "white",
           "ticks": "",
           "title": {
            "standoff": 15
           },
           "zerolinecolor": "white",
           "zerolinewidth": 2
          },
          "yaxis": {
           "automargin": true,
           "gridcolor": "white",
           "linecolor": "white",
           "ticks": "",
           "title": {
            "standoff": 15
           },
           "zerolinecolor": "white",
           "zerolinewidth": 2
          }
         }
        },
        "title": {
         "text": "Lanzamientos totales por platadorma"
        },
        "xaxis": {
         "anchor": "y",
         "categoryorder": "category ascending",
         "domain": [
          0,
          1
         ],
         "title": {
          "text": "Platform"
         },
         "type": "category"
        },
        "yaxis": {
         "anchor": "x",
         "domain": [
          0,
          1
         ],
         "title": {
          "text": "Count"
         }
        }
       }
      }
     },
     "metadata": {},
     "output_type": "display_data"
    }
   ],
   "source": [
    "df_Games_total = df_Games_per_Year.groupby(\"Platform\").agg({\"Global_Sales\": 'count'}).reset_index()\n",
    "df_Games_total.columns = [\"Platform\", \"Count\"]\n",
    "\n",
    "fig = px.bar(df_Games_total, x=\"Platform\", y=\"Count\")\n",
    "fig.update_layout(title=\"Lanzamientos totales por platadorma\")\n",
    "fig.update_xaxes(type='category')\n",
    "fig.update_xaxes(categoryorder='category ascending')\n",
    "fig.write_html(\"gráficas/Lanzamientos_Plataforma.html\")\n",
    "fig.show()"
   ]
  },
  {
   "cell_type": "code",
   "execution_count": 49,
   "metadata": {},
   "outputs": [
    {
     "data": {
      "application/vnd.plotly.v1+json": {
       "config": {
        "plotlyServerURL": "https://plot.ly"
       },
       "data": [
        {
         "alignmentgroup": "True",
         "hovertemplate": "Year_of_Release=1980<br>Platform=%{x}<br>Global_Sales=%{y}<extra></extra>",
         "legendgroup": "",
         "marker": {
          "color": "#636efa",
          "pattern": {
           "shape": ""
          }
         },
         "name": "",
         "offsetgroup": "",
         "orientation": "v",
         "showlegend": false,
         "textposition": "auto",
         "type": "bar",
         "x": [
          "2600"
         ],
         "xaxis": "x",
         "y": [
          11.379999999999999
         ],
         "yaxis": "y"
        }
       ],
       "frames": [
        {
         "data": [
          {
           "alignmentgroup": "True",
           "hovertemplate": "Year_of_Release=1980<br>Platform=%{x}<br>Global_Sales=%{y}<extra></extra>",
           "legendgroup": "",
           "marker": {
            "color": "#636efa",
            "pattern": {
             "shape": ""
            }
           },
           "name": "",
           "offsetgroup": "",
           "orientation": "v",
           "showlegend": false,
           "textposition": "auto",
           "type": "bar",
           "x": [
            "2600"
           ],
           "xaxis": "x",
           "y": [
            11.379999999999999
           ],
           "yaxis": "y"
          }
         ],
         "name": "1980"
        },
        {
         "data": [
          {
           "alignmentgroup": "True",
           "hovertemplate": "Year_of_Release=1981<br>Platform=%{x}<br>Global_Sales=%{y}<extra></extra>",
           "legendgroup": "",
           "marker": {
            "color": "#636efa",
            "pattern": {
             "shape": ""
            }
           },
           "name": "",
           "offsetgroup": "",
           "orientation": "v",
           "showlegend": false,
           "textposition": "auto",
           "type": "bar",
           "x": [
            "2600"
           ],
           "xaxis": "x",
           "y": [
            35.77
           ],
           "yaxis": "y"
          }
         ],
         "name": "1981"
        },
        {
         "data": [
          {
           "alignmentgroup": "True",
           "hovertemplate": "Year_of_Release=1982<br>Platform=%{x}<br>Global_Sales=%{y}<extra></extra>",
           "legendgroup": "",
           "marker": {
            "color": "#636efa",
            "pattern": {
             "shape": ""
            }
           },
           "name": "",
           "offsetgroup": "",
           "orientation": "v",
           "showlegend": false,
           "textposition": "auto",
           "type": "bar",
           "x": [
            "2600"
           ],
           "xaxis": "x",
           "y": [
            28.86
           ],
           "yaxis": "y"
          }
         ],
         "name": "1982"
        },
        {
         "data": [
          {
           "alignmentgroup": "True",
           "hovertemplate": "Year_of_Release=1983<br>Platform=%{x}<br>Global_Sales=%{y}<extra></extra>",
           "legendgroup": "",
           "marker": {
            "color": "#636efa",
            "pattern": {
             "shape": ""
            }
           },
           "name": "",
           "offsetgroup": "",
           "orientation": "v",
           "showlegend": false,
           "textposition": "auto",
           "type": "bar",
           "x": [
            "2600",
            "NES"
           ],
           "xaxis": "x",
           "y": [
            5.83,
            10.96
           ],
           "yaxis": "y"
          }
         ],
         "name": "1983"
        },
        {
         "data": [
          {
           "alignmentgroup": "True",
           "hovertemplate": "Year_of_Release=1984<br>Platform=%{x}<br>Global_Sales=%{y}<extra></extra>",
           "legendgroup": "",
           "marker": {
            "color": "#636efa",
            "pattern": {
             "shape": ""
            }
           },
           "name": "",
           "offsetgroup": "",
           "orientation": "v",
           "showlegend": false,
           "textposition": "auto",
           "type": "bar",
           "x": [
            "NES",
            "2600"
           ],
           "xaxis": "x",
           "y": [
            50.089999999999996,
            0.27
           ],
           "yaxis": "y"
          }
         ],
         "name": "1984"
        },
        {
         "data": [
          {
           "alignmentgroup": "True",
           "hovertemplate": "Year_of_Release=1985<br>Platform=%{x}<br>Global_Sales=%{y}<extra></extra>",
           "legendgroup": "",
           "marker": {
            "color": "#636efa",
            "pattern": {
             "shape": ""
            }
           },
           "name": "",
           "offsetgroup": "",
           "orientation": "v",
           "showlegend": false,
           "textposition": "auto",
           "type": "bar",
           "x": [
            "DS",
            "PC",
            "2600",
            "NES"
           ],
           "xaxis": "x",
           "y": [
            0.02,
            0.03,
            0.45,
            53.440000000000005
           ],
           "yaxis": "y"
          }
         ],
         "name": "1985"
        },
        {
         "data": [
          {
           "alignmentgroup": "True",
           "hovertemplate": "Year_of_Release=1986<br>Platform=%{x}<br>Global_Sales=%{y}<extra></extra>",
           "legendgroup": "",
           "marker": {
            "color": "#636efa",
            "pattern": {
             "shape": ""
            }
           },
           "name": "",
           "offsetgroup": "",
           "orientation": "v",
           "showlegend": false,
           "textposition": "auto",
           "type": "bar",
           "x": [
            "NES",
            "2600"
           ],
           "xaxis": "x",
           "y": [
            36.41,
            0.6599999999999999
           ],
           "yaxis": "y"
          }
         ],
         "name": "1986"
        },
        {
         "data": [
          {
           "alignmentgroup": "True",
           "hovertemplate": "Year_of_Release=1987<br>Platform=%{x}<br>Global_Sales=%{y}<extra></extra>",
           "legendgroup": "",
           "marker": {
            "color": "#636efa",
            "pattern": {
             "shape": ""
            }
           },
           "name": "",
           "offsetgroup": "",
           "orientation": "v",
           "showlegend": false,
           "textposition": "auto",
           "type": "bar",
           "x": [
            "2600",
            "NES"
           ],
           "xaxis": "x",
           "y": [
            1.98,
            19.759999999999998
           ],
           "yaxis": "y"
          }
         ],
         "name": "1987"
        },
        {
         "data": [
          {
           "alignmentgroup": "True",
           "hovertemplate": "Year_of_Release=1988<br>Platform=%{x}<br>Global_Sales=%{y}<extra></extra>",
           "legendgroup": "",
           "marker": {
            "color": "#636efa",
            "pattern": {
             "shape": ""
            }
           },
           "name": "",
           "offsetgroup": "",
           "orientation": "v",
           "showlegend": false,
           "textposition": "auto",
           "type": "bar",
           "x": [
            "2600",
            "NES",
            "GB",
            "PC"
           ],
           "xaxis": "x",
           "y": [
            0.75,
            45.010000000000005,
            1.43,
            0.03
           ],
           "yaxis": "y"
          }
         ],
         "name": "1988"
        },
        {
         "data": [
          {
           "alignmentgroup": "True",
           "hovertemplate": "Year_of_Release=1989<br>Platform=%{x}<br>Global_Sales=%{y}<extra></extra>",
           "legendgroup": "",
           "marker": {
            "color": "#636efa",
            "pattern": {
             "shape": ""
            }
           },
           "name": "",
           "offsetgroup": "",
           "orientation": "v",
           "showlegend": false,
           "textposition": "auto",
           "type": "bar",
           "x": [
            "2600",
            "NES",
            "GB"
           ],
           "xaxis": "x",
           "y": [
            0.62,
            7.85,
            64.98
           ],
           "yaxis": "y"
          }
         ],
         "name": "1989"
        },
        {
         "data": [
          {
           "alignmentgroup": "True",
           "hovertemplate": "Year_of_Release=1990<br>Platform=%{x}<br>Global_Sales=%{y}<extra></extra>",
           "legendgroup": "",
           "marker": {
            "color": "#636efa",
            "pattern": {
             "shape": ""
            }
           },
           "name": "",
           "offsetgroup": "",
           "orientation": "v",
           "showlegend": false,
           "textposition": "auto",
           "type": "bar",
           "x": [
            "NES",
            "GB",
            "GEN",
            "SNES"
           ],
           "xaxis": "x",
           "y": [
            15.739999999999998,
            4.890000000000001,
            2.6,
            26.16
           ],
           "yaxis": "y"
          }
         ],
         "name": "1990"
        },
        {
         "data": [
          {
           "alignmentgroup": "True",
           "hovertemplate": "Year_of_Release=1991<br>Platform=%{x}<br>Global_Sales=%{y}<extra></extra>",
           "legendgroup": "",
           "marker": {
            "color": "#636efa",
            "pattern": {
             "shape": ""
            }
           },
           "name": "",
           "offsetgroup": "",
           "orientation": "v",
           "showlegend": false,
           "textposition": "auto",
           "type": "bar",
           "x": [
            "GB",
            "SNES",
            "GEN",
            "NES"
           ],
           "xaxis": "x",
           "y": [
            5.57,
            16.21,
            4.34,
            6.11
           ],
           "yaxis": "y"
          }
         ],
         "name": "1991"
        },
        {
         "data": [
          {
           "alignmentgroup": "True",
           "hovertemplate": "Year_of_Release=1992<br>Platform=%{x}<br>Global_Sales=%{y}<extra></extra>",
           "legendgroup": "",
           "marker": {
            "color": "#636efa",
            "pattern": {
             "shape": ""
            }
           },
           "name": "",
           "offsetgroup": "",
           "orientation": "v",
           "showlegend": false,
           "textposition": "auto",
           "type": "bar",
           "x": [
            "PC",
            "GEN",
            "GB",
            "GG",
            "NES",
            "SNES"
           ],
           "xaxis": "x",
           "y": [
            3.0300000000000002,
            12.66,
            25.48,
            0.04,
            1.9800000000000002,
            32.98
           ],
           "yaxis": "y"
          }
         ],
         "name": "1992"
        },
        {
         "data": [
          {
           "alignmentgroup": "True",
           "hovertemplate": "Year_of_Release=1993<br>Platform=%{x}<br>Global_Sales=%{y}<extra></extra>",
           "legendgroup": "",
           "marker": {
            "color": "#636efa",
            "pattern": {
             "shape": ""
            }
           },
           "name": "",
           "offsetgroup": "",
           "orientation": "v",
           "showlegend": false,
           "textposition": "auto",
           "type": "bar",
           "x": [
            "NES",
            "SCD",
            "SNES",
            "GEN",
            "NG"
           ],
           "xaxis": "x",
           "y": [
            3.61,
            1.5,
            40.01,
            0.65,
            0.21000000000000002
           ],
           "yaxis": "y"
          }
         ],
         "name": "1993"
        },
        {
         "data": [
          {
           "alignmentgroup": "True",
           "hovertemplate": "Year_of_Release=1994<br>Platform=%{x}<br>Global_Sales=%{y}<extra></extra>",
           "legendgroup": "",
           "marker": {
            "color": "#636efa",
            "pattern": {
             "shape": ""
            }
           },
           "name": "",
           "offsetgroup": "",
           "orientation": "v",
           "showlegend": false,
           "textposition": "auto",
           "type": "bar",
           "x": [
            "SNES",
            "3DO",
            "GEN",
            "NES",
            "NG",
            "GB",
            "SCD",
            "PS",
            "PC",
            "SAT"
           ],
           "xaxis": "x",
           "y": [
            35.08,
            0.02,
            8.11,
            0.11,
            0.8,
            12.17,
            0.37,
            6.0200000000000005,
            12.86,
            3.64
           ],
           "yaxis": "y"
          }
         ],
         "name": "1994"
        },
        {
         "data": [
          {
           "alignmentgroup": "True",
           "hovertemplate": "Year_of_Release=1995<br>Platform=%{x}<br>Global_Sales=%{y}<extra></extra>",
           "legendgroup": "",
           "marker": {
            "color": "#636efa",
            "pattern": {
             "shape": ""
            }
           },
           "name": "",
           "offsetgroup": "",
           "orientation": "v",
           "showlegend": false,
           "textposition": "auto",
           "type": "bar",
           "x": [
            "GB",
            "PS",
            "PC",
            "3DO",
            "TG16",
            "SNES",
            "NG",
            "SAT"
           ],
           "xaxis": "x",
           "y": [
            3.5999999999999996,
            35.92,
            4.2299999999999995,
            0.08,
            0.16,
            32.21,
            0.33,
            11.58
           ],
           "yaxis": "y"
          }
         ],
         "name": "1995"
        },
        {
         "data": [
          {
           "alignmentgroup": "True",
           "hovertemplate": "Year_of_Release=1996<br>Platform=%{x}<br>Global_Sales=%{y}<extra></extra>",
           "legendgroup": "",
           "marker": {
            "color": "#636efa",
            "pattern": {
             "shape": ""
            }
           },
           "name": "",
           "offsetgroup": "",
           "orientation": "v",
           "showlegend": false,
           "textposition": "auto",
           "type": "bar",
           "x": [
            "SAT",
            "N64",
            "PC",
            "PCFX",
            "NG",
            "SNES",
            "PS",
            "GB"
           ],
           "xaxis": "x",
           "y": [
            7.6899999999999995,
            34.11,
            10.59,
            0.03,
            0.1,
            15.93,
            94.68,
            36.02
           ],
           "yaxis": "y"
          }
         ],
         "name": "1996"
        },
        {
         "data": [
          {
           "alignmentgroup": "True",
           "hovertemplate": "Year_of_Release=1997<br>Platform=%{x}<br>Global_Sales=%{y}<extra></extra>",
           "legendgroup": "",
           "marker": {
            "color": "#636efa",
            "pattern": {
             "shape": ""
            }
           },
           "name": "",
           "offsetgroup": "",
           "orientation": "v",
           "showlegend": false,
           "textposition": "auto",
           "type": "bar",
           "x": [
            "GB",
            "PS",
            "SAT",
            "N64",
            "SNES",
            "PC"
           ],
           "xaxis": "x",
           "y": [
            6.37,
            136.08,
            6.7700000000000005,
            39.51,
            0.99,
            11.26
           ],
           "yaxis": "y"
          }
         ],
         "name": "1997"
        },
        {
         "data": [
          {
           "alignmentgroup": "True",
           "hovertemplate": "Year_of_Release=1998<br>Platform=%{x}<br>Global_Sales=%{y}<extra></extra>",
           "legendgroup": "",
           "marker": {
            "color": "#636efa",
            "pattern": {
             "shape": ""
            }
           },
           "name": "",
           "offsetgroup": "",
           "orientation": "v",
           "showlegend": false,
           "textposition": "auto",
           "type": "bar",
           "x": [
            "DC",
            "SNES",
            "PC",
            "N64",
            "SAT",
            "PS",
            "GB"
           ],
           "xaxis": "x",
           "y": [
            3.39,
            0.22000000000000003,
            3.2600000000000002,
            49.28,
            3.82,
            169.58,
            26.9
           ],
           "yaxis": "y"
          }
         ],
         "name": "1998"
        },
        {
         "data": [
          {
           "alignmentgroup": "True",
           "hovertemplate": "Year_of_Release=1999<br>Platform=%{x}<br>Global_Sales=%{y}<extra></extra>",
           "legendgroup": "",
           "marker": {
            "color": "#636efa",
            "pattern": {
             "shape": ""
            }
           },
           "name": "",
           "offsetgroup": "",
           "orientation": "v",
           "showlegend": false,
           "textposition": "auto",
           "type": "bar",
           "x": [
            "SAT",
            "DC",
            "SNES",
            "WS",
            "PS",
            "GB",
            "PC",
            "N64"
           ],
           "xaxis": "x",
           "y": [
            0.09,
            5.17,
            0.26,
            0.46,
            144.57,
            38.01,
            4.73,
            57.96
           ],
           "yaxis": "y"
          }
         ],
         "name": "1999"
        },
        {
         "data": [
          {
           "alignmentgroup": "True",
           "hovertemplate": "Year_of_Release=2000<br>Platform=%{x}<br>Global_Sales=%{y}<extra></extra>",
           "legendgroup": "",
           "marker": {
            "color": "#636efa",
            "pattern": {
             "shape": ""
            }
           },
           "name": "",
           "offsetgroup": "",
           "orientation": "v",
           "showlegend": false,
           "textposition": "auto",
           "type": "bar",
           "x": [
            "GB",
            "PC",
            "N64",
            "DC",
            "PS2",
            "XB",
            "WS",
            "PS",
            "GBA"
           ],
           "xaxis": "x",
           "y": [
            19.76,
            4.680000000000001,
            34.01,
            5.99,
            39.11,
            0.99,
            0.68,
            96.3,
            0.06
           ],
           "yaxis": "y"
          }
         ],
         "name": "2000"
        },
        {
         "data": [
          {
           "alignmentgroup": "True",
           "hovertemplate": "Year_of_Release=2001<br>Platform=%{x}<br>Global_Sales=%{y}<extra></extra>",
           "legendgroup": "",
           "marker": {
            "color": "#636efa",
            "pattern": {
             "shape": ""
            }
           },
           "name": "",
           "offsetgroup": "",
           "orientation": "v",
           "showlegend": false,
           "textposition": "auto",
           "type": "bar",
           "x": [
            "WS",
            "PS2",
            "PS",
            "GB",
            "N64",
            "GBA",
            "PC",
            "GC",
            "XB",
            "DC"
           ],
           "xaxis": "x",
           "y": [
            0.28,
            166.43,
            35.52,
            9.24,
            3.26,
            61.62,
            5.51,
            26.3,
            22.24,
            1.07
           ],
           "yaxis": "y"
          }
         ],
         "name": "2001"
        },
        {
         "data": [
          {
           "alignmentgroup": "True",
           "hovertemplate": "Year_of_Release=2002<br>Platform=%{x}<br>Global_Sales=%{y}<extra></extra>",
           "legendgroup": "",
           "marker": {
            "color": "#636efa",
            "pattern": {
             "shape": ""
            }
           },
           "name": "",
           "offsetgroup": "",
           "orientation": "v",
           "showlegend": false,
           "textposition": "auto",
           "type": "bar",
           "x": [
            "XB",
            "DC",
            "GC",
            "PS2",
            "PS",
            "PC",
            "GBA",
            "N64"
           ],
           "xaxis": "x",
           "y": [
            48.15,
            0.29,
            51.93,
            205.4,
            6.69,
            8.59,
            74.38,
            0.08
           ],
           "yaxis": "y"
          }
         ],
         "name": "2002"
        },
        {
         "data": [
          {
           "alignmentgroup": "True",
           "hovertemplate": "Year_of_Release=2003<br>Platform=%{x}<br>Global_Sales=%{y}<extra></extra>",
           "legendgroup": "",
           "marker": {
            "color": "#636efa",
            "pattern": {
             "shape": ""
            }
           },
           "name": "",
           "offsetgroup": "",
           "orientation": "v",
           "showlegend": false,
           "textposition": "auto",
           "type": "bar",
           "x": [
            "GC",
            "PS",
            "GBA",
            "PC",
            "PS2",
            "XB"
           ],
           "xaxis": "x",
           "y": [
            50.660000000000004,
            2.05,
            56.730000000000004,
            8.91,
            184.29,
            55.160000000000004
           ],
           "yaxis": "y"
          }
         ],
         "name": "2003"
        },
        {
         "data": [
          {
           "alignmentgroup": "True",
           "hovertemplate": "Year_of_Release=2004<br>Platform=%{x}<br>Global_Sales=%{y}<extra></extra>",
           "legendgroup": "",
           "marker": {
            "color": "#636efa",
            "pattern": {
             "shape": ""
            }
           },
           "name": "",
           "offsetgroup": "",
           "orientation": "v",
           "showlegend": false,
           "textposition": "auto",
           "type": "bar",
           "x": [
            "PSP",
            "PC",
            "PS2",
            "DS",
            "XB",
            "GC",
            "GBA"
           ],
           "xaxis": "x",
           "y": [
            7.11,
            10.41,
            211.78,
            17.27,
            65.5,
            28.89,
            72.79
           ],
           "yaxis": "y"
          }
         ],
         "name": "2004"
        },
        {
         "data": [
          {
           "alignmentgroup": "True",
           "hovertemplate": "Year_of_Release=2005<br>Platform=%{x}<br>Global_Sales=%{y}<extra></extra>",
           "legendgroup": "",
           "marker": {
            "color": "#636efa",
            "pattern": {
             "shape": ""
            }
           },
           "name": "",
           "offsetgroup": "",
           "orientation": "v",
           "showlegend": false,
           "textposition": "auto",
           "type": "bar",
           "x": [
            "PS2",
            "XB",
            "X360",
            "PSP",
            "PC",
            "GBA",
            "GC",
            "DS"
           ],
           "xaxis": "x",
           "y": [
            160.65,
            49.17,
            8.27,
            43.89,
            4.41,
            32.47,
            27.8,
            130.22
           ],
           "yaxis": "y"
          }
         ],
         "name": "2005"
        },
        {
         "data": [
          {
           "alignmentgroup": "True",
           "hovertemplate": "Year_of_Release=2006<br>Platform=%{x}<br>Global_Sales=%{y}<extra></extra>",
           "legendgroup": "",
           "marker": {
            "color": "#636efa",
            "pattern": {
             "shape": ""
            }
           },
           "name": "",
           "offsetgroup": "",
           "orientation": "v",
           "showlegend": false,
           "textposition": "auto",
           "type": "bar",
           "x": [
            "PSP",
            "XB",
            "Wii",
            "GC",
            "PS3",
            "X360",
            "PS2",
            "GBA",
            "PC",
            "DS"
           ],
           "xaxis": "x",
           "y": [
            55.45,
            10.15,
            137.12,
            11.290000000000001,
            20.95,
            51.660000000000004,
            103.42,
            5.35,
            2.91,
            119.92
           ],
           "yaxis": "y"
          }
         ],
         "name": "2006"
        },
        {
         "data": [
          {
           "alignmentgroup": "True",
           "hovertemplate": "Year_of_Release=2007<br>Platform=%{x}<br>Global_Sales=%{y}<extra></extra>",
           "legendgroup": "",
           "marker": {
            "color": "#636efa",
            "pattern": {
             "shape": ""
            }
           },
           "name": "",
           "offsetgroup": "",
           "orientation": "v",
           "showlegend": false,
           "textposition": "auto",
           "type": "bar",
           "x": [
            "PC",
            "PS3",
            "DS",
            "GBA",
            "XB",
            "PS2",
            "DC",
            "Wii",
            "GC",
            "X360",
            "PSP"
           ],
           "xaxis": "x",
           "y": [
            9.33,
            73.14,
            147.26,
            2.22,
            0.55,
            76,
            0.02,
            152.89,
            0.27,
            95.43,
            47.05
           ],
           "yaxis": "y"
          }
         ],
         "name": "2007"
        },
        {
         "data": [
          {
           "alignmentgroup": "True",
           "hovertemplate": "Year_of_Release=2008<br>Platform=%{x}<br>Global_Sales=%{y}<extra></extra>",
           "legendgroup": "",
           "marker": {
            "color": "#636efa",
            "pattern": {
             "shape": ""
            }
           },
           "name": "",
           "offsetgroup": "",
           "orientation": "v",
           "showlegend": false,
           "textposition": "auto",
           "type": "bar",
           "x": [
            "PSP",
            "DS",
            "PC",
            "XB",
            "Wii",
            "X360",
            "PS3",
            "PS2",
            "DC"
           ],
           "xaxis": "x",
           "y": [
            34.52,
            145.45,
            12.59,
            0.18,
            171.45,
            135.25,
            118.48,
            53.83,
            0.04
           ],
           "yaxis": "y"
          }
         ],
         "name": "2008"
        },
        {
         "data": [
          {
           "alignmentgroup": "True",
           "hovertemplate": "Year_of_Release=2009<br>Platform=%{x}<br>Global_Sales=%{y}<extra></extra>",
           "legendgroup": "",
           "marker": {
            "color": "#636efa",
            "pattern": {
             "shape": ""
            }
           },
           "name": "",
           "offsetgroup": "",
           "orientation": "v",
           "showlegend": false,
           "textposition": "auto",
           "type": "bar",
           "x": [
            "DS",
            "Wii",
            "PSP",
            "X360",
            "PS3",
            "PC",
            "PS2"
           ],
           "xaxis": "x",
           "y": [
            119.46000000000001,
            207.08,
            37.78,
            120.28,
            130.89000000000001,
            16.94,
            26.45
           ],
           "yaxis": "y"
          }
         ],
         "name": "2009"
        },
        {
         "data": [
          {
           "alignmentgroup": "True",
           "hovertemplate": "Year_of_Release=2010<br>Platform=%{x}<br>Global_Sales=%{y}<extra></extra>",
           "legendgroup": "",
           "marker": {
            "color": "#636efa",
            "pattern": {
             "shape": ""
            }
           },
           "name": "",
           "offsetgroup": "",
           "orientation": "v",
           "showlegend": false,
           "textposition": "auto",
           "type": "bar",
           "x": [
            "DS",
            "Wii",
            "X360",
            "PC",
            "PS2",
            "PS3",
            "PSP"
           ],
           "xaxis": "x",
           "y": [
            84.98,
            128.18,
            170.08,
            24.2,
            5.63,
            142.38,
            34.98
           ],
           "yaxis": "y"
          }
         ],
         "name": "2010"
        },
        {
         "data": [
          {
           "alignmentgroup": "True",
           "hovertemplate": "Year_of_Release=2011<br>Platform=%{x}<br>Global_Sales=%{y}<extra></extra>",
           "legendgroup": "",
           "marker": {
            "color": "#636efa",
            "pattern": {
             "shape": ""
            }
           },
           "name": "",
           "offsetgroup": "",
           "orientation": "v",
           "showlegend": false,
           "textposition": "auto",
           "type": "bar",
           "x": [
            "3DS",
            "Wii",
            "DS",
            "X360",
            "PSP",
            "PS3",
            "PC",
            "PS2",
            "PSV"
           ],
           "xaxis": "x",
           "y": [
            63.17,
            59.64,
            26.26,
            143.94,
            17.82,
            156.79,
            34.91,
            0.47,
            4.6
           ],
           "yaxis": "y"
          }
         ],
         "name": "2011"
        },
        {
         "data": [
          {
           "alignmentgroup": "True",
           "hovertemplate": "Year_of_Release=2012<br>Platform=%{x}<br>Global_Sales=%{y}<extra></extra>",
           "legendgroup": "",
           "marker": {
            "color": "#636efa",
            "pattern": {
             "shape": ""
            }
           },
           "name": "",
           "offsetgroup": "",
           "orientation": "v",
           "showlegend": false,
           "textposition": "auto",
           "type": "bar",
           "x": [
            "PSP",
            "PC",
            "X360",
            "PS3",
            "WiiU",
            "3DS",
            "Wii",
            "PSV",
            "DS"
           ],
           "xaxis": "x",
           "y": [
            7.69,
            23.28,
            99.65,
            107.27,
            17.54,
            51.36,
            21.709999999999997,
            16.28,
            11.059999999999999
           ],
           "yaxis": "y"
          }
         ],
         "name": "2012"
        },
        {
         "data": [
          {
           "alignmentgroup": "True",
           "hovertemplate": "Year_of_Release=2013<br>Platform=%{x}<br>Global_Sales=%{y}<extra></extra>",
           "legendgroup": "",
           "marker": {
            "color": "#636efa",
            "pattern": {
             "shape": ""
            }
           },
           "name": "",
           "offsetgroup": "",
           "orientation": "v",
           "showlegend": false,
           "textposition": "auto",
           "type": "bar",
           "x": [
            "PS3",
            "Wii",
            "WiiU",
            "PS4",
            "XOne",
            "X360",
            "PSV",
            "DS",
            "3DS",
            "PSP",
            "PC"
           ],
           "xaxis": "x",
           "y": [
            113.17,
            8.6,
            21.68,
            54.57,
            38.73,
            88.58,
            10.58,
            1.54,
            56.64,
            3.14,
            12.4
           ],
           "yaxis": "y"
          }
         ],
         "name": "2013"
        },
        {
         "data": [
          {
           "alignmentgroup": "True",
           "hovertemplate": "Year_of_Release=2014<br>Platform=%{x}<br>Global_Sales=%{y}<extra></extra>",
           "legendgroup": "",
           "marker": {
            "color": "#636efa",
            "pattern": {
             "shape": ""
            }
           },
           "name": "",
           "offsetgroup": "",
           "orientation": "v",
           "showlegend": false,
           "textposition": "auto",
           "type": "bar",
           "x": [
            "PS4",
            "X360",
            "WiiU",
            "PSP",
            "3DS",
            "Wii",
            "PC",
            "PSV",
            "PS3",
            "XOne"
           ],
           "xaxis": "x",
           "y": [
            215.35,
            34.78,
            22.029999999999998,
            0.24,
            43.8,
            3.75,
            13.3,
            11.87,
            47.63,
            115.64
           ],
           "yaxis": "y"
          }
         ],
         "name": "2014"
        },
        {
         "data": [
          {
           "alignmentgroup": "True",
           "hovertemplate": "Year_of_Release=2015<br>Platform=%{x}<br>Global_Sales=%{y}<extra></extra>",
           "legendgroup": "",
           "marker": {
            "color": "#636efa",
            "pattern": {
             "shape": ""
            }
           },
           "name": "",
           "offsetgroup": "",
           "orientation": "v",
           "showlegend": false,
           "textposition": "auto",
           "type": "bar",
           "x": [
            "XOne",
            "X360",
            "PS4",
            "WiiU",
            "PS3",
            "PSV",
            "PSP",
            "Wii",
            "3DS",
            "PC"
           ],
           "xaxis": "x",
           "y": [
            128.37,
            11.95,
            251.98,
            16.33,
            16.87,
            6.23,
            0.12,
            1.14,
            27.81,
            8.55
           ],
           "yaxis": "y"
          }
         ],
         "name": "2015"
        },
        {
         "data": [
          {
           "alignmentgroup": "True",
           "hovertemplate": "Year_of_Release=2016<br>Platform=%{x}<br>Global_Sales=%{y}<extra></extra>",
           "legendgroup": "",
           "marker": {
            "color": "#636efa",
            "pattern": {
             "shape": ""
            }
           },
           "name": "",
           "offsetgroup": "",
           "orientation": "v",
           "showlegend": false,
           "textposition": "auto",
           "type": "bar",
           "x": [
            "3DS",
            "PSV",
            "X360",
            "PC",
            "WiiU",
            "PS4",
            "PS3",
            "Wii",
            "XOne"
           ],
           "xaxis": "x",
           "y": [
            15.14,
            4.24,
            1.52,
            5.2700000000000005,
            4.58,
            204.83,
            3.58,
            0.18,
            83.58
           ],
           "yaxis": "y"
          }
         ],
         "name": "2016"
        },
        {
         "data": [
          {
           "alignmentgroup": "True",
           "hovertemplate": "Year_of_Release=2017<br>Platform=%{x}<br>Global_Sales=%{y}<extra></extra>",
           "legendgroup": "",
           "marker": {
            "color": "#636efa",
            "pattern": {
             "shape": ""
            }
           },
           "name": "",
           "offsetgroup": "",
           "orientation": "v",
           "showlegend": false,
           "textposition": "auto",
           "type": "bar",
           "x": [
            "PSV",
            "XOne",
            "PS4"
           ],
           "xaxis": "x",
           "y": [
            0.02,
            48.51,
            130.94
           ],
           "yaxis": "y"
          }
         ],
         "name": "2017"
        },
        {
         "data": [
          {
           "alignmentgroup": "True",
           "hovertemplate": "Year_of_Release=2018<br>Platform=%{x}<br>Global_Sales=%{y}<extra></extra>",
           "legendgroup": "",
           "marker": {
            "color": "#636efa",
            "pattern": {
             "shape": ""
            }
           },
           "name": "",
           "offsetgroup": "",
           "orientation": "v",
           "showlegend": false,
           "textposition": "auto",
           "type": "bar",
           "x": [
            "XOne",
            "PS4"
           ],
           "xaxis": "x",
           "y": [
            12.2,
            50.199999999999996
           ],
           "yaxis": "y"
          }
         ],
         "name": "2018"
        },
        {
         "data": [
          {
           "alignmentgroup": "True",
           "hovertemplate": "Year_of_Release=2019<br>Platform=%{x}<br>Global_Sales=%{y}<extra></extra>",
           "legendgroup": "",
           "marker": {
            "color": "#636efa",
            "pattern": {
             "shape": ""
            }
           },
           "name": "",
           "offsetgroup": "",
           "orientation": "v",
           "showlegend": false,
           "textposition": "auto",
           "type": "bar",
           "x": [
            "XOne",
            "PS4"
           ],
           "xaxis": "x",
           "y": [
            0,
            0
           ],
           "yaxis": "y"
          }
         ],
         "name": "2019"
        },
        {
         "data": [
          {
           "alignmentgroup": "True",
           "hovertemplate": "Year_of_Release=2020<br>Platform=%{x}<br>Global_Sales=%{y}<extra></extra>",
           "legendgroup": "",
           "marker": {
            "color": "#636efa",
            "pattern": {
             "shape": ""
            }
           },
           "name": "",
           "offsetgroup": "",
           "orientation": "v",
           "showlegend": false,
           "textposition": "auto",
           "type": "bar",
           "x": [
            "PS4",
            "DS",
            "XOne"
           ],
           "xaxis": "x",
           "y": [
            0,
            0.29,
            0
           ],
           "yaxis": "y"
          }
         ],
         "name": "2020"
        }
       ],
       "layout": {
        "barmode": "relative",
        "legend": {
         "tracegroupgap": 0
        },
        "margin": {
         "t": 60
        },
        "sliders": [
         {
          "active": 0,
          "currentvalue": {
           "prefix": "Year_of_Release="
          },
          "len": 0.9,
          "pad": {
           "b": 10,
           "t": 60
          },
          "steps": [
           {
            "args": [
             [
              "1980"
             ],
             {
              "frame": {
               "duration": 0,
               "redraw": true
              },
              "fromcurrent": true,
              "mode": "immediate",
              "transition": {
               "duration": 0,
               "easing": "linear"
              }
             }
            ],
            "label": "1980",
            "method": "animate"
           },
           {
            "args": [
             [
              "1981"
             ],
             {
              "frame": {
               "duration": 0,
               "redraw": true
              },
              "fromcurrent": true,
              "mode": "immediate",
              "transition": {
               "duration": 0,
               "easing": "linear"
              }
             }
            ],
            "label": "1981",
            "method": "animate"
           },
           {
            "args": [
             [
              "1982"
             ],
             {
              "frame": {
               "duration": 0,
               "redraw": true
              },
              "fromcurrent": true,
              "mode": "immediate",
              "transition": {
               "duration": 0,
               "easing": "linear"
              }
             }
            ],
            "label": "1982",
            "method": "animate"
           },
           {
            "args": [
             [
              "1983"
             ],
             {
              "frame": {
               "duration": 0,
               "redraw": true
              },
              "fromcurrent": true,
              "mode": "immediate",
              "transition": {
               "duration": 0,
               "easing": "linear"
              }
             }
            ],
            "label": "1983",
            "method": "animate"
           },
           {
            "args": [
             [
              "1984"
             ],
             {
              "frame": {
               "duration": 0,
               "redraw": true
              },
              "fromcurrent": true,
              "mode": "immediate",
              "transition": {
               "duration": 0,
               "easing": "linear"
              }
             }
            ],
            "label": "1984",
            "method": "animate"
           },
           {
            "args": [
             [
              "1985"
             ],
             {
              "frame": {
               "duration": 0,
               "redraw": true
              },
              "fromcurrent": true,
              "mode": "immediate",
              "transition": {
               "duration": 0,
               "easing": "linear"
              }
             }
            ],
            "label": "1985",
            "method": "animate"
           },
           {
            "args": [
             [
              "1986"
             ],
             {
              "frame": {
               "duration": 0,
               "redraw": true
              },
              "fromcurrent": true,
              "mode": "immediate",
              "transition": {
               "duration": 0,
               "easing": "linear"
              }
             }
            ],
            "label": "1986",
            "method": "animate"
           },
           {
            "args": [
             [
              "1987"
             ],
             {
              "frame": {
               "duration": 0,
               "redraw": true
              },
              "fromcurrent": true,
              "mode": "immediate",
              "transition": {
               "duration": 0,
               "easing": "linear"
              }
             }
            ],
            "label": "1987",
            "method": "animate"
           },
           {
            "args": [
             [
              "1988"
             ],
             {
              "frame": {
               "duration": 0,
               "redraw": true
              },
              "fromcurrent": true,
              "mode": "immediate",
              "transition": {
               "duration": 0,
               "easing": "linear"
              }
             }
            ],
            "label": "1988",
            "method": "animate"
           },
           {
            "args": [
             [
              "1989"
             ],
             {
              "frame": {
               "duration": 0,
               "redraw": true
              },
              "fromcurrent": true,
              "mode": "immediate",
              "transition": {
               "duration": 0,
               "easing": "linear"
              }
             }
            ],
            "label": "1989",
            "method": "animate"
           },
           {
            "args": [
             [
              "1990"
             ],
             {
              "frame": {
               "duration": 0,
               "redraw": true
              },
              "fromcurrent": true,
              "mode": "immediate",
              "transition": {
               "duration": 0,
               "easing": "linear"
              }
             }
            ],
            "label": "1990",
            "method": "animate"
           },
           {
            "args": [
             [
              "1991"
             ],
             {
              "frame": {
               "duration": 0,
               "redraw": true
              },
              "fromcurrent": true,
              "mode": "immediate",
              "transition": {
               "duration": 0,
               "easing": "linear"
              }
             }
            ],
            "label": "1991",
            "method": "animate"
           },
           {
            "args": [
             [
              "1992"
             ],
             {
              "frame": {
               "duration": 0,
               "redraw": true
              },
              "fromcurrent": true,
              "mode": "immediate",
              "transition": {
               "duration": 0,
               "easing": "linear"
              }
             }
            ],
            "label": "1992",
            "method": "animate"
           },
           {
            "args": [
             [
              "1993"
             ],
             {
              "frame": {
               "duration": 0,
               "redraw": true
              },
              "fromcurrent": true,
              "mode": "immediate",
              "transition": {
               "duration": 0,
               "easing": "linear"
              }
             }
            ],
            "label": "1993",
            "method": "animate"
           },
           {
            "args": [
             [
              "1994"
             ],
             {
              "frame": {
               "duration": 0,
               "redraw": true
              },
              "fromcurrent": true,
              "mode": "immediate",
              "transition": {
               "duration": 0,
               "easing": "linear"
              }
             }
            ],
            "label": "1994",
            "method": "animate"
           },
           {
            "args": [
             [
              "1995"
             ],
             {
              "frame": {
               "duration": 0,
               "redraw": true
              },
              "fromcurrent": true,
              "mode": "immediate",
              "transition": {
               "duration": 0,
               "easing": "linear"
              }
             }
            ],
            "label": "1995",
            "method": "animate"
           },
           {
            "args": [
             [
              "1996"
             ],
             {
              "frame": {
               "duration": 0,
               "redraw": true
              },
              "fromcurrent": true,
              "mode": "immediate",
              "transition": {
               "duration": 0,
               "easing": "linear"
              }
             }
            ],
            "label": "1996",
            "method": "animate"
           },
           {
            "args": [
             [
              "1997"
             ],
             {
              "frame": {
               "duration": 0,
               "redraw": true
              },
              "fromcurrent": true,
              "mode": "immediate",
              "transition": {
               "duration": 0,
               "easing": "linear"
              }
             }
            ],
            "label": "1997",
            "method": "animate"
           },
           {
            "args": [
             [
              "1998"
             ],
             {
              "frame": {
               "duration": 0,
               "redraw": true
              },
              "fromcurrent": true,
              "mode": "immediate",
              "transition": {
               "duration": 0,
               "easing": "linear"
              }
             }
            ],
            "label": "1998",
            "method": "animate"
           },
           {
            "args": [
             [
              "1999"
             ],
             {
              "frame": {
               "duration": 0,
               "redraw": true
              },
              "fromcurrent": true,
              "mode": "immediate",
              "transition": {
               "duration": 0,
               "easing": "linear"
              }
             }
            ],
            "label": "1999",
            "method": "animate"
           },
           {
            "args": [
             [
              "2000"
             ],
             {
              "frame": {
               "duration": 0,
               "redraw": true
              },
              "fromcurrent": true,
              "mode": "immediate",
              "transition": {
               "duration": 0,
               "easing": "linear"
              }
             }
            ],
            "label": "2000",
            "method": "animate"
           },
           {
            "args": [
             [
              "2001"
             ],
             {
              "frame": {
               "duration": 0,
               "redraw": true
              },
              "fromcurrent": true,
              "mode": "immediate",
              "transition": {
               "duration": 0,
               "easing": "linear"
              }
             }
            ],
            "label": "2001",
            "method": "animate"
           },
           {
            "args": [
             [
              "2002"
             ],
             {
              "frame": {
               "duration": 0,
               "redraw": true
              },
              "fromcurrent": true,
              "mode": "immediate",
              "transition": {
               "duration": 0,
               "easing": "linear"
              }
             }
            ],
            "label": "2002",
            "method": "animate"
           },
           {
            "args": [
             [
              "2003"
             ],
             {
              "frame": {
               "duration": 0,
               "redraw": true
              },
              "fromcurrent": true,
              "mode": "immediate",
              "transition": {
               "duration": 0,
               "easing": "linear"
              }
             }
            ],
            "label": "2003",
            "method": "animate"
           },
           {
            "args": [
             [
              "2004"
             ],
             {
              "frame": {
               "duration": 0,
               "redraw": true
              },
              "fromcurrent": true,
              "mode": "immediate",
              "transition": {
               "duration": 0,
               "easing": "linear"
              }
             }
            ],
            "label": "2004",
            "method": "animate"
           },
           {
            "args": [
             [
              "2005"
             ],
             {
              "frame": {
               "duration": 0,
               "redraw": true
              },
              "fromcurrent": true,
              "mode": "immediate",
              "transition": {
               "duration": 0,
               "easing": "linear"
              }
             }
            ],
            "label": "2005",
            "method": "animate"
           },
           {
            "args": [
             [
              "2006"
             ],
             {
              "frame": {
               "duration": 0,
               "redraw": true
              },
              "fromcurrent": true,
              "mode": "immediate",
              "transition": {
               "duration": 0,
               "easing": "linear"
              }
             }
            ],
            "label": "2006",
            "method": "animate"
           },
           {
            "args": [
             [
              "2007"
             ],
             {
              "frame": {
               "duration": 0,
               "redraw": true
              },
              "fromcurrent": true,
              "mode": "immediate",
              "transition": {
               "duration": 0,
               "easing": "linear"
              }
             }
            ],
            "label": "2007",
            "method": "animate"
           },
           {
            "args": [
             [
              "2008"
             ],
             {
              "frame": {
               "duration": 0,
               "redraw": true
              },
              "fromcurrent": true,
              "mode": "immediate",
              "transition": {
               "duration": 0,
               "easing": "linear"
              }
             }
            ],
            "label": "2008",
            "method": "animate"
           },
           {
            "args": [
             [
              "2009"
             ],
             {
              "frame": {
               "duration": 0,
               "redraw": true
              },
              "fromcurrent": true,
              "mode": "immediate",
              "transition": {
               "duration": 0,
               "easing": "linear"
              }
             }
            ],
            "label": "2009",
            "method": "animate"
           },
           {
            "args": [
             [
              "2010"
             ],
             {
              "frame": {
               "duration": 0,
               "redraw": true
              },
              "fromcurrent": true,
              "mode": "immediate",
              "transition": {
               "duration": 0,
               "easing": "linear"
              }
             }
            ],
            "label": "2010",
            "method": "animate"
           },
           {
            "args": [
             [
              "2011"
             ],
             {
              "frame": {
               "duration": 0,
               "redraw": true
              },
              "fromcurrent": true,
              "mode": "immediate",
              "transition": {
               "duration": 0,
               "easing": "linear"
              }
             }
            ],
            "label": "2011",
            "method": "animate"
           },
           {
            "args": [
             [
              "2012"
             ],
             {
              "frame": {
               "duration": 0,
               "redraw": true
              },
              "fromcurrent": true,
              "mode": "immediate",
              "transition": {
               "duration": 0,
               "easing": "linear"
              }
             }
            ],
            "label": "2012",
            "method": "animate"
           },
           {
            "args": [
             [
              "2013"
             ],
             {
              "frame": {
               "duration": 0,
               "redraw": true
              },
              "fromcurrent": true,
              "mode": "immediate",
              "transition": {
               "duration": 0,
               "easing": "linear"
              }
             }
            ],
            "label": "2013",
            "method": "animate"
           },
           {
            "args": [
             [
              "2014"
             ],
             {
              "frame": {
               "duration": 0,
               "redraw": true
              },
              "fromcurrent": true,
              "mode": "immediate",
              "transition": {
               "duration": 0,
               "easing": "linear"
              }
             }
            ],
            "label": "2014",
            "method": "animate"
           },
           {
            "args": [
             [
              "2015"
             ],
             {
              "frame": {
               "duration": 0,
               "redraw": true
              },
              "fromcurrent": true,
              "mode": "immediate",
              "transition": {
               "duration": 0,
               "easing": "linear"
              }
             }
            ],
            "label": "2015",
            "method": "animate"
           },
           {
            "args": [
             [
              "2016"
             ],
             {
              "frame": {
               "duration": 0,
               "redraw": true
              },
              "fromcurrent": true,
              "mode": "immediate",
              "transition": {
               "duration": 0,
               "easing": "linear"
              }
             }
            ],
            "label": "2016",
            "method": "animate"
           },
           {
            "args": [
             [
              "2017"
             ],
             {
              "frame": {
               "duration": 0,
               "redraw": true
              },
              "fromcurrent": true,
              "mode": "immediate",
              "transition": {
               "duration": 0,
               "easing": "linear"
              }
             }
            ],
            "label": "2017",
            "method": "animate"
           },
           {
            "args": [
             [
              "2018"
             ],
             {
              "frame": {
               "duration": 0,
               "redraw": true
              },
              "fromcurrent": true,
              "mode": "immediate",
              "transition": {
               "duration": 0,
               "easing": "linear"
              }
             }
            ],
            "label": "2018",
            "method": "animate"
           },
           {
            "args": [
             [
              "2019"
             ],
             {
              "frame": {
               "duration": 0,
               "redraw": true
              },
              "fromcurrent": true,
              "mode": "immediate",
              "transition": {
               "duration": 0,
               "easing": "linear"
              }
             }
            ],
            "label": "2019",
            "method": "animate"
           },
           {
            "args": [
             [
              "2020"
             ],
             {
              "frame": {
               "duration": 0,
               "redraw": true
              },
              "fromcurrent": true,
              "mode": "immediate",
              "transition": {
               "duration": 0,
               "easing": "linear"
              }
             }
            ],
            "label": "2020",
            "method": "animate"
           }
          ],
          "x": 0.1,
          "xanchor": "left",
          "y": 0,
          "yanchor": "top"
         }
        ],
        "template": {
         "data": {
          "bar": [
           {
            "error_x": {
             "color": "#2a3f5f"
            },
            "error_y": {
             "color": "#2a3f5f"
            },
            "marker": {
             "line": {
              "color": "#E5ECF6",
              "width": 0.5
             },
             "pattern": {
              "fillmode": "overlay",
              "size": 10,
              "solidity": 0.2
             }
            },
            "type": "bar"
           }
          ],
          "barpolar": [
           {
            "marker": {
             "line": {
              "color": "#E5ECF6",
              "width": 0.5
             },
             "pattern": {
              "fillmode": "overlay",
              "size": 10,
              "solidity": 0.2
             }
            },
            "type": "barpolar"
           }
          ],
          "carpet": [
           {
            "aaxis": {
             "endlinecolor": "#2a3f5f",
             "gridcolor": "white",
             "linecolor": "white",
             "minorgridcolor": "white",
             "startlinecolor": "#2a3f5f"
            },
            "baxis": {
             "endlinecolor": "#2a3f5f",
             "gridcolor": "white",
             "linecolor": "white",
             "minorgridcolor": "white",
             "startlinecolor": "#2a3f5f"
            },
            "type": "carpet"
           }
          ],
          "choropleth": [
           {
            "colorbar": {
             "outlinewidth": 0,
             "ticks": ""
            },
            "type": "choropleth"
           }
          ],
          "contour": [
           {
            "colorbar": {
             "outlinewidth": 0,
             "ticks": ""
            },
            "colorscale": [
             [
              0,
              "#0d0887"
             ],
             [
              0.1111111111111111,
              "#46039f"
             ],
             [
              0.2222222222222222,
              "#7201a8"
             ],
             [
              0.3333333333333333,
              "#9c179e"
             ],
             [
              0.4444444444444444,
              "#bd3786"
             ],
             [
              0.5555555555555556,
              "#d8576b"
             ],
             [
              0.6666666666666666,
              "#ed7953"
             ],
             [
              0.7777777777777778,
              "#fb9f3a"
             ],
             [
              0.8888888888888888,
              "#fdca26"
             ],
             [
              1,
              "#f0f921"
             ]
            ],
            "type": "contour"
           }
          ],
          "contourcarpet": [
           {
            "colorbar": {
             "outlinewidth": 0,
             "ticks": ""
            },
            "type": "contourcarpet"
           }
          ],
          "heatmap": [
           {
            "colorbar": {
             "outlinewidth": 0,
             "ticks": ""
            },
            "colorscale": [
             [
              0,
              "#0d0887"
             ],
             [
              0.1111111111111111,
              "#46039f"
             ],
             [
              0.2222222222222222,
              "#7201a8"
             ],
             [
              0.3333333333333333,
              "#9c179e"
             ],
             [
              0.4444444444444444,
              "#bd3786"
             ],
             [
              0.5555555555555556,
              "#d8576b"
             ],
             [
              0.6666666666666666,
              "#ed7953"
             ],
             [
              0.7777777777777778,
              "#fb9f3a"
             ],
             [
              0.8888888888888888,
              "#fdca26"
             ],
             [
              1,
              "#f0f921"
             ]
            ],
            "type": "heatmap"
           }
          ],
          "heatmapgl": [
           {
            "colorbar": {
             "outlinewidth": 0,
             "ticks": ""
            },
            "colorscale": [
             [
              0,
              "#0d0887"
             ],
             [
              0.1111111111111111,
              "#46039f"
             ],
             [
              0.2222222222222222,
              "#7201a8"
             ],
             [
              0.3333333333333333,
              "#9c179e"
             ],
             [
              0.4444444444444444,
              "#bd3786"
             ],
             [
              0.5555555555555556,
              "#d8576b"
             ],
             [
              0.6666666666666666,
              "#ed7953"
             ],
             [
              0.7777777777777778,
              "#fb9f3a"
             ],
             [
              0.8888888888888888,
              "#fdca26"
             ],
             [
              1,
              "#f0f921"
             ]
            ],
            "type": "heatmapgl"
           }
          ],
          "histogram": [
           {
            "marker": {
             "pattern": {
              "fillmode": "overlay",
              "size": 10,
              "solidity": 0.2
             }
            },
            "type": "histogram"
           }
          ],
          "histogram2d": [
           {
            "colorbar": {
             "outlinewidth": 0,
             "ticks": ""
            },
            "colorscale": [
             [
              0,
              "#0d0887"
             ],
             [
              0.1111111111111111,
              "#46039f"
             ],
             [
              0.2222222222222222,
              "#7201a8"
             ],
             [
              0.3333333333333333,
              "#9c179e"
             ],
             [
              0.4444444444444444,
              "#bd3786"
             ],
             [
              0.5555555555555556,
              "#d8576b"
             ],
             [
              0.6666666666666666,
              "#ed7953"
             ],
             [
              0.7777777777777778,
              "#fb9f3a"
             ],
             [
              0.8888888888888888,
              "#fdca26"
             ],
             [
              1,
              "#f0f921"
             ]
            ],
            "type": "histogram2d"
           }
          ],
          "histogram2dcontour": [
           {
            "colorbar": {
             "outlinewidth": 0,
             "ticks": ""
            },
            "colorscale": [
             [
              0,
              "#0d0887"
             ],
             [
              0.1111111111111111,
              "#46039f"
             ],
             [
              0.2222222222222222,
              "#7201a8"
             ],
             [
              0.3333333333333333,
              "#9c179e"
             ],
             [
              0.4444444444444444,
              "#bd3786"
             ],
             [
              0.5555555555555556,
              "#d8576b"
             ],
             [
              0.6666666666666666,
              "#ed7953"
             ],
             [
              0.7777777777777778,
              "#fb9f3a"
             ],
             [
              0.8888888888888888,
              "#fdca26"
             ],
             [
              1,
              "#f0f921"
             ]
            ],
            "type": "histogram2dcontour"
           }
          ],
          "mesh3d": [
           {
            "colorbar": {
             "outlinewidth": 0,
             "ticks": ""
            },
            "type": "mesh3d"
           }
          ],
          "parcoords": [
           {
            "line": {
             "colorbar": {
              "outlinewidth": 0,
              "ticks": ""
             }
            },
            "type": "parcoords"
           }
          ],
          "pie": [
           {
            "automargin": true,
            "type": "pie"
           }
          ],
          "scatter": [
           {
            "fillpattern": {
             "fillmode": "overlay",
             "size": 10,
             "solidity": 0.2
            },
            "type": "scatter"
           }
          ],
          "scatter3d": [
           {
            "line": {
             "colorbar": {
              "outlinewidth": 0,
              "ticks": ""
             }
            },
            "marker": {
             "colorbar": {
              "outlinewidth": 0,
              "ticks": ""
             }
            },
            "type": "scatter3d"
           }
          ],
          "scattercarpet": [
           {
            "marker": {
             "colorbar": {
              "outlinewidth": 0,
              "ticks": ""
             }
            },
            "type": "scattercarpet"
           }
          ],
          "scattergeo": [
           {
            "marker": {
             "colorbar": {
              "outlinewidth": 0,
              "ticks": ""
             }
            },
            "type": "scattergeo"
           }
          ],
          "scattergl": [
           {
            "marker": {
             "colorbar": {
              "outlinewidth": 0,
              "ticks": ""
             }
            },
            "type": "scattergl"
           }
          ],
          "scattermapbox": [
           {
            "marker": {
             "colorbar": {
              "outlinewidth": 0,
              "ticks": ""
             }
            },
            "type": "scattermapbox"
           }
          ],
          "scatterpolar": [
           {
            "marker": {
             "colorbar": {
              "outlinewidth": 0,
              "ticks": ""
             }
            },
            "type": "scatterpolar"
           }
          ],
          "scatterpolargl": [
           {
            "marker": {
             "colorbar": {
              "outlinewidth": 0,
              "ticks": ""
             }
            },
            "type": "scatterpolargl"
           }
          ],
          "scatterternary": [
           {
            "marker": {
             "colorbar": {
              "outlinewidth": 0,
              "ticks": ""
             }
            },
            "type": "scatterternary"
           }
          ],
          "surface": [
           {
            "colorbar": {
             "outlinewidth": 0,
             "ticks": ""
            },
            "colorscale": [
             [
              0,
              "#0d0887"
             ],
             [
              0.1111111111111111,
              "#46039f"
             ],
             [
              0.2222222222222222,
              "#7201a8"
             ],
             [
              0.3333333333333333,
              "#9c179e"
             ],
             [
              0.4444444444444444,
              "#bd3786"
             ],
             [
              0.5555555555555556,
              "#d8576b"
             ],
             [
              0.6666666666666666,
              "#ed7953"
             ],
             [
              0.7777777777777778,
              "#fb9f3a"
             ],
             [
              0.8888888888888888,
              "#fdca26"
             ],
             [
              1,
              "#f0f921"
             ]
            ],
            "type": "surface"
           }
          ],
          "table": [
           {
            "cells": {
             "fill": {
              "color": "#EBF0F8"
             },
             "line": {
              "color": "white"
             }
            },
            "header": {
             "fill": {
              "color": "#C8D4E3"
             },
             "line": {
              "color": "white"
             }
            },
            "type": "table"
           }
          ]
         },
         "layout": {
          "annotationdefaults": {
           "arrowcolor": "#2a3f5f",
           "arrowhead": 0,
           "arrowwidth": 1
          },
          "autotypenumbers": "strict",
          "coloraxis": {
           "colorbar": {
            "outlinewidth": 0,
            "ticks": ""
           }
          },
          "colorscale": {
           "diverging": [
            [
             0,
             "#8e0152"
            ],
            [
             0.1,
             "#c51b7d"
            ],
            [
             0.2,
             "#de77ae"
            ],
            [
             0.3,
             "#f1b6da"
            ],
            [
             0.4,
             "#fde0ef"
            ],
            [
             0.5,
             "#f7f7f7"
            ],
            [
             0.6,
             "#e6f5d0"
            ],
            [
             0.7,
             "#b8e186"
            ],
            [
             0.8,
             "#7fbc41"
            ],
            [
             0.9,
             "#4d9221"
            ],
            [
             1,
             "#276419"
            ]
           ],
           "sequential": [
            [
             0,
             "#0d0887"
            ],
            [
             0.1111111111111111,
             "#46039f"
            ],
            [
             0.2222222222222222,
             "#7201a8"
            ],
            [
             0.3333333333333333,
             "#9c179e"
            ],
            [
             0.4444444444444444,
             "#bd3786"
            ],
            [
             0.5555555555555556,
             "#d8576b"
            ],
            [
             0.6666666666666666,
             "#ed7953"
            ],
            [
             0.7777777777777778,
             "#fb9f3a"
            ],
            [
             0.8888888888888888,
             "#fdca26"
            ],
            [
             1,
             "#f0f921"
            ]
           ],
           "sequentialminus": [
            [
             0,
             "#0d0887"
            ],
            [
             0.1111111111111111,
             "#46039f"
            ],
            [
             0.2222222222222222,
             "#7201a8"
            ],
            [
             0.3333333333333333,
             "#9c179e"
            ],
            [
             0.4444444444444444,
             "#bd3786"
            ],
            [
             0.5555555555555556,
             "#d8576b"
            ],
            [
             0.6666666666666666,
             "#ed7953"
            ],
            [
             0.7777777777777778,
             "#fb9f3a"
            ],
            [
             0.8888888888888888,
             "#fdca26"
            ],
            [
             1,
             "#f0f921"
            ]
           ]
          },
          "colorway": [
           "#636efa",
           "#EF553B",
           "#00cc96",
           "#ab63fa",
           "#FFA15A",
           "#19d3f3",
           "#FF6692",
           "#B6E880",
           "#FF97FF",
           "#FECB52"
          ],
          "font": {
           "color": "#2a3f5f"
          },
          "geo": {
           "bgcolor": "white",
           "lakecolor": "white",
           "landcolor": "#E5ECF6",
           "showlakes": true,
           "showland": true,
           "subunitcolor": "white"
          },
          "hoverlabel": {
           "align": "left"
          },
          "hovermode": "closest",
          "mapbox": {
           "style": "light"
          },
          "paper_bgcolor": "white",
          "plot_bgcolor": "#E5ECF6",
          "polar": {
           "angularaxis": {
            "gridcolor": "white",
            "linecolor": "white",
            "ticks": ""
           },
           "bgcolor": "#E5ECF6",
           "radialaxis": {
            "gridcolor": "white",
            "linecolor": "white",
            "ticks": ""
           }
          },
          "scene": {
           "xaxis": {
            "backgroundcolor": "#E5ECF6",
            "gridcolor": "white",
            "gridwidth": 2,
            "linecolor": "white",
            "showbackground": true,
            "ticks": "",
            "zerolinecolor": "white"
           },
           "yaxis": {
            "backgroundcolor": "#E5ECF6",
            "gridcolor": "white",
            "gridwidth": 2,
            "linecolor": "white",
            "showbackground": true,
            "ticks": "",
            "zerolinecolor": "white"
           },
           "zaxis": {
            "backgroundcolor": "#E5ECF6",
            "gridcolor": "white",
            "gridwidth": 2,
            "linecolor": "white",
            "showbackground": true,
            "ticks": "",
            "zerolinecolor": "white"
           }
          },
          "shapedefaults": {
           "line": {
            "color": "#2a3f5f"
           }
          },
          "ternary": {
           "aaxis": {
            "gridcolor": "white",
            "linecolor": "white",
            "ticks": ""
           },
           "baxis": {
            "gridcolor": "white",
            "linecolor": "white",
            "ticks": ""
           },
           "bgcolor": "#E5ECF6",
           "caxis": {
            "gridcolor": "white",
            "linecolor": "white",
            "ticks": ""
           }
          },
          "title": {
           "x": 0.05
          },
          "xaxis": {
           "automargin": true,
           "gridcolor": "white",
           "linecolor": "white",
           "ticks": "",
           "title": {
            "standoff": 15
           },
           "zerolinecolor": "white",
           "zerolinewidth": 2
          },
          "yaxis": {
           "automargin": true,
           "gridcolor": "white",
           "linecolor": "white",
           "ticks": "",
           "title": {
            "standoff": 15
           },
           "zerolinecolor": "white",
           "zerolinewidth": 2
          }
         }
        },
        "title": {
         "text": "Copias vendidas por año y plataforma"
        },
        "updatemenus": [
         {
          "buttons": [
           {
            "args": [
             null,
             {
              "frame": {
               "duration": 1000,
               "redraw": true
              },
              "fromcurrent": true,
              "mode": "immediate",
              "transition": {
               "duration": 500,
               "easing": "linear"
              }
             }
            ],
            "label": "&#9654;",
            "method": "animate"
           },
           {
            "args": [
             [
              null
             ],
             {
              "frame": {
               "duration": 0,
               "redraw": true
              },
              "fromcurrent": true,
              "mode": "immediate",
              "transition": {
               "duration": 0,
               "easing": "linear"
              }
             }
            ],
            "label": "&#9724;",
            "method": "animate"
           }
          ],
          "direction": "left",
          "pad": {
           "r": 10,
           "t": 70
          },
          "showactive": false,
          "type": "buttons",
          "x": 0.1,
          "xanchor": "right",
          "y": 0,
          "yanchor": "top"
         }
        ],
        "xaxis": {
         "anchor": "y",
         "categoryorder": "category ascending",
         "domain": [
          0,
          1
         ],
         "title": {
          "text": "Platform"
         },
         "type": "category"
        },
        "yaxis": {
         "anchor": "x",
         "domain": [
          0,
          1
         ],
         "range": [
          0,
          300
         ],
         "title": {
          "text": "Global_Sales"
         }
        }
       }
      }
     },
     "metadata": {},
     "output_type": "display_data"
    }
   ],
   "source": [
    "df_Sales_per_Year = df_Games_per_Year.groupby([\"Platform\", \"Year_of_Release\"]).agg({\"Global_Sales\":\"sum\"}).reset_index()\n",
    "df_Sales_per_Year.sort_values(\"Year_of_Release\", ascending=True, inplace=True)\n",
    "\n",
    "fig = px.bar(df_Sales_per_Year, x=\"Platform\", y=\"Global_Sales\", animation_frame=\"Year_of_Release\", range_y=[0,300], )\n",
    "fig.update_layout(title=\"Copias vendidas por año y plataforma\")\n",
    "fig.update_xaxes(type='category')\n",
    "fig.update_xaxes(categoryorder='category ascending')\n",
    "fig.layout.updatemenus[0].buttons[0].args[1]['frame']['duration'] = 1000\n",
    "fig.write_html(\"gráficas/Ventas_Año_Plataforma.html\")\n",
    "fig.show()"
   ]
  },
  {
   "cell_type": "code",
   "execution_count": 50,
   "metadata": {},
   "outputs": [
    {
     "data": {
      "application/vnd.plotly.v1+json": {
       "config": {
        "plotlyServerURL": "https://plot.ly"
       },
       "data": [
        {
         "alignmentgroup": "True",
         "hovertemplate": "Platform=%{x}<br>Total_Sales=%{y}<extra></extra>",
         "legendgroup": "",
         "marker": {
          "color": "#636efa",
          "pattern": {
           "shape": ""
          }
         },
         "name": "",
         "offsetgroup": "",
         "orientation": "v",
         "showlegend": false,
         "textposition": "auto",
         "type": "bar",
         "x": [
          "2600",
          "3DO",
          "3DS",
          "DC",
          "DS",
          "GB",
          "GBA",
          "GC",
          "GEN",
          "GG",
          "N64",
          "NES",
          "NG",
          "PC",
          "PCFX",
          "PS",
          "PS2",
          "PS3",
          "PS4",
          "PSP",
          "PSV",
          "SAT",
          "SCD",
          "SNES",
          "TG16",
          "WS",
          "Wii",
          "WiiU",
          "X360",
          "XB",
          "XOne"
         ],
         "xaxis": "x",
         "y": [
          86.57,
          0.1,
          257.92,
          15.97,
          803.73,
          254.42000000000002,
          305.62,
          197.14000000000001,
          28.36,
          0.04,
          218.21,
          251.07,
          1.44,
          256.21,
          0.03,
          727.41,
          1233.46,
          931.15,
          907.87,
          289.79,
          53.82,
          33.59,
          1.87,
          200.04999999999998,
          0.16,
          1.42,
          891.74,
          82.16,
          961.39,
          252.09,
          427.03000000000003
         ],
         "yaxis": "y"
        }
       ],
       "layout": {
        "barmode": "relative",
        "legend": {
         "tracegroupgap": 0
        },
        "margin": {
         "t": 60
        },
        "template": {
         "data": {
          "bar": [
           {
            "error_x": {
             "color": "#2a3f5f"
            },
            "error_y": {
             "color": "#2a3f5f"
            },
            "marker": {
             "line": {
              "color": "#E5ECF6",
              "width": 0.5
             },
             "pattern": {
              "fillmode": "overlay",
              "size": 10,
              "solidity": 0.2
             }
            },
            "type": "bar"
           }
          ],
          "barpolar": [
           {
            "marker": {
             "line": {
              "color": "#E5ECF6",
              "width": 0.5
             },
             "pattern": {
              "fillmode": "overlay",
              "size": 10,
              "solidity": 0.2
             }
            },
            "type": "barpolar"
           }
          ],
          "carpet": [
           {
            "aaxis": {
             "endlinecolor": "#2a3f5f",
             "gridcolor": "white",
             "linecolor": "white",
             "minorgridcolor": "white",
             "startlinecolor": "#2a3f5f"
            },
            "baxis": {
             "endlinecolor": "#2a3f5f",
             "gridcolor": "white",
             "linecolor": "white",
             "minorgridcolor": "white",
             "startlinecolor": "#2a3f5f"
            },
            "type": "carpet"
           }
          ],
          "choropleth": [
           {
            "colorbar": {
             "outlinewidth": 0,
             "ticks": ""
            },
            "type": "choropleth"
           }
          ],
          "contour": [
           {
            "colorbar": {
             "outlinewidth": 0,
             "ticks": ""
            },
            "colorscale": [
             [
              0,
              "#0d0887"
             ],
             [
              0.1111111111111111,
              "#46039f"
             ],
             [
              0.2222222222222222,
              "#7201a8"
             ],
             [
              0.3333333333333333,
              "#9c179e"
             ],
             [
              0.4444444444444444,
              "#bd3786"
             ],
             [
              0.5555555555555556,
              "#d8576b"
             ],
             [
              0.6666666666666666,
              "#ed7953"
             ],
             [
              0.7777777777777778,
              "#fb9f3a"
             ],
             [
              0.8888888888888888,
              "#fdca26"
             ],
             [
              1,
              "#f0f921"
             ]
            ],
            "type": "contour"
           }
          ],
          "contourcarpet": [
           {
            "colorbar": {
             "outlinewidth": 0,
             "ticks": ""
            },
            "type": "contourcarpet"
           }
          ],
          "heatmap": [
           {
            "colorbar": {
             "outlinewidth": 0,
             "ticks": ""
            },
            "colorscale": [
             [
              0,
              "#0d0887"
             ],
             [
              0.1111111111111111,
              "#46039f"
             ],
             [
              0.2222222222222222,
              "#7201a8"
             ],
             [
              0.3333333333333333,
              "#9c179e"
             ],
             [
              0.4444444444444444,
              "#bd3786"
             ],
             [
              0.5555555555555556,
              "#d8576b"
             ],
             [
              0.6666666666666666,
              "#ed7953"
             ],
             [
              0.7777777777777778,
              "#fb9f3a"
             ],
             [
              0.8888888888888888,
              "#fdca26"
             ],
             [
              1,
              "#f0f921"
             ]
            ],
            "type": "heatmap"
           }
          ],
          "heatmapgl": [
           {
            "colorbar": {
             "outlinewidth": 0,
             "ticks": ""
            },
            "colorscale": [
             [
              0,
              "#0d0887"
             ],
             [
              0.1111111111111111,
              "#46039f"
             ],
             [
              0.2222222222222222,
              "#7201a8"
             ],
             [
              0.3333333333333333,
              "#9c179e"
             ],
             [
              0.4444444444444444,
              "#bd3786"
             ],
             [
              0.5555555555555556,
              "#d8576b"
             ],
             [
              0.6666666666666666,
              "#ed7953"
             ],
             [
              0.7777777777777778,
              "#fb9f3a"
             ],
             [
              0.8888888888888888,
              "#fdca26"
             ],
             [
              1,
              "#f0f921"
             ]
            ],
            "type": "heatmapgl"
           }
          ],
          "histogram": [
           {
            "marker": {
             "pattern": {
              "fillmode": "overlay",
              "size": 10,
              "solidity": 0.2
             }
            },
            "type": "histogram"
           }
          ],
          "histogram2d": [
           {
            "colorbar": {
             "outlinewidth": 0,
             "ticks": ""
            },
            "colorscale": [
             [
              0,
              "#0d0887"
             ],
             [
              0.1111111111111111,
              "#46039f"
             ],
             [
              0.2222222222222222,
              "#7201a8"
             ],
             [
              0.3333333333333333,
              "#9c179e"
             ],
             [
              0.4444444444444444,
              "#bd3786"
             ],
             [
              0.5555555555555556,
              "#d8576b"
             ],
             [
              0.6666666666666666,
              "#ed7953"
             ],
             [
              0.7777777777777778,
              "#fb9f3a"
             ],
             [
              0.8888888888888888,
              "#fdca26"
             ],
             [
              1,
              "#f0f921"
             ]
            ],
            "type": "histogram2d"
           }
          ],
          "histogram2dcontour": [
           {
            "colorbar": {
             "outlinewidth": 0,
             "ticks": ""
            },
            "colorscale": [
             [
              0,
              "#0d0887"
             ],
             [
              0.1111111111111111,
              "#46039f"
             ],
             [
              0.2222222222222222,
              "#7201a8"
             ],
             [
              0.3333333333333333,
              "#9c179e"
             ],
             [
              0.4444444444444444,
              "#bd3786"
             ],
             [
              0.5555555555555556,
              "#d8576b"
             ],
             [
              0.6666666666666666,
              "#ed7953"
             ],
             [
              0.7777777777777778,
              "#fb9f3a"
             ],
             [
              0.8888888888888888,
              "#fdca26"
             ],
             [
              1,
              "#f0f921"
             ]
            ],
            "type": "histogram2dcontour"
           }
          ],
          "mesh3d": [
           {
            "colorbar": {
             "outlinewidth": 0,
             "ticks": ""
            },
            "type": "mesh3d"
           }
          ],
          "parcoords": [
           {
            "line": {
             "colorbar": {
              "outlinewidth": 0,
              "ticks": ""
             }
            },
            "type": "parcoords"
           }
          ],
          "pie": [
           {
            "automargin": true,
            "type": "pie"
           }
          ],
          "scatter": [
           {
            "fillpattern": {
             "fillmode": "overlay",
             "size": 10,
             "solidity": 0.2
            },
            "type": "scatter"
           }
          ],
          "scatter3d": [
           {
            "line": {
             "colorbar": {
              "outlinewidth": 0,
              "ticks": ""
             }
            },
            "marker": {
             "colorbar": {
              "outlinewidth": 0,
              "ticks": ""
             }
            },
            "type": "scatter3d"
           }
          ],
          "scattercarpet": [
           {
            "marker": {
             "colorbar": {
              "outlinewidth": 0,
              "ticks": ""
             }
            },
            "type": "scattercarpet"
           }
          ],
          "scattergeo": [
           {
            "marker": {
             "colorbar": {
              "outlinewidth": 0,
              "ticks": ""
             }
            },
            "type": "scattergeo"
           }
          ],
          "scattergl": [
           {
            "marker": {
             "colorbar": {
              "outlinewidth": 0,
              "ticks": ""
             }
            },
            "type": "scattergl"
           }
          ],
          "scattermapbox": [
           {
            "marker": {
             "colorbar": {
              "outlinewidth": 0,
              "ticks": ""
             }
            },
            "type": "scattermapbox"
           }
          ],
          "scatterpolar": [
           {
            "marker": {
             "colorbar": {
              "outlinewidth": 0,
              "ticks": ""
             }
            },
            "type": "scatterpolar"
           }
          ],
          "scatterpolargl": [
           {
            "marker": {
             "colorbar": {
              "outlinewidth": 0,
              "ticks": ""
             }
            },
            "type": "scatterpolargl"
           }
          ],
          "scatterternary": [
           {
            "marker": {
             "colorbar": {
              "outlinewidth": 0,
              "ticks": ""
             }
            },
            "type": "scatterternary"
           }
          ],
          "surface": [
           {
            "colorbar": {
             "outlinewidth": 0,
             "ticks": ""
            },
            "colorscale": [
             [
              0,
              "#0d0887"
             ],
             [
              0.1111111111111111,
              "#46039f"
             ],
             [
              0.2222222222222222,
              "#7201a8"
             ],
             [
              0.3333333333333333,
              "#9c179e"
             ],
             [
              0.4444444444444444,
              "#bd3786"
             ],
             [
              0.5555555555555556,
              "#d8576b"
             ],
             [
              0.6666666666666666,
              "#ed7953"
             ],
             [
              0.7777777777777778,
              "#fb9f3a"
             ],
             [
              0.8888888888888888,
              "#fdca26"
             ],
             [
              1,
              "#f0f921"
             ]
            ],
            "type": "surface"
           }
          ],
          "table": [
           {
            "cells": {
             "fill": {
              "color": "#EBF0F8"
             },
             "line": {
              "color": "white"
             }
            },
            "header": {
             "fill": {
              "color": "#C8D4E3"
             },
             "line": {
              "color": "white"
             }
            },
            "type": "table"
           }
          ]
         },
         "layout": {
          "annotationdefaults": {
           "arrowcolor": "#2a3f5f",
           "arrowhead": 0,
           "arrowwidth": 1
          },
          "autotypenumbers": "strict",
          "coloraxis": {
           "colorbar": {
            "outlinewidth": 0,
            "ticks": ""
           }
          },
          "colorscale": {
           "diverging": [
            [
             0,
             "#8e0152"
            ],
            [
             0.1,
             "#c51b7d"
            ],
            [
             0.2,
             "#de77ae"
            ],
            [
             0.3,
             "#f1b6da"
            ],
            [
             0.4,
             "#fde0ef"
            ],
            [
             0.5,
             "#f7f7f7"
            ],
            [
             0.6,
             "#e6f5d0"
            ],
            [
             0.7,
             "#b8e186"
            ],
            [
             0.8,
             "#7fbc41"
            ],
            [
             0.9,
             "#4d9221"
            ],
            [
             1,
             "#276419"
            ]
           ],
           "sequential": [
            [
             0,
             "#0d0887"
            ],
            [
             0.1111111111111111,
             "#46039f"
            ],
            [
             0.2222222222222222,
             "#7201a8"
            ],
            [
             0.3333333333333333,
             "#9c179e"
            ],
            [
             0.4444444444444444,
             "#bd3786"
            ],
            [
             0.5555555555555556,
             "#d8576b"
            ],
            [
             0.6666666666666666,
             "#ed7953"
            ],
            [
             0.7777777777777778,
             "#fb9f3a"
            ],
            [
             0.8888888888888888,
             "#fdca26"
            ],
            [
             1,
             "#f0f921"
            ]
           ],
           "sequentialminus": [
            [
             0,
             "#0d0887"
            ],
            [
             0.1111111111111111,
             "#46039f"
            ],
            [
             0.2222222222222222,
             "#7201a8"
            ],
            [
             0.3333333333333333,
             "#9c179e"
            ],
            [
             0.4444444444444444,
             "#bd3786"
            ],
            [
             0.5555555555555556,
             "#d8576b"
            ],
            [
             0.6666666666666666,
             "#ed7953"
            ],
            [
             0.7777777777777778,
             "#fb9f3a"
            ],
            [
             0.8888888888888888,
             "#fdca26"
            ],
            [
             1,
             "#f0f921"
            ]
           ]
          },
          "colorway": [
           "#636efa",
           "#EF553B",
           "#00cc96",
           "#ab63fa",
           "#FFA15A",
           "#19d3f3",
           "#FF6692",
           "#B6E880",
           "#FF97FF",
           "#FECB52"
          ],
          "font": {
           "color": "#2a3f5f"
          },
          "geo": {
           "bgcolor": "white",
           "lakecolor": "white",
           "landcolor": "#E5ECF6",
           "showlakes": true,
           "showland": true,
           "subunitcolor": "white"
          },
          "hoverlabel": {
           "align": "left"
          },
          "hovermode": "closest",
          "mapbox": {
           "style": "light"
          },
          "paper_bgcolor": "white",
          "plot_bgcolor": "#E5ECF6",
          "polar": {
           "angularaxis": {
            "gridcolor": "white",
            "linecolor": "white",
            "ticks": ""
           },
           "bgcolor": "#E5ECF6",
           "radialaxis": {
            "gridcolor": "white",
            "linecolor": "white",
            "ticks": ""
           }
          },
          "scene": {
           "xaxis": {
            "backgroundcolor": "#E5ECF6",
            "gridcolor": "white",
            "gridwidth": 2,
            "linecolor": "white",
            "showbackground": true,
            "ticks": "",
            "zerolinecolor": "white"
           },
           "yaxis": {
            "backgroundcolor": "#E5ECF6",
            "gridcolor": "white",
            "gridwidth": 2,
            "linecolor": "white",
            "showbackground": true,
            "ticks": "",
            "zerolinecolor": "white"
           },
           "zaxis": {
            "backgroundcolor": "#E5ECF6",
            "gridcolor": "white",
            "gridwidth": 2,
            "linecolor": "white",
            "showbackground": true,
            "ticks": "",
            "zerolinecolor": "white"
           }
          },
          "shapedefaults": {
           "line": {
            "color": "#2a3f5f"
           }
          },
          "ternary": {
           "aaxis": {
            "gridcolor": "white",
            "linecolor": "white",
            "ticks": ""
           },
           "baxis": {
            "gridcolor": "white",
            "linecolor": "white",
            "ticks": ""
           },
           "bgcolor": "#E5ECF6",
           "caxis": {
            "gridcolor": "white",
            "linecolor": "white",
            "ticks": ""
           }
          },
          "title": {
           "x": 0.05
          },
          "xaxis": {
           "automargin": true,
           "gridcolor": "white",
           "linecolor": "white",
           "ticks": "",
           "title": {
            "standoff": 15
           },
           "zerolinecolor": "white",
           "zerolinewidth": 2
          },
          "yaxis": {
           "automargin": true,
           "gridcolor": "white",
           "linecolor": "white",
           "ticks": "",
           "title": {
            "standoff": 15
           },
           "zerolinecolor": "white",
           "zerolinewidth": 2
          }
         }
        },
        "title": {
         "text": "Copias vendidas totales por plataforma (millones)"
        },
        "xaxis": {
         "anchor": "y",
         "categoryorder": "category ascending",
         "domain": [
          0,
          1
         ],
         "title": {
          "text": "Platform"
         },
         "type": "category"
        },
        "yaxis": {
         "anchor": "x",
         "domain": [
          0,
          1
         ],
         "title": {
          "text": "Total_Sales"
         }
        }
       }
      }
     },
     "metadata": {},
     "output_type": "display_data"
    }
   ],
   "source": [
    "df_Sales_Total = df_Sales_per_Year.groupby(\"Platform\").agg({\"Global_Sales\":\"sum\"}).reset_index()\n",
    "df_Sales_Total.columns = [\"Platform\", \"Total_Sales\"]\n",
    "df_Sales_Total\n",
    "\n",
    "fig = px.bar(df_Sales_Total, x=\"Platform\", y=\"Total_Sales\")\n",
    "fig.update_layout(title=\"Copias vendidas totales por plataforma (millones)\")\n",
    "fig.update_xaxes(type='category')\n",
    "fig.update_xaxes(categoryorder='category ascending')\n",
    "fig.write_html(\"gráficas/Ventas_Plataforma.html\")\n",
    "fig.show()"
   ]
  },
  {
   "cell_type": "code",
   "execution_count": 51,
   "metadata": {},
   "outputs": [
    {
     "data": {
      "application/vnd.plotly.v1+json": {
       "config": {
        "plotlyServerURL": "https://plot.ly"
       },
       "data": [
        {
         "domain": {
          "x": [
           0,
           1
          ],
          "y": [
           0,
           1
          ]
         },
         "hovertemplate": "Name=%{label}<br>Global_Sales=%{value}<extra></extra>",
         "labels": [
          "Grand Theft Auto V",
          "Wii Sports",
          "Call of Duty: Black Ops 3",
          "Super Mario Bros.",
          "Tetris",
          "Mario Kart Wii",
          "Call of Duty: Advanced Warfare",
          "Call of Duty: Ghosts",
          "Wii Sports Resort",
          "Pokemon Red/Pokemon Blue",
          "Call of Duty: Modern Warfare 3",
          "New Super Mario Bros.",
          "Call of Duty: Black Ops II",
          "Call of Duty: Black Ops",
          "Wii Play",
          "New Super Mario Bros. Wii",
          "Duck Hunt",
          "FIFA 16",
          "The Elder Scrolls V: Skyrim",
          "Fallout 4"
         ],
         "legendgroup": "",
         "name": "",
         "showlegend": true,
         "type": "pie",
         "values": [
          84.68,
          82.53,
          48.14,
          45.31,
          35.84,
          35.52,
          34.74,
          34.64,
          32.77,
          31.37,
          30.59,
          29.8,
          29.4,
          29.19,
          28.92,
          28.32,
          28.31,
          27.770000000000003,
          26.34,
          26.18
         ]
        }
       ],
       "layout": {
        "legend": {
         "tracegroupgap": 0
        },
        "margin": {
         "t": 60
        },
        "template": {
         "data": {
          "bar": [
           {
            "error_x": {
             "color": "#2a3f5f"
            },
            "error_y": {
             "color": "#2a3f5f"
            },
            "marker": {
             "line": {
              "color": "#E5ECF6",
              "width": 0.5
             },
             "pattern": {
              "fillmode": "overlay",
              "size": 10,
              "solidity": 0.2
             }
            },
            "type": "bar"
           }
          ],
          "barpolar": [
           {
            "marker": {
             "line": {
              "color": "#E5ECF6",
              "width": 0.5
             },
             "pattern": {
              "fillmode": "overlay",
              "size": 10,
              "solidity": 0.2
             }
            },
            "type": "barpolar"
           }
          ],
          "carpet": [
           {
            "aaxis": {
             "endlinecolor": "#2a3f5f",
             "gridcolor": "white",
             "linecolor": "white",
             "minorgridcolor": "white",
             "startlinecolor": "#2a3f5f"
            },
            "baxis": {
             "endlinecolor": "#2a3f5f",
             "gridcolor": "white",
             "linecolor": "white",
             "minorgridcolor": "white",
             "startlinecolor": "#2a3f5f"
            },
            "type": "carpet"
           }
          ],
          "choropleth": [
           {
            "colorbar": {
             "outlinewidth": 0,
             "ticks": ""
            },
            "type": "choropleth"
           }
          ],
          "contour": [
           {
            "colorbar": {
             "outlinewidth": 0,
             "ticks": ""
            },
            "colorscale": [
             [
              0,
              "#0d0887"
             ],
             [
              0.1111111111111111,
              "#46039f"
             ],
             [
              0.2222222222222222,
              "#7201a8"
             ],
             [
              0.3333333333333333,
              "#9c179e"
             ],
             [
              0.4444444444444444,
              "#bd3786"
             ],
             [
              0.5555555555555556,
              "#d8576b"
             ],
             [
              0.6666666666666666,
              "#ed7953"
             ],
             [
              0.7777777777777778,
              "#fb9f3a"
             ],
             [
              0.8888888888888888,
              "#fdca26"
             ],
             [
              1,
              "#f0f921"
             ]
            ],
            "type": "contour"
           }
          ],
          "contourcarpet": [
           {
            "colorbar": {
             "outlinewidth": 0,
             "ticks": ""
            },
            "type": "contourcarpet"
           }
          ],
          "heatmap": [
           {
            "colorbar": {
             "outlinewidth": 0,
             "ticks": ""
            },
            "colorscale": [
             [
              0,
              "#0d0887"
             ],
             [
              0.1111111111111111,
              "#46039f"
             ],
             [
              0.2222222222222222,
              "#7201a8"
             ],
             [
              0.3333333333333333,
              "#9c179e"
             ],
             [
              0.4444444444444444,
              "#bd3786"
             ],
             [
              0.5555555555555556,
              "#d8576b"
             ],
             [
              0.6666666666666666,
              "#ed7953"
             ],
             [
              0.7777777777777778,
              "#fb9f3a"
             ],
             [
              0.8888888888888888,
              "#fdca26"
             ],
             [
              1,
              "#f0f921"
             ]
            ],
            "type": "heatmap"
           }
          ],
          "heatmapgl": [
           {
            "colorbar": {
             "outlinewidth": 0,
             "ticks": ""
            },
            "colorscale": [
             [
              0,
              "#0d0887"
             ],
             [
              0.1111111111111111,
              "#46039f"
             ],
             [
              0.2222222222222222,
              "#7201a8"
             ],
             [
              0.3333333333333333,
              "#9c179e"
             ],
             [
              0.4444444444444444,
              "#bd3786"
             ],
             [
              0.5555555555555556,
              "#d8576b"
             ],
             [
              0.6666666666666666,
              "#ed7953"
             ],
             [
              0.7777777777777778,
              "#fb9f3a"
             ],
             [
              0.8888888888888888,
              "#fdca26"
             ],
             [
              1,
              "#f0f921"
             ]
            ],
            "type": "heatmapgl"
           }
          ],
          "histogram": [
           {
            "marker": {
             "pattern": {
              "fillmode": "overlay",
              "size": 10,
              "solidity": 0.2
             }
            },
            "type": "histogram"
           }
          ],
          "histogram2d": [
           {
            "colorbar": {
             "outlinewidth": 0,
             "ticks": ""
            },
            "colorscale": [
             [
              0,
              "#0d0887"
             ],
             [
              0.1111111111111111,
              "#46039f"
             ],
             [
              0.2222222222222222,
              "#7201a8"
             ],
             [
              0.3333333333333333,
              "#9c179e"
             ],
             [
              0.4444444444444444,
              "#bd3786"
             ],
             [
              0.5555555555555556,
              "#d8576b"
             ],
             [
              0.6666666666666666,
              "#ed7953"
             ],
             [
              0.7777777777777778,
              "#fb9f3a"
             ],
             [
              0.8888888888888888,
              "#fdca26"
             ],
             [
              1,
              "#f0f921"
             ]
            ],
            "type": "histogram2d"
           }
          ],
          "histogram2dcontour": [
           {
            "colorbar": {
             "outlinewidth": 0,
             "ticks": ""
            },
            "colorscale": [
             [
              0,
              "#0d0887"
             ],
             [
              0.1111111111111111,
              "#46039f"
             ],
             [
              0.2222222222222222,
              "#7201a8"
             ],
             [
              0.3333333333333333,
              "#9c179e"
             ],
             [
              0.4444444444444444,
              "#bd3786"
             ],
             [
              0.5555555555555556,
              "#d8576b"
             ],
             [
              0.6666666666666666,
              "#ed7953"
             ],
             [
              0.7777777777777778,
              "#fb9f3a"
             ],
             [
              0.8888888888888888,
              "#fdca26"
             ],
             [
              1,
              "#f0f921"
             ]
            ],
            "type": "histogram2dcontour"
           }
          ],
          "mesh3d": [
           {
            "colorbar": {
             "outlinewidth": 0,
             "ticks": ""
            },
            "type": "mesh3d"
           }
          ],
          "parcoords": [
           {
            "line": {
             "colorbar": {
              "outlinewidth": 0,
              "ticks": ""
             }
            },
            "type": "parcoords"
           }
          ],
          "pie": [
           {
            "automargin": true,
            "type": "pie"
           }
          ],
          "scatter": [
           {
            "fillpattern": {
             "fillmode": "overlay",
             "size": 10,
             "solidity": 0.2
            },
            "type": "scatter"
           }
          ],
          "scatter3d": [
           {
            "line": {
             "colorbar": {
              "outlinewidth": 0,
              "ticks": ""
             }
            },
            "marker": {
             "colorbar": {
              "outlinewidth": 0,
              "ticks": ""
             }
            },
            "type": "scatter3d"
           }
          ],
          "scattercarpet": [
           {
            "marker": {
             "colorbar": {
              "outlinewidth": 0,
              "ticks": ""
             }
            },
            "type": "scattercarpet"
           }
          ],
          "scattergeo": [
           {
            "marker": {
             "colorbar": {
              "outlinewidth": 0,
              "ticks": ""
             }
            },
            "type": "scattergeo"
           }
          ],
          "scattergl": [
           {
            "marker": {
             "colorbar": {
              "outlinewidth": 0,
              "ticks": ""
             }
            },
            "type": "scattergl"
           }
          ],
          "scattermapbox": [
           {
            "marker": {
             "colorbar": {
              "outlinewidth": 0,
              "ticks": ""
             }
            },
            "type": "scattermapbox"
           }
          ],
          "scatterpolar": [
           {
            "marker": {
             "colorbar": {
              "outlinewidth": 0,
              "ticks": ""
             }
            },
            "type": "scatterpolar"
           }
          ],
          "scatterpolargl": [
           {
            "marker": {
             "colorbar": {
              "outlinewidth": 0,
              "ticks": ""
             }
            },
            "type": "scatterpolargl"
           }
          ],
          "scatterternary": [
           {
            "marker": {
             "colorbar": {
              "outlinewidth": 0,
              "ticks": ""
             }
            },
            "type": "scatterternary"
           }
          ],
          "surface": [
           {
            "colorbar": {
             "outlinewidth": 0,
             "ticks": ""
            },
            "colorscale": [
             [
              0,
              "#0d0887"
             ],
             [
              0.1111111111111111,
              "#46039f"
             ],
             [
              0.2222222222222222,
              "#7201a8"
             ],
             [
              0.3333333333333333,
              "#9c179e"
             ],
             [
              0.4444444444444444,
              "#bd3786"
             ],
             [
              0.5555555555555556,
              "#d8576b"
             ],
             [
              0.6666666666666666,
              "#ed7953"
             ],
             [
              0.7777777777777778,
              "#fb9f3a"
             ],
             [
              0.8888888888888888,
              "#fdca26"
             ],
             [
              1,
              "#f0f921"
             ]
            ],
            "type": "surface"
           }
          ],
          "table": [
           {
            "cells": {
             "fill": {
              "color": "#EBF0F8"
             },
             "line": {
              "color": "white"
             }
            },
            "header": {
             "fill": {
              "color": "#C8D4E3"
             },
             "line": {
              "color": "white"
             }
            },
            "type": "table"
           }
          ]
         },
         "layout": {
          "annotationdefaults": {
           "arrowcolor": "#2a3f5f",
           "arrowhead": 0,
           "arrowwidth": 1
          },
          "autotypenumbers": "strict",
          "coloraxis": {
           "colorbar": {
            "outlinewidth": 0,
            "ticks": ""
           }
          },
          "colorscale": {
           "diverging": [
            [
             0,
             "#8e0152"
            ],
            [
             0.1,
             "#c51b7d"
            ],
            [
             0.2,
             "#de77ae"
            ],
            [
             0.3,
             "#f1b6da"
            ],
            [
             0.4,
             "#fde0ef"
            ],
            [
             0.5,
             "#f7f7f7"
            ],
            [
             0.6,
             "#e6f5d0"
            ],
            [
             0.7,
             "#b8e186"
            ],
            [
             0.8,
             "#7fbc41"
            ],
            [
             0.9,
             "#4d9221"
            ],
            [
             1,
             "#276419"
            ]
           ],
           "sequential": [
            [
             0,
             "#0d0887"
            ],
            [
             0.1111111111111111,
             "#46039f"
            ],
            [
             0.2222222222222222,
             "#7201a8"
            ],
            [
             0.3333333333333333,
             "#9c179e"
            ],
            [
             0.4444444444444444,
             "#bd3786"
            ],
            [
             0.5555555555555556,
             "#d8576b"
            ],
            [
             0.6666666666666666,
             "#ed7953"
            ],
            [
             0.7777777777777778,
             "#fb9f3a"
            ],
            [
             0.8888888888888888,
             "#fdca26"
            ],
            [
             1,
             "#f0f921"
            ]
           ],
           "sequentialminus": [
            [
             0,
             "#0d0887"
            ],
            [
             0.1111111111111111,
             "#46039f"
            ],
            [
             0.2222222222222222,
             "#7201a8"
            ],
            [
             0.3333333333333333,
             "#9c179e"
            ],
            [
             0.4444444444444444,
             "#bd3786"
            ],
            [
             0.5555555555555556,
             "#d8576b"
            ],
            [
             0.6666666666666666,
             "#ed7953"
            ],
            [
             0.7777777777777778,
             "#fb9f3a"
            ],
            [
             0.8888888888888888,
             "#fdca26"
            ],
            [
             1,
             "#f0f921"
            ]
           ]
          },
          "colorway": [
           "#636efa",
           "#EF553B",
           "#00cc96",
           "#ab63fa",
           "#FFA15A",
           "#19d3f3",
           "#FF6692",
           "#B6E880",
           "#FF97FF",
           "#FECB52"
          ],
          "font": {
           "color": "#2a3f5f"
          },
          "geo": {
           "bgcolor": "white",
           "lakecolor": "white",
           "landcolor": "#E5ECF6",
           "showlakes": true,
           "showland": true,
           "subunitcolor": "white"
          },
          "hoverlabel": {
           "align": "left"
          },
          "hovermode": "closest",
          "mapbox": {
           "style": "light"
          },
          "paper_bgcolor": "white",
          "plot_bgcolor": "#E5ECF6",
          "polar": {
           "angularaxis": {
            "gridcolor": "white",
            "linecolor": "white",
            "ticks": ""
           },
           "bgcolor": "#E5ECF6",
           "radialaxis": {
            "gridcolor": "white",
            "linecolor": "white",
            "ticks": ""
           }
          },
          "scene": {
           "xaxis": {
            "backgroundcolor": "#E5ECF6",
            "gridcolor": "white",
            "gridwidth": 2,
            "linecolor": "white",
            "showbackground": true,
            "ticks": "",
            "zerolinecolor": "white"
           },
           "yaxis": {
            "backgroundcolor": "#E5ECF6",
            "gridcolor": "white",
            "gridwidth": 2,
            "linecolor": "white",
            "showbackground": true,
            "ticks": "",
            "zerolinecolor": "white"
           },
           "zaxis": {
            "backgroundcolor": "#E5ECF6",
            "gridcolor": "white",
            "gridwidth": 2,
            "linecolor": "white",
            "showbackground": true,
            "ticks": "",
            "zerolinecolor": "white"
           }
          },
          "shapedefaults": {
           "line": {
            "color": "#2a3f5f"
           }
          },
          "ternary": {
           "aaxis": {
            "gridcolor": "white",
            "linecolor": "white",
            "ticks": ""
           },
           "baxis": {
            "gridcolor": "white",
            "linecolor": "white",
            "ticks": ""
           },
           "bgcolor": "#E5ECF6",
           "caxis": {
            "gridcolor": "white",
            "linecolor": "white",
            "ticks": ""
           }
          },
          "title": {
           "x": 0.05
          },
          "xaxis": {
           "automargin": true,
           "gridcolor": "white",
           "linecolor": "white",
           "ticks": "",
           "title": {
            "standoff": 15
           },
           "zerolinecolor": "white",
           "zerolinewidth": 2
          },
          "yaxis": {
           "automargin": true,
           "gridcolor": "white",
           "linecolor": "white",
           "ticks": "",
           "title": {
            "standoff": 15
           },
           "zerolinecolor": "white",
           "zerolinewidth": 2
          }
         }
        },
        "title": {
         "text": "Top 20 videojuegos más vendidos"
        }
       }
      }
     },
     "metadata": {},
     "output_type": "display_data"
    }
   ],
   "source": [
    "df_Sales_per_Game = df_Games.groupby(\"Name\").agg({\"Global_Sales\":\"sum\"}).reset_index()\n",
    "df_Sales_per_Game.sort_values(\"Global_Sales\", ascending=False, inplace=True)\n",
    "df_Sales_per_Game = df_Sales_per_Game.iloc[:20,:]\n",
    "\n",
    "fig = px.pie(df_Sales_per_Game, values=\"Global_Sales\", names=\"Name\")\n",
    "fig.update_layout(title=\"Top 20 videojuegos más vendidos\")\n",
    "fig.write_html(\"gráficas/Juegos_Ventas.html\")\n",
    "fig.show()"
   ]
  },
  {
   "cell_type": "code",
   "execution_count": 52,
   "metadata": {},
   "outputs": [
    {
     "data": {
      "application/vnd.plotly.v1+json": {
       "config": {
        "plotlyServerURL": "https://plot.ly"
       },
       "data": [
        {
         "mode": "lines",
         "name": "NA_Sales",
         "type": "scatter",
         "x": [
          1980,
          1981,
          1982,
          1983,
          1984,
          1985,
          1986,
          1987,
          1988,
          1989,
          1990,
          1991,
          1992,
          1993,
          1994,
          1995,
          1996,
          1997,
          1998,
          1999,
          2000,
          2001,
          2002,
          2003,
          2004,
          2005,
          2006,
          2007,
          2008,
          2009,
          2010,
          2011,
          2012,
          2013,
          2014,
          2015,
          2016,
          2017,
          2018,
          2019,
          2020
         ],
         "y": [
          10.59,
          33.4,
          26.92,
          7.76,
          33.28,
          33.73,
          12.5,
          8.459999999999999,
          23.869999999999997,
          45.15,
          25.46,
          12.76,
          33.89,
          15.120000000000001,
          28.16,
          24.83,
          86.76,
          94.75,
          128.36,
          126.06,
          94.5,
          173.98,
          216.19,
          193.61,
          218.72,
          241.12,
          262.13,
          309.02,
          348.69,
          335.55,
          300.65,
          238.73,
          153.26,
          175.91,
          207.69,
          198.23,
          126.52,
          74.83,
          27.86,
          0,
          0.27
         ]
        },
        {
         "mode": "lines",
         "name": "JP_Sales",
         "type": "scatter",
         "x": [
          1980,
          1981,
          1982,
          1983,
          1984,
          1985,
          1986,
          1987,
          1988,
          1989,
          1990,
          1991,
          1992,
          1993,
          1994,
          1995,
          1996,
          1997,
          1998,
          1999,
          2000,
          2001,
          2002,
          2003,
          2004,
          2005,
          2006,
          2007,
          2008,
          2009,
          2010,
          2011,
          2012,
          2013,
          2014,
          2015,
          2016,
          2017,
          2018,
          2019,
          2020
         ],
         "y": [
          0,
          0,
          0,
          8.1,
          14.27,
          14.559999999999999,
          19.81,
          11.63,
          15.76,
          18.36,
          14.879999999999999,
          14.78,
          28.91,
          25.33,
          33.99,
          45.75,
          57.44,
          48.87,
          50.04,
          52.34,
          42.77,
          39.86,
          41.76,
          34.2,
          41.65,
          54.27,
          73.74,
          60.29,
          60.25,
          61.89,
          59.49,
          53.07,
          51.8,
          48.68,
          43.29,
          41.49,
          28.990000000000002,
          9.15,
          4.13,
          0,
          0
         ]
        },
        {
         "mode": "lines",
         "name": "EU_Sales",
         "type": "scatter",
         "x": [
          1980,
          1981,
          1982,
          1983,
          1984,
          1985,
          1986,
          1987,
          1988,
          1989,
          1990,
          1991,
          1992,
          1993,
          1994,
          1995,
          1996,
          1997,
          1998,
          1999,
          2000,
          2001,
          2002,
          2003,
          2004,
          2005,
          2006,
          2007,
          2008,
          2009,
          2010,
          2011,
          2012,
          2013,
          2014,
          2015,
          2016,
          2017,
          2018,
          2019,
          2020
         ],
         "y": [
          0.67,
          1.96,
          1.65,
          0.8,
          2.1,
          4.74,
          2.84,
          1.41,
          6.59,
          8.44,
          7.63,
          3.95,
          11.709999999999999,
          4.65,
          14.88,
          14.9,
          47.26,
          48.32,
          66.9,
          62.67,
          52.77,
          94.89,
          109.75,
          103.81,
          105.88,
          120.73,
          127.89,
          157.5,
          181.14,
          187.94,
          171.26,
          162.84,
          114.59,
          140.34,
          196.9,
          172.27,
          126.9,
          71.04,
          21.54,
          0,
          0
         ]
        },
        {
         "mode": "lines",
         "name": "Other_Sales",
         "type": "scatter",
         "x": [
          1980,
          1981,
          1982,
          1983,
          1984,
          1985,
          1986,
          1987,
          1988,
          1989,
          1990,
          1991,
          1992,
          1993,
          1994,
          1995,
          1996,
          1997,
          1998,
          1999,
          2000,
          2001,
          2002,
          2003,
          2004,
          2005,
          2006,
          2007,
          2008,
          2009,
          2010,
          2011,
          2012,
          2013,
          2014,
          2015,
          2016,
          2017,
          2018,
          2019,
          2020
         ],
         "y": [
          0.12,
          0.32,
          0.31,
          0.14,
          0.7,
          0.92,
          1.9300000000000002,
          0.2,
          0.99,
          1.5,
          1.4000000000000001,
          0.74,
          1.65,
          0.89,
          2.2,
          2.64,
          7.69,
          9.13,
          11.01,
          10.040000000000001,
          11.620000000000001,
          22.73,
          27.27,
          25.92,
          47.19,
          40.26,
          53.95,
          76.73,
          81.42,
          73.44,
          58.57,
          52.75,
          36.19,
          44.68,
          60.54,
          57.32,
          40.43,
          24.35,
          8.84,
          0,
          0.02
         ]
        }
       ],
       "layout": {
        "template": {
         "data": {
          "bar": [
           {
            "error_x": {
             "color": "#2a3f5f"
            },
            "error_y": {
             "color": "#2a3f5f"
            },
            "marker": {
             "line": {
              "color": "#E5ECF6",
              "width": 0.5
             },
             "pattern": {
              "fillmode": "overlay",
              "size": 10,
              "solidity": 0.2
             }
            },
            "type": "bar"
           }
          ],
          "barpolar": [
           {
            "marker": {
             "line": {
              "color": "#E5ECF6",
              "width": 0.5
             },
             "pattern": {
              "fillmode": "overlay",
              "size": 10,
              "solidity": 0.2
             }
            },
            "type": "barpolar"
           }
          ],
          "carpet": [
           {
            "aaxis": {
             "endlinecolor": "#2a3f5f",
             "gridcolor": "white",
             "linecolor": "white",
             "minorgridcolor": "white",
             "startlinecolor": "#2a3f5f"
            },
            "baxis": {
             "endlinecolor": "#2a3f5f",
             "gridcolor": "white",
             "linecolor": "white",
             "minorgridcolor": "white",
             "startlinecolor": "#2a3f5f"
            },
            "type": "carpet"
           }
          ],
          "choropleth": [
           {
            "colorbar": {
             "outlinewidth": 0,
             "ticks": ""
            },
            "type": "choropleth"
           }
          ],
          "contour": [
           {
            "colorbar": {
             "outlinewidth": 0,
             "ticks": ""
            },
            "colorscale": [
             [
              0,
              "#0d0887"
             ],
             [
              0.1111111111111111,
              "#46039f"
             ],
             [
              0.2222222222222222,
              "#7201a8"
             ],
             [
              0.3333333333333333,
              "#9c179e"
             ],
             [
              0.4444444444444444,
              "#bd3786"
             ],
             [
              0.5555555555555556,
              "#d8576b"
             ],
             [
              0.6666666666666666,
              "#ed7953"
             ],
             [
              0.7777777777777778,
              "#fb9f3a"
             ],
             [
              0.8888888888888888,
              "#fdca26"
             ],
             [
              1,
              "#f0f921"
             ]
            ],
            "type": "contour"
           }
          ],
          "contourcarpet": [
           {
            "colorbar": {
             "outlinewidth": 0,
             "ticks": ""
            },
            "type": "contourcarpet"
           }
          ],
          "heatmap": [
           {
            "colorbar": {
             "outlinewidth": 0,
             "ticks": ""
            },
            "colorscale": [
             [
              0,
              "#0d0887"
             ],
             [
              0.1111111111111111,
              "#46039f"
             ],
             [
              0.2222222222222222,
              "#7201a8"
             ],
             [
              0.3333333333333333,
              "#9c179e"
             ],
             [
              0.4444444444444444,
              "#bd3786"
             ],
             [
              0.5555555555555556,
              "#d8576b"
             ],
             [
              0.6666666666666666,
              "#ed7953"
             ],
             [
              0.7777777777777778,
              "#fb9f3a"
             ],
             [
              0.8888888888888888,
              "#fdca26"
             ],
             [
              1,
              "#f0f921"
             ]
            ],
            "type": "heatmap"
           }
          ],
          "heatmapgl": [
           {
            "colorbar": {
             "outlinewidth": 0,
             "ticks": ""
            },
            "colorscale": [
             [
              0,
              "#0d0887"
             ],
             [
              0.1111111111111111,
              "#46039f"
             ],
             [
              0.2222222222222222,
              "#7201a8"
             ],
             [
              0.3333333333333333,
              "#9c179e"
             ],
             [
              0.4444444444444444,
              "#bd3786"
             ],
             [
              0.5555555555555556,
              "#d8576b"
             ],
             [
              0.6666666666666666,
              "#ed7953"
             ],
             [
              0.7777777777777778,
              "#fb9f3a"
             ],
             [
              0.8888888888888888,
              "#fdca26"
             ],
             [
              1,
              "#f0f921"
             ]
            ],
            "type": "heatmapgl"
           }
          ],
          "histogram": [
           {
            "marker": {
             "pattern": {
              "fillmode": "overlay",
              "size": 10,
              "solidity": 0.2
             }
            },
            "type": "histogram"
           }
          ],
          "histogram2d": [
           {
            "colorbar": {
             "outlinewidth": 0,
             "ticks": ""
            },
            "colorscale": [
             [
              0,
              "#0d0887"
             ],
             [
              0.1111111111111111,
              "#46039f"
             ],
             [
              0.2222222222222222,
              "#7201a8"
             ],
             [
              0.3333333333333333,
              "#9c179e"
             ],
             [
              0.4444444444444444,
              "#bd3786"
             ],
             [
              0.5555555555555556,
              "#d8576b"
             ],
             [
              0.6666666666666666,
              "#ed7953"
             ],
             [
              0.7777777777777778,
              "#fb9f3a"
             ],
             [
              0.8888888888888888,
              "#fdca26"
             ],
             [
              1,
              "#f0f921"
             ]
            ],
            "type": "histogram2d"
           }
          ],
          "histogram2dcontour": [
           {
            "colorbar": {
             "outlinewidth": 0,
             "ticks": ""
            },
            "colorscale": [
             [
              0,
              "#0d0887"
             ],
             [
              0.1111111111111111,
              "#46039f"
             ],
             [
              0.2222222222222222,
              "#7201a8"
             ],
             [
              0.3333333333333333,
              "#9c179e"
             ],
             [
              0.4444444444444444,
              "#bd3786"
             ],
             [
              0.5555555555555556,
              "#d8576b"
             ],
             [
              0.6666666666666666,
              "#ed7953"
             ],
             [
              0.7777777777777778,
              "#fb9f3a"
             ],
             [
              0.8888888888888888,
              "#fdca26"
             ],
             [
              1,
              "#f0f921"
             ]
            ],
            "type": "histogram2dcontour"
           }
          ],
          "mesh3d": [
           {
            "colorbar": {
             "outlinewidth": 0,
             "ticks": ""
            },
            "type": "mesh3d"
           }
          ],
          "parcoords": [
           {
            "line": {
             "colorbar": {
              "outlinewidth": 0,
              "ticks": ""
             }
            },
            "type": "parcoords"
           }
          ],
          "pie": [
           {
            "automargin": true,
            "type": "pie"
           }
          ],
          "scatter": [
           {
            "fillpattern": {
             "fillmode": "overlay",
             "size": 10,
             "solidity": 0.2
            },
            "type": "scatter"
           }
          ],
          "scatter3d": [
           {
            "line": {
             "colorbar": {
              "outlinewidth": 0,
              "ticks": ""
             }
            },
            "marker": {
             "colorbar": {
              "outlinewidth": 0,
              "ticks": ""
             }
            },
            "type": "scatter3d"
           }
          ],
          "scattercarpet": [
           {
            "marker": {
             "colorbar": {
              "outlinewidth": 0,
              "ticks": ""
             }
            },
            "type": "scattercarpet"
           }
          ],
          "scattergeo": [
           {
            "marker": {
             "colorbar": {
              "outlinewidth": 0,
              "ticks": ""
             }
            },
            "type": "scattergeo"
           }
          ],
          "scattergl": [
           {
            "marker": {
             "colorbar": {
              "outlinewidth": 0,
              "ticks": ""
             }
            },
            "type": "scattergl"
           }
          ],
          "scattermapbox": [
           {
            "marker": {
             "colorbar": {
              "outlinewidth": 0,
              "ticks": ""
             }
            },
            "type": "scattermapbox"
           }
          ],
          "scatterpolar": [
           {
            "marker": {
             "colorbar": {
              "outlinewidth": 0,
              "ticks": ""
             }
            },
            "type": "scatterpolar"
           }
          ],
          "scatterpolargl": [
           {
            "marker": {
             "colorbar": {
              "outlinewidth": 0,
              "ticks": ""
             }
            },
            "type": "scatterpolargl"
           }
          ],
          "scatterternary": [
           {
            "marker": {
             "colorbar": {
              "outlinewidth": 0,
              "ticks": ""
             }
            },
            "type": "scatterternary"
           }
          ],
          "surface": [
           {
            "colorbar": {
             "outlinewidth": 0,
             "ticks": ""
            },
            "colorscale": [
             [
              0,
              "#0d0887"
             ],
             [
              0.1111111111111111,
              "#46039f"
             ],
             [
              0.2222222222222222,
              "#7201a8"
             ],
             [
              0.3333333333333333,
              "#9c179e"
             ],
             [
              0.4444444444444444,
              "#bd3786"
             ],
             [
              0.5555555555555556,
              "#d8576b"
             ],
             [
              0.6666666666666666,
              "#ed7953"
             ],
             [
              0.7777777777777778,
              "#fb9f3a"
             ],
             [
              0.8888888888888888,
              "#fdca26"
             ],
             [
              1,
              "#f0f921"
             ]
            ],
            "type": "surface"
           }
          ],
          "table": [
           {
            "cells": {
             "fill": {
              "color": "#EBF0F8"
             },
             "line": {
              "color": "white"
             }
            },
            "header": {
             "fill": {
              "color": "#C8D4E3"
             },
             "line": {
              "color": "white"
             }
            },
            "type": "table"
           }
          ]
         },
         "layout": {
          "annotationdefaults": {
           "arrowcolor": "#2a3f5f",
           "arrowhead": 0,
           "arrowwidth": 1
          },
          "autotypenumbers": "strict",
          "coloraxis": {
           "colorbar": {
            "outlinewidth": 0,
            "ticks": ""
           }
          },
          "colorscale": {
           "diverging": [
            [
             0,
             "#8e0152"
            ],
            [
             0.1,
             "#c51b7d"
            ],
            [
             0.2,
             "#de77ae"
            ],
            [
             0.3,
             "#f1b6da"
            ],
            [
             0.4,
             "#fde0ef"
            ],
            [
             0.5,
             "#f7f7f7"
            ],
            [
             0.6,
             "#e6f5d0"
            ],
            [
             0.7,
             "#b8e186"
            ],
            [
             0.8,
             "#7fbc41"
            ],
            [
             0.9,
             "#4d9221"
            ],
            [
             1,
             "#276419"
            ]
           ],
           "sequential": [
            [
             0,
             "#0d0887"
            ],
            [
             0.1111111111111111,
             "#46039f"
            ],
            [
             0.2222222222222222,
             "#7201a8"
            ],
            [
             0.3333333333333333,
             "#9c179e"
            ],
            [
             0.4444444444444444,
             "#bd3786"
            ],
            [
             0.5555555555555556,
             "#d8576b"
            ],
            [
             0.6666666666666666,
             "#ed7953"
            ],
            [
             0.7777777777777778,
             "#fb9f3a"
            ],
            [
             0.8888888888888888,
             "#fdca26"
            ],
            [
             1,
             "#f0f921"
            ]
           ],
           "sequentialminus": [
            [
             0,
             "#0d0887"
            ],
            [
             0.1111111111111111,
             "#46039f"
            ],
            [
             0.2222222222222222,
             "#7201a8"
            ],
            [
             0.3333333333333333,
             "#9c179e"
            ],
            [
             0.4444444444444444,
             "#bd3786"
            ],
            [
             0.5555555555555556,
             "#d8576b"
            ],
            [
             0.6666666666666666,
             "#ed7953"
            ],
            [
             0.7777777777777778,
             "#fb9f3a"
            ],
            [
             0.8888888888888888,
             "#fdca26"
            ],
            [
             1,
             "#f0f921"
            ]
           ]
          },
          "colorway": [
           "#636efa",
           "#EF553B",
           "#00cc96",
           "#ab63fa",
           "#FFA15A",
           "#19d3f3",
           "#FF6692",
           "#B6E880",
           "#FF97FF",
           "#FECB52"
          ],
          "font": {
           "color": "#2a3f5f"
          },
          "geo": {
           "bgcolor": "white",
           "lakecolor": "white",
           "landcolor": "#E5ECF6",
           "showlakes": true,
           "showland": true,
           "subunitcolor": "white"
          },
          "hoverlabel": {
           "align": "left"
          },
          "hovermode": "closest",
          "mapbox": {
           "style": "light"
          },
          "paper_bgcolor": "white",
          "plot_bgcolor": "#E5ECF6",
          "polar": {
           "angularaxis": {
            "gridcolor": "white",
            "linecolor": "white",
            "ticks": ""
           },
           "bgcolor": "#E5ECF6",
           "radialaxis": {
            "gridcolor": "white",
            "linecolor": "white",
            "ticks": ""
           }
          },
          "scene": {
           "xaxis": {
            "backgroundcolor": "#E5ECF6",
            "gridcolor": "white",
            "gridwidth": 2,
            "linecolor": "white",
            "showbackground": true,
            "ticks": "",
            "zerolinecolor": "white"
           },
           "yaxis": {
            "backgroundcolor": "#E5ECF6",
            "gridcolor": "white",
            "gridwidth": 2,
            "linecolor": "white",
            "showbackground": true,
            "ticks": "",
            "zerolinecolor": "white"
           },
           "zaxis": {
            "backgroundcolor": "#E5ECF6",
            "gridcolor": "white",
            "gridwidth": 2,
            "linecolor": "white",
            "showbackground": true,
            "ticks": "",
            "zerolinecolor": "white"
           }
          },
          "shapedefaults": {
           "line": {
            "color": "#2a3f5f"
           }
          },
          "ternary": {
           "aaxis": {
            "gridcolor": "white",
            "linecolor": "white",
            "ticks": ""
           },
           "baxis": {
            "gridcolor": "white",
            "linecolor": "white",
            "ticks": ""
           },
           "bgcolor": "#E5ECF6",
           "caxis": {
            "gridcolor": "white",
            "linecolor": "white",
            "ticks": ""
           }
          },
          "title": {
           "x": 0.05
          },
          "xaxis": {
           "automargin": true,
           "gridcolor": "white",
           "linecolor": "white",
           "ticks": "",
           "title": {
            "standoff": 15
           },
           "zerolinecolor": "white",
           "zerolinewidth": 2
          },
          "yaxis": {
           "automargin": true,
           "gridcolor": "white",
           "linecolor": "white",
           "ticks": "",
           "title": {
            "standoff": 15
           },
           "zerolinecolor": "white",
           "zerolinewidth": 2
          }
         }
        },
        "title": {
         "text": "Copias vendidas por año y región (millones)"
        },
        "xaxis": {
         "type": "category"
        }
       }
      }
     },
     "metadata": {},
     "output_type": "display_data"
    }
   ],
   "source": [
    "agg_regiones = {'NA_Sales': 'sum',\n",
    " 'JP_Sales': 'sum',\n",
    " 'EU_Sales': 'sum',\n",
    " 'Other_Sales': 'sum'}\n",
    "\n",
    "df_Region_Year = df_Games_per_Year.groupby(\"Year_of_Release\").agg(agg_regiones).reset_index()\n",
    "fig = go.Figure()\n",
    "\n",
    "for region in agg_regiones.keys():\n",
    "    fig.add_trace(go.Scatter(x=df_Region_Year[\"Year_of_Release\"], y=df_Region_Year[region], mode=\"lines\", name=region,))\n",
    "\n",
    "fig.update_layout(title=\"Copias vendidas por año y región (millones)\")\n",
    "fig.update_xaxes(type='category')\n",
    "fig.write_html(\"gráficas/Ventas_Año_Región.html\")\n",
    "fig.show()"
   ]
  },
  {
   "cell_type": "code",
   "execution_count": 53,
   "metadata": {},
   "outputs": [
    {
     "data": {
      "application/vnd.plotly.v1+json": {
       "config": {
        "plotlyServerURL": "https://plot.ly"
       },
       "data": [
        {
         "domain": {
          "x": [
           0,
           1
          ],
          "y": [
           0,
           1
          ]
         },
         "hovertemplate": "Genre=%{label}<br>Global_Sales=%{value}<extra></extra>",
         "labels": [
          "Action",
          "Sports",
          "Shooter",
          "Role-Playing",
          "Platform",
          "Misc",
          "Racing",
          "Fighting",
          "Simulation",
          "Adventure",
          "Puzzle",
          "Strategy",
          "Action-Adventure",
          "Music",
          "MMO",
          "Party",
          "Visual Novel"
         ],
         "legendgroup": "",
         "name": "",
         "showlegend": true,
         "type": "pie",
         "values": [
          1903.99,
          1445.3700000000001,
          1269.03,
          1009.21,
          846.12,
          804.15,
          766.9,
          468.29,
          395.22,
          252.69,
          241.08,
          174.84,
          79.33,
          9.44,
          5.04,
          0.65,
          0.48
         ]
        }
       ],
       "layout": {
        "legend": {
         "tracegroupgap": 0
        },
        "margin": {
         "t": 60
        },
        "template": {
         "data": {
          "bar": [
           {
            "error_x": {
             "color": "#2a3f5f"
            },
            "error_y": {
             "color": "#2a3f5f"
            },
            "marker": {
             "line": {
              "color": "#E5ECF6",
              "width": 0.5
             },
             "pattern": {
              "fillmode": "overlay",
              "size": 10,
              "solidity": 0.2
             }
            },
            "type": "bar"
           }
          ],
          "barpolar": [
           {
            "marker": {
             "line": {
              "color": "#E5ECF6",
              "width": 0.5
             },
             "pattern": {
              "fillmode": "overlay",
              "size": 10,
              "solidity": 0.2
             }
            },
            "type": "barpolar"
           }
          ],
          "carpet": [
           {
            "aaxis": {
             "endlinecolor": "#2a3f5f",
             "gridcolor": "white",
             "linecolor": "white",
             "minorgridcolor": "white",
             "startlinecolor": "#2a3f5f"
            },
            "baxis": {
             "endlinecolor": "#2a3f5f",
             "gridcolor": "white",
             "linecolor": "white",
             "minorgridcolor": "white",
             "startlinecolor": "#2a3f5f"
            },
            "type": "carpet"
           }
          ],
          "choropleth": [
           {
            "colorbar": {
             "outlinewidth": 0,
             "ticks": ""
            },
            "type": "choropleth"
           }
          ],
          "contour": [
           {
            "colorbar": {
             "outlinewidth": 0,
             "ticks": ""
            },
            "colorscale": [
             [
              0,
              "#0d0887"
             ],
             [
              0.1111111111111111,
              "#46039f"
             ],
             [
              0.2222222222222222,
              "#7201a8"
             ],
             [
              0.3333333333333333,
              "#9c179e"
             ],
             [
              0.4444444444444444,
              "#bd3786"
             ],
             [
              0.5555555555555556,
              "#d8576b"
             ],
             [
              0.6666666666666666,
              "#ed7953"
             ],
             [
              0.7777777777777778,
              "#fb9f3a"
             ],
             [
              0.8888888888888888,
              "#fdca26"
             ],
             [
              1,
              "#f0f921"
             ]
            ],
            "type": "contour"
           }
          ],
          "contourcarpet": [
           {
            "colorbar": {
             "outlinewidth": 0,
             "ticks": ""
            },
            "type": "contourcarpet"
           }
          ],
          "heatmap": [
           {
            "colorbar": {
             "outlinewidth": 0,
             "ticks": ""
            },
            "colorscale": [
             [
              0,
              "#0d0887"
             ],
             [
              0.1111111111111111,
              "#46039f"
             ],
             [
              0.2222222222222222,
              "#7201a8"
             ],
             [
              0.3333333333333333,
              "#9c179e"
             ],
             [
              0.4444444444444444,
              "#bd3786"
             ],
             [
              0.5555555555555556,
              "#d8576b"
             ],
             [
              0.6666666666666666,
              "#ed7953"
             ],
             [
              0.7777777777777778,
              "#fb9f3a"
             ],
             [
              0.8888888888888888,
              "#fdca26"
             ],
             [
              1,
              "#f0f921"
             ]
            ],
            "type": "heatmap"
           }
          ],
          "heatmapgl": [
           {
            "colorbar": {
             "outlinewidth": 0,
             "ticks": ""
            },
            "colorscale": [
             [
              0,
              "#0d0887"
             ],
             [
              0.1111111111111111,
              "#46039f"
             ],
             [
              0.2222222222222222,
              "#7201a8"
             ],
             [
              0.3333333333333333,
              "#9c179e"
             ],
             [
              0.4444444444444444,
              "#bd3786"
             ],
             [
              0.5555555555555556,
              "#d8576b"
             ],
             [
              0.6666666666666666,
              "#ed7953"
             ],
             [
              0.7777777777777778,
              "#fb9f3a"
             ],
             [
              0.8888888888888888,
              "#fdca26"
             ],
             [
              1,
              "#f0f921"
             ]
            ],
            "type": "heatmapgl"
           }
          ],
          "histogram": [
           {
            "marker": {
             "pattern": {
              "fillmode": "overlay",
              "size": 10,
              "solidity": 0.2
             }
            },
            "type": "histogram"
           }
          ],
          "histogram2d": [
           {
            "colorbar": {
             "outlinewidth": 0,
             "ticks": ""
            },
            "colorscale": [
             [
              0,
              "#0d0887"
             ],
             [
              0.1111111111111111,
              "#46039f"
             ],
             [
              0.2222222222222222,
              "#7201a8"
             ],
             [
              0.3333333333333333,
              "#9c179e"
             ],
             [
              0.4444444444444444,
              "#bd3786"
             ],
             [
              0.5555555555555556,
              "#d8576b"
             ],
             [
              0.6666666666666666,
              "#ed7953"
             ],
             [
              0.7777777777777778,
              "#fb9f3a"
             ],
             [
              0.8888888888888888,
              "#fdca26"
             ],
             [
              1,
              "#f0f921"
             ]
            ],
            "type": "histogram2d"
           }
          ],
          "histogram2dcontour": [
           {
            "colorbar": {
             "outlinewidth": 0,
             "ticks": ""
            },
            "colorscale": [
             [
              0,
              "#0d0887"
             ],
             [
              0.1111111111111111,
              "#46039f"
             ],
             [
              0.2222222222222222,
              "#7201a8"
             ],
             [
              0.3333333333333333,
              "#9c179e"
             ],
             [
              0.4444444444444444,
              "#bd3786"
             ],
             [
              0.5555555555555556,
              "#d8576b"
             ],
             [
              0.6666666666666666,
              "#ed7953"
             ],
             [
              0.7777777777777778,
              "#fb9f3a"
             ],
             [
              0.8888888888888888,
              "#fdca26"
             ],
             [
              1,
              "#f0f921"
             ]
            ],
            "type": "histogram2dcontour"
           }
          ],
          "mesh3d": [
           {
            "colorbar": {
             "outlinewidth": 0,
             "ticks": ""
            },
            "type": "mesh3d"
           }
          ],
          "parcoords": [
           {
            "line": {
             "colorbar": {
              "outlinewidth": 0,
              "ticks": ""
             }
            },
            "type": "parcoords"
           }
          ],
          "pie": [
           {
            "automargin": true,
            "type": "pie"
           }
          ],
          "scatter": [
           {
            "fillpattern": {
             "fillmode": "overlay",
             "size": 10,
             "solidity": 0.2
            },
            "type": "scatter"
           }
          ],
          "scatter3d": [
           {
            "line": {
             "colorbar": {
              "outlinewidth": 0,
              "ticks": ""
             }
            },
            "marker": {
             "colorbar": {
              "outlinewidth": 0,
              "ticks": ""
             }
            },
            "type": "scatter3d"
           }
          ],
          "scattercarpet": [
           {
            "marker": {
             "colorbar": {
              "outlinewidth": 0,
              "ticks": ""
             }
            },
            "type": "scattercarpet"
           }
          ],
          "scattergeo": [
           {
            "marker": {
             "colorbar": {
              "outlinewidth": 0,
              "ticks": ""
             }
            },
            "type": "scattergeo"
           }
          ],
          "scattergl": [
           {
            "marker": {
             "colorbar": {
              "outlinewidth": 0,
              "ticks": ""
             }
            },
            "type": "scattergl"
           }
          ],
          "scattermapbox": [
           {
            "marker": {
             "colorbar": {
              "outlinewidth": 0,
              "ticks": ""
             }
            },
            "type": "scattermapbox"
           }
          ],
          "scatterpolar": [
           {
            "marker": {
             "colorbar": {
              "outlinewidth": 0,
              "ticks": ""
             }
            },
            "type": "scatterpolar"
           }
          ],
          "scatterpolargl": [
           {
            "marker": {
             "colorbar": {
              "outlinewidth": 0,
              "ticks": ""
             }
            },
            "type": "scatterpolargl"
           }
          ],
          "scatterternary": [
           {
            "marker": {
             "colorbar": {
              "outlinewidth": 0,
              "ticks": ""
             }
            },
            "type": "scatterternary"
           }
          ],
          "surface": [
           {
            "colorbar": {
             "outlinewidth": 0,
             "ticks": ""
            },
            "colorscale": [
             [
              0,
              "#0d0887"
             ],
             [
              0.1111111111111111,
              "#46039f"
             ],
             [
              0.2222222222222222,
              "#7201a8"
             ],
             [
              0.3333333333333333,
              "#9c179e"
             ],
             [
              0.4444444444444444,
              "#bd3786"
             ],
             [
              0.5555555555555556,
              "#d8576b"
             ],
             [
              0.6666666666666666,
              "#ed7953"
             ],
             [
              0.7777777777777778,
              "#fb9f3a"
             ],
             [
              0.8888888888888888,
              "#fdca26"
             ],
             [
              1,
              "#f0f921"
             ]
            ],
            "type": "surface"
           }
          ],
          "table": [
           {
            "cells": {
             "fill": {
              "color": "#EBF0F8"
             },
             "line": {
              "color": "white"
             }
            },
            "header": {
             "fill": {
              "color": "#C8D4E3"
             },
             "line": {
              "color": "white"
             }
            },
            "type": "table"
           }
          ]
         },
         "layout": {
          "annotationdefaults": {
           "arrowcolor": "#2a3f5f",
           "arrowhead": 0,
           "arrowwidth": 1
          },
          "autotypenumbers": "strict",
          "coloraxis": {
           "colorbar": {
            "outlinewidth": 0,
            "ticks": ""
           }
          },
          "colorscale": {
           "diverging": [
            [
             0,
             "#8e0152"
            ],
            [
             0.1,
             "#c51b7d"
            ],
            [
             0.2,
             "#de77ae"
            ],
            [
             0.3,
             "#f1b6da"
            ],
            [
             0.4,
             "#fde0ef"
            ],
            [
             0.5,
             "#f7f7f7"
            ],
            [
             0.6,
             "#e6f5d0"
            ],
            [
             0.7,
             "#b8e186"
            ],
            [
             0.8,
             "#7fbc41"
            ],
            [
             0.9,
             "#4d9221"
            ],
            [
             1,
             "#276419"
            ]
           ],
           "sequential": [
            [
             0,
             "#0d0887"
            ],
            [
             0.1111111111111111,
             "#46039f"
            ],
            [
             0.2222222222222222,
             "#7201a8"
            ],
            [
             0.3333333333333333,
             "#9c179e"
            ],
            [
             0.4444444444444444,
             "#bd3786"
            ],
            [
             0.5555555555555556,
             "#d8576b"
            ],
            [
             0.6666666666666666,
             "#ed7953"
            ],
            [
             0.7777777777777778,
             "#fb9f3a"
            ],
            [
             0.8888888888888888,
             "#fdca26"
            ],
            [
             1,
             "#f0f921"
            ]
           ],
           "sequentialminus": [
            [
             0,
             "#0d0887"
            ],
            [
             0.1111111111111111,
             "#46039f"
            ],
            [
             0.2222222222222222,
             "#7201a8"
            ],
            [
             0.3333333333333333,
             "#9c179e"
            ],
            [
             0.4444444444444444,
             "#bd3786"
            ],
            [
             0.5555555555555556,
             "#d8576b"
            ],
            [
             0.6666666666666666,
             "#ed7953"
            ],
            [
             0.7777777777777778,
             "#fb9f3a"
            ],
            [
             0.8888888888888888,
             "#fdca26"
            ],
            [
             1,
             "#f0f921"
            ]
           ]
          },
          "colorway": [
           "#636efa",
           "#EF553B",
           "#00cc96",
           "#ab63fa",
           "#FFA15A",
           "#19d3f3",
           "#FF6692",
           "#B6E880",
           "#FF97FF",
           "#FECB52"
          ],
          "font": {
           "color": "#2a3f5f"
          },
          "geo": {
           "bgcolor": "white",
           "lakecolor": "white",
           "landcolor": "#E5ECF6",
           "showlakes": true,
           "showland": true,
           "subunitcolor": "white"
          },
          "hoverlabel": {
           "align": "left"
          },
          "hovermode": "closest",
          "mapbox": {
           "style": "light"
          },
          "paper_bgcolor": "white",
          "plot_bgcolor": "#E5ECF6",
          "polar": {
           "angularaxis": {
            "gridcolor": "white",
            "linecolor": "white",
            "ticks": ""
           },
           "bgcolor": "#E5ECF6",
           "radialaxis": {
            "gridcolor": "white",
            "linecolor": "white",
            "ticks": ""
           }
          },
          "scene": {
           "xaxis": {
            "backgroundcolor": "#E5ECF6",
            "gridcolor": "white",
            "gridwidth": 2,
            "linecolor": "white",
            "showbackground": true,
            "ticks": "",
            "zerolinecolor": "white"
           },
           "yaxis": {
            "backgroundcolor": "#E5ECF6",
            "gridcolor": "white",
            "gridwidth": 2,
            "linecolor": "white",
            "showbackground": true,
            "ticks": "",
            "zerolinecolor": "white"
           },
           "zaxis": {
            "backgroundcolor": "#E5ECF6",
            "gridcolor": "white",
            "gridwidth": 2,
            "linecolor": "white",
            "showbackground": true,
            "ticks": "",
            "zerolinecolor": "white"
           }
          },
          "shapedefaults": {
           "line": {
            "color": "#2a3f5f"
           }
          },
          "ternary": {
           "aaxis": {
            "gridcolor": "white",
            "linecolor": "white",
            "ticks": ""
           },
           "baxis": {
            "gridcolor": "white",
            "linecolor": "white",
            "ticks": ""
           },
           "bgcolor": "#E5ECF6",
           "caxis": {
            "gridcolor": "white",
            "linecolor": "white",
            "ticks": ""
           }
          },
          "title": {
           "x": 0.05
          },
          "xaxis": {
           "automargin": true,
           "gridcolor": "white",
           "linecolor": "white",
           "ticks": "",
           "title": {
            "standoff": 15
           },
           "zerolinecolor": "white",
           "zerolinewidth": 2
          },
          "yaxis": {
           "automargin": true,
           "gridcolor": "white",
           "linecolor": "white",
           "ticks": "",
           "title": {
            "standoff": 15
           },
           "zerolinecolor": "white",
           "zerolinewidth": 2
          }
         }
        },
        "title": {
         "text": "Géneros con más copias vendidas"
        }
       }
      }
     },
     "metadata": {},
     "output_type": "display_data"
    }
   ],
   "source": [
    "df_Genres_Sales = df_Games_per_Year.groupby(\"Genre\").agg({\"Global_Sales\":\"sum\"}).reset_index()\n",
    "df_Genres_Sales.sort_values(\"Global_Sales\", ascending=False, inplace=True)\n",
    "\n",
    "fig = px.pie(df_Genres_Sales, values=\"Global_Sales\", names=\"Genre\")\n",
    "fig.update_layout(title=\"Géneros con más copias vendidas\")\n",
    "fig.write_html(\"gráficas/Géneros_Ventas.html\")\n",
    "fig.show()"
   ]
  },
  {
   "cell_type": "code",
   "execution_count": 54,
   "metadata": {},
   "outputs": [
    {
     "data": {
      "application/vnd.plotly.v1+json": {
       "config": {
        "plotlyServerURL": "https://plot.ly"
       },
       "data": [
        {
         "domain": {
          "x": [
           0,
           1
          ],
          "y": [
           0,
           1
          ]
         },
         "hovertemplate": "Genre=%{label}<br>Total_Count=%{value}<extra></extra>",
         "labels": [
          "Action",
          "Sports",
          "Misc",
          "Role-Playing",
          "Shooter",
          "Adventure",
          "Racing",
          "Platform",
          "Simulation",
          "Fighting",
          "Strategy",
          "Puzzle",
          "Action-Adventure",
          "Music",
          "MMO",
          "Visual Novel",
          "Party"
         ],
         "legendgroup": "",
         "name": "",
         "showlegend": true,
         "type": "pie",
         "values": [
          3615,
          2427,
          1778,
          1620,
          1437,
          1391,
          1316,
          928,
          893,
          885,
          710,
          584,
          66,
          31,
          10,
          10,
          2
         ]
        }
       ],
       "layout": {
        "legend": {
         "tracegroupgap": 0
        },
        "margin": {
         "t": 60
        },
        "template": {
         "data": {
          "bar": [
           {
            "error_x": {
             "color": "#2a3f5f"
            },
            "error_y": {
             "color": "#2a3f5f"
            },
            "marker": {
             "line": {
              "color": "#E5ECF6",
              "width": 0.5
             },
             "pattern": {
              "fillmode": "overlay",
              "size": 10,
              "solidity": 0.2
             }
            },
            "type": "bar"
           }
          ],
          "barpolar": [
           {
            "marker": {
             "line": {
              "color": "#E5ECF6",
              "width": 0.5
             },
             "pattern": {
              "fillmode": "overlay",
              "size": 10,
              "solidity": 0.2
             }
            },
            "type": "barpolar"
           }
          ],
          "carpet": [
           {
            "aaxis": {
             "endlinecolor": "#2a3f5f",
             "gridcolor": "white",
             "linecolor": "white",
             "minorgridcolor": "white",
             "startlinecolor": "#2a3f5f"
            },
            "baxis": {
             "endlinecolor": "#2a3f5f",
             "gridcolor": "white",
             "linecolor": "white",
             "minorgridcolor": "white",
             "startlinecolor": "#2a3f5f"
            },
            "type": "carpet"
           }
          ],
          "choropleth": [
           {
            "colorbar": {
             "outlinewidth": 0,
             "ticks": ""
            },
            "type": "choropleth"
           }
          ],
          "contour": [
           {
            "colorbar": {
             "outlinewidth": 0,
             "ticks": ""
            },
            "colorscale": [
             [
              0,
              "#0d0887"
             ],
             [
              0.1111111111111111,
              "#46039f"
             ],
             [
              0.2222222222222222,
              "#7201a8"
             ],
             [
              0.3333333333333333,
              "#9c179e"
             ],
             [
              0.4444444444444444,
              "#bd3786"
             ],
             [
              0.5555555555555556,
              "#d8576b"
             ],
             [
              0.6666666666666666,
              "#ed7953"
             ],
             [
              0.7777777777777778,
              "#fb9f3a"
             ],
             [
              0.8888888888888888,
              "#fdca26"
             ],
             [
              1,
              "#f0f921"
             ]
            ],
            "type": "contour"
           }
          ],
          "contourcarpet": [
           {
            "colorbar": {
             "outlinewidth": 0,
             "ticks": ""
            },
            "type": "contourcarpet"
           }
          ],
          "heatmap": [
           {
            "colorbar": {
             "outlinewidth": 0,
             "ticks": ""
            },
            "colorscale": [
             [
              0,
              "#0d0887"
             ],
             [
              0.1111111111111111,
              "#46039f"
             ],
             [
              0.2222222222222222,
              "#7201a8"
             ],
             [
              0.3333333333333333,
              "#9c179e"
             ],
             [
              0.4444444444444444,
              "#bd3786"
             ],
             [
              0.5555555555555556,
              "#d8576b"
             ],
             [
              0.6666666666666666,
              "#ed7953"
             ],
             [
              0.7777777777777778,
              "#fb9f3a"
             ],
             [
              0.8888888888888888,
              "#fdca26"
             ],
             [
              1,
              "#f0f921"
             ]
            ],
            "type": "heatmap"
           }
          ],
          "heatmapgl": [
           {
            "colorbar": {
             "outlinewidth": 0,
             "ticks": ""
            },
            "colorscale": [
             [
              0,
              "#0d0887"
             ],
             [
              0.1111111111111111,
              "#46039f"
             ],
             [
              0.2222222222222222,
              "#7201a8"
             ],
             [
              0.3333333333333333,
              "#9c179e"
             ],
             [
              0.4444444444444444,
              "#bd3786"
             ],
             [
              0.5555555555555556,
              "#d8576b"
             ],
             [
              0.6666666666666666,
              "#ed7953"
             ],
             [
              0.7777777777777778,
              "#fb9f3a"
             ],
             [
              0.8888888888888888,
              "#fdca26"
             ],
             [
              1,
              "#f0f921"
             ]
            ],
            "type": "heatmapgl"
           }
          ],
          "histogram": [
           {
            "marker": {
             "pattern": {
              "fillmode": "overlay",
              "size": 10,
              "solidity": 0.2
             }
            },
            "type": "histogram"
           }
          ],
          "histogram2d": [
           {
            "colorbar": {
             "outlinewidth": 0,
             "ticks": ""
            },
            "colorscale": [
             [
              0,
              "#0d0887"
             ],
             [
              0.1111111111111111,
              "#46039f"
             ],
             [
              0.2222222222222222,
              "#7201a8"
             ],
             [
              0.3333333333333333,
              "#9c179e"
             ],
             [
              0.4444444444444444,
              "#bd3786"
             ],
             [
              0.5555555555555556,
              "#d8576b"
             ],
             [
              0.6666666666666666,
              "#ed7953"
             ],
             [
              0.7777777777777778,
              "#fb9f3a"
             ],
             [
              0.8888888888888888,
              "#fdca26"
             ],
             [
              1,
              "#f0f921"
             ]
            ],
            "type": "histogram2d"
           }
          ],
          "histogram2dcontour": [
           {
            "colorbar": {
             "outlinewidth": 0,
             "ticks": ""
            },
            "colorscale": [
             [
              0,
              "#0d0887"
             ],
             [
              0.1111111111111111,
              "#46039f"
             ],
             [
              0.2222222222222222,
              "#7201a8"
             ],
             [
              0.3333333333333333,
              "#9c179e"
             ],
             [
              0.4444444444444444,
              "#bd3786"
             ],
             [
              0.5555555555555556,
              "#d8576b"
             ],
             [
              0.6666666666666666,
              "#ed7953"
             ],
             [
              0.7777777777777778,
              "#fb9f3a"
             ],
             [
              0.8888888888888888,
              "#fdca26"
             ],
             [
              1,
              "#f0f921"
             ]
            ],
            "type": "histogram2dcontour"
           }
          ],
          "mesh3d": [
           {
            "colorbar": {
             "outlinewidth": 0,
             "ticks": ""
            },
            "type": "mesh3d"
           }
          ],
          "parcoords": [
           {
            "line": {
             "colorbar": {
              "outlinewidth": 0,
              "ticks": ""
             }
            },
            "type": "parcoords"
           }
          ],
          "pie": [
           {
            "automargin": true,
            "type": "pie"
           }
          ],
          "scatter": [
           {
            "fillpattern": {
             "fillmode": "overlay",
             "size": 10,
             "solidity": 0.2
            },
            "type": "scatter"
           }
          ],
          "scatter3d": [
           {
            "line": {
             "colorbar": {
              "outlinewidth": 0,
              "ticks": ""
             }
            },
            "marker": {
             "colorbar": {
              "outlinewidth": 0,
              "ticks": ""
             }
            },
            "type": "scatter3d"
           }
          ],
          "scattercarpet": [
           {
            "marker": {
             "colorbar": {
              "outlinewidth": 0,
              "ticks": ""
             }
            },
            "type": "scattercarpet"
           }
          ],
          "scattergeo": [
           {
            "marker": {
             "colorbar": {
              "outlinewidth": 0,
              "ticks": ""
             }
            },
            "type": "scattergeo"
           }
          ],
          "scattergl": [
           {
            "marker": {
             "colorbar": {
              "outlinewidth": 0,
              "ticks": ""
             }
            },
            "type": "scattergl"
           }
          ],
          "scattermapbox": [
           {
            "marker": {
             "colorbar": {
              "outlinewidth": 0,
              "ticks": ""
             }
            },
            "type": "scattermapbox"
           }
          ],
          "scatterpolar": [
           {
            "marker": {
             "colorbar": {
              "outlinewidth": 0,
              "ticks": ""
             }
            },
            "type": "scatterpolar"
           }
          ],
          "scatterpolargl": [
           {
            "marker": {
             "colorbar": {
              "outlinewidth": 0,
              "ticks": ""
             }
            },
            "type": "scatterpolargl"
           }
          ],
          "scatterternary": [
           {
            "marker": {
             "colorbar": {
              "outlinewidth": 0,
              "ticks": ""
             }
            },
            "type": "scatterternary"
           }
          ],
          "surface": [
           {
            "colorbar": {
             "outlinewidth": 0,
             "ticks": ""
            },
            "colorscale": [
             [
              0,
              "#0d0887"
             ],
             [
              0.1111111111111111,
              "#46039f"
             ],
             [
              0.2222222222222222,
              "#7201a8"
             ],
             [
              0.3333333333333333,
              "#9c179e"
             ],
             [
              0.4444444444444444,
              "#bd3786"
             ],
             [
              0.5555555555555556,
              "#d8576b"
             ],
             [
              0.6666666666666666,
              "#ed7953"
             ],
             [
              0.7777777777777778,
              "#fb9f3a"
             ],
             [
              0.8888888888888888,
              "#fdca26"
             ],
             [
              1,
              "#f0f921"
             ]
            ],
            "type": "surface"
           }
          ],
          "table": [
           {
            "cells": {
             "fill": {
              "color": "#EBF0F8"
             },
             "line": {
              "color": "white"
             }
            },
            "header": {
             "fill": {
              "color": "#C8D4E3"
             },
             "line": {
              "color": "white"
             }
            },
            "type": "table"
           }
          ]
         },
         "layout": {
          "annotationdefaults": {
           "arrowcolor": "#2a3f5f",
           "arrowhead": 0,
           "arrowwidth": 1
          },
          "autotypenumbers": "strict",
          "coloraxis": {
           "colorbar": {
            "outlinewidth": 0,
            "ticks": ""
           }
          },
          "colorscale": {
           "diverging": [
            [
             0,
             "#8e0152"
            ],
            [
             0.1,
             "#c51b7d"
            ],
            [
             0.2,
             "#de77ae"
            ],
            [
             0.3,
             "#f1b6da"
            ],
            [
             0.4,
             "#fde0ef"
            ],
            [
             0.5,
             "#f7f7f7"
            ],
            [
             0.6,
             "#e6f5d0"
            ],
            [
             0.7,
             "#b8e186"
            ],
            [
             0.8,
             "#7fbc41"
            ],
            [
             0.9,
             "#4d9221"
            ],
            [
             1,
             "#276419"
            ]
           ],
           "sequential": [
            [
             0,
             "#0d0887"
            ],
            [
             0.1111111111111111,
             "#46039f"
            ],
            [
             0.2222222222222222,
             "#7201a8"
            ],
            [
             0.3333333333333333,
             "#9c179e"
            ],
            [
             0.4444444444444444,
             "#bd3786"
            ],
            [
             0.5555555555555556,
             "#d8576b"
            ],
            [
             0.6666666666666666,
             "#ed7953"
            ],
            [
             0.7777777777777778,
             "#fb9f3a"
            ],
            [
             0.8888888888888888,
             "#fdca26"
            ],
            [
             1,
             "#f0f921"
            ]
           ],
           "sequentialminus": [
            [
             0,
             "#0d0887"
            ],
            [
             0.1111111111111111,
             "#46039f"
            ],
            [
             0.2222222222222222,
             "#7201a8"
            ],
            [
             0.3333333333333333,
             "#9c179e"
            ],
            [
             0.4444444444444444,
             "#bd3786"
            ],
            [
             0.5555555555555556,
             "#d8576b"
            ],
            [
             0.6666666666666666,
             "#ed7953"
            ],
            [
             0.7777777777777778,
             "#fb9f3a"
            ],
            [
             0.8888888888888888,
             "#fdca26"
            ],
            [
             1,
             "#f0f921"
            ]
           ]
          },
          "colorway": [
           "#636efa",
           "#EF553B",
           "#00cc96",
           "#ab63fa",
           "#FFA15A",
           "#19d3f3",
           "#FF6692",
           "#B6E880",
           "#FF97FF",
           "#FECB52"
          ],
          "font": {
           "color": "#2a3f5f"
          },
          "geo": {
           "bgcolor": "white",
           "lakecolor": "white",
           "landcolor": "#E5ECF6",
           "showlakes": true,
           "showland": true,
           "subunitcolor": "white"
          },
          "hoverlabel": {
           "align": "left"
          },
          "hovermode": "closest",
          "mapbox": {
           "style": "light"
          },
          "paper_bgcolor": "white",
          "plot_bgcolor": "#E5ECF6",
          "polar": {
           "angularaxis": {
            "gridcolor": "white",
            "linecolor": "white",
            "ticks": ""
           },
           "bgcolor": "#E5ECF6",
           "radialaxis": {
            "gridcolor": "white",
            "linecolor": "white",
            "ticks": ""
           }
          },
          "scene": {
           "xaxis": {
            "backgroundcolor": "#E5ECF6",
            "gridcolor": "white",
            "gridwidth": 2,
            "linecolor": "white",
            "showbackground": true,
            "ticks": "",
            "zerolinecolor": "white"
           },
           "yaxis": {
            "backgroundcolor": "#E5ECF6",
            "gridcolor": "white",
            "gridwidth": 2,
            "linecolor": "white",
            "showbackground": true,
            "ticks": "",
            "zerolinecolor": "white"
           },
           "zaxis": {
            "backgroundcolor": "#E5ECF6",
            "gridcolor": "white",
            "gridwidth": 2,
            "linecolor": "white",
            "showbackground": true,
            "ticks": "",
            "zerolinecolor": "white"
           }
          },
          "shapedefaults": {
           "line": {
            "color": "#2a3f5f"
           }
          },
          "ternary": {
           "aaxis": {
            "gridcolor": "white",
            "linecolor": "white",
            "ticks": ""
           },
           "baxis": {
            "gridcolor": "white",
            "linecolor": "white",
            "ticks": ""
           },
           "bgcolor": "#E5ECF6",
           "caxis": {
            "gridcolor": "white",
            "linecolor": "white",
            "ticks": ""
           }
          },
          "title": {
           "x": 0.05
          },
          "xaxis": {
           "automargin": true,
           "gridcolor": "white",
           "linecolor": "white",
           "ticks": "",
           "title": {
            "standoff": 15
           },
           "zerolinecolor": "white",
           "zerolinewidth": 2
          },
          "yaxis": {
           "automargin": true,
           "gridcolor": "white",
           "linecolor": "white",
           "ticks": "",
           "title": {
            "standoff": 15
           },
           "zerolinecolor": "white",
           "zerolinewidth": 2
          }
         }
        },
        "title": {
         "text": "Lanzamientos por género"
        }
       }
      }
     },
     "metadata": {},
     "output_type": "display_data"
    }
   ],
   "source": [
    "df_Genres_Count = df_Games_per_Year.groupby(\"Genre\").agg({\"Name\":\"count\"}).reset_index()\n",
    "df_Genres_Count.columns = [\"Genre\", \"Total_Count\"]\n",
    "df_Genres_Count.sort_values(\"Total_Count\", ascending=False, inplace=True)\n",
    "\n",
    "fig = px.pie(df_Genres_Count, values=\"Total_Count\", names=\"Genre\")\n",
    "fig.update_layout(title=\"Lanzamientos por género\")\n",
    "fig.write_html(\"gráficas/Géneros_Lanzamientos.html\")\n",
    "fig.show()"
   ]
  },
  {
   "cell_type": "code",
   "execution_count": 55,
   "metadata": {},
   "outputs": [
    {
     "data": {
      "application/vnd.plotly.v1+json": {
       "config": {
        "plotlyServerURL": "https://plot.ly"
       },
       "data": [
        {
         "coloraxis": "coloraxis",
         "hovertemplate": "Platform: %{x}<br>Genre: %{y}<br>color: %{z}<extra></extra>",
         "name": "0",
         "type": "heatmap",
         "x": [
          "2600",
          "3DO",
          "3DS",
          "DC",
          "DS",
          "GB",
          "GBA",
          "GC",
          "GEN",
          "GG",
          "N64",
          "NES",
          "NG",
          "PC",
          "PCFX",
          "PS",
          "PS2",
          "PS3",
          "PS4",
          "PSP",
          "PSV",
          "SAT",
          "SCD",
          "SNES",
          "TG16",
          "WS",
          "Wii",
          "WiiU",
          "X360",
          "XB",
          "XOne"
         ],
         "xaxis": "x",
         "y": [
          "Action",
          "Action-Adventure",
          "Adventure",
          "Fighting",
          "MMO",
          "Misc",
          "Music",
          "Party",
          "Platform",
          "Puzzle",
          "Racing",
          "Role-Playing",
          "Shooter",
          "Simulation",
          "Sports",
          "Strategy",
          "Visual Novel"
         ],
         "yaxis": "y",
         "z": [
          [
           26.39,
           0,
           57.93,
           1.26,
           111.41,
           7.92,
           54.26,
           37.25,
           2.74,
           0,
           29.439999999999998,
           28.75,
           0,
           30.88,
           0,
           125.74,
           272.43,
           297.83,
           232.21,
           62.11,
           17.07,
           0.65,
           0,
           10.08,
           0,
           0,
           106.71,
           19.05,
           236.73,
           47.46,
           87.69
          ],
          [
           0,
           0,
           0,
           0,
           0,
           0,
           0,
           0,
           0,
           0,
           0,
           0,
           0,
           0,
           0,
           0,
           0,
           0,
           61.86,
           0,
           0,
           0,
           0,
           0,
           0,
           0,
           0,
           0,
           0,
           0,
           17.47
          ],
          [
           0.4,
           0.06,
           4.82,
           2.5,
           45.76,
           17.16,
           12.1,
           5.93,
           0.19,
           0,
           0.45,
           4.38,
           0,
           10.040000000000001,
           0,
           20.77,
           21.16,
           22.25,
           21.29,
           10.68,
           3.82,
           4.16,
           0,
           1.5,
           0.14,
           0,
           17.740000000000002,
           0.16,
           14.94,
           3.06,
           7.2299999999999995
          ],
          [
           0.77,
           0,
           10.57,
           1.83,
           7.11,
           0,
           4.21,
           18.43,
           5.9,
           0,
           22.08,
           6.54,
           1.42,
           0.16,
           0,
           72.68,
           89.19,
           51.08,
           28.01,
           21.73,
           2.63,
           8.52,
           0,
           26.95,
           0,
           0,
           23.33,
           6.27,
           37.339999999999996,
           12.83,
           8.71
          ],
          [
           0,
           0,
           0,
           0,
           0,
           0,
           0,
           0,
           0,
           0,
           0,
           0,
           0,
           0,
           0,
           0,
           0,
           0,
           3.52,
           0,
           0,
           0,
           0,
           0,
           0,
           0,
           0,
           0,
           0,
           0,
           1.52
          ],
          [
           3.58,
           0,
           10.98,
           0,
           135.63,
           13.35,
           28.5,
           16.45,
           0.03,
           0,
           11.19,
           3.59,
           0,
           8.42,
           0,
           44.9,
           98.69,
           44.95,
           20.66,
           13.65,
           4.43,
           1.2,
           0.1,
           5.0200000000000005,
           0,
           0,
           212.82,
           12.47,
           88.92,
           8.67,
           15.95
          ],
          [
           0,
           0,
           0,
           0,
           0,
           0,
           0,
           0,
           0,
           0,
           0,
           0,
           0,
           0,
           0,
           0,
           0,
           0,
           5.03,
           0,
           0,
           0,
           0,
           0,
           0,
           0,
           0,
           0,
           0,
           0,
           4.41
          ],
          [
           0,
           0,
           0,
           0,
           0,
           0,
           0,
           0,
           0,
           0,
           0,
           0,
           0,
           0,
           0,
           0,
           0,
           0,
           0.65,
           0,
           0,
           0,
           0,
           0,
           0,
           0,
           0,
           0,
           0,
           0,
           0
          ],
          [
           13.27,
           0,
           32.52,
           2.54,
           75.89,
           53.88,
           78.08,
           28.66,
           15.45,
           0.04,
           36.13,
           95.78,
           0,
           0.49,
           0,
           64.21,
           72.11,
           29.23,
           25.39,
           17.09,
           2.56,
           0.76,
           1.5,
           65.65,
           0,
           0,
           88.86,
           21.54,
           11.32,
           9.66,
           3.5100000000000002
          ],
          [
           13.65,
           0.02,
           5.55,
           0,
           82.34,
           47.47,
           12.09,
           4.57,
           0,
           0,
           3.41,
           21,
           0,
           0.9199999999999999,
           0,
           12.08,
           5.9,
           0.44,
           0.55,
           5.5200000000000005,
           0.18,
           1,
           0,
           6.38,
           0,
           0,
           15.33,
           1.32,
           0.71,
           0.42000000000000004,
           0.23
          ],
          [
           2.3200000000000003,
           0,
           14.860000000000001,
           2.65,
           38.050000000000004,
           4.55,
           18.8,
           21.79,
           0.26,
           0,
           40.089999999999996,
           9.780000000000001,
           0,
           3.7399999999999998,
           0,
           102.89,
           154.21,
           71.31,
           37.45,
           34.29,
           2.5300000000000002,
           2.4,
           0.07,
           13.49,
           0,
           0,
           60.220000000000006,
           7.87,
           64.15,
           31.42,
           27.71
          ],
          [
           0,
           0,
           84.26,
           0.68,
           124.16,
           88.24000000000001,
           64.21,
           13.03,
           0.27,
           0,
           3.03,
           18.78,
           0,
           47.3,
           0.03,
           78.3,
           91.55,
           73.61,
           91.42,
           48.94,
           12.13,
           3.76,
           0.06,
           36.43,
           0,
           1.22,
           13.700000000000001,
           2.8899999999999997,
           71.31,
           13.51,
           26.39
          ],
          [
           22.97,
           0,
           1.22,
           0.33,
           7.92,
           1.2,
           3.6,
           13.629999999999999,
           0.13,
           0,
           19.27,
           35.62,
           0,
           44.04,
           0,
           39.31,
           108.28,
           192.22,
           223.55,
           19.66,
           3.88,
           3.98,
           0,
           6.07,
           0.02,
           0,
           25.77,
           5.97,
           275.67,
           62.12,
           152.6
          ],
          [
           0.45,
           0.02,
           26.94,
           0.52,
           129.91,
           3.55,
           5.91,
           8.59,
           0,
           0,
           10.19,
           0,
           0,
           52.43,
           0,
           25.330000000000002,
           42.26,
           10.32,
           5.71,
           6.23,
           0.08,
           1.1300000000000001,
           0,
           5.63,
           0,
           0,
           35.69,
           0.2,
           13.84,
           7.11,
           3.1799999999999997
          ],
          [
           2.77,
           0,
           6.17,
           3.66,
           31.29,
           9.05,
           16.41,
           24.49,
           3.2,
           0,
           32.6,
           26.85,
           0.02,
           12.01,
           0,
           119.51,
           262.64,
           133.25,
           148.29,
           39.72,
           4.16,
           2.79,
           0,
           17.87,
           0,
           0,
           286.54,
           3.19,
           136.78,
           53.05,
           69.06
          ],
          [
           0,
           0,
           2.1,
           0,
           14.26,
           8.05,
           7.45,
           4.32,
           0.19,
           0,
           10.330000000000002,
           0,
           0,
           45.78,
           0,
           21.69,
           15.04,
           4.66,
           1.82,
           10.17,
           0.35,
           3.24,
           0.14,
           4.9799999999999995,
           0,
           0.2,
           5.03,
           1.2300000000000002,
           9.68,
           2.7800000000000002,
           1.35
          ],
          [
           0,
           0,
           0,
           0,
           0,
           0,
           0,
           0,
           0,
           0,
           0,
           0,
           0,
           0,
           0,
           0,
           0,
           0,
           0.45999999999999996,
           0,
           0,
           0,
           0,
           0,
           0,
           0,
           0,
           0,
           0,
           0,
           0.02
          ]
         ]
        }
       ],
       "layout": {
        "coloraxis": {
         "colorscale": [
          [
           0,
           "#0d0887"
          ],
          [
           0.1111111111111111,
           "#46039f"
          ],
          [
           0.2222222222222222,
           "#7201a8"
          ],
          [
           0.3333333333333333,
           "#9c179e"
          ],
          [
           0.4444444444444444,
           "#bd3786"
          ],
          [
           0.5555555555555556,
           "#d8576b"
          ],
          [
           0.6666666666666666,
           "#ed7953"
          ],
          [
           0.7777777777777778,
           "#fb9f3a"
          ],
          [
           0.8888888888888888,
           "#fdca26"
          ],
          [
           1,
           "#f0f921"
          ]
         ]
        },
        "margin": {
         "t": 60
        },
        "template": {
         "data": {
          "bar": [
           {
            "error_x": {
             "color": "#2a3f5f"
            },
            "error_y": {
             "color": "#2a3f5f"
            },
            "marker": {
             "line": {
              "color": "#E5ECF6",
              "width": 0.5
             },
             "pattern": {
              "fillmode": "overlay",
              "size": 10,
              "solidity": 0.2
             }
            },
            "type": "bar"
           }
          ],
          "barpolar": [
           {
            "marker": {
             "line": {
              "color": "#E5ECF6",
              "width": 0.5
             },
             "pattern": {
              "fillmode": "overlay",
              "size": 10,
              "solidity": 0.2
             }
            },
            "type": "barpolar"
           }
          ],
          "carpet": [
           {
            "aaxis": {
             "endlinecolor": "#2a3f5f",
             "gridcolor": "white",
             "linecolor": "white",
             "minorgridcolor": "white",
             "startlinecolor": "#2a3f5f"
            },
            "baxis": {
             "endlinecolor": "#2a3f5f",
             "gridcolor": "white",
             "linecolor": "white",
             "minorgridcolor": "white",
             "startlinecolor": "#2a3f5f"
            },
            "type": "carpet"
           }
          ],
          "choropleth": [
           {
            "colorbar": {
             "outlinewidth": 0,
             "ticks": ""
            },
            "type": "choropleth"
           }
          ],
          "contour": [
           {
            "colorbar": {
             "outlinewidth": 0,
             "ticks": ""
            },
            "colorscale": [
             [
              0,
              "#0d0887"
             ],
             [
              0.1111111111111111,
              "#46039f"
             ],
             [
              0.2222222222222222,
              "#7201a8"
             ],
             [
              0.3333333333333333,
              "#9c179e"
             ],
             [
              0.4444444444444444,
              "#bd3786"
             ],
             [
              0.5555555555555556,
              "#d8576b"
             ],
             [
              0.6666666666666666,
              "#ed7953"
             ],
             [
              0.7777777777777778,
              "#fb9f3a"
             ],
             [
              0.8888888888888888,
              "#fdca26"
             ],
             [
              1,
              "#f0f921"
             ]
            ],
            "type": "contour"
           }
          ],
          "contourcarpet": [
           {
            "colorbar": {
             "outlinewidth": 0,
             "ticks": ""
            },
            "type": "contourcarpet"
           }
          ],
          "heatmap": [
           {
            "colorbar": {
             "outlinewidth": 0,
             "ticks": ""
            },
            "colorscale": [
             [
              0,
              "#0d0887"
             ],
             [
              0.1111111111111111,
              "#46039f"
             ],
             [
              0.2222222222222222,
              "#7201a8"
             ],
             [
              0.3333333333333333,
              "#9c179e"
             ],
             [
              0.4444444444444444,
              "#bd3786"
             ],
             [
              0.5555555555555556,
              "#d8576b"
             ],
             [
              0.6666666666666666,
              "#ed7953"
             ],
             [
              0.7777777777777778,
              "#fb9f3a"
             ],
             [
              0.8888888888888888,
              "#fdca26"
             ],
             [
              1,
              "#f0f921"
             ]
            ],
            "type": "heatmap"
           }
          ],
          "heatmapgl": [
           {
            "colorbar": {
             "outlinewidth": 0,
             "ticks": ""
            },
            "colorscale": [
             [
              0,
              "#0d0887"
             ],
             [
              0.1111111111111111,
              "#46039f"
             ],
             [
              0.2222222222222222,
              "#7201a8"
             ],
             [
              0.3333333333333333,
              "#9c179e"
             ],
             [
              0.4444444444444444,
              "#bd3786"
             ],
             [
              0.5555555555555556,
              "#d8576b"
             ],
             [
              0.6666666666666666,
              "#ed7953"
             ],
             [
              0.7777777777777778,
              "#fb9f3a"
             ],
             [
              0.8888888888888888,
              "#fdca26"
             ],
             [
              1,
              "#f0f921"
             ]
            ],
            "type": "heatmapgl"
           }
          ],
          "histogram": [
           {
            "marker": {
             "pattern": {
              "fillmode": "overlay",
              "size": 10,
              "solidity": 0.2
             }
            },
            "type": "histogram"
           }
          ],
          "histogram2d": [
           {
            "colorbar": {
             "outlinewidth": 0,
             "ticks": ""
            },
            "colorscale": [
             [
              0,
              "#0d0887"
             ],
             [
              0.1111111111111111,
              "#46039f"
             ],
             [
              0.2222222222222222,
              "#7201a8"
             ],
             [
              0.3333333333333333,
              "#9c179e"
             ],
             [
              0.4444444444444444,
              "#bd3786"
             ],
             [
              0.5555555555555556,
              "#d8576b"
             ],
             [
              0.6666666666666666,
              "#ed7953"
             ],
             [
              0.7777777777777778,
              "#fb9f3a"
             ],
             [
              0.8888888888888888,
              "#fdca26"
             ],
             [
              1,
              "#f0f921"
             ]
            ],
            "type": "histogram2d"
           }
          ],
          "histogram2dcontour": [
           {
            "colorbar": {
             "outlinewidth": 0,
             "ticks": ""
            },
            "colorscale": [
             [
              0,
              "#0d0887"
             ],
             [
              0.1111111111111111,
              "#46039f"
             ],
             [
              0.2222222222222222,
              "#7201a8"
             ],
             [
              0.3333333333333333,
              "#9c179e"
             ],
             [
              0.4444444444444444,
              "#bd3786"
             ],
             [
              0.5555555555555556,
              "#d8576b"
             ],
             [
              0.6666666666666666,
              "#ed7953"
             ],
             [
              0.7777777777777778,
              "#fb9f3a"
             ],
             [
              0.8888888888888888,
              "#fdca26"
             ],
             [
              1,
              "#f0f921"
             ]
            ],
            "type": "histogram2dcontour"
           }
          ],
          "mesh3d": [
           {
            "colorbar": {
             "outlinewidth": 0,
             "ticks": ""
            },
            "type": "mesh3d"
           }
          ],
          "parcoords": [
           {
            "line": {
             "colorbar": {
              "outlinewidth": 0,
              "ticks": ""
             }
            },
            "type": "parcoords"
           }
          ],
          "pie": [
           {
            "automargin": true,
            "type": "pie"
           }
          ],
          "scatter": [
           {
            "fillpattern": {
             "fillmode": "overlay",
             "size": 10,
             "solidity": 0.2
            },
            "type": "scatter"
           }
          ],
          "scatter3d": [
           {
            "line": {
             "colorbar": {
              "outlinewidth": 0,
              "ticks": ""
             }
            },
            "marker": {
             "colorbar": {
              "outlinewidth": 0,
              "ticks": ""
             }
            },
            "type": "scatter3d"
           }
          ],
          "scattercarpet": [
           {
            "marker": {
             "colorbar": {
              "outlinewidth": 0,
              "ticks": ""
             }
            },
            "type": "scattercarpet"
           }
          ],
          "scattergeo": [
           {
            "marker": {
             "colorbar": {
              "outlinewidth": 0,
              "ticks": ""
             }
            },
            "type": "scattergeo"
           }
          ],
          "scattergl": [
           {
            "marker": {
             "colorbar": {
              "outlinewidth": 0,
              "ticks": ""
             }
            },
            "type": "scattergl"
           }
          ],
          "scattermapbox": [
           {
            "marker": {
             "colorbar": {
              "outlinewidth": 0,
              "ticks": ""
             }
            },
            "type": "scattermapbox"
           }
          ],
          "scatterpolar": [
           {
            "marker": {
             "colorbar": {
              "outlinewidth": 0,
              "ticks": ""
             }
            },
            "type": "scatterpolar"
           }
          ],
          "scatterpolargl": [
           {
            "marker": {
             "colorbar": {
              "outlinewidth": 0,
              "ticks": ""
             }
            },
            "type": "scatterpolargl"
           }
          ],
          "scatterternary": [
           {
            "marker": {
             "colorbar": {
              "outlinewidth": 0,
              "ticks": ""
             }
            },
            "type": "scatterternary"
           }
          ],
          "surface": [
           {
            "colorbar": {
             "outlinewidth": 0,
             "ticks": ""
            },
            "colorscale": [
             [
              0,
              "#0d0887"
             ],
             [
              0.1111111111111111,
              "#46039f"
             ],
             [
              0.2222222222222222,
              "#7201a8"
             ],
             [
              0.3333333333333333,
              "#9c179e"
             ],
             [
              0.4444444444444444,
              "#bd3786"
             ],
             [
              0.5555555555555556,
              "#d8576b"
             ],
             [
              0.6666666666666666,
              "#ed7953"
             ],
             [
              0.7777777777777778,
              "#fb9f3a"
             ],
             [
              0.8888888888888888,
              "#fdca26"
             ],
             [
              1,
              "#f0f921"
             ]
            ],
            "type": "surface"
           }
          ],
          "table": [
           {
            "cells": {
             "fill": {
              "color": "#EBF0F8"
             },
             "line": {
              "color": "white"
             }
            },
            "header": {
             "fill": {
              "color": "#C8D4E3"
             },
             "line": {
              "color": "white"
             }
            },
            "type": "table"
           }
          ]
         },
         "layout": {
          "annotationdefaults": {
           "arrowcolor": "#2a3f5f",
           "arrowhead": 0,
           "arrowwidth": 1
          },
          "autotypenumbers": "strict",
          "coloraxis": {
           "colorbar": {
            "outlinewidth": 0,
            "ticks": ""
           }
          },
          "colorscale": {
           "diverging": [
            [
             0,
             "#8e0152"
            ],
            [
             0.1,
             "#c51b7d"
            ],
            [
             0.2,
             "#de77ae"
            ],
            [
             0.3,
             "#f1b6da"
            ],
            [
             0.4,
             "#fde0ef"
            ],
            [
             0.5,
             "#f7f7f7"
            ],
            [
             0.6,
             "#e6f5d0"
            ],
            [
             0.7,
             "#b8e186"
            ],
            [
             0.8,
             "#7fbc41"
            ],
            [
             0.9,
             "#4d9221"
            ],
            [
             1,
             "#276419"
            ]
           ],
           "sequential": [
            [
             0,
             "#0d0887"
            ],
            [
             0.1111111111111111,
             "#46039f"
            ],
            [
             0.2222222222222222,
             "#7201a8"
            ],
            [
             0.3333333333333333,
             "#9c179e"
            ],
            [
             0.4444444444444444,
             "#bd3786"
            ],
            [
             0.5555555555555556,
             "#d8576b"
            ],
            [
             0.6666666666666666,
             "#ed7953"
            ],
            [
             0.7777777777777778,
             "#fb9f3a"
            ],
            [
             0.8888888888888888,
             "#fdca26"
            ],
            [
             1,
             "#f0f921"
            ]
           ],
           "sequentialminus": [
            [
             0,
             "#0d0887"
            ],
            [
             0.1111111111111111,
             "#46039f"
            ],
            [
             0.2222222222222222,
             "#7201a8"
            ],
            [
             0.3333333333333333,
             "#9c179e"
            ],
            [
             0.4444444444444444,
             "#bd3786"
            ],
            [
             0.5555555555555556,
             "#d8576b"
            ],
            [
             0.6666666666666666,
             "#ed7953"
            ],
            [
             0.7777777777777778,
             "#fb9f3a"
            ],
            [
             0.8888888888888888,
             "#fdca26"
            ],
            [
             1,
             "#f0f921"
            ]
           ]
          },
          "colorway": [
           "#636efa",
           "#EF553B",
           "#00cc96",
           "#ab63fa",
           "#FFA15A",
           "#19d3f3",
           "#FF6692",
           "#B6E880",
           "#FF97FF",
           "#FECB52"
          ],
          "font": {
           "color": "#2a3f5f"
          },
          "geo": {
           "bgcolor": "white",
           "lakecolor": "white",
           "landcolor": "#E5ECF6",
           "showlakes": true,
           "showland": true,
           "subunitcolor": "white"
          },
          "hoverlabel": {
           "align": "left"
          },
          "hovermode": "closest",
          "mapbox": {
           "style": "light"
          },
          "paper_bgcolor": "white",
          "plot_bgcolor": "#E5ECF6",
          "polar": {
           "angularaxis": {
            "gridcolor": "white",
            "linecolor": "white",
            "ticks": ""
           },
           "bgcolor": "#E5ECF6",
           "radialaxis": {
            "gridcolor": "white",
            "linecolor": "white",
            "ticks": ""
           }
          },
          "scene": {
           "xaxis": {
            "backgroundcolor": "#E5ECF6",
            "gridcolor": "white",
            "gridwidth": 2,
            "linecolor": "white",
            "showbackground": true,
            "ticks": "",
            "zerolinecolor": "white"
           },
           "yaxis": {
            "backgroundcolor": "#E5ECF6",
            "gridcolor": "white",
            "gridwidth": 2,
            "linecolor": "white",
            "showbackground": true,
            "ticks": "",
            "zerolinecolor": "white"
           },
           "zaxis": {
            "backgroundcolor": "#E5ECF6",
            "gridcolor": "white",
            "gridwidth": 2,
            "linecolor": "white",
            "showbackground": true,
            "ticks": "",
            "zerolinecolor": "white"
           }
          },
          "shapedefaults": {
           "line": {
            "color": "#2a3f5f"
           }
          },
          "ternary": {
           "aaxis": {
            "gridcolor": "white",
            "linecolor": "white",
            "ticks": ""
           },
           "baxis": {
            "gridcolor": "white",
            "linecolor": "white",
            "ticks": ""
           },
           "bgcolor": "#E5ECF6",
           "caxis": {
            "gridcolor": "white",
            "linecolor": "white",
            "ticks": ""
           }
          },
          "title": {
           "x": 0.05
          },
          "xaxis": {
           "automargin": true,
           "gridcolor": "white",
           "linecolor": "white",
           "ticks": "",
           "title": {
            "standoff": 15
           },
           "zerolinecolor": "white",
           "zerolinewidth": 2
          },
          "yaxis": {
           "automargin": true,
           "gridcolor": "white",
           "linecolor": "white",
           "ticks": "",
           "title": {
            "standoff": 15
           },
           "zerolinecolor": "white",
           "zerolinewidth": 2
          }
         }
        },
        "title": {
         "text": "Distribución de ventas por Género y plataforma"
        },
        "xaxis": {
         "anchor": "y",
         "constrain": "domain",
         "domain": [
          0,
          1
         ],
         "scaleanchor": "y",
         "title": {
          "text": "Platform"
         }
        },
        "yaxis": {
         "anchor": "x",
         "autorange": "reversed",
         "constrain": "domain",
         "domain": [
          0,
          1
         ],
         "title": {
          "text": "Genre"
         }
        }
       }
      }
     },
     "metadata": {},
     "output_type": "display_data"
    }
   ],
   "source": [
    "df_Genres_Platform = df_Games_per_Year.groupby([\"Genre\", \"Platform\"]).agg({\"Global_Sales\":\"sum\"}).reset_index()\n",
    "df_Genres_Platform = df_Genres_Platform.pivot_table(values=\"Global_Sales\", index=\"Genre\", columns=\"Platform\", aggfunc=\"first\").T\n",
    "df_Genres_Platform.fillna(0, inplace=True)\n",
    "df_Genres_Platform\n",
    "\n",
    "fig = px.imshow(df_Genres_Platform.T)\n",
    "fig.update_layout(title=\"Distribución de ventas por Género y plataforma\")\n",
    "fig.write_html(\"gráficas/Géneros_Plataforma.html\")\n",
    "fig.show()"
   ]
  }
 ],
 "metadata": {
  "kernelspec": {
   "display_name": "Python 3.7.9 64-bit",
   "language": "python",
   "name": "python3"
  },
  "language_info": {
   "codemirror_mode": {
    "name": "ipython",
    "version": 3
   },
   "file_extension": ".py",
   "mimetype": "text/x-python",
   "name": "python",
   "nbconvert_exporter": "python",
   "pygments_lexer": "ipython3",
   "version": "3.7.9"
  },
  "orig_nbformat": 4,
  "vscode": {
   "interpreter": {
    "hash": "d6825bfe2c90dc106ab94650388b219ba658b904b5e2620e2f220efe3a50d71c"
   }
  }
 },
 "nbformat": 4,
 "nbformat_minor": 2
}
